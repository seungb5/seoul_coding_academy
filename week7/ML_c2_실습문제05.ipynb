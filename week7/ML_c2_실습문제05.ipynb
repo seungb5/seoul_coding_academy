{
 "cells": [
  {
   "cell_type": "code",
   "execution_count": 1,
   "metadata": {},
   "outputs": [],
   "source": [
    "import numpy as np\n",
    "import pandas as pd\n",
    "import matplotlib.pyplot as plt\n",
    "from pandas import Series, DataFrame\n",
    "from sklearn.model_selection import train_test_split\n",
    "import mglearn\n",
    "\n",
    "from matplotlib import font_manager\n",
    "font_name = font_manager.FontProperties(fname=\"c:/Windows/Fonts/malgun.ttf\").get_name()\n",
    "# font_name = font_manager.FontProperties(fname=\"NanumBarunGothic.ttf\").get_name()\n",
    "plt.rc('font', family=font_name)\n",
    "plt.rcParams[\"font.family\"] = font_name\n",
    "plt.rcParams['axes.unicode_minus'] = False"
   ]
  },
  {
   "cell_type": "markdown",
   "metadata": {},
   "source": [
    "#### 실습 05\n",
    "- 보스턴 주택가격 데이터셋에 대해 DTRegresser를 이용하여 학습 데이터로 학습을 수행하고\n",
    "- 테스트 데이터를 통해 그 결과를 이전의 Ridge와 Lasso와 비교해보자."
   ]
  },
  {
   "cell_type": "code",
   "execution_count": 2,
   "metadata": {},
   "outputs": [],
   "source": [
    "# from sklearn.datasets import load_boston\n",
    "# boston = load_boston()"
   ]
  },
  {
   "cell_type": "code",
   "execution_count": 3,
   "metadata": {},
   "outputs": [],
   "source": [
    "# boston.keys()"
   ]
  },
  {
   "cell_type": "code",
   "execution_count": 25,
   "metadata": {
    "scrolled": true
   },
   "outputs": [
    {
     "name": "stdout",
     "output_type": "stream",
     "text": [
      "DecisionTreeRegressor(criterion='mse', max_depth=5, max_features=None,\n",
      "           max_leaf_nodes=None, min_impurity_decrease=0.0,\n",
      "           min_impurity_split=None, min_samples_leaf=1,\n",
      "           min_samples_split=2, min_weight_fraction_leaf=0.0,\n",
      "           presort=False, random_state=None, splitter='best') :\n",
      "\n",
      "훈련 세트 정확도: 0.943\n",
      "테스트 세트 정확도: 0.714\n",
      "\n",
      "Ridge(alpha=1.0, copy_X=True, fit_intercept=True, max_iter=None,\n",
      "   normalize=False, random_state=None, solver='auto', tol=0.001) :\n",
      "\n",
      "훈련 세트 정확도: 0.870\n",
      "테스트 세트 정확도: 0.815\n",
      "\n",
      "Lasso(alpha=0.01, copy_X=True, fit_intercept=True, max_iter=100000,\n",
      "   normalize=False, positive=False, precompute=False, random_state=None,\n",
      "   selection='cyclic', tol=0.0001, warm_start=False) :\n",
      "\n",
      "훈련 세트 정확도: 0.886\n",
      "테스트 세트 정확도: 0.804\n",
      "\n",
      "LinearRegression(copy_X=True, fit_intercept=True, n_jobs=None,\n",
      "         normalize=False) :\n",
      "\n",
      "훈련 세트 정확도: 0.945\n",
      "테스트 세트 정확도: 0.776\n",
      "\n"
     ]
    }
   ],
   "source": [
    "from sklearn.tree import DecisionTreeRegressor\n",
    "from sklearn.linear_model import Ridge\n",
    "from sklearn.linear_model import Lasso\n",
    "from sklearn.linear_model import LinearRegression\n",
    "# 0. 데이터 불러오기\n",
    "X, y = mglearn.datasets.load_extended_boston()\n",
    "\n",
    "# 1. 데이터 나누기\n",
    "X_train, X_test, y_train, y_test = train_test_split(\n",
    "    X, y, random_state=42)\n",
    "\n",
    "DTR = DecisionTreeRegressor(max_depth=5)\n",
    "Ridge = Ridge()\n",
    "Lasso = Lasso(alpha=0.01, max_iter=100000)\n",
    "LinearReg = LinearRegression()\n",
    "models = [DTR, Ridge, Lasso, LinearReg]\n",
    "\n",
    "for model in models:\n",
    "    model.fit(X_train, y_train)\n",
    "    print(\"{} :\\n\".format(model))\n",
    "    print(\"훈련 세트 정확도: {:.3f}\".format(model.score(X_train, y_train)))\n",
    "    print(\"테스트 세트 정확도: {:.3f}\\n\".format(model.score(X_test, y_test)))"
   ]
  }
 ],
 "metadata": {
  "kernelspec": {
   "display_name": "Python 3",
   "language": "python",
   "name": "python3"
  },
  "language_info": {
   "codemirror_mode": {
    "name": "ipython",
    "version": 3
   },
   "file_extension": ".py",
   "mimetype": "text/x-python",
   "name": "python",
   "nbconvert_exporter": "python",
   "pygments_lexer": "ipython3",
   "version": "3.7.2"
  }
 },
 "nbformat": 4,
 "nbformat_minor": 2
}
