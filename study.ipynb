{
 "cells": [
  {
   "cell_type": "markdown",
   "metadata": {},
   "source": [
    "#### 0. 개발환경 구축\n",
    "- [conda]() 설치 후 패키지 (Python, Pandas, Numpy, Jupyter notebook) 설치\n",
    "- 추가 : github, conda 가상환경 구축"
   ]
  },
  {
   "cell_type": "markdown",
   "metadata": {},
   "source": [
    "#### 1. Python 기본 문법 \n",
    "- week1\n",
    "- [study](https://github.com/seungb5/seoul_coding_academy/blob/master/week1/w1_c1_study.ipynb)\n",
    "- [exam]() 목표 : 100% 이해 및 활용 가능한 수준."
   ]
  },
  {
   "cell_type": "markdown",
   "metadata": {},
   "source": [
    "#### 2. DataFrame, Series, Numpy 기본\n",
    "- week2\n",
    "- [study]()\n",
    "- [exam]() 목표 : 100% 이해 및 활용 가능한 수준."
   ]
  },
  {
   "cell_type": "code",
   "execution_count": null,
   "metadata": {},
   "outputs": [],
   "source": [
    "3."
   ]
  }
 ],
 "metadata": {
  "kernelspec": {
   "display_name": "Python 3",
   "language": "python",
   "name": "python3"
  },
  "language_info": {
   "codemirror_mode": {
    "name": "ipython",
    "version": 3
   },
   "file_extension": ".py",
   "mimetype": "text/x-python",
   "name": "python",
   "nbconvert_exporter": "python",
   "pygments_lexer": "ipython3",
   "version": "3.5.3"
  }
 },
 "nbformat": 4,
 "nbformat_minor": 2
}
