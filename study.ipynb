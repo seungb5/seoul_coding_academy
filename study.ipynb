{
 "cells": [
  {
   "cell_type": "markdown",
   "metadata": {},
   "source": [
    "#### 0. 개발환경 구축\n",
    "- [conda](https://github.com/seungb5/seoul_coding_academy/blob/master/week1/00_conda.ipynb) 설치 후 패키지 (Python, Pandas, Numpy, Jupyter notebook) 설치\n",
    "- 추가 : github, conda 가상환경 구축"
   ]
  },
  {
   "cell_type": "markdown",
   "metadata": {},
   "source": [
    "#### 1. Python 기본 문법 \n",
    "- week1\n",
    "- [study](https://github.com/seungb5/seoul_coding_academy/blob/master/week1/w1_c1_study.ipynb)\n",
    "- [exam]() 목표 : 결과값 구현, 배웠던 것들 100% 이해 & 활용하기. 다 외울 필요도 없고, 외울 수도 없어요~"
   ]
  },
  {
   "cell_type": "markdown",
   "metadata": {},
   "source": [
    "#### 2. DataFrame, Series, Numpy 기본\n",
    "- week2\n",
    "- [study]()\n",
    "- [exam]() 목표 : 결과값 구현, 배웠던 것들 100% 이해 & 활용하기. 다 외울 필요도 없고, 외울 수도 없어요~"
   ]
  },
  {
   "cell_type": "markdown",
   "metadata": {},
   "source": [
    "#### 2.1. kaggle dataset exam "
   ]
  },
  {
   "cell_type": "markdown",
   "metadata": {},
   "source": [
    "#### 3. what"
   ]
  }
 ],
 "metadata": {
  "kernelspec": {
   "display_name": "Python 3",
   "language": "python",
   "name": "python3"
  },
  "language_info": {
   "codemirror_mode": {
    "name": "ipython",
    "version": 3
   },
   "file_extension": ".py",
   "mimetype": "text/x-python",
   "name": "python",
   "nbconvert_exporter": "python",
   "pygments_lexer": "ipython3",
   "version": "3.5.3"
  }
 },
 "nbformat": 4,
 "nbformat_minor": 2
}
