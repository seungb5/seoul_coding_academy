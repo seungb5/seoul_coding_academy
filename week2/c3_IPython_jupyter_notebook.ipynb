{
 "cells": [
  {
   "cell_type": "markdown",
   "metadata": {},
   "source": [
    "#### jupyter notebook"
   ]
  },
  {
   "cell_type": "markdown",
   "metadata": {},
   "source": [
    "- 기존 : 편집 - 컴파일 - 실행\n",
    "- 현재 : 실행 - 탐색"
   ]
  },
  {
   "cell_type": "markdown",
   "metadata": {},
   "source": [
    "위와 같은 방식으로 코드를 이용한 생산성이 굉장히 올라갔음."
   ]
  },
  {
   "cell_type": "markdown",
   "metadata": {},
   "source": [
    "#### jupyter notebook의 장점과 기능을 알아 둘 것.\n",
    "- magic : load, writefile, run, % : line 명령, %% cell 명령, %timeit ,%history\n",
    "- tap\n",
    "- shift-tap\n",
    "- ?\n",
    "- ??\n",
    "- ! : window system 명령어, ex) dir/w 는 다른 환경에서 명령어가 다르다."
   ]
  },
  {
   "cell_type": "markdown",
   "metadata": {},
   "source": [
    "코드 중지 : Ctrl + c"
   ]
  },
  {
   "cell_type": "code",
   "execution_count": 15,
   "metadata": {},
   "outputs": [
    {
     "name": "stdout",
     "output_type": "stream",
     "text": [
      "l = list(for . in range(100))\n",
      "l = list(for _ in range(100))\n",
      "l = list[for . in range(100)]\n",
      "for . in range(100)\n",
      ",\n",
      ".\n",
      "a\n",
      "..\n",
      "!dir/w\n",
      "%magic\n",
      "%timeit for i in range(100):\n",
      "%timeit for i in range(100)\n",
      "%timeit for i in range(100):\n",
      "            print(i)\n",
      "%ls\n",
      "%history\n"
     ]
    }
   ],
   "source": [
    "%history"
   ]
  },
  {
   "cell_type": "code",
   "execution_count": 17,
   "metadata": {},
   "outputs": [
    {
     "data": {
      "text/plain": [
       "2"
      ]
     },
     "execution_count": 17,
     "metadata": {},
     "output_type": "execute_result"
    }
   ],
   "source": [
    "a = 2\n",
    "a"
   ]
  },
  {
   "cell_type": "code",
   "execution_count": 18,
   "metadata": {},
   "outputs": [
    {
     "data": {
      "text/plain": [
       "2"
      ]
     },
     "execution_count": 18,
     "metadata": {},
     "output_type": "execute_result"
    }
   ],
   "source": [
    "_"
   ]
  },
  {
   "cell_type": "markdown",
   "metadata": {},
   "source": [
    "#### _ (underbar)\n",
    "1. 이전 출력 결과\n",
    "2. dummy 변수로 사용하지 않는 변수를 지정할 때\n",
    "3. class에서 멤버함수를 숨기고 싶을 때 ex) __Name"
   ]
  },
  {
   "cell_type": "markdown",
   "metadata": {},
   "source": [
    "#### 관련 있는 객체와 데이터는 유지\n",
    "```python\n",
    "if __name__ == '__name__':\n",
    "    main()\n",
    "```"
   ]
  },
  {
   "cell_type": "code",
   "execution_count": 28,
   "metadata": {},
   "outputs": [],
   "source": [
    "# 직접 실행하는 소스인 경우에만 실행되게 하려고 할 때 사용."
   ]
  }
 ],
 "metadata": {
  "kernelspec": {
   "display_name": "Python 3",
   "language": "python",
   "name": "python3"
  },
  "language_info": {
   "codemirror_mode": {
    "name": "ipython",
    "version": 3
   },
   "file_extension": ".py",
   "mimetype": "text/x-python",
   "name": "python",
   "nbconvert_exporter": "python",
   "pygments_lexer": "ipython3",
   "version": "3.5.3"
  }
 },
 "nbformat": 4,
 "nbformat_minor": 2
}
