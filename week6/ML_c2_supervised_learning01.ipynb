{
 "cells": [
  {
   "cell_type": "markdown",
   "metadata": {},
   "source": [
    "## 0409"
   ]
  },
  {
   "cell_type": "markdown",
   "metadata": {},
   "source": [
    "`matplotlib` 3.0.0 버전에서 3D 그래프가 작게 그려지는 버그 등이 있어서 2.2.3을 사용합니다."
   ]
  },
  {
   "cell_type": "code",
   "execution_count": 4,
   "metadata": {
    "scrolled": true
   },
   "outputs": [
    {
     "ename": "ModuleNotFoundError",
     "evalue": "No module named 'watermark'",
     "output_type": "error",
     "traceback": [
      "\u001b[1;31m---------------------------------------------------------------------------\u001b[0m",
      "\u001b[1;31mModuleNotFoundError\u001b[0m                       Traceback (most recent call last)",
      "\u001b[1;32m<ipython-input-4-ad8b27025b03>\u001b[0m in \u001b[0;36m<module>\u001b[1;34m()\u001b[0m\n\u001b[1;32m----> 1\u001b[1;33m \u001b[0mget_ipython\u001b[0m\u001b[1;33m(\u001b[0m\u001b[1;33m)\u001b[0m\u001b[1;33m.\u001b[0m\u001b[0mrun_line_magic\u001b[0m\u001b[1;33m(\u001b[0m\u001b[1;34m'load_ext'\u001b[0m\u001b[1;33m,\u001b[0m \u001b[1;34m'watermark'\u001b[0m\u001b[1;33m)\u001b[0m\u001b[1;33m\u001b[0m\u001b[1;33m\u001b[0m\u001b[0m\n\u001b[0m\u001b[0;32m      2\u001b[0m \u001b[0mget_ipython\u001b[0m\u001b[1;33m(\u001b[0m\u001b[1;33m)\u001b[0m\u001b[1;33m.\u001b[0m\u001b[0mrun_line_magic\u001b[0m\u001b[1;33m(\u001b[0m\u001b[1;34m'watermark'\u001b[0m\u001b[1;33m,\u001b[0m \u001b[1;34m'-v -p sklearn,numpy,scipy,matplotlib'\u001b[0m\u001b[1;33m)\u001b[0m\u001b[1;33m\u001b[0m\u001b[1;33m\u001b[0m\u001b[0m\n",
      "\u001b[1;32m~\\Anaconda3\\envs\\ml_scratch\\lib\\site-packages\\IPython\\core\\interactiveshell.py\u001b[0m in \u001b[0;36mrun_line_magic\u001b[1;34m(self, magic_name, line, _stack_depth)\u001b[0m\n\u001b[0;32m   2129\u001b[0m                 \u001b[0mkwargs\u001b[0m\u001b[1;33m[\u001b[0m\u001b[1;34m'local_ns'\u001b[0m\u001b[1;33m]\u001b[0m \u001b[1;33m=\u001b[0m \u001b[0msys\u001b[0m\u001b[1;33m.\u001b[0m\u001b[0m_getframe\u001b[0m\u001b[1;33m(\u001b[0m\u001b[0mstack_depth\u001b[0m\u001b[1;33m)\u001b[0m\u001b[1;33m.\u001b[0m\u001b[0mf_locals\u001b[0m\u001b[1;33m\u001b[0m\u001b[1;33m\u001b[0m\u001b[0m\n\u001b[0;32m   2130\u001b[0m             \u001b[1;32mwith\u001b[0m \u001b[0mself\u001b[0m\u001b[1;33m.\u001b[0m\u001b[0mbuiltin_trap\u001b[0m\u001b[1;33m:\u001b[0m\u001b[1;33m\u001b[0m\u001b[1;33m\u001b[0m\u001b[0m\n\u001b[1;32m-> 2131\u001b[1;33m                 \u001b[0mresult\u001b[0m \u001b[1;33m=\u001b[0m \u001b[0mfn\u001b[0m\u001b[1;33m(\u001b[0m\u001b[1;33m*\u001b[0m\u001b[0margs\u001b[0m\u001b[1;33m,\u001b[0m\u001b[1;33m**\u001b[0m\u001b[0mkwargs\u001b[0m\u001b[1;33m)\u001b[0m\u001b[1;33m\u001b[0m\u001b[1;33m\u001b[0m\u001b[0m\n\u001b[0m\u001b[0;32m   2132\u001b[0m             \u001b[1;32mreturn\u001b[0m \u001b[0mresult\u001b[0m\u001b[1;33m\u001b[0m\u001b[1;33m\u001b[0m\u001b[0m\n\u001b[0;32m   2133\u001b[0m \u001b[1;33m\u001b[0m\u001b[0m\n",
      "\u001b[1;32m<decorator-gen-66>\u001b[0m in \u001b[0;36mload_ext\u001b[1;34m(self, module_str)\u001b[0m\n",
      "\u001b[1;32m~\\Anaconda3\\envs\\ml_scratch\\lib\\site-packages\\IPython\\core\\magic.py\u001b[0m in \u001b[0;36m<lambda>\u001b[1;34m(f, *a, **k)\u001b[0m\n\u001b[0;32m    185\u001b[0m     \u001b[1;31m# but it's overkill for just that one bit of state.\u001b[0m\u001b[1;33m\u001b[0m\u001b[1;33m\u001b[0m\u001b[1;33m\u001b[0m\u001b[0m\n\u001b[0;32m    186\u001b[0m     \u001b[1;32mdef\u001b[0m \u001b[0mmagic_deco\u001b[0m\u001b[1;33m(\u001b[0m\u001b[0marg\u001b[0m\u001b[1;33m)\u001b[0m\u001b[1;33m:\u001b[0m\u001b[1;33m\u001b[0m\u001b[1;33m\u001b[0m\u001b[0m\n\u001b[1;32m--> 187\u001b[1;33m         \u001b[0mcall\u001b[0m \u001b[1;33m=\u001b[0m \u001b[1;32mlambda\u001b[0m \u001b[0mf\u001b[0m\u001b[1;33m,\u001b[0m \u001b[1;33m*\u001b[0m\u001b[0ma\u001b[0m\u001b[1;33m,\u001b[0m \u001b[1;33m**\u001b[0m\u001b[0mk\u001b[0m\u001b[1;33m:\u001b[0m \u001b[0mf\u001b[0m\u001b[1;33m(\u001b[0m\u001b[1;33m*\u001b[0m\u001b[0ma\u001b[0m\u001b[1;33m,\u001b[0m \u001b[1;33m**\u001b[0m\u001b[0mk\u001b[0m\u001b[1;33m)\u001b[0m\u001b[1;33m\u001b[0m\u001b[1;33m\u001b[0m\u001b[0m\n\u001b[0m\u001b[0;32m    188\u001b[0m \u001b[1;33m\u001b[0m\u001b[0m\n\u001b[0;32m    189\u001b[0m         \u001b[1;32mif\u001b[0m \u001b[0mcallable\u001b[0m\u001b[1;33m(\u001b[0m\u001b[0marg\u001b[0m\u001b[1;33m)\u001b[0m\u001b[1;33m:\u001b[0m\u001b[1;33m\u001b[0m\u001b[1;33m\u001b[0m\u001b[0m\n",
      "\u001b[1;32m~\\Anaconda3\\envs\\ml_scratch\\lib\\site-packages\\IPython\\core\\magics\\extension.py\u001b[0m in \u001b[0;36mload_ext\u001b[1;34m(self, module_str)\u001b[0m\n\u001b[0;32m     31\u001b[0m         \u001b[1;32mif\u001b[0m \u001b[1;32mnot\u001b[0m \u001b[0mmodule_str\u001b[0m\u001b[1;33m:\u001b[0m\u001b[1;33m\u001b[0m\u001b[1;33m\u001b[0m\u001b[0m\n\u001b[0;32m     32\u001b[0m             \u001b[1;32mraise\u001b[0m \u001b[0mUsageError\u001b[0m\u001b[1;33m(\u001b[0m\u001b[1;34m'Missing module name.'\u001b[0m\u001b[1;33m)\u001b[0m\u001b[1;33m\u001b[0m\u001b[1;33m\u001b[0m\u001b[0m\n\u001b[1;32m---> 33\u001b[1;33m         \u001b[0mres\u001b[0m \u001b[1;33m=\u001b[0m \u001b[0mself\u001b[0m\u001b[1;33m.\u001b[0m\u001b[0mshell\u001b[0m\u001b[1;33m.\u001b[0m\u001b[0mextension_manager\u001b[0m\u001b[1;33m.\u001b[0m\u001b[0mload_extension\u001b[0m\u001b[1;33m(\u001b[0m\u001b[0mmodule_str\u001b[0m\u001b[1;33m)\u001b[0m\u001b[1;33m\u001b[0m\u001b[1;33m\u001b[0m\u001b[0m\n\u001b[0m\u001b[0;32m     34\u001b[0m \u001b[1;33m\u001b[0m\u001b[0m\n\u001b[0;32m     35\u001b[0m         \u001b[1;32mif\u001b[0m \u001b[0mres\u001b[0m \u001b[1;33m==\u001b[0m \u001b[1;34m'already loaded'\u001b[0m\u001b[1;33m:\u001b[0m\u001b[1;33m\u001b[0m\u001b[1;33m\u001b[0m\u001b[0m\n",
      "\u001b[1;32m~\\Anaconda3\\envs\\ml_scratch\\lib\\site-packages\\IPython\\core\\extensions.py\u001b[0m in \u001b[0;36mload_extension\u001b[1;34m(self, module_str)\u001b[0m\n\u001b[0;32m     83\u001b[0m             \u001b[1;32mif\u001b[0m \u001b[0mmodule_str\u001b[0m \u001b[1;32mnot\u001b[0m \u001b[1;32min\u001b[0m \u001b[0msys\u001b[0m\u001b[1;33m.\u001b[0m\u001b[0mmodules\u001b[0m\u001b[1;33m:\u001b[0m\u001b[1;33m\u001b[0m\u001b[1;33m\u001b[0m\u001b[0m\n\u001b[0;32m     84\u001b[0m                 \u001b[1;32mwith\u001b[0m \u001b[0mprepended_to_syspath\u001b[0m\u001b[1;33m(\u001b[0m\u001b[0mself\u001b[0m\u001b[1;33m.\u001b[0m\u001b[0mipython_extension_dir\u001b[0m\u001b[1;33m)\u001b[0m\u001b[1;33m:\u001b[0m\u001b[1;33m\u001b[0m\u001b[1;33m\u001b[0m\u001b[0m\n\u001b[1;32m---> 85\u001b[1;33m                     \u001b[0mmod\u001b[0m \u001b[1;33m=\u001b[0m \u001b[0mimport_module\u001b[0m\u001b[1;33m(\u001b[0m\u001b[0mmodule_str\u001b[0m\u001b[1;33m)\u001b[0m\u001b[1;33m\u001b[0m\u001b[1;33m\u001b[0m\u001b[0m\n\u001b[0m\u001b[0;32m     86\u001b[0m                     \u001b[1;32mif\u001b[0m \u001b[0mmod\u001b[0m\u001b[1;33m.\u001b[0m\u001b[0m__file__\u001b[0m\u001b[1;33m.\u001b[0m\u001b[0mstartswith\u001b[0m\u001b[1;33m(\u001b[0m\u001b[0mself\u001b[0m\u001b[1;33m.\u001b[0m\u001b[0mipython_extension_dir\u001b[0m\u001b[1;33m)\u001b[0m\u001b[1;33m:\u001b[0m\u001b[1;33m\u001b[0m\u001b[1;33m\u001b[0m\u001b[0m\n\u001b[0;32m     87\u001b[0m                         print((\"Loading extensions from {dir} is deprecated. \"\n",
      "\u001b[1;32m~\\Anaconda3\\envs\\ml_scratch\\lib\\importlib\\__init__.py\u001b[0m in \u001b[0;36mimport_module\u001b[1;34m(name, package)\u001b[0m\n\u001b[0;32m    125\u001b[0m                 \u001b[1;32mbreak\u001b[0m\u001b[1;33m\u001b[0m\u001b[1;33m\u001b[0m\u001b[0m\n\u001b[0;32m    126\u001b[0m             \u001b[0mlevel\u001b[0m \u001b[1;33m+=\u001b[0m \u001b[1;36m1\u001b[0m\u001b[1;33m\u001b[0m\u001b[1;33m\u001b[0m\u001b[0m\n\u001b[1;32m--> 127\u001b[1;33m     \u001b[1;32mreturn\u001b[0m \u001b[0m_bootstrap\u001b[0m\u001b[1;33m.\u001b[0m\u001b[0m_gcd_import\u001b[0m\u001b[1;33m(\u001b[0m\u001b[0mname\u001b[0m\u001b[1;33m[\u001b[0m\u001b[0mlevel\u001b[0m\u001b[1;33m:\u001b[0m\u001b[1;33m]\u001b[0m\u001b[1;33m,\u001b[0m \u001b[0mpackage\u001b[0m\u001b[1;33m,\u001b[0m \u001b[0mlevel\u001b[0m\u001b[1;33m)\u001b[0m\u001b[1;33m\u001b[0m\u001b[1;33m\u001b[0m\u001b[0m\n\u001b[0m\u001b[0;32m    128\u001b[0m \u001b[1;33m\u001b[0m\u001b[0m\n\u001b[0;32m    129\u001b[0m \u001b[1;33m\u001b[0m\u001b[0m\n",
      "\u001b[1;32m~\\Anaconda3\\envs\\ml_scratch\\lib\\importlib\\_bootstrap.py\u001b[0m in \u001b[0;36m_gcd_import\u001b[1;34m(name, package, level)\u001b[0m\n",
      "\u001b[1;32m~\\Anaconda3\\envs\\ml_scratch\\lib\\importlib\\_bootstrap.py\u001b[0m in \u001b[0;36m_find_and_load\u001b[1;34m(name, import_)\u001b[0m\n",
      "\u001b[1;32m~\\Anaconda3\\envs\\ml_scratch\\lib\\importlib\\_bootstrap.py\u001b[0m in \u001b[0;36m_find_and_load_unlocked\u001b[1;34m(name, import_)\u001b[0m\n",
      "\u001b[1;31mModuleNotFoundError\u001b[0m: No module named 'watermark'"
     ]
    }
   ],
   "source": [
    "%load_ext watermark\n",
    "%watermark -v -p sklearn,numpy,scipy,matplotlib"
   ]
  },
  {
   "cell_type": "code",
   "execution_count": null,
   "metadata": {
    "hide_input": false
   },
   "outputs": [],
   "source": [
    "from preamble import *"
   ]
  },
  {
   "cell_type": "markdown",
   "metadata": {
    "collapsed": true
   },
   "source": [
    "## 지도 학습\n",
    "### 분류와 회귀"
   ]
  },
  {
   "cell_type": "markdown",
   "metadata": {},
   "source": [
    "### 일반화, 과대적합, 과소적합"
   ]
  },
  {
   "cell_type": "markdown",
   "metadata": {},
   "source": [
    "- 데이터가 부족하면? 부족한 일반화.\n",
    "- 데이터가 충분하면? 더 좋은 일반화 가능"
   ]
  },
  {
   "cell_type": "markdown",
   "metadata": {},
   "source": [
    "##### 모델 복잡도와 데이터셋 사이즈의 관계"
   ]
  },
  {
   "cell_type": "markdown",
   "metadata": {},
   "source": [
    "### 지도 학습 알고리즘"
   ]
  },
  {
   "cell_type": "code",
   "execution_count": 1,
   "metadata": {},
   "outputs": [],
   "source": [
    "import numpy as np\n",
    "import pandas as pd\n",
    "import matplotlib.pyplot as plt\n",
    "from pandas import Series, DataFrame\n",
    "from sklearn.neighbors import KNeighborsClassifier\n",
    "from sklearn.model_selection import train_test_split\n",
    "import mglearn"
   ]
  },
  {
   "cell_type": "code",
   "execution_count": 2,
   "metadata": {},
   "outputs": [],
   "source": [
    "from matplotlib import font_manager\n",
    "font_name = font_manager.FontProperties(fname=\"c:/Windows/Fonts/malgun.ttf\").get_name()\n",
    "# font_name = font_manager.FontProperties(fname=\"NanumBarunGothic.ttf\").get_name()\n",
    "plt.rc('font', family=font_name)\n",
    "plt.rcParams[\"font.family\"] = font_name\n",
    "plt.rcParams['axes.unicode_minus'] = False"
   ]
  },
  {
   "cell_type": "markdown",
   "metadata": {},
   "source": [
    "#### make_forge()\n",
    "- 15개씩 존재하는 2가지 군집(cluster)을 만듦. center = 2, samples = 30\n",
    "- cluster_std : 군집의 분산\n",
    "- plot - aspect : 'equal' scale을 동등하게 만듦."
   ]
  },
  {
   "cell_type": "code",
   "execution_count": null,
   "metadata": {
    "caption": "Forge dataset",
    "label": "forge_scatter"
   },
   "outputs": [],
   "source": [
    "# 데이터셋을 만듭니다 (2개의 cluster 만듦.)\n",
    "X, y = mglearn.datasets.make_forge()\n",
    "\n",
    "# 산점도를 그립니다\n",
    "mglearn.discrete_scatter(X[:, 0], X[:, 1], y)\n",
    "plt.legend([\"class 0\", \"class 1\"], loc=4)\n",
    "plt.set_aspect('equal')\n",
    "plt.xlabel(\"the feature of first\")\n",
    "plt.ylabel(\"the feature of second\")\n",
    "print(\"X.shape: {}\".format(X.shape))"
   ]
  },
  {
   "cell_type": "code",
   "execution_count": null,
   "metadata": {},
   "outputs": [],
   "source": [
    "X, y = mglearn.datasets.make_wave(n_samples=40)\n",
    "print(X.shape, y.shape)"
   ]
  },
  {
   "cell_type": "code",
   "execution_count": null,
   "metadata": {},
   "outputs": [],
   "source": [
    "plt.plot(X, y, 'o')\n",
    "plt.ylim(-3, 3)\n",
    "plt.xlabel(\"feature\")\n",
    "plt.ylabel(\"target\")"
   ]
  },
  {
   "cell_type": "markdown",
   "metadata": {},
   "source": [
    "### cancer data"
   ]
  },
  {
   "cell_type": "code",
   "execution_count": null,
   "metadata": {},
   "outputs": [],
   "source": [
    "from sklearn.datasets import load_breast_cancer\n",
    "cancer = load_breast_cancer()\n",
    "print(\"cancer.keys(): {}\".format(cancer.keys()))"
   ]
  },
  {
   "cell_type": "code",
   "execution_count": null,
   "metadata": {},
   "outputs": [],
   "source": [
    "print(\"유방암 데이터의 형태: {}\".format(cancer.data.shape))"
   ]
  },
  {
   "cell_type": "code",
   "execution_count": null,
   "metadata": {},
   "outputs": [],
   "source": [
    "print(\"클래스별 샘플 갯수:\\n{}\".format(\n",
    "      {n: v for n, v in zip(cancer.target_names, np.bincount(cancer.target))}))"
   ]
  },
  {
   "cell_type": "markdown",
   "metadata": {},
   "source": [
    "- 아래처럼 scikitlearn datasets는 dictionary와 유사하지만 dataframe과 유사하게 사용가능."
   ]
  },
  {
   "cell_type": "code",
   "execution_count": null,
   "metadata": {},
   "outputs": [],
   "source": [
    "print(\"특성 이름:\\n{}\".format(cancer.feature_names))"
   ]
  },
  {
   "cell_type": "markdown",
   "metadata": {},
   "source": [
    "### 회귀분석용 데이터"
   ]
  },
  {
   "cell_type": "code",
   "execution_count": 57,
   "metadata": {},
   "outputs": [
    {
     "name": "stdout",
     "output_type": "stream",
     "text": [
      "데이터의 형태: (506, 13)\n"
     ]
    }
   ],
   "source": [
    "from sklearn.datasets import load_boston\n",
    "boston = load_boston()\n",
    "print(\"데이터의 형태: {}\".format(boston.data.shape))"
   ]
  },
  {
   "cell_type": "code",
   "execution_count": 58,
   "metadata": {},
   "outputs": [
    {
     "data": {
      "text/plain": [
       "dict_keys(['data', 'target', 'feature_names', 'DESCR', 'filename'])"
      ]
     },
     "execution_count": 58,
     "metadata": {},
     "output_type": "execute_result"
    }
   ],
   "source": [
    "boston.keys()"
   ]
  },
  {
   "cell_type": "markdown",
   "metadata": {},
   "source": [
    "- mglearn : 가상 데이터 ; 알고리즘 설명을 하기 위함.\n",
    "- sklearn : 실제 데이터 ; dict의 key들을 가짐 (data, target, f_n, t_n), 데이터를 설명하기 위함. 모델을 돌리기 위한 sample data"
   ]
  },
  {
   "cell_type": "code",
   "execution_count": 59,
   "metadata": {},
   "outputs": [
    {
     "name": "stdout",
     "output_type": "stream",
     "text": [
      "X.shape: (506, 104)\n"
     ]
    }
   ],
   "source": [
    "X, y = mglearn.datasets.load_extended_boston()\n",
    "print(\"X.shape: {}\".format(X.shape))"
   ]
  },
  {
   "cell_type": "markdown",
   "metadata": {},
   "source": [
    "### feature engineering (변수 변환) : 새로운 의미 있는 결론을 얻기 위함.\n",
    "- 고차원, 변수들 간의 연관성이 큰지 알아보기 위함.\n",
    "    - boston's target value = 1000달러 단위의 소유 주택의 평균값.\n",
    "    - 13개의 입력 속성 이외에도 각 속성 간 cross production도 포함\n",
    "    - 중복을 허용한 두 개 속성 : 13 + 13*12/2 = 13 + 78 / n의 제곱 + n(n+1) / 2\n",
    "    - 전체 속성 수 : 13 + 13 + 78 = 104 개\n",
    "- 회귀 : 연속형 변수들에 대한 식."
   ]
  },
  {
   "cell_type": "markdown",
   "metadata": {},
   "source": [
    "- 통계 : 선형회귀 만든 후 유의미한 p값을 찾음. 그리고 그 p값들을 따로 뽑아서 새로 선형회귀식 만듦\n",
    "- ML : 신뢰구간을 고려하지 않음. 결과가 좋으면 그만...?"
   ]
  },
  {
   "cell_type": "markdown",
   "metadata": {},
   "source": [
    "### k-최근접 이웃(KNN)\n",
    "#### k-최근접 이웃 분류\n",
    "- 최근접 이웃이 가장 많이 속해있는 집단으로 분류하는 기법\n",
    "- 일반적으로 유클리드 거리를 사용한다. <- 설명변수의 표준화\n",
    "- 편향 변화량 균형 (bias-variance tradeoff)\n",
    "    - k값이 적으면 noise, outlier에 영향 받는다.\n",
    "    - k값이 많으면 대수의 범주로 편향된다.\n",
    "    - 효과적인 k의값 (홀수)\n",
    "        - 보통 3~11\n",
    "        - 훈련 data 개수의 n 제곱근\n",
    "        - 가장 작은 범주 개체수 m의 제곱근\n",
    "        - 큰 k값 + 거리에 따른 가중치\n",
    "- 유사도 측정 시 고려해야할 요소\n",
    "    - 거리 측정 방법\n",
    "    - 가중치\n",
    "    - 측정 단위 (단위에 따라 가장 가까운 이웃이 바뀔 수도 있음.), 즉 단위가 가지는 의미를 없애준다.\n",
    "- feature들의 scale(단위)가 같아야 한다."
   ]
  },
  {
   "cell_type": "markdown",
   "metadata": {},
   "source": [
    "- Minkowski (표준 거리)\n",
    "- 맨하튼 : Minkowski 에서 m = 1, 즉 p = 1, weight = 속도\n",
    "- 뉴클리드 : Minkowski 에서 m = 2, 즉 p = 2 "
   ]
  },
  {
   "cell_type": "markdown",
   "metadata": {},
   "source": [
    "#### 거리 표준화 방법 ( 제일 중요함 )\n",
    "- 최소-최대 정규화 : Normalize / 값이 0과 1사이\n",
    "- Z-score 표준화 : standarize / 값의 범위가 평균이 0, 분산이 1\n",
    "- data값의 최대 최소에 제약 여부에 따라\n",
    "    - 제약 O : Normalize ex) RGB\n",
    "    - 제약 X : standarize ex) 속도, 몸무게"
   ]
  },
  {
   "cell_type": "markdown",
   "metadata": {},
   "source": [
    "#### 범주형 변수\n",
    "- binary 분포로 변경한다.\n",
    "- one-hot encoding"
   ]
  },
  {
   "cell_type": "markdown",
   "metadata": {},
   "source": [
    "#### 특징\n",
    "- 게으른 알고리즘 - 학습하지 않는다.\n",
    "- 훈련 instance에 의존함\n",
    "    - instance-based learning\n",
    "    - 암기학습 rote learning\n",
    "- 모델을 생성하지 않는다.\n",
    "    - 데이터에 대한 학습이 없어, 비모수 학습 기법\n",
    "- 알고리즘 : auto, ball_tree, kd_tree, brute / auto : scikitlearn이 데이터에 따라 자동으로 적용\n",
    "    - ball_tree : 가까운 거리의 데이터 마다 그룹을 지어서 그룹 간 구심점 거리 측정. 대부분 성능이 좋음.\n",
    "    - kd_tree : ball_tree와 비슷하지만 데이터가 많을 때는 ball_tree를 사용한다. 적당한 data 일 때 사용.\n",
    "    - brute(욕심쟁이) : X-train 데이터가 n개 일 때, 새로운 data가 1개가 들어왔을 때, 모든 n개의 데이터와 거리 측정"
   ]
  },
  {
   "cell_type": "code",
   "execution_count": null,
   "metadata": {
    "hide_input": false,
    "scrolled": false
   },
   "outputs": [],
   "source": [
    "mglearn.plots.plot_knn_classification(n_neighbors=1)"
   ]
  },
  {
   "cell_type": "code",
   "execution_count": null,
   "metadata": {
    "hide_input": false
   },
   "outputs": [],
   "source": [
    "mglearn.plots.plot_knn_classification(n_neighbors=3)"
   ]
  },
  {
   "cell_type": "markdown",
   "metadata": {},
   "source": [
    "- knn 알고리즘의 적용 방법을 확인"
   ]
  },
  {
   "cell_type": "code",
   "execution_count": null,
   "metadata": {},
   "outputs": [],
   "source": [
    "from sklearn.model_selection import train_test_split\n",
    "X, y = mglearn.datasets.make_forge()\n",
    "X_train, X_test, y_train, y_test = train_test_split(X, y, random_state=0)"
   ]
  },
  {
   "cell_type": "code",
   "execution_count": null,
   "metadata": {},
   "outputs": [],
   "source": [
    "from sklearn.neighbors import KNeighborsClassifier\n",
    "clf = KNeighborsClassifier(n_neighbors=3)"
   ]
  },
  {
   "cell_type": "code",
   "execution_count": null,
   "metadata": {},
   "outputs": [],
   "source": [
    "clf.fit(X_train, y_train)"
   ]
  },
  {
   "cell_type": "code",
   "execution_count": null,
   "metadata": {},
   "outputs": [],
   "source": [
    "print(\"테스트 세트 예측: {}\".format(clf.predict(X_test)))"
   ]
  },
  {
   "cell_type": "code",
   "execution_count": null,
   "metadata": {},
   "outputs": [],
   "source": [
    "print(\"테스트 세트 정확도: {:.2f}\".format(clf.score(X_test, y_test)))"
   ]
  },
  {
   "cell_type": "markdown",
   "metadata": {},
   "source": [
    "#### KNeighborsClassifier 분석"
   ]
  },
  {
   "cell_type": "code",
   "execution_count": null,
   "metadata": {
    "hide_input": false
   },
   "outputs": [],
   "source": [
    "fig, axes = plt.subplots(1, 3, figsize=(10, 3))\n",
    "\n",
    "for n_neighbors, ax in zip([1, 3, 9], axes):\n",
    "    # fit 메소드는 self 오브젝트를 리턴합니다\n",
    "    # 그래서 객체 생성과 fit 메소드를 한 줄에 쓸 수 있습니다\n",
    "    clf = KNeighborsClassifier(n_neighbors=n_neighbors).fit(X, y)\n",
    "    mglearn.plots.plot_2d_separator(clf, X, fill=True, eps=0.5, ax=ax, alpha=.4)\n",
    "    mglearn.discrete_scatter(X[:, 0], X[:, 1], y, ax=ax)\n",
    "    ax.set_title(\"{} n_neighbors\".format(n_neighbors))\n",
    "    ax.set_xlabel(\"feature 0\")\n",
    "    ax.set_ylabel(\"feature 1\")\n",
    "axes[0].legend(loc=3)"
   ]
  },
  {
   "cell_type": "code",
   "execution_count": null,
   "metadata": {},
   "outputs": [],
   "source": [
    "from sklearn.datasets import load_breast_cancer\n",
    "\n",
    "cancer = load_breast_cancer()\n",
    "X_train, X_test, y_train, y_test = train_test_split(\n",
    "    cancer.data, cancer.target, stratify=cancer.target, random_state=66)\n",
    "\n",
    "training_accuracy = []\n",
    "test_accuracy = []\n",
    "# 1 에서 10 까지 n_neighbors 를 적용\n",
    "neighbors_settings = range(1, 11)\n",
    "\n",
    "for n_neighbors in neighbors_settings:\n",
    "    # 모델 생성\n",
    "    clf = KNeighborsClassifier(n_neighbors=n_neighbors)\n",
    "    clf.fit(X_train, y_train)\n",
    "    # 훈련 세트 정확도 저장\n",
    "    training_accuracy.append(clf.score(X_train, y_train))\n",
    "    # 일반화 정확도 저장\n",
    "    test_accuracy.append(clf.score(X_test, y_test))\n",
    "    \n",
    "plt.plot(neighbors_settings, training_accuracy, label=\"train accuracy\")\n",
    "plt.plot(neighbors_settings, test_accuracy, label=\"test accuracy\")\n",
    "plt.ylabel(\"accuracy\")\n",
    "plt.xlabel(\"n_neighbors\")\n",
    "plt.legend()"
   ]
  },
  {
   "cell_type": "markdown",
   "metadata": {},
   "source": [
    "- 왼쪽 : overfitting\n",
    "- 오른쪽 : underfitting"
   ]
  },
  {
   "cell_type": "markdown",
   "metadata": {},
   "source": [
    "### k-Neighbors Regression\n",
    "- KNN으로 분류뿐만아니라 회귀도 가능하다."
   ]
  },
  {
   "cell_type": "code",
   "execution_count": null,
   "metadata": {
    "hide_input": false,
    "scrolled": true
   },
   "outputs": [],
   "source": [
    "mglearn.plots.plot_knn_regression(n_neighbors=1)"
   ]
  },
  {
   "cell_type": "code",
   "execution_count": null,
   "metadata": {
    "hide_input": false
   },
   "outputs": [],
   "source": [
    "mglearn.plots.plot_knn_regression(n_neighbors=3)"
   ]
  },
  {
   "cell_type": "code",
   "execution_count": null,
   "metadata": {},
   "outputs": [],
   "source": [
    "from sklearn.neighbors import KNeighborsRegressor\n",
    "\n",
    "X, y = mglearn.datasets.make_wave(n_samples=40)\n",
    "\n",
    "# wave 데이터셋을 훈련 세트와 테스트 세트로 나눕니다\n",
    "X_train, X_test, y_train, y_test = train_test_split(X, y, random_state=0)\n",
    "\n",
    "# 이웃의 수를 3으로 하여 모델의 객체를 만듭니다\n",
    "reg = KNeighborsRegressor(n_neighbors=3)\n",
    "# 훈련 데이터와 타깃을 사용하여 모델을 학습시킵니다\n",
    "reg.fit(X_train, y_train)"
   ]
  },
  {
   "cell_type": "code",
   "execution_count": null,
   "metadata": {},
   "outputs": [],
   "source": [
    "print(\"테스트 세트 예측:\\n{}\".format(reg.predict(X_test)))"
   ]
  },
  {
   "cell_type": "code",
   "execution_count": null,
   "metadata": {},
   "outputs": [],
   "source": [
    "print(\"테스트 세트 R^2: {:.2f}\".format(reg.score(X_test, y_test)))"
   ]
  },
  {
   "cell_type": "markdown",
   "metadata": {},
   "source": [
    "#### KNeighborsRegressor 분석"
   ]
  },
  {
   "cell_type": "code",
   "execution_count": null,
   "metadata": {},
   "outputs": [],
   "source": [
    "# reshape(-1, 1) : data shape 바꿀 때, 1개의 축만 정하면 자동으로 대체하게 해줌.\n",
    "np.linspace(-3, 3, 1000).reshape(-1, 1).shape"
   ]
  },
  {
   "cell_type": "markdown",
   "metadata": {},
   "source": [
    "- scikitlearn에서 처리하는 데이터는 대부분 n.sample * n.feature로 되어 있는 2차원이기 때문에 reshape를 해줘야함\n",
    "- axis = 0, 즉 row단위로 하나의 dataset을 간주하므로, line을 reshape(-1,1)로 주었음."
   ]
  },
  {
   "cell_type": "code",
   "execution_count": null,
   "metadata": {},
   "outputs": [],
   "source": [
    "fig, axes = plt.subplots(1, 3, figsize=(15, 4))\n",
    "# -3 과 3 사이에 1,000 개의 데이터 포인트를 만듭니다\n",
    "line = np.linspace(-3, 3, 1000).reshape(-1, 1)\n",
    "for n_neighbors, ax in zip([1, 3, 9], axes):\n",
    "    # 1, 3, 9 이웃을 사용한 예측을 합니다\n",
    "    reg = KNeighborsRegressor(n_neighbors=n_neighbors)\n",
    "    reg.fit(X_train, y_train)\n",
    "    ax.plot(line, reg.predict(line))\n",
    "    ax.plot(X_train, y_train, '^', c=mglearn.cm2(0), markersize=8)\n",
    "    ax.plot(X_test, y_test, 'v', c=mglearn.cm2(1), markersize=8)\n",
    "\n",
    "    ax.set_title(\n",
    "        \"{} n_neighbor's train score: {:.2f} test score: {:.2f}\".format(\n",
    "            n_neighbors, reg.score(X_train, y_train), reg.score(X_test, y_test)))\n",
    "    ax.set_xlabel(\"Feature\")\n",
    "    ax.set_ylabel(\"Target\")\n",
    "axes[0].legend([\"Model predictions\", \"Train data/target\", \"Test data/target\"], loc=\"best\")"
   ]
  },
  {
   "cell_type": "markdown",
   "metadata": {},
   "source": [
    "- n.jobs : core의 개수 설정 / None : 1임, -1로 설정 시 모든 코어 사용\n",
    "- 특히나 훈련 데이터가 많아지면 n_jobs를 늘리고, algorithm을 ball_tree 등으로 설정하는 것 권장.\n",
    "- 고차원의 데이터에서는:\n",
    "    - 데이터를 전처리하여, 정규화 한 후\n",
    "    - KNN을 사용하거나 SVM 등을 사용하는 것이 더 권장된다."
   ]
  },
  {
   "cell_type": "markdown",
   "metadata": {},
   "source": [
    "#### 회귀에서의 좋고 나쁨의 기준은 ?\n",
    "- SST : sum of squared total / 기대값 - 평균\n",
    "- SSE : sum of squared error / 기대값 - 오차\n",
    "- SSR : sum of squared regression\n",
    "- 에러가 작으면 작을 수록 결정계수인 R의 제곱은 커진다.  R2 : SSR / SST == 1 - SSE / SST\n",
    "- 실제값과 기대값과의 상관계수의 제곱 == R의 제곱"
   ]
  },
  {
   "cell_type": "markdown",
   "metadata": {},
   "source": [
    "#### 장단점과 파라메타\n",
    "- 회귀 계수의 score == R의 제곱\n",
    "- R의 제곱이 클수록, 예를 들어 0.8 이상일 때는 상관계수가 0.9가 된다는 말이다. 0.9 * 0.9 = 0.81\n",
    "- R의 제곱 == 0.6, 상관계수가 0.8 정도 된다."
   ]
  },
  {
   "cell_type": "markdown",
   "metadata": {},
   "source": [
    "___\n",
    "# 0410\n",
    "### 선형 모델\n",
    "- 선형회귀 : 통계 : y = ax+b, ML : y = Wx+b+e\n",
    "    - w, b : 학습 parameter\n",
    "    - y : target\n",
    "    - x : feature\n",
    "    - e : 잡음(noise), 우연적 오류\n",
    "    - 결론 : y의 기대값을 구하는 것.\n",
    "    - Loss가 작으면 작을 수록 좋은 모델이 된다.\n",
    "    - 미분해서 기울기가 0이 되는 지점을 찾자.\n",
    "    - w와 b의 미분에 대해서 증명해보장\n",
    "        - SST = 전체 변동량 ( n * 분산 )\n",
    "        - SSE = Loss\n",
    "        - SSR = 모델의 변동량\n",
    "        - SSE = SST - SSR\n",
    "        - SST - SSE = SSR\n",
    "        - 1 - SSE/SST = R의 제곱 == 상관계수의 제곱\n",
    "    - 선형회귀 식의 변수가 p개라면 SSR의 자유도 = p(평균을 사용했으므로 -1), SSE = n-1-p, SST = n-1\n",
    "        - y의 기대값 = p개의 변수 + e = p + 1 개의 자유도 가짐.\n",
    "- feature를 늘리면 늘릴수록 Loss도 낮아지고 고정된 결정계수도 올라가지만, 실제 y 예측값은 떨어질 수 있다.\n",
    "     - R의 제곱(adj) = 1 - SSE/(n-p-1) / SST/(n-1), 즉, n은 고정 p가 늘면 늘수록 R의 제곱이 작아짐.\n",
    "- 그래프에서 축의 위치를 가운데로 이용하기 위해 spines 객체를 사용하였다.\n",
    "    - spine은 data 영역의 boundary를 나타내는 데 사용하며, axes tick 마커를 연결한다.\n",
    "    - spine은 축이 움직이는 그래프\n",
    "- 참고 할 것\n",
    "    - 1. 종속변수(y)와 설명변수(features)는 선형관계이다.\n",
    "    - 2. 설명변수들은 정규분포를 가지며 서로 독립이다.\n",
    "        - 독립 : 변수 간 상관계수가 0\n",
    "        - 회귀 계수 w를 조절할 때, 서로 독립이 아닌 경우 서로 간에 영향을 미치면서 overfitting 된다.\n",
    "        - 변수 변환 시 : skewed된 데이터의 경우 log를 취하거나 어떠한 변화를 줘서 정규분포로 만들어줘야 한다.\n",
    "        - PCA : PCA로 변환시키면 각각의 의미를 찾기 어렵다.\n",
    "    - 3. 잔차(에러) : 실제 값 - 예측 값 = 잔차(에러), [가정] : 잔차는 서로 독립이다. 또한, 평균은 0이며 정규분포를 이룬다.\n",
    "#### 선형 회귀 모델\n",
    "\\begin{align*}\n",
    "\\end{align*}"
   ]
  },
  {
   "cell_type": "markdown",
   "metadata": {},
   "source": [
    "- 아래 그래프의 식 y = x + sin(4x) + N(0, 1)"
   ]
  },
  {
   "cell_type": "code",
   "execution_count": null,
   "metadata": {
    "hide_input": false,
    "scrolled": true
   },
   "outputs": [],
   "source": [
    "mglearn.plots.plot_linear_regression_wave()"
   ]
  },
  {
   "cell_type": "markdown",
   "metadata": {},
   "source": [
    "- error를 최소화하는 직선을 그린다."
   ]
  },
  {
   "cell_type": "markdown",
   "metadata": {},
   "source": [
    "- 평균을 취했으므로 MSE (Mean Square Error)"
   ]
  },
  {
   "cell_type": "markdown",
   "metadata": {},
   "source": [
    "#### Linear regression(선형회귀)\n",
    "- 최소제곱법\n",
    "- 거리를 측정하는 방식이 아니므로 normalize 필요 X\n",
    "- fit intercept : True, Wx+b에서 b를 사용할 것인가.\n",
    "- 표준화 할 때, scikitlearn의 내장함수인 scale, normalize를 사용하자."
   ]
  },
  {
   "cell_type": "code",
   "execution_count": null,
   "metadata": {},
   "outputs": [],
   "source": [
    "from sklearn.linear_model import LinearRegression\n",
    "X, y = mglearn.datasets.make_wave(n_samples=60)\n",
    "X_train, X_test, y_train, y_test = train_test_split(X, y, random_state=42)\n",
    "\n",
    "lr = LinearRegression().fit(X_train, y_train)"
   ]
  },
  {
   "cell_type": "code",
   "execution_count": null,
   "metadata": {},
   "outputs": [],
   "source": [
    "print(\"lr.coef_: {}\".format(lr.coef_))\n",
    "print(\"lr.intercept_: {}\".format(lr.intercept_))"
   ]
  },
  {
   "cell_type": "code",
   "execution_count": null,
   "metadata": {},
   "outputs": [],
   "source": [
    "print(\"훈련 세트 점수: {:.2f}\".format(lr.score(X_train, y_train)))\n",
    "print(\"테스트 세트 점수: {:.2f}\".format(lr.score(X_test, y_test)))"
   ]
  },
  {
   "cell_type": "code",
   "execution_count": null,
   "metadata": {},
   "outputs": [],
   "source": [
    "X, y = mglearn.datasets.load_extended_boston()\n",
    "\n",
    "X_train, X_test, y_train, y_test = train_test_split(X, y, random_state=0)\n",
    "lr = LinearRegression().fit(X_train, y_train)"
   ]
  },
  {
   "cell_type": "code",
   "execution_count": null,
   "metadata": {},
   "outputs": [],
   "source": [
    "print(\"훈련 세트 점수: {:.2f}\".format(lr.score(X_train, y_train)))\n",
    "print(\"테스트 세트 점수: {:.2f}\".format(lr.score(X_test, y_test)))"
   ]
  },
  {
   "cell_type": "markdown",
   "metadata": {},
   "source": [
    "- 훈련셋에 비해 테스트 셋의 score가 낮다는 의미는 overfitting이 되었다는 뜻. 과도하게 훈련됨.\n",
    "- 이를 줄이기 위해 릿지 회귀를 사용하자"
   ]
  },
  {
   "cell_type": "markdown",
   "metadata": {},
   "source": [
    "#### Ridge regression(릿지 회귀)\n",
    "- 선형회귀의 Loss를 사용했더니 overfitting이 되었다.\n",
    "- 이러한 Loss 식에 패널티를 부여한 것.\n",
    "- a||w||2 == 1, 즉 a를 높이면 w가 줄어듬\n",
    "- a == L2 Regularization\n",
    "- n을 2배 늘리고, w의 제곱의 절댓값을 더해주기.\n",
    "    - 즉, w(회귀계수)를 높이면 높일수록 Loss가 커지도록 만드는 패널티 부여\n",
    "- 다중공선성 : feature 간의 관계가 강한 상관관계일 때.\n",
    "    - 이를 방지하기 위해 릿지 사용\n",
    "    - 해결 방법은 릿지 회귀 사용 : w(회귀 계수)를 최대한 줄여줌.\n",
    "- max_iter : epoch 수, L(w0) : w0 - (d/dw L / w0) * learning_rate \n",
    "- tol = 소숫점 00자리까지 볼 것. layer가 깊어질수록 늘려준다. \n",
    "- solver = 'auto', 'svd', 'lsqr' 등등 data를 어떤 방식으로 연산할지 정하기위해 사용.\n",
    "    - cholesky : X.t * X == 대칭정칙 행렬 분해에 사용\n",
    "    - sag(Stochastic Average Gradient descent)\n",
    "    - saga : sag Advanced\n",
    "- 여러 옵션들은 계속해서 읽어보고 참고할 것.\n",
    "- 많은 모델이 w 최적화를 위해 iteration을 사용하지만 중단 방법은 다양할 수 있다."
   ]
  },
  {
   "cell_type": "code",
   "execution_count": null,
   "metadata": {},
   "outputs": [],
   "source": [
    "from sklearn.linear_model import Ridge\n",
    "\n",
    "ridge = Ridge().fit(X_train, y_train)\n",
    "print(\"훈련 세트 점수: {:.2f}\".format(ridge.score(X_train, y_train)))\n",
    "print(\"테스트 세트 점수: {:.2f}\".format(ridge.score(X_test, y_test)))"
   ]
  },
  {
   "cell_type": "code",
   "execution_count": null,
   "metadata": {
    "scrolled": true
   },
   "outputs": [],
   "source": [
    "ridge10 = Ridge(alpha=10).fit(X_train, y_train)\n",
    "print(\"훈련 세트 점수: {:.2f}\".format(ridge10.score(X_train, y_train)))\n",
    "print(\"테스트 세트 점수: {:.2f}\".format(ridge10.score(X_test, y_test)))"
   ]
  },
  {
   "cell_type": "markdown",
   "metadata": {},
   "source": [
    "- 1에서 10으로 올렸더니 역효과가 났음."
   ]
  },
  {
   "cell_type": "code",
   "execution_count": null,
   "metadata": {},
   "outputs": [],
   "source": [
    "ridge01 = Ridge(alpha=0.1).fit(X_train, y_train)\n",
    "print(\"훈련 세트 점수: {:.2f}\".format(ridge01.score(X_train, y_train)))\n",
    "print(\"테스트 세트 점수: {:.2f}\".format(ridge01.score(X_test, y_test)))"
   ]
  },
  {
   "cell_type": "markdown",
   "metadata": {},
   "source": [
    "- 1에서 0.1로 줄였더니 더 좋아졌음."
   ]
  },
  {
   "cell_type": "code",
   "execution_count": null,
   "metadata": {},
   "outputs": [],
   "source": [
    "plt.plot(ridge10.coef_, '^', label=\"Ridge alpha=10\")\n",
    "plt.plot(ridge.coef_, 's', label=\"Ridge alpha=1\")\n",
    "plt.plot(ridge01.coef_, 'v', label=\"Ridge alpha=0.1\")\n",
    "\n",
    "plt.plot(lr.coef_, 'o', label=\"LinearRegression\")\n",
    "plt.xlabel(\"계수 목록\")\n",
    "plt.ylabel(\"계수 크기\")\n",
    "xlims = plt.xlim()\n",
    "plt.hlines(0, xlims[0], xlims[1])\n",
    "plt.xlim(xlims)\n",
    "plt.ylim(-25, 25)\n",
    "plt.legend()"
   ]
  },
  {
   "cell_type": "code",
   "execution_count": null,
   "metadata": {},
   "outputs": [],
   "source": [
    "mglearn.plots.plot_ridge_n_samples()"
   ]
  },
  {
   "cell_type": "markdown",
   "metadata": {},
   "source": [
    "- Training set size에 따른 R square 값의 변화\n",
    "- 400개 이상부터 의미있게 적용됨.\n",
    "- 통계에서는 변수를 넣고, 빼면서 적용했었음.\n",
    "- ML에서는 변수를 건드리지 않음.\n",
    "- 학습데이터가 늘어 날 수록, SSR이 충분히 SST를 설명하지 못함을 나타낸다.\n",
    "- ridge는 연산 시간이 상대적으로 크다. 따라서 학습데이터의 양이 충분히 많다면 LR, Lasso를 사용하자."
   ]
  },
  {
   "cell_type": "markdown",
   "metadata": {},
   "source": [
    "#### Lasso\n",
    "- L1 Regularization을 사용한다.\n",
    "- scikitlearn 홈페이지에 guide가 나와 있으니 자주 읽어볼 것.\n",
    "- 기본적으로 coordinate descent 알고리즘 사용.\n",
    "    - 각 좌표계 방향에서 한 방향씩으로만 번갈아 가면서 gradient descent 하는 것.\n",
    "    - Coordinate descent 매 데이터가 들어올 때, n번째 데이터에 대해서 n번째 회귀계수만 업데이트 시킴.\n",
    "    - 계산량이 적기 때문에, 데이터가 크면 연산 속도가 빠르다.\n",
    "- ridge의 alpha 대신에 beta||w|| 사용\n",
    "- ridge는 square를 사용했기 때문에 실제 영향은 square만큼이므로, w가 적당히 작아도 Loss를 충분히 줄일 수 있다.\n",
    "- but Lasso는 square가 아니므라, w값을 충분히 줄여야 Loss를 줄일 수 있다.\n",
    "- ridge는 |w|를 작게해준다면, Lasso는 회귀계수를 0에 가까이 줄이므로 sparsity하게 하는 효과를 갖는다.\n",
    "- 의미없는 w들은 대부분 0으로, 중요한 w들만 남긴다.\n",
    "- target에 영향을 적게 미치는 feature들을 찾아내므로 Lasso를 더 많이 사용한다.\n",
    "- 데이터의 변수들 중 대부분이 영향이 없다? Lasso 전부 다 중요하면? Ridge"
   ]
  },
  {
   "cell_type": "markdown",
   "metadata": {},
   "source": [
    "#### Option\n",
    "- alpha : L1 계수\n",
    "- precompute : 속도향상을 위해 사전에 계산된 Gram matrix 사용여부를 지정. 공분산 행렬,\n",
    "- sparse input에 대해서는 항상 True로 설정. 메모리가 충분하다면 사용, 부족할 시 사용 X\n",
    "- tol\n",
    "- warm_start : 이전에 fit의 parameter를 초기화 값으로 사용.\n",
    "- positive : 회귀계수를 강제로 양수로 만듦. 음의 회귀계수를 고려해야하므로 True는 지양할 것.\n",
    "- selection : 학습할 회귀계수를 지정할 수 있음.\n",
    "    - 따라서 초기에는 'random'으로 설정하고, 이후 'warm_start'를 설정한 후, 'cyclic'을 시도할 만 하다."
   ]
  },
  {
   "cell_type": "markdown",
   "metadata": {},
   "source": [
    "#### 속성\n",
    "- sparse_coef_ : 메모리 절약 가능. "
   ]
  },
  {
   "cell_type": "markdown",
   "metadata": {},
   "source": [
    "___\n",
    "- boston housing 데이터에 적용해보자."
   ]
  },
  {
   "cell_type": "code",
   "execution_count": null,
   "metadata": {},
   "outputs": [],
   "source": [
    "from sklearn.linear_model import Lasso\n",
    "\n",
    "lasso = Lasso().fit(X_train, y_train)\n",
    "print(\"훈련 세트 점수: {:.2f}\".format(lasso.score(X_train, y_train)))\n",
    "print(\"테스트 세트 점수: {:.2f}\".format(lasso.score(X_test, y_test)))\n",
    "print(\"사용한 특성의 개수: {}\".format(np.sum(lasso.coef_ != 0)))"
   ]
  },
  {
   "cell_type": "code",
   "execution_count": null,
   "metadata": {},
   "outputs": [],
   "source": [
    "# \"max_iter\" 기본 값을 증가시키지 않으면 max_iter 값을 늘이라는 경고가 발생합니다\n",
    "lasso001 = Lasso(alpha=0.01, max_iter=100000).fit(X_train, y_train)\n",
    "print(\"훈련 세트 점수: {:.2f}\".format(lasso001.score(X_train, y_train)))\n",
    "print(\"테스트 세트 점수: {:.2f}\".format(lasso001.score(X_test, y_test)))\n",
    "print(\"사용한 특성의 개수: {}\".format(np.sum(lasso001.coef_ != 0)))"
   ]
  },
  {
   "cell_type": "markdown",
   "metadata": {},
   "source": [
    "- alpha를 줄이면 0에 가까운 w들을 좀 더 살려서 사용할 특성의 수가 늘어난다."
   ]
  },
  {
   "cell_type": "code",
   "execution_count": null,
   "metadata": {},
   "outputs": [],
   "source": [
    "lasso00001 = Lasso(alpha=0.0001, max_iter=100000).fit(X_train, y_train)\n",
    "print(\"훈련 세트 점수: {:.2f}\".format(lasso00001.score(X_train, y_train)))\n",
    "print(\"테스트 세트 점수: {:.2f}\".format(lasso00001.score(X_test, y_test)))\n",
    "print(\"사용한 특성의 개수: {}\".format(np.sum(lasso00001.coef_ != 0)))"
   ]
  },
  {
   "cell_type": "code",
   "execution_count": null,
   "metadata": {},
   "outputs": [],
   "source": [
    "lasso00001 = Lasso(alpha=0.0001, max_iter=100000, normalize=True).fit(X_train, y_train)\n",
    "print(\"훈련 세트 점수: {:.2f}\".format(lasso00001.score(X_train, y_train)))\n",
    "print(\"테스트 세트 점수: {:.2f}\".format(lasso00001.score(X_test, y_test)))\n",
    "print(\"사용한 특성의 개수: {}\".format(np.sum(lasso00001.coef_ != 0)))"
   ]
  },
  {
   "cell_type": "markdown",
   "metadata": {},
   "source": [
    "- normalize를 사용해보자"
   ]
  },
  {
   "cell_type": "code",
   "execution_count": null,
   "metadata": {},
   "outputs": [],
   "source": [
    "plt.plot(lasso.coef_, 's', label=\"Lasso alpha=1\")\n",
    "plt.plot(lasso001.coef_, '^', label=\"Lasso alpha=0.01\")\n",
    "plt.plot(lasso00001.coef_, 'v', label=\"Lasso alpha=0.0001\")\n",
    "\n",
    "plt.plot(ridge01.coef_, 'o', label=\"Ridge alpha=0.1\")\n",
    "plt.legend(ncol=2, loc=(0, 1.05))\n",
    "plt.ylim(-25, 25)\n",
    "plt.xlabel(\"계수 목록\")\n",
    "plt.ylabel(\"계수 크기\")"
   ]
  },
  {
   "cell_type": "markdown",
   "metadata": {},
   "source": [
    "### 참고\n",
    "- ElasticNet : L1, L2 손실을 모두 제공함. Lasso + Ridge\n",
    "- 실행을 용이하게 하고 싶다? Lasso\n",
    "- normalize 적용 여부에 따라 feature의 w값이 변화한다.\n",
    "- normalize를하면 w값을 줄일 수 있다."
   ]
  },
  {
   "cell_type": "markdown",
   "metadata": {},
   "source": [
    "## 0411 : Linear models for classification\n",
    "- ML에서 Loss는 art, 즉, Loss를 어떻게 다루냐에 따라 model을 좋게 만들 수 있음.\n",
    "- 회귀 문제의 해는 target과 features X가 구성하는 공간에서 X와 y의 관계식인 hyperplane이고,\n",
    "- 분류 문제의 해는 입력 features X 공간에서 target y를 분류하는 결정 경계(decision loundary)인 hyperplane이다.\n",
    "- hyper plane은 보통 f(X) = 0이며, y > 0.5 인 구간 : class 1, y < 0.5 인 구간 : class 0"
   ]
  },
  {
   "cell_type": "markdown",
   "metadata": {},
   "source": [
    "#### 모델 최적화 하는법\n",
    "- for penalty in [L1, L2]\n",
    "    - for c in [c의 범위]"
   ]
  },
  {
   "cell_type": "markdown",
   "metadata": {},
   "source": [
    "#### 분류에 대한 선형 모델"
   ]
  },
  {
   "cell_type": "markdown",
   "metadata": {},
   "source": [
    "사이킷런 0.19 버전 이하에서는 `LinearSVC`와 `liblinear`를 사용하는 `LogisticRegression`의 `verbose` 매개변수가 0이 아니고 `max_iter` 반복 안에 수렴하지 않을 경우 반복 횟수를 증가하라는 경고 메세지가 나옵니다. 사이킷런 0.20 버전부터는 `verbose` 매개변수에 상관없이 `max_iter` 반복 안에 수렴하지 않을 경우 반복 횟수 증가 경고가 나옵니다. 경고 메세지를 피하기 위해 `max_iter` 매개변수를 기본값 1000에서 5000으로 증가시킵니다.\n",
    "\n",
    "향후 사이킷런 0.22 버전에서 `LogisticRegression` 클래스의 `solver` 매개변수 기본값이 `liblinear`에서 `lbfgs`로 변경될 예정입니다. 사이킷런 0.20 버전에서 `solver` 매개변수를 지정하지 않는 경우 이에 대한 경고 메세지를 출력합니다. 여기에서는 liblinear 라이브러리를 사용하는 두 클래스를 비교하는 것이므로 `solver` 매개변수를 `liblinear`로 설정합니다."
   ]
  },
  {
   "cell_type": "markdown",
   "metadata": {},
   "source": [
    "- 아래는 logistic 회귀와 선형 분류기인 SVC (Supported Vector Classifier)"
   ]
  },
  {
   "cell_type": "markdown",
   "metadata": {},
   "source": [
    "#### LogisticRegression의 원리\n",
    "- 분류를 하는 방법은 p(y=1), p(y=0)을 구함. 즉 각각의 y로 분류될 확률을 구한다.\n",
    "- 단조 증가하는 특징을 가져야함. X1 < X2, f(X1) < f(X2)\n",
    "- step function : 일정 강도 이상의 신호를 받으면, 이를 학습.\n",
    "- sigmoid(시그모이드) : 미분도 되고, step function과 유사한 함수 / 최대 최소는 0, 1이고 x가 0일 때 0.5음수면 0.5보다 작고, 양수면 0.5보다 큼\n",
    "- y = sigmoid(wx+b)\n",
    "    - wx+b = z\n",
    "    - Loss = 식 구하기\n",
    "    - w와 b를 조절해서 Loss 조절 가능\n",
    "    - z > 0, y = 1 / z < 0, y = 0"
   ]
  },
  {
   "cell_type": "markdown",
   "metadata": {},
   "source": [
    "#### SVM\n",
    "- SVM 알고리즘을 이용한 classifier == SVC\n",
    "- hyper plane과 가장 가까이 있는 요소들 = support vector\n",
    "- 서로 다른 class로 분류되어 있는 support vector 간의 거리 차가 동일한 구간 : 가장 좋은 decision loundary\n",
    "- class가 겹친 구간에도 적용할 수 있다.\n",
    "    - kernel 함수 사용.\n",
    "    - wx+b 의 x를 다른 차원으로 치환하여 계산, 원래의 식은 곡선이지만, 치환된 식에서는 wx+b와 동일한 1차원의 그래프가 그려진다."
   ]
  },
  {
   "cell_type": "code",
   "execution_count": 25,
   "metadata": {
    "scrolled": true
   },
   "outputs": [
    {
     "name": "stderr",
     "output_type": "stream",
     "text": [
      "C:\\Users\\tmznq\\Anaconda3\\envs\\ml_scratch\\lib\\site-packages\\sklearn\\utils\\deprecation.py:77: DeprecationWarning: Function make_blobs is deprecated; Please import make_blobs directly from scikit-learn\n",
      "  warnings.warn(msg, category=DeprecationWarning)\n"
     ]
    },
    {
     "data": {
      "text/plain": [
       "<matplotlib.legend.Legend at 0x22733040f98>"
      ]
     },
     "execution_count": 25,
     "metadata": {},
     "output_type": "execute_result"
    },
    {
     "data": {
      "image/png": "[encoded data removed]",
      "text/plain": [
       "<Figure size 720x216 with 2 Axes>"
      ]
     },
     "metadata": {},
     "output_type": "display_data"
    }
   ],
   "source": [
    "from sklearn.linear_model import LogisticRegression\n",
    "from sklearn.svm import LinearSVC\n",
    "\n",
    "X, y = mglearn.datasets.make_forge()\n",
    "\n",
    "fig, axes = plt.subplots(1, 2, figsize=(10, 3))\n",
    "\n",
    "model, ax in zip([LinearSVC(max_iter=5000), LogisticRegression(solver='liblinear')], axes):\n",
    "    clf = model.fit(X, y)\n",
    "    mglearn.plots.plot_2d_separator(clf, X, fill=False, eps=0.5,\n",
    "                                    ax=ax, alpha=.7)\n",
    "    mglearn.discrete_scatter(X[:, 0], X[:, 1], y, ax=ax) # discreate_scatter\n",
    "    ax.set_title(\"{}\".format(clf.__class__.__name__))\n",
    "    ax.set_xlabel(\"특성 0\")\n",
    "    ax.set_ylabel(\"특성 1\")\n",
    "axes[0].legend()"
   ]
  },
  {
   "cell_type": "markdown",
   "metadata": {},
   "source": [
    "- SVM : hyper plane : f(X) = 0로 규정 / class 1, -1 분류\n",
    "- Sigmoid : hyper plane : f(X) = 0.5로 규정 / class 1, 0 분류\n",
    "- SVM은 확률을 직접 구하지 못하지만, Sigmoid는 확률을 직접 구할 수 있다.(predict_proba)\n",
    "    - 방법\n",
    "        - predict_proba(확률값 구하기) : Sigmoid만 해당\n",
    "        - decision funcion(Score값 반환 양수면 1이되고, 음수면 0이 될 확률이 높다.)\n",
    "        - predict(0인지 1인지 확인)\n",
    "- 오류의 한계를 지정, 일부는 버린 모습."
   ]
  },
  {
   "cell_type": "code",
   "execution_count": 7,
   "metadata": {
    "hide_input": false
   },
   "outputs": [
    {
     "data": {
      "image/png": "[encoded data removed]",
      "text/plain": [
       "<Figure size 864x288 with 3 Axes>"
      ]
     },
     "metadata": {},
     "output_type": "display_data"
    }
   ],
   "source": [
    "mglearn.plots.plot_linear_svc_regularization()"
   ]
  },
  {
   "cell_type": "markdown",
   "metadata": {},
   "source": [
    "#### SVC, Logistic Reg에서의 alpha 표현 방법\n",
    "- C = 1 / alpha \n",
    "- C는 alpha의 역수. 즉, Ridge나 Lasso에서 사용하는 L2, L1 loss를 다르게 표현함."
   ]
  },
  {
   "cell_type": "markdown",
   "metadata": {},
   "source": [
    "#### rule에 따라 solver를 선택해보자\n",
    "- L1 penalty : liblinear, saga\n",
    "- Multinomial loss : lbfgs sag saga newton-cg\n",
    "- very large data set: sag saga\n",
    "- binary class : liblinear\n",
    "#### 참고\n",
    "    - lbfgs : a ~ mv / matrix 차원 변환 = 근삿값 추정\n",
    "    - Softmax(wx+b) : vector 반환 == energy function (에너지가 적으면 핵 주위에 분포, 크면 멀리 사라짐)\n",
    "    - sigmoid(wx+b) : scalar 반환\n",
    "    - ovr(one-vs-rest) : binary type일 경우 사용. multinomial 방식을 지원하지 않음. 학습 속도가 느리다.\n",
    "    - binary class이 경우 liblinear가 가장 빠르지만, 범주의 수가 많아지면 느리다.\n",
    "    - lbfgs, sag, newton-cg는 L2 penalty만 지원.\n",
    "    - saga는 L1 penalty도 지원하므로, sparse multinomial logistic regression에 좋은 대안임."
   ]
  },
  {
   "cell_type": "markdown",
   "metadata": {},
   "source": [
    "___\n",
    "#### LogisticRegression\n",
    "#### cancer data\n",
    "LogisticRegression(class_weight = )\n",
    "- 정확도만 추구하다보면 흔치 않은 범주를 무시하여 잘못된 분류가 될 수 있음.\n",
    "- 흔치 않은 분류 (악성)을 찾기 위해 weight를 더 주면 악성을 더 잘 찾을 수 있음.\n",
    "LogisticRegression(solve = )\n",
    "- rule에 따라 적절히 선택\n",
    "    - sparse : lbfgs\n",
    "    - sparse + L1 : saga\n",
    "    - core 충분 : newton-cg\n",
    "    \n",
    "LogisticRegression(multi_class = )\n",
    "- ovr or multinomial\n",
    "\n",
    "LogisticRegression(normalize X )\n",
    "- normalize 옵션이 없으므로, 직접 data에 normalize를 해줘야 한다."
   ]
  },
  {
   "cell_type": "markdown",
   "metadata": {},
   "source": [
    "#### 층화 추출\n",
    "- 전체 데이터 : 400\n",
    "- train, test data 나누는 방법. \n",
    "- default : 0.25 / 25% 비율 즉, 3 대 1\n",
    "- stratify"
   ]
  },
  {
   "cell_type": "code",
   "execution_count": 11,
   "metadata": {},
   "outputs": [
    {
     "name": "stdout",
     "output_type": "stream",
     "text": [
      "훈련 세트 점수: 0.953\n",
      "테스트 세트 점수: 0.958\n"
     ]
    }
   ],
   "source": [
    "from sklearn.datasets import load_breast_cancer\n",
    "cancer = load_breast_cancer()\n",
    "X_train, X_test, y_train, y_test = train_test_split(\n",
    "    cancer.data, cancer.target, stratify=cancer.target, random_state=42) # random_state = randomseed(0) \n",
    "logreg = LogisticRegression(solver='liblinear').fit(X_train, y_train)\n",
    "print(\"훈련 세트 점수: {:.3f}\".format(logreg.score(X_train, y_train)))\n",
    "print(\"테스트 세트 점수: {:.3f}\".format(logreg.score(X_test, y_test)))"
   ]
  },
  {
   "cell_type": "markdown",
   "metadata": {},
   "source": [
    "- C 기본값 1.0 훈련과 테스트 모두 95%의 정확도를 보이고 있으나, undefit인 경우로 보이므로 C를 늘려본다"
   ]
  },
  {
   "cell_type": "code",
   "execution_count": 31,
   "metadata": {
    "scrolled": true
   },
   "outputs": [
    {
     "name": "stdout",
     "output_type": "stream",
     "text": [
      "훈련 세트 점수: 0.972\n",
      "테스트 세트 점수: 0.965\n"
     ]
    }
   ],
   "source": [
    "logreg100 = LogisticRegression(solver='liblinear', C=100).fit(X_train, y_train)\n",
    "print(\"훈련 세트 점수: {:.3f}\".format(logreg100.score(X_train, y_train)))\n",
    "print(\"테스트 세트 점수: {:.3f}\".format(logreg100.score(X_test, y_test)))"
   ]
  },
  {
   "cell_type": "markdown",
   "metadata": {},
   "source": [
    "- alpha가 커지면 underfitting, 작아지면 overfitting\n",
    "- 따라서 c가 커지면 overfitting, 작아지면 underfitting"
   ]
  },
  {
   "cell_type": "code",
   "execution_count": 35,
   "metadata": {},
   "outputs": [
    {
     "name": "stdout",
     "output_type": "stream",
     "text": [
      "훈련 세트 점수: 0.944\n",
      "테스트 세트 점수: 0.944\n"
     ]
    }
   ],
   "source": [
    "logreg001 = LogisticRegression(solver='liblinear', C=0.1).fit(X_train, y_train)\n",
    "print(\"훈련 세트 점수: {:.3f}\".format(logreg001.score(X_train, y_train)))\n",
    "print(\"테스트 세트 점수: {:.3f}\".format(logreg001.score(X_test, y_test)))"
   ]
  },
  {
   "cell_type": "code",
   "execution_count": 36,
   "metadata": {},
   "outputs": [
    {
     "data": {
      "text/plain": [
       "<matplotlib.legend.Legend at 0x2639852c710>"
      ]
     },
     "execution_count": 36,
     "metadata": {},
     "output_type": "execute_result"
    },
    {
     "data": {
      "image/png": "[encoded data removed]",
      "text/plain": [
       "<Figure size 432x288 with 1 Axes>"
      ]
     },
     "metadata": {
      "needs_background": "light"
     },
     "output_type": "display_data"
    }
   ],
   "source": [
    "plt.plot(logreg100.coef_.T, '^', label=\"C=100\")\n",
    "plt.plot(logreg.coef_.T, 'o', label=\"C=1\")\n",
    "plt.plot(logreg001.coef_.T, 'v', label=\"C=0.001\")\n",
    "plt.xticks(range(cancer.data.shape[1]), cancer.feature_names, rotation=90)\n",
    "xlims = plt.xlim()\n",
    "plt.hlines(0, xlims[0], xlims[1])\n",
    "plt.xlim(xlims)\n",
    "plt.ylim(-5, 5)\n",
    "plt.xlabel(\"특성\")\n",
    "plt.ylabel(\"계수 크기\")\n",
    "plt.legend()"
   ]
  },
  {
   "cell_type": "markdown",
   "metadata": {},
   "source": [
    "- mean perimeter : 작은 규제에서는 음수, 높은 규제에서는 양수를 가짐.\n",
    "    - 이 의미는 종양의 평균 둘레는 양성 또는 음성의 신호가 모두 될 수 있다.\n",
    "- 다중공선성 때문에 c 가 0.001일 경우에 나타나는 양수의 signal이 실제 의미 있다고 봐야한다.?"
   ]
  },
  {
   "cell_type": "markdown",
   "metadata": {},
   "source": [
    "`LogisticRegression`의 `max_iter` 매개변수 기본값은 100입니다. 사이킷런 0.20 버전에서 수렴에 도달하지 못했다는 경고 메세지를 피하기 위해 1000으로 증가시킵니다."
   ]
  },
  {
   "cell_type": "code",
   "execution_count": 38,
   "metadata": {},
   "outputs": [
    {
     "name": "stdout",
     "output_type": "stream",
     "text": [
      "C=0.001 인 l1 로지스틱 회귀의 훈련 정확도: 0.91\n",
      "C=0.001 인 l1 로지스틱 회귀의 테스트 정확도: 0.92\n",
      "C=1.000 인 l1 로지스틱 회귀의 훈련 정확도: 0.96\n",
      "C=1.000 인 l1 로지스틱 회귀의 테스트 정확도: 0.96\n",
      "C=100.000 인 l1 로지스틱 회귀의 훈련 정확도: 0.99\n",
      "C=100.000 인 l1 로지스틱 회귀의 테스트 정확도: 0.98\n"
     ]
    },
    {
     "data": {
      "text/plain": [
       "<matplotlib.legend.Legend at 0x2639850ed30>"
      ]
     },
     "execution_count": 38,
     "metadata": {},
     "output_type": "execute_result"
    },
    {
     "data": {
      "image/png": "[encoded data removed]",
      "text/plain": [
       "<Figure size 432x288 with 1 Axes>"
      ]
     },
     "metadata": {
      "needs_background": "light"
     },
     "output_type": "display_data"
    }
   ],
   "source": [
    "for C, marker in zip([0.001, 1, 100], ['o', '^', 'v']):\n",
    "    lr_l1 = LogisticRegression(solver='liblinear', C=C, penalty=\"l1\", max_iter=1000).fit(X_train, y_train)\n",
    "    print(\"C={:.3f} 인 l1 로지스틱 회귀의 훈련 정확도: {:.2f}\".format(\n",
    "          C, lr_l1.score(X_train, y_train)))\n",
    "    print(\"C={:.3f} 인 l1 로지스틱 회귀의 테스트 정확도: {:.2f}\".format(\n",
    "          C, lr_l1.score(X_test, y_test)))\n",
    "    plt.plot(lr_l1.coef_.T, marker, label=\"C={:.3f}\".format(C))\n",
    "\n",
    "# coef shape = (1, n_features) 이므로 전치(T)시켜 준다.\n",
    "\n",
    "plt.xticks(range(cancer.data.shape[1]), cancer.feature_names, rotation=90)\n",
    "xlims = plt.xlim()\n",
    "plt.hlines(0, xlims[0], xlims[1])\n",
    "plt.xlim(xlims)\n",
    "plt.xlabel(\"특성\")\n",
    "plt.ylabel(\"계수 크기\")\n",
    "\n",
    "plt.ylim(-5, 5)\n",
    "plt.legend(loc=3)"
   ]
  },
  {
   "cell_type": "markdown",
   "metadata": {},
   "source": [
    "#### 다중 클래스 분류를 위한 선형 모델\n",
    "\\begin{align*}\n",
    "\\end{align*}"
   ]
  },
  {
   "cell_type": "code",
   "execution_count": 42,
   "metadata": {},
   "outputs": [
    {
     "data": {
      "text/plain": [
       "<matplotlib.legend.Legend at 0x2639871ceb8>"
      ]
     },
     "execution_count": 42,
     "metadata": {},
     "output_type": "execute_result"
    },
    {
     "data": {
      "image/png": "[encoded data removed]",
      "text/plain": [
       "<Figure size 432x288 with 1 Axes>"
      ]
     },
     "metadata": {
      "needs_background": "light"
     },
     "output_type": "display_data"
    }
   ],
   "source": [
    "from sklearn.datasets import make_blobs\n",
    "\n",
    "X, y = make_blobs(random_state=42)\n",
    "mglearn.discrete_scatter(X[:, 0], X[:, 1], y)\n",
    "plt.xlabel(\"특성 0\")\n",
    "plt.ylabel(\"특성 1\")\n",
    "plt.legend([\"클래스 0\", \"클래스 1\", \"클래스 2\"])"
   ]
  },
  {
   "cell_type": "code",
   "execution_count": 60,
   "metadata": {},
   "outputs": [],
   "source": [
    "from sklearn.datasets import load_breast_cancer\n",
    "cancer = load_breast_cancer()"
   ]
  },
  {
   "cell_type": "code",
   "execution_count": 63,
   "metadata": {},
   "outputs": [
    {
     "data": {
      "text/plain": [
       "(569, 30)"
      ]
     },
     "execution_count": 63,
     "metadata": {},
     "output_type": "execute_result"
    }
   ],
   "source": [
    "cancer['data'].shape"
   ]
  },
  {
   "cell_type": "code",
   "execution_count": 64,
   "metadata": {},
   "outputs": [
    {
     "data": {
      "text/plain": [
       "(569,)"
      ]
     },
     "execution_count": 64,
     "metadata": {},
     "output_type": "execute_result"
    }
   ],
   "source": [
    "cancer['target'].shape"
   ]
  },
  {
   "cell_type": "markdown",
   "metadata": {},
   "source": [
    "___\n",
    "#### LinearSVC\n",
    "LinearSVC (penalty = )\n",
    "- L1, L2\n",
    "\n",
    "LinearSVC (class_weight = )\n",
    "- 위와 동일\n",
    "\n",
    "LinearSVC (predict_proba X)\n",
    "- LogisticReg와의 차이\n",
    "- 단순히 decision function만을 제공해준다."
   ]
  },
  {
   "cell_type": "markdown",
   "metadata": {},
   "source": [
    "#### 3개의 범주가 있을 때 분류하는 방법\n",
    "- 범주가 여러 개 일 때는, 각각의 범주에 최적화된 모델을 여러 개 만들게 된다.\n",
    "- LogisticReg의 결과값\n",
    "    - classes_ = array, shape(n_classes)\n",
    "    - coef_ : array(1, n_features) or (n_classes, n_features)\n",
    "    - intercept_ : array(1,) or (n_classes,)\n",
    "    - n_iter : array, shape(n_classes,) or (1,)\n",
    " "
   ]
  },
  {
   "cell_type": "code",
   "execution_count": 43,
   "metadata": {},
   "outputs": [
    {
     "name": "stdout",
     "output_type": "stream",
     "text": [
      "계수 배열의 크기:  (3, 2)\n",
      "절편 배열의 크기:  (3,)\n"
     ]
    }
   ],
   "source": [
    "linear_svm = LinearSVC().fit(X, y)\n",
    "print(\"계수 배열의 크기: \", linear_svm.coef_.shape)\n",
    "print(\"절편 배열의 크기: \", linear_svm.intercept_.shape)"
   ]
  },
  {
   "cell_type": "code",
   "execution_count": 46,
   "metadata": {},
   "outputs": [
    {
     "name": "stdout",
     "output_type": "stream",
     "text": [
      "[[-0.17492185  0.23140964]\n",
      " [ 0.47621564 -0.06936991]\n",
      " [-0.18914178 -0.20400404]]\n",
      "[-1.07745358  0.13140445 -0.08604983]\n"
     ]
    }
   ],
   "source": [
    "print(linear_svm.coef_)\n",
    "print(linear_svm.intercept_)"
   ]
  },
  {
   "cell_type": "code",
   "execution_count": 56,
   "metadata": {},
   "outputs": [
    {
     "data": {
      "text/plain": [
       "<matplotlib.legend.Legend at 0x26398ce9a90>"
      ]
     },
     "execution_count": 56,
     "metadata": {},
     "output_type": "execute_result"
    },
    {
     "data": {
      "image/png": "[encoded data removed]",
      "text/plain": [
       "<Figure size 432x288 with 1 Axes>"
      ]
     },
     "metadata": {
      "needs_background": "light"
     },
     "output_type": "display_data"
    }
   ],
   "source": [
    "# 3개의 범주 분류\n",
    "mglearn.discrete_scatter(X[:, 0], X[:, 1], y)\n",
    "line = np.linspace(-15, 15)\n",
    "for coef, intercept, color in zip(linear_svm.coef_, linear_svm.intercept_,\n",
    "                                  mglearn.cm3.colors):\n",
    "    plt.plot(line, -(line * coef[0] + intercept) / coef[1], c=color)\n",
    "plt.ylim(-10, 15)\n",
    "plt.xlim(-10, 8)\n",
    "plt.xlabel(\"특성 0\")\n",
    "plt.ylabel(\"특성 1\")\n",
    "plt.legend(['클래스 0', '클래스 1', '클래스 2', '클래스 0 경계', '클래스 1 경계',\n",
    "            '클래스 2 경계'], loc=(1.01, 0.3))"
   ]
  },
  {
   "cell_type": "code",
   "execution_count": 50,
   "metadata": {},
   "outputs": [
    {
     "data": {
      "text/plain": [
       "Text(0, 0.5, '특성 1')"
      ]
     },
     "execution_count": 50,
     "metadata": {},
     "output_type": "execute_result"
    },
    {
     "data": {
      "image/png": "[encoded data removed]",
      "text/plain": [
       "<Figure size 432x288 with 1 Axes>"
      ]
     },
     "metadata": {},
     "output_type": "display_data"
    }
   ],
   "source": [
    "# 3개의 범주 분류\n",
    "mglearn.plots.plot_2d_classification(linear_svm, X, fill=True, alpha=.7)\n",
    "mglearn.discrete_scatter(X[:, 0], X[:, 1], y)\n",
    "line = np.linspace(-15, 15)\n",
    "for coef, intercept, color in zip(linear_svm.coef_, linear_svm.intercept_,\n",
    "                                  mglearn.cm3.colors):\n",
    "    plt.plot(line, -(line * coef[0] + intercept) / coef[1], c=color)\n",
    "plt.legend(['클래스 0', '클래스 1', '클래스 2', '클래스 0 경계', '클래스 1 경계',\n",
    "            '클래스 2 경계'], loc=(1.01, 0.3))\n",
    "plt.xlabel(\"특성 0\")\n",
    "plt.ylabel(\"특성 1\")"
   ]
  },
  {
   "cell_type": "markdown",
   "metadata": {},
   "source": [
    "- class의 영향도에 따라 공존하는 공간을 나눌 수 있다."
   ]
  },
  {
   "cell_type": "markdown",
   "metadata": {},
   "source": [
    "#### 장단점과 파라미터"
   ]
  },
  {
   "cell_type": "code",
   "execution_count": 17,
   "metadata": {},
   "outputs": [],
   "source": [
    "# 한 줄에서 모델의 객체를 생성과 학습을 한번에 실행합니다\n",
    "logreg = LogisticRegression(solver='liblinear').fit(X_train, y_train)"
   ]
  },
  {
   "cell_type": "code",
   "execution_count": 18,
   "metadata": {},
   "outputs": [],
   "source": [
    "logreg = LogisticRegression(solver='liblinear')\n",
    "y_pred = logreg.fit(X_train, y_train).predict(X_test)"
   ]
  },
  {
   "cell_type": "code",
   "execution_count": 19,
   "metadata": {},
   "outputs": [],
   "source": [
    "y_pred = LogisticRegression(solver='liblinear').fit(X_train, y_train).predict(X_test)"
   ]
  },
  {
   "cell_type": "markdown",
   "metadata": {},
   "source": [
    "## 0412\n",
    "### Naive Bayes Classifiers(나이브 베이즈 분류기)\n",
    "- 비가 온다 / 안온다 - 판별학습\n",
    "- 비가 올 확률이 x%이다 - 확률론적 학습\n",
    "    - 미래의 사건확률 추정을 위해 과거를 학습\n",
    "- 확률추정을 위해 많은 속성을 고려할 때 적합.\n",
    "- 조건부 확률 사용\n",
    "- prior (선제확률, 사전 확률)\n",
    "    - 실험 전 확률 + 관찰도수(빈도수)  = P(y)\n",
    "- posterior (사후 확률)\n",
    "    - prior의 2가지 요소를 이용해 확률을 구함. = P(y|X)\n",
    "- likelihood\n",
    "    - P(X|y) : y일 때, x에서 그 y에 해당하는 요소의 빈도 수 \n",
    "- maginal prob\n",
    "    - P(X) \n",
    "- P(y|X) = (P(X|y) / P(X)) * P(y)\n",
    "- posterior = likelihood * prior\n",
    "- 조건부 독립 = P(X1, X2 | y) = P(X1|y) * P(X2|y)\n",
    "    - cf) 독립 = P(X1, X2) = P(X1) * P(X2)\n",
    "#### 이용사례\n",
    "- 스팸메일 필터링\n",
    "\n",
    "#### 참고\n",
    "보통 변수간의 독립된 관계설정으로 빠른 학습속도를 자랑하지만, 일반화 성능은 다소 낮다.  \n",
    "\n",
    "scikitlearn.naive_bayes의 3가지 함수\n",
    "- GaussianNB\n",
    "    - 연속적인 input 데이터가 y에 대한 범주별로 특정 가우시안 분포를 갖는다고 가정하고, 새로운 데이터에 대한 분포 확률에 따라 범주를 추론한다.\n",
    "- BernoulliNB\n",
    "    - binary input 데이터에 적용하여 빈도를 통해 y범주별 이항확률 p를 구하여 추론. : 여러 개의 이항 변수 존재\n",
    "- MultinomialNB\n",
    "    - 명목 변수(words)에 대한 빈도 테이블 데이터에 적용하여 y범주별 X의 class 확률을 구하여 추론.\n",
    "- alpha : smoothing priors. \n",
    "    - 확률이 0이 되는 것을 방지한다. \n",
    "    - 학습데이터 수가 적은 경우 더 작은 alpha값을 적용하자.\n",
    "___\n",
    "- partial_fit : online 업데이트 가능.\n",
    "- class_prior : 각 class의 확률\n",
    "- class _count : 각 class별 학습데이터의 수\n",
    "- theta : class별 변수들의 mean\n",
    "- sigma : class별 변수들의 var\n",
    "\n",
    "#### 결론\n",
    "- X_new에 대해 P(y=0) / P(y=1) 비교함으로써, y=0, 1을 판별한다.\n",
    "- posterior = likelihood * prior\n",
    "- multinomialNB\n",
    "    - log를 이용해서 다 더하는 방법의 트릭을 사용함.\n",
    "    - class_log_prior : 선형 모델로 MultinomialNB를 해석하기 위함\n",
    "    - intercept : prior\n",
    "    - coef == feature_log_prob\n",
    "- Bernoulli Naive Bayes\n",
    "    - 이항 분류\n",
    "    - 베르누이이이이이잉\n",
    "    - binarize\n",
    "    - fit_prior\n",
    "    - class_prior"
   ]
  },
  {
   "cell_type": "markdown",
   "metadata": {},
   "source": [
    "#### 통계\n",
    "- 빈도 주의\n",
    "    - ex) 이길 경우의 수는 정해져있다. : 결정론적 세계관\n",
    "- 베이지안 주의\n",
    "    - 확률은 결정되어 있는 것이 아니라, 여러 요인에 의해 항상 변화할 것이다.\n",
    "    - 모든 feature는 서로 연관이 있을 것이다."
   ]
  },
  {
   "cell_type": "code",
   "execution_count": 15,
   "metadata": {},
   "outputs": [],
   "source": [
    "X = np.array([[0, 1, 0, 1],\n",
    "              [1, 0, 1, 1],\n",
    "              [0, 0, 0, 1],\n",
    "              [1, 0, 1, 0]])\n",
    "y = np.array([0, 1, 0, 1])"
   ]
  },
  {
   "cell_type": "code",
   "execution_count": 18,
   "metadata": {},
   "outputs": [
    {
     "name": "stdout",
     "output_type": "stream",
     "text": [
      "[0 1]\n",
      "[2. 2.]\n",
      "[0.5 0.5]\n"
     ]
    }
   ],
   "source": [
    "from sklearn.naive_bayes import BernoulliNB\n",
    "model_burn = BernoulliNB().fit(X, y)\n",
    "\n",
    "print(model_burn.classes_)\n",
    "print(model_burn.class_count_)\n",
    "print(np.exp(model_burn.class_log_prior_))"
   ]
  },
  {
   "cell_type": "code",
   "execution_count": 19,
   "metadata": {},
   "outputs": [
    {
     "name": "stdout",
     "output_type": "stream",
     "text": [
      "특성 카운트:\n",
      "{0: array([0, 1, 0, 2]), 1: array([2, 0, 2, 1])}\n"
     ]
    }
   ],
   "source": [
    "counts = {}\n",
    "for label in np.unique(y):\n",
    "    # 각 클래스에 대해 반복\n",
    "    # 특성마다 1 이 나타난 횟수를 센다.\n",
    "    counts[label] = X[y == label].sum(axis=0)\n",
    "print(\"특성 카운트:\\n{}\".format(counts))"
   ]
  },
  {
   "cell_type": "markdown",
   "metadata": {},
   "source": [
    "#### 장단점과 파라미터\n",
    "- 현재 베이지안의 중요도가 많이 올라갔으며, 관련 논문도 쏟아지는 중.\n",
    "- 여기서는 언급이 많이 안되었지만 베이지안에 대해서 잘 알고 있어야 할 것."
   ]
  }
 ],
 "metadata": {
  "kernelspec": {
   "display_name": "Python 3",
   "language": "python",
   "name": "python3"
  },
  "language_info": {
   "codemirror_mode": {
    "name": "ipython",
    "version": 3
   },
   "file_extension": ".py",
   "mimetype": "text/x-python",
   "name": "python",
   "nbconvert_exporter": "python",
   "pygments_lexer": "ipython3",
   "version": "3.7.2"
  }
 },
 "nbformat": 4,
 "nbformat_minor": 2
}
