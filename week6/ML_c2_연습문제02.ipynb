{
 "cells": [
  {
   "cell_type": "code",
   "execution_count": 1,
   "metadata": {},
   "outputs": [],
   "source": [
    "# !pip install savReaderWriter"
   ]
  },
  {
   "cell_type": "code",
   "execution_count": 2,
   "metadata": {},
   "outputs": [
    {
     "data": {
      "text/html": [
       "<div>\n",
       "<style scoped>\n",
       "    .dataframe tbody tr th:only-of-type {\n",
       "        vertical-align: middle;\n",
       "    }\n",
       "\n",
       "    .dataframe tbody tr th {\n",
       "        vertical-align: top;\n",
       "    }\n",
       "\n",
       "    .dataframe thead th {\n",
       "        text-align: right;\n",
       "    }\n",
       "</style>\n",
       "<table border=\"1\" class=\"dataframe\">\n",
       "  <thead>\n",
       "    <tr style=\"text-align: right;\">\n",
       "      <th></th>\n",
       "      <th>id</th>\n",
       "      <th>age</th>\n",
       "      <th>wgt</th>\n",
       "      <th>oxygen</th>\n",
       "      <th>runtime</th>\n",
       "      <th>rstpulse</th>\n",
       "      <th>runpulse</th>\n",
       "      <th>maxpulse</th>\n",
       "    </tr>\n",
       "  </thead>\n",
       "  <tbody>\n",
       "    <tr>\n",
       "      <th>0</th>\n",
       "      <td>1.0</td>\n",
       "      <td>44.0</td>\n",
       "      <td>89.47</td>\n",
       "      <td>44.61</td>\n",
       "      <td>11.37</td>\n",
       "      <td>62.0</td>\n",
       "      <td>178.0</td>\n",
       "      <td>182.0</td>\n",
       "    </tr>\n",
       "    <tr>\n",
       "      <th>1</th>\n",
       "      <td>2.0</td>\n",
       "      <td>40.0</td>\n",
       "      <td>75.07</td>\n",
       "      <td>45.31</td>\n",
       "      <td>10.07</td>\n",
       "      <td>62.0</td>\n",
       "      <td>185.0</td>\n",
       "      <td>185.0</td>\n",
       "    </tr>\n",
       "    <tr>\n",
       "      <th>2</th>\n",
       "      <td>3.0</td>\n",
       "      <td>44.0</td>\n",
       "      <td>85.84</td>\n",
       "      <td>54.30</td>\n",
       "      <td>8.65</td>\n",
       "      <td>45.0</td>\n",
       "      <td>156.0</td>\n",
       "      <td>168.0</td>\n",
       "    </tr>\n",
       "    <tr>\n",
       "      <th>3</th>\n",
       "      <td>4.0</td>\n",
       "      <td>42.0</td>\n",
       "      <td>68.15</td>\n",
       "      <td>59.57</td>\n",
       "      <td>8.17</td>\n",
       "      <td>40.0</td>\n",
       "      <td>166.0</td>\n",
       "      <td>172.0</td>\n",
       "    </tr>\n",
       "    <tr>\n",
       "      <th>4</th>\n",
       "      <td>5.0</td>\n",
       "      <td>38.0</td>\n",
       "      <td>89.02</td>\n",
       "      <td>49.87</td>\n",
       "      <td>9.22</td>\n",
       "      <td>55.0</td>\n",
       "      <td>178.0</td>\n",
       "      <td>180.0</td>\n",
       "    </tr>\n",
       "  </tbody>\n",
       "</table>\n",
       "</div>"
      ],
      "text/plain": [
       "    id   age    wgt  oxygen  runtime  rstpulse  runpulse  maxpulse\n",
       "0  1.0  44.0  89.47   44.61    11.37      62.0     178.0     182.0\n",
       "1  2.0  40.0  75.07   45.31    10.07      62.0     185.0     185.0\n",
       "2  3.0  44.0  85.84   54.30     8.65      45.0     156.0     168.0\n",
       "3  4.0  42.0  68.15   59.57     8.17      40.0     166.0     172.0\n",
       "4  5.0  38.0  89.02   49.87     9.22      55.0     178.0     180.0"
      ]
     },
     "execution_count": 2,
     "metadata": {},
     "output_type": "execute_result"
    }
   ],
   "source": [
    "import pandas as pd \n",
    "import numpy as np\n",
    "import savReaderWriter as spss \n",
    "import matplotlib.pyplot as plt\n",
    "with spss.SavReaderNp(\"C:/Users/tmznq/workspace/ml_scratch/dataset/seoulcoding/MLRA.sav\") as reader: \n",
    "    records = reader.all() \n",
    "    df = pd.DataFrame(records)\n",
    "\n",
    "df.head()"
   ]
  },
  {
   "cell_type": "code",
   "execution_count": 3,
   "metadata": {},
   "outputs": [],
   "source": [
    "from sklearn.neighbors import KNeighborsRegressor\n",
    "from sklearn.model_selection import train_test_split\n",
    "from sklearn.preprocessing import scale, robust_scale, minmax_scale, maxabs_scale\n",
    "from sklearn.preprocessing import normalize"
   ]
  },
  {
   "cell_type": "markdown",
   "metadata": {},
   "source": [
    "## 2장 실습 1\n",
    "MLRA.sav는 SPSS 데이터셋이다. 이 데이터셋을 이용하여 다중선형회귀를 구현한다.\n",
    "- 설명변수: age, weight, runtime(1.5마일 달릴 때 걸리는 시간), rstpulse(휴식시 평균 맥박수), runpulse(달릴 때의 평균 맥박수), maxpulse(달릴 때의 최대 맥박 수)\n",
    "- 종속변수: oxygen(산소 흡수율)"
   ]
  },
  {
   "cell_type": "code",
   "execution_count": 4,
   "metadata": {},
   "outputs": [
    {
     "data": {
      "text/html": [
       "<div>\n",
       "<style scoped>\n",
       "    .dataframe tbody tr th:only-of-type {\n",
       "        vertical-align: middle;\n",
       "    }\n",
       "\n",
       "    .dataframe tbody tr th {\n",
       "        vertical-align: top;\n",
       "    }\n",
       "\n",
       "    .dataframe thead th {\n",
       "        text-align: right;\n",
       "    }\n",
       "</style>\n",
       "<table border=\"1\" class=\"dataframe\">\n",
       "  <thead>\n",
       "    <tr style=\"text-align: right;\">\n",
       "      <th></th>\n",
       "      <th>id</th>\n",
       "      <th>age</th>\n",
       "      <th>wgt</th>\n",
       "      <th>oxygen</th>\n",
       "      <th>runtime</th>\n",
       "      <th>rstpulse</th>\n",
       "      <th>runpulse</th>\n",
       "      <th>maxpulse</th>\n",
       "    </tr>\n",
       "  </thead>\n",
       "  <tbody>\n",
       "    <tr>\n",
       "      <th>0</th>\n",
       "      <td>1.0</td>\n",
       "      <td>44.0</td>\n",
       "      <td>89.47</td>\n",
       "      <td>44.61</td>\n",
       "      <td>11.37</td>\n",
       "      <td>62.0</td>\n",
       "      <td>178.0</td>\n",
       "      <td>182.0</td>\n",
       "    </tr>\n",
       "    <tr>\n",
       "      <th>1</th>\n",
       "      <td>2.0</td>\n",
       "      <td>40.0</td>\n",
       "      <td>75.07</td>\n",
       "      <td>45.31</td>\n",
       "      <td>10.07</td>\n",
       "      <td>62.0</td>\n",
       "      <td>185.0</td>\n",
       "      <td>185.0</td>\n",
       "    </tr>\n",
       "    <tr>\n",
       "      <th>2</th>\n",
       "      <td>3.0</td>\n",
       "      <td>44.0</td>\n",
       "      <td>85.84</td>\n",
       "      <td>54.30</td>\n",
       "      <td>8.65</td>\n",
       "      <td>45.0</td>\n",
       "      <td>156.0</td>\n",
       "      <td>168.0</td>\n",
       "    </tr>\n",
       "    <tr>\n",
       "      <th>3</th>\n",
       "      <td>4.0</td>\n",
       "      <td>42.0</td>\n",
       "      <td>68.15</td>\n",
       "      <td>59.57</td>\n",
       "      <td>8.17</td>\n",
       "      <td>40.0</td>\n",
       "      <td>166.0</td>\n",
       "      <td>172.0</td>\n",
       "    </tr>\n",
       "    <tr>\n",
       "      <th>4</th>\n",
       "      <td>5.0</td>\n",
       "      <td>38.0</td>\n",
       "      <td>89.02</td>\n",
       "      <td>49.87</td>\n",
       "      <td>9.22</td>\n",
       "      <td>55.0</td>\n",
       "      <td>178.0</td>\n",
       "      <td>180.0</td>\n",
       "    </tr>\n",
       "  </tbody>\n",
       "</table>\n",
       "</div>"
      ],
      "text/plain": [
       "    id   age    wgt  oxygen  runtime  rstpulse  runpulse  maxpulse\n",
       "0  1.0  44.0  89.47   44.61    11.37      62.0     178.0     182.0\n",
       "1  2.0  40.0  75.07   45.31    10.07      62.0     185.0     185.0\n",
       "2  3.0  44.0  85.84   54.30     8.65      45.0     156.0     168.0\n",
       "3  4.0  42.0  68.15   59.57     8.17      40.0     166.0     172.0\n",
       "4  5.0  38.0  89.02   49.87     9.22      55.0     178.0     180.0"
      ]
     },
     "execution_count": 4,
     "metadata": {},
     "output_type": "execute_result"
    }
   ],
   "source": [
    "df.head()"
   ]
  },
  {
   "cell_type": "code",
   "execution_count": 5,
   "metadata": {},
   "outputs": [],
   "source": [
    "# 1. Z-score standarize"
   ]
  },
  {
   "cell_type": "code",
   "execution_count": 6,
   "metadata": {
    "scrolled": false
   },
   "outputs": [
    {
     "data": {
      "text/html": [
       "<div>\n",
       "<style scoped>\n",
       "    .dataframe tbody tr th:only-of-type {\n",
       "        vertical-align: middle;\n",
       "    }\n",
       "\n",
       "    .dataframe tbody tr th {\n",
       "        vertical-align: top;\n",
       "    }\n",
       "\n",
       "    .dataframe thead th {\n",
       "        text-align: right;\n",
       "    }\n",
       "</style>\n",
       "<table border=\"1\" class=\"dataframe\">\n",
       "  <thead>\n",
       "    <tr style=\"text-align: right;\">\n",
       "      <th></th>\n",
       "      <th>id</th>\n",
       "      <th>age</th>\n",
       "      <th>wgt</th>\n",
       "      <th>oxygen</th>\n",
       "      <th>runtime</th>\n",
       "      <th>rstpulse</th>\n",
       "      <th>runpulse</th>\n",
       "      <th>maxpulse</th>\n",
       "    </tr>\n",
       "  </thead>\n",
       "  <tbody>\n",
       "    <tr>\n",
       "      <th>0</th>\n",
       "      <td>1.0</td>\n",
       "      <td>-0.717308</td>\n",
       "      <td>1.467751</td>\n",
       "      <td>44.61</td>\n",
       "      <td>0.574255</td>\n",
       "      <td>1.140463</td>\n",
       "      <td>0.828419</td>\n",
       "      <td>0.912450</td>\n",
       "    </tr>\n",
       "    <tr>\n",
       "      <th>1</th>\n",
       "      <td>2.0</td>\n",
       "      <td>-1.497537</td>\n",
       "      <td>-0.289818</td>\n",
       "      <td>45.31</td>\n",
       "      <td>-0.378502</td>\n",
       "      <td>1.140463</td>\n",
       "      <td>1.522501</td>\n",
       "      <td>1.245226</td>\n",
       "    </tr>\n",
       "    <tr>\n",
       "      <th>2</th>\n",
       "      <td>3.0</td>\n",
       "      <td>-0.717308</td>\n",
       "      <td>1.024697</td>\n",
       "      <td>54.30</td>\n",
       "      <td>-1.419207</td>\n",
       "      <td>-1.127552</td>\n",
       "      <td>-1.352978</td>\n",
       "      <td>-0.640504</td>\n",
       "    </tr>\n",
       "    <tr>\n",
       "      <th>3</th>\n",
       "      <td>4.0</td>\n",
       "      <td>-1.107422</td>\n",
       "      <td>-1.134427</td>\n",
       "      <td>59.57</td>\n",
       "      <td>-1.770994</td>\n",
       "      <td>-1.794615</td>\n",
       "      <td>-0.361434</td>\n",
       "      <td>-0.196803</td>\n",
       "    </tr>\n",
       "    <tr>\n",
       "      <th>4</th>\n",
       "      <td>5.0</td>\n",
       "      <td>-1.887651</td>\n",
       "      <td>1.412827</td>\n",
       "      <td>49.87</td>\n",
       "      <td>-1.001459</td>\n",
       "      <td>0.206574</td>\n",
       "      <td>0.828419</td>\n",
       "      <td>0.690599</td>\n",
       "    </tr>\n",
       "  </tbody>\n",
       "</table>\n",
       "</div>"
      ],
      "text/plain": [
       "    id       age       wgt  oxygen   runtime  rstpulse  runpulse  maxpulse\n",
       "0  1.0 -0.717308  1.467751   44.61  0.574255  1.140463  0.828419  0.912450\n",
       "1  2.0 -1.497537 -0.289818   45.31 -0.378502  1.140463  1.522501  1.245226\n",
       "2  3.0 -0.717308  1.024697   54.30 -1.419207 -1.127552 -1.352978 -0.640504\n",
       "3  4.0 -1.107422 -1.134427   59.57 -1.770994 -1.794615 -0.361434 -0.196803\n",
       "4  5.0 -1.887651  1.412827   49.87 -1.001459  0.206574  0.828419  0.690599"
      ]
     },
     "execution_count": 6,
     "metadata": {},
     "output_type": "execute_result"
    }
   ],
   "source": [
    "X_scale = scale(df[['age', 'wgt', 'runtime', 'rstpulse', 'runpulse', 'maxpulse']])\n",
    "df[['age', 'wgt', 'runtime', 'rstpulse', 'runpulse', 'maxpulse']] = X_scale\n",
    "df.head()"
   ]
  },
  {
   "cell_type": "markdown",
   "metadata": {},
   "source": [
    "- 각각의 column의 평균이 0, 분산을 1로 고정"
   ]
  },
  {
   "cell_type": "code",
   "execution_count": 7,
   "metadata": {},
   "outputs": [],
   "source": [
    "# 정규화\n",
    "# 값이 0과 1사이 일 때\n",
    "# X_normalize = normalize(df[['age', 'wgt', 'runtime', 'rstpulse', 'runpulse', 'maxpulse']])\n",
    "# df[['age', 'wgt', 'runtime', 'rstpulse', 'runpulse', 'maxpulse']] = X_normalize\n",
    "# df"
   ]
  },
  {
   "cell_type": "code",
   "execution_count": 8,
   "metadata": {},
   "outputs": [],
   "source": [
    "# 2. 데이터 구분"
   ]
  },
  {
   "cell_type": "code",
   "execution_count": 9,
   "metadata": {},
   "outputs": [],
   "source": [
    "X_train, X_test, y_train, y_test = train_test_split(df.drop(labels=['id', 'oxygen'], axis = 1), df.oxygen, random_state=0)"
   ]
  },
  {
   "cell_type": "code",
   "execution_count": 10,
   "metadata": {},
   "outputs": [],
   "source": [
    "# 3. KNNregression"
   ]
  },
  {
   "cell_type": "code",
   "execution_count": 11,
   "metadata": {},
   "outputs": [
    {
     "data": {
      "text/plain": [
       "KNeighborsRegressor(algorithm='auto', leaf_size=30, metric='minkowski',\n",
       "          metric_params=None, n_jobs=None, n_neighbors=10, p=2,\n",
       "          weights='uniform')"
      ]
     },
     "execution_count": 11,
     "metadata": {},
     "output_type": "execute_result"
    }
   ],
   "source": [
    "# n_neighbors = 3\n",
    "reg = KNeighborsRegressor(n_neighbors=10)\n",
    "# 훈련 데이터와 타깃을 사용하여 모델을 학습시킵니다\n",
    "reg.fit(X_train, y_train)"
   ]
  },
  {
   "cell_type": "code",
   "execution_count": 12,
   "metadata": {
    "scrolled": true
   },
   "outputs": [
    {
     "data": {
      "text/plain": [
       "0.5211112068032053"
      ]
     },
     "execution_count": 12,
     "metadata": {},
     "output_type": "execute_result"
    }
   ],
   "source": [
    "reg.score(X_test, y_test)"
   ]
  },
  {
   "cell_type": "code",
   "execution_count": 15,
   "metadata": {},
   "outputs": [
    {
     "data": {
      "text/plain": [
       "<matplotlib.legend.Legend at 0x26a5178f630>"
      ]
     },
     "execution_count": 15,
     "metadata": {},
     "output_type": "execute_result"
    },
    {
     "data": {
      "image/png": "[encoded data removed]",
      "text/plain": [
       "<Figure size 432x288 with 1 Axes>"
      ]
     },
     "metadata": {
      "needs_background": "light"
     },
     "output_type": "display_data"
    }
   ],
   "source": [
    "training_accuracy = []\n",
    "test_accuracy = []\n",
    "# 1 에서 10 까지 n_neighbors 를 적용\n",
    "neighbors_settings = range(1, 24)\n",
    "\n",
    "for n_neighbors in neighbors_settings:\n",
    "    # 모델 생성\n",
    "    reg = KNeighborsRegressor(n_neighbors=n_neighbors)\n",
    "    reg.fit(X_train, y_train)\n",
    "    # 훈련 세트 정확도 저장\n",
    "    training_accuracy.append(reg.score(X_train, y_train))\n",
    "    # 일반화 정확도 저장\n",
    "    test_accuracy.append(reg.score(X_test, y_test))\n",
    "    \n",
    "plt.plot(neighbors_settings, training_accuracy, label=\"train accuracy\")\n",
    "plt.plot(neighbors_settings, test_accuracy, label=\"test accuracy\")\n",
    "plt.ylabel(\"accuracy\")\n",
    "plt.xlabel(\"n_neighbors\")\n",
    "plt.legend()"
   ]
  },
  {
   "cell_type": "markdown",
   "metadata": {},
   "source": [
    "___"
   ]
  },
  {
   "cell_type": "code",
   "execution_count": 13,
   "metadata": {},
   "outputs": [],
   "source": [
    "# 임의의 데이터 실습 (scale 안 된 것.)"
   ]
  },
  {
   "cell_type": "code",
   "execution_count": 14,
   "metadata": {},
   "outputs": [
    {
     "data": {
      "text/plain": [
       "array([45.275])"
      ]
     },
     "execution_count": 14,
     "metadata": {},
     "output_type": "execute_result"
    }
   ],
   "source": [
    "# scale 안 된 데이터는 올바르게 동작하지 않는다.\n",
    "# 따라서 새로운 데이터도 scale을 거친 후에 모델에 넣어줘야 제대로 작동한다.\n",
    "X_new3 = np.array([[44.0, 85.84, 8.65, 45.0, 156.0, 168.0]])\n",
    "reg.predict(X_new3)"
   ]
  },
  {
   "cell_type": "code",
   "execution_count": 15,
   "metadata": {
    "scrolled": true
   },
   "outputs": [
    {
     "data": {
      "text/plain": [
       "(1, 6)"
      ]
     },
     "execution_count": 15,
     "metadata": {},
     "output_type": "execute_result"
    }
   ],
   "source": [
    "X_new2 = np.array([[-0.717308, 1.024697, -1.419207, -1.127552, -1.352978, -0.640504]])\n",
    "X_new2.shape"
   ]
  },
  {
   "cell_type": "code",
   "execution_count": 16,
   "metadata": {
    "scrolled": false
   },
   "outputs": [
    {
     "data": {
      "text/plain": [
       "array([51.515])"
      ]
     },
     "execution_count": 16,
     "metadata": {},
     "output_type": "execute_result"
    }
   ],
   "source": [
    "reg.predict(X_new2)"
   ]
  },
  {
   "cell_type": "code",
   "execution_count": 17,
   "metadata": {},
   "outputs": [
    {
     "data": {
      "text/html": [
       "<div>\n",
       "<style scoped>\n",
       "    .dataframe tbody tr th:only-of-type {\n",
       "        vertical-align: middle;\n",
       "    }\n",
       "\n",
       "    .dataframe tbody tr th {\n",
       "        vertical-align: top;\n",
       "    }\n",
       "\n",
       "    .dataframe thead th {\n",
       "        text-align: right;\n",
       "    }\n",
       "</style>\n",
       "<table border=\"1\" class=\"dataframe\">\n",
       "  <thead>\n",
       "    <tr style=\"text-align: right;\">\n",
       "      <th></th>\n",
       "      <th>age</th>\n",
       "      <th>wgt</th>\n",
       "      <th>runtime</th>\n",
       "      <th>rstpulse</th>\n",
       "      <th>runpulse</th>\n",
       "      <th>maxpulse</th>\n",
       "    </tr>\n",
       "  </thead>\n",
       "  <tbody>\n",
       "    <tr>\n",
       "      <th>2</th>\n",
       "      <td>-0.717308</td>\n",
       "      <td>1.024697</td>\n",
       "      <td>-1.419207</td>\n",
       "      <td>-1.127552</td>\n",
       "      <td>-1.352978</td>\n",
       "      <td>-0.640504</td>\n",
       "    </tr>\n",
       "    <tr>\n",
       "      <th>29</th>\n",
       "      <td>0.062922</td>\n",
       "      <td>-1.977816</td>\n",
       "      <td>0.669531</td>\n",
       "      <td>-0.193664</td>\n",
       "      <td>0.035184</td>\n",
       "      <td>0.246898</td>\n",
       "    </tr>\n",
       "    <tr>\n",
       "      <th>13</th>\n",
       "      <td>-0.132136</td>\n",
       "      <td>0.208160</td>\n",
       "      <td>0.009929</td>\n",
       "      <td>-0.860727</td>\n",
       "      <td>-0.758052</td>\n",
       "      <td>-1.084205</td>\n",
       "    </tr>\n",
       "    <tr>\n",
       "      <th>10</th>\n",
       "      <td>-0.717308</td>\n",
       "      <td>-0.538807</td>\n",
       "      <td>-0.334529</td>\n",
       "      <td>-1.127552</td>\n",
       "      <td>-0.163125</td>\n",
       "      <td>-0.640504</td>\n",
       "    </tr>\n",
       "    <tr>\n",
       "      <th>27</th>\n",
       "      <td>1.818437</td>\n",
       "      <td>-2.241452</td>\n",
       "      <td>-0.481107</td>\n",
       "      <td>-0.593901</td>\n",
       "      <td>-2.146214</td>\n",
       "      <td>-2.082533</td>\n",
       "    </tr>\n",
       "  </tbody>\n",
       "</table>\n",
       "</div>"
      ],
      "text/plain": [
       "         age       wgt   runtime  rstpulse  runpulse  maxpulse\n",
       "2  -0.717308  1.024697 -1.419207 -1.127552 -1.352978 -0.640504\n",
       "29  0.062922 -1.977816  0.669531 -0.193664  0.035184  0.246898\n",
       "13 -0.132136  0.208160  0.009929 -0.860727 -0.758052 -1.084205\n",
       "10 -0.717308 -0.538807 -0.334529 -1.127552 -0.163125 -0.640504\n",
       "27  1.818437 -2.241452 -0.481107 -0.593901 -2.146214 -2.082533"
      ]
     },
     "execution_count": 17,
     "metadata": {},
     "output_type": "execute_result"
    }
   ],
   "source": [
    "X_test.head()"
   ]
  },
  {
   "cell_type": "code",
   "execution_count": 18,
   "metadata": {},
   "outputs": [],
   "source": [
    "# 데이터 뽑아서 실습 (scale 된 것.)"
   ]
  },
  {
   "cell_type": "code",
   "execution_count": 19,
   "metadata": {
    "scrolled": true
   },
   "outputs": [
    {
     "name": "stdout",
     "output_type": "stream",
     "text": [
      "age        -0.717308\n",
      "wgt         1.024697\n",
      "runtime    -1.419207\n",
      "rstpulse   -1.127552\n",
      "runpulse   -1.352978\n",
      "maxpulse   -0.640504\n",
      "Name: 2, dtype: float64\n",
      "age        -0.717308\n",
      "wgt         1.024697\n",
      "runtime    -1.419207\n",
      "rstpulse   -1.127552\n",
      "runpulse   -1.352978\n",
      "maxpulse   -0.640504\n",
      "Name: 2, dtype: float64\n"
     ]
    }
   ],
   "source": [
    "print(X_test.loc[2])\n",
    "print(X_test.iloc[0])"
   ]
  },
  {
   "cell_type": "code",
   "execution_count": 20,
   "metadata": {},
   "outputs": [
    {
     "data": {
      "text/plain": [
       "(1, 6)"
      ]
     },
     "execution_count": 20,
     "metadata": {},
     "output_type": "execute_result"
    }
   ],
   "source": [
    "np.array(X_test.loc[2]).reshape(1, -1).shape"
   ]
  },
  {
   "cell_type": "code",
   "execution_count": 21,
   "metadata": {
    "scrolled": true
   },
   "outputs": [
    {
     "data": {
      "text/plain": [
       "array([51.515])"
      ]
     },
     "execution_count": 21,
     "metadata": {},
     "output_type": "execute_result"
    }
   ],
   "source": [
    "X_new = np.array(X_test.iloc[0]).reshape(1, -1)\n",
    "reg.predict(X_new)"
   ]
  },
  {
   "cell_type": "markdown",
   "metadata": {},
   "source": [
    "### 교수님 sol)\n",
    "- 0. 정규화 없이 돌리니 성능이 좋지 않았다.\n",
    "- 1. 정규화 실시\n",
    "    - apply에 적용할 함수를 만들어보자."
   ]
  },
  {
   "cell_type": "code",
   "execution_count": 28,
   "metadata": {},
   "outputs": [
    {
     "data": {
      "text/html": [
       "<div>\n",
       "<style scoped>\n",
       "    .dataframe tbody tr th:only-of-type {\n",
       "        vertical-align: middle;\n",
       "    }\n",
       "\n",
       "    .dataframe tbody tr th {\n",
       "        vertical-align: top;\n",
       "    }\n",
       "\n",
       "    .dataframe thead th {\n",
       "        text-align: right;\n",
       "    }\n",
       "</style>\n",
       "<table border=\"1\" class=\"dataframe\">\n",
       "  <thead>\n",
       "    <tr style=\"text-align: right;\">\n",
       "      <th></th>\n",
       "      <th>age</th>\n",
       "      <th>wgt</th>\n",
       "      <th>runtime</th>\n",
       "      <th>rstpulse</th>\n",
       "      <th>runpulse</th>\n",
       "      <th>maxpulse</th>\n",
       "    </tr>\n",
       "  </thead>\n",
       "  <tbody>\n",
       "    <tr>\n",
       "      <th>min</th>\n",
       "      <td>-1.887651</td>\n",
       "      <td>-1.341918</td>\n",
       "      <td>-1.770994</td>\n",
       "      <td>-1.794615</td>\n",
       "      <td>-2.344523</td>\n",
       "      <td>-2.082533</td>\n",
       "    </tr>\n",
       "    <tr>\n",
       "      <th>max</th>\n",
       "      <td>1.818437</td>\n",
       "      <td>1.731387</td>\n",
       "      <td>1.827498</td>\n",
       "      <td>2.207764</td>\n",
       "      <td>1.621655</td>\n",
       "      <td>1.578002</td>\n",
       "    </tr>\n",
       "  </tbody>\n",
       "</table>\n",
       "</div>"
      ],
      "text/plain": [
       "          age       wgt   runtime  rstpulse  runpulse  maxpulse\n",
       "min -1.887651 -1.341918 -1.770994 -1.794615 -2.344523 -2.082533\n",
       "max  1.818437  1.731387  1.827498  2.207764  1.621655  1.578002"
      ]
     },
     "execution_count": 28,
     "metadata": {},
     "output_type": "execute_result"
    }
   ],
   "source": [
    "X_trminmax = X_train.apply([min, max])\n",
    "X_trminmax"
   ]
  },
  {
   "cell_type": "code",
   "execution_count": null,
   "metadata": {},
   "outputs": [],
   "source": [
    "for col in X_train:\n",
    "    '적용할 내용'"
   ]
  }
 ],
 "metadata": {
  "kernelspec": {
   "display_name": "Python 3",
   "language": "python",
   "name": "python3"
  },
  "language_info": {
   "codemirror_mode": {
    "name": "ipython",
    "version": 3
   },
   "file_extension": ".py",
   "mimetype": "text/x-python",
   "name": "python",
   "nbconvert_exporter": "python",
   "pygments_lexer": "ipython3",
   "version": "3.7.2"
  }
 },
 "nbformat": 4,
 "nbformat_minor": 2
}
