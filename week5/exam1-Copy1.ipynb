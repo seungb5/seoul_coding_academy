{
 "cells": [
  {
   "cell_type": "markdown",
   "metadata": {},
   "source": [
    "# 시험문제"
   ]
  },
  {
   "cell_type": "code",
   "execution_count": 1,
   "metadata": {},
   "outputs": [
    {
     "name": "stdout",
     "output_type": "stream",
     "text": [
      "저는 권오성입니다.\n"
     ]
    }
   ],
   "source": [
    "# 본인의 성함을 출력하세요. 예:\n",
    "print(\"저는 %s입니다.\" % \"권오성\")\n",
    "print(\"저의 점수는 %d입니다.\" % )"
   ]
  },
  {
   "cell_type": "code",
   "execution_count": 90,
   "metadata": {},
   "outputs": [],
   "source": [
    "from __future__ import division\n",
    "from numpy.random import randn\n",
    "import numpy as np\n",
    "import os\n",
    "import matplotlib.pyplot as plt\n",
    "np.random.seed(12345)\n",
    "plt.rc('figure', figsize=(10, 6))\n",
    "from pandas import Series, DataFrame\n",
    "import pandas as pd\n",
    "np.set_printoptions(precision=4)"
   ]
  },
  {
   "cell_type": "markdown",
   "metadata": {},
   "source": [
    "### 문제 1. 구구단 출력함수 작성하기\n",
    "아래와 같이 구구단을 출력하는 코드가 있다."
   ]
  },
  {
   "cell_type": "code",
   "execution_count": null,
   "metadata": {},
   "outputs": [],
   "source": [
    "# 구구단 출력 함수\n",
    "# f99 함수 만들기\n",
    "# f99(3) : 3단 호출\n",
    "# f99([3,5]) : 3,5단 호출"
   ]
  },
  {
   "cell_type": "code",
   "execution_count": 3,
   "metadata": {},
   "outputs": [
    {
     "name": "stdout",
     "output_type": "stream",
     "text": [
      "[[1, 2, 3, 4, 5, 6, 7, 8, 9], [2, 4, 6, 8, 10, 12, 14, 16, 18], [3, 6, 9, 12, 15, 18, 21, 24, 27], [4, 8, 12, 16, 20, 24, 28, 32, 36], [5, 10, 15, 20, 25, 30, 35, 40, 45], [6, 12, 18, 24, 30, 36, 42, 48, 54], [7, 14, 21, 28, 35, 42, 49, 56, 63], [8, 16, 24, 32, 40, 48, 56, 64, 72], [9, 18, 27, 36, 45, 54, 63, 72, 81]]\n"
     ]
    }
   ],
   "source": [
    "list99 = []\n",
    "for j in range(1, 10):\n",
    "    l = []\n",
    "    for i in range(1, 10):\n",
    "        l.append(i*j)\n",
    "    list99.append(l)\n",
    "print(list99)"
   ]
  },
  {
   "cell_type": "markdown",
   "metadata": {},
   "source": [
    "이를 참고하여, 다음과 같은 결과를 프린트하는 함수 f99를 작성하라.\n",
    "```\n",
    "f99(3)\n",
    "[3, 6, 9, ..., 27]\n",
    "\n",
    "f99([4, 7])\n",
    "[4, 8, 12, ..., 36]\n",
    "[7, 14, 31, ..., 63]\n",
    "\n",
    "f99(21)\n",
    "0보다 크고 10보다 작은 값을 입력하세요.\n",
    "\n",
    "f99([10, 7])\n",
    "0보다 크고 10보다 작은 값을 입력하세요.\n",
    "[7, 14, 31, ..., 63]\n",
    "```\n",
    "\n",
    "아래 코드를 참고하여 :"
   ]
  },
  {
   "cell_type": "code",
   "execution_count": 13,
   "metadata": {},
   "outputs": [
    {
     "name": "stdout",
     "output_type": "stream",
     "text": [
      "[5, 10, 15, 20, 25, 30, 35, 40, 45]\n",
      "None\n"
     ]
    }
   ],
   "source": [
    "z = 5\n",
    "y = [3, 4]\n",
    "x = y\n",
    "from collections.abc import Iterable # Iterable 검사.\n",
    "if isinstance(z, Iterable):\n",
    "    for i in z:\n",
    "        print(print99(i))\n",
    "else:\n",
    "    print(print99(z))"
   ]
  },
  {
   "cell_type": "markdown",
   "metadata": {},
   "source": [
    "1. 2단, 7단 등을 출력하는 print99 함수를 만들고,\n",
    "2. 예외처리를 하고, print99를 이용하여 최종처리를 하는 f99를 완성하세요."
   ]
  },
  {
   "cell_type": "code",
   "execution_count": null,
   "metadata": {},
   "outputs": [],
   "source": [
    "# x 넣으면 구구단 나옴\n",
    "def print99(x):\n",
    "    xlist = []\n",
    "    # 아래 사항을 완성하세요.\n",
    "    for i in range():\n",
    "        \n",
    "    print(xlist)"
   ]
  },
  {
   "cell_type": "code",
   "execution_count": 7,
   "metadata": {},
   "outputs": [],
   "source": [
    "def print99(x):\n",
    "    xlist = []\n",
    "    # 아래 사항을 완성하세요.\n",
    "    for i in range(1,10):\n",
    "        xlist.append(x*i)\n",
    "    print(xlist)"
   ]
  },
  {
   "cell_type": "code",
   "execution_count": 8,
   "metadata": {},
   "outputs": [
    {
     "name": "stdout",
     "output_type": "stream",
     "text": [
      "[2, 4, 6, 8, 10, 12, 14, 16, 18]\n"
     ]
    }
   ],
   "source": [
    "print99(2)"
   ]
  },
  {
   "cell_type": "code",
   "execution_count": 9,
   "metadata": {},
   "outputs": [
    {
     "name": "stdout",
     "output_type": "stream",
     "text": [
      "[7, 14, 21, 28, 35, 42, 49, 56, 63]\n"
     ]
    }
   ],
   "source": [
    "print99(7)"
   ]
  },
  {
   "cell_type": "code",
   "execution_count": null,
   "metadata": {},
   "outputs": [],
   "source": [
    "# x 넣으면 구구단 나옴\n",
    "def print99(x):\n",
    "    xlist = []\n",
    "    # 아래 사항을 완성하세요.\n",
    "    for i in range():\n",
    "        pass\n",
    "    print(xlist)"
   ]
  },
  {
   "cell_type": "code",
   "execution_count": null,
   "metadata": {},
   "outputs": [],
   "source": [
    "z = 5\n",
    "y = [3, 4]\n",
    "x = y\n",
    "from collections.abc import Iterable # Iterable 검사.\n",
    "if isinstance(z, Iterable):\n",
    "    for i in z:\n",
    "        print(i)\n",
    "else:\n",
    "    print(z)"
   ]
  },
  {
   "cell_type": "code",
   "execution_count": 16,
   "metadata": {},
   "outputs": [],
   "source": [
    "def f99(x):\n",
    "    errorstring = \"0보다 크고 10보다 작은 값을 입력하세요.\"\n",
    "    # 아래 사항을 완성하세요.\n",
    "    from collections.abc import Iterable # Iterable 검사.\n",
    "    if isinstance(x, Iterable):\n",
    "        for i in x:\n",
    "            if 0<i<10:\n",
    "                print99(i)\n",
    "            else:\n",
    "                print(errorstring)\n",
    "    else:\n",
    "        if 0<x<10:\n",
    "            print99(x)\n",
    "        else:\n",
    "            print(errorstring)    "
   ]
  },
  {
   "cell_type": "code",
   "execution_count": 17,
   "metadata": {},
   "outputs": [
    {
     "name": "stdout",
     "output_type": "stream",
     "text": [
      "[3, 6, 9, 12, 15, 18, 21, 24, 27]\n"
     ]
    }
   ],
   "source": [
    "f99(3)"
   ]
  },
  {
   "cell_type": "code",
   "execution_count": 18,
   "metadata": {},
   "outputs": [
    {
     "name": "stdout",
     "output_type": "stream",
     "text": [
      "[4, 8, 12, 16, 20, 24, 28, 32, 36]\n",
      "[7, 14, 21, 28, 35, 42, 49, 56, 63]\n"
     ]
    }
   ],
   "source": [
    "f99([4, 7])"
   ]
  },
  {
   "cell_type": "code",
   "execution_count": 19,
   "metadata": {},
   "outputs": [
    {
     "name": "stdout",
     "output_type": "stream",
     "text": [
      "0보다 크고 10보다 작은 값을 입력하세요.\n"
     ]
    }
   ],
   "source": [
    "f99(21)"
   ]
  },
  {
   "cell_type": "code",
   "execution_count": 20,
   "metadata": {},
   "outputs": [
    {
     "name": "stdout",
     "output_type": "stream",
     "text": [
      "0보다 크고 10보다 작은 값을 입력하세요.\n",
      "[7, 14, 21, 28, 35, 42, 49, 56, 63]\n"
     ]
    }
   ],
   "source": [
    "f99([10, 7])"
   ]
  },
  {
   "cell_type": "markdown",
   "metadata": {},
   "source": [
    "### 문제2\n",
    "리스트 x와 값 v를 받아서 v의 배수가 되는 모든 리스트 x의 성분을 담은 리스트를 출력하는 factors 함수를 작성하라. 만약 없다면 -1을 리턴하라.\n",
    "\n",
    "#### '나누어서 0이 되면 배수'\n",
    "\n",
    "즉:\n",
    "```\n",
    "factors([4, 9, 21, 7], 3)\n",
    "[9, 21]\n",
    "\n",
    "factors([4, 9, 21, 7], 11)\n",
    "-1\n",
    "```\n",
    "\n",
    "우리가 작성한 seqsearchall 함수를 참고하라.\n",
    "```python\n",
    "def seqsearchall(l, target):\n",
    "    ret = []\n",
    "    isnot = 0\n",
    "    for i in range(len(l)):\n",
    "        if l[i] == target:\n",
    "            ret.append(i)\n",
    "            isnot = 1\n",
    "        elif l[i] > target:\n",
    "            if isnot == 1: return ret\n",
    "            else: return -1\n",
    "    return -1\n",
    "```"
   ]
  },
  {
   "cell_type": "code",
   "execution_count": 59,
   "metadata": {
    "scrolled": true
   },
   "outputs": [
    {
     "data": {
      "text/plain": [
       "[2]"
      ]
     },
     "execution_count": 59,
     "metadata": {},
     "output_type": "execute_result"
    }
   ],
   "source": [
    "l = [1, 2, 3, 4, 5]\n",
    "target = 3\n",
    "def seqsearchall(l, target):\n",
    "    ret = []\n",
    "    isnot = 0\n",
    "    for i in range(len(l)):\n",
    "        if l[i] == target:\n",
    "            ret.append(i)\n",
    "            isnot = 1\n",
    "        elif l[i] > target:\n",
    "            if isnot == 1: return ret\n",
    "            else: return -1\n",
    "    return -1\n",
    "\n",
    "seqsearchall(l, target)"
   ]
  },
  {
   "cell_type": "code",
   "execution_count": 57,
   "metadata": {},
   "outputs": [],
   "source": [
    "def factors(x, v):\n",
    "    ret = []\n",
    "    isnot = 0\n",
    "    for i in range(len(x)):\n",
    "        if x[i] % v == 0:\n",
    "            ret.append(x[i])\n",
    "            isnot = 1\n",
    "        elif x[i] % v != 0:\n",
    "            if isnot == 1: return ret\n",
    "            else: return -1\n",
    "    return -1"
   ]
  },
  {
   "cell_type": "code",
   "execution_count": null,
   "metadata": {},
   "outputs": [],
   "source": [
    "# 교수님 sol)\n",
    "def factors_sol(x, v):\n",
    "    ret = []\n",
    "    isnot = 0\n",
    "    for i in range(len(x)):\n",
    "        if x[i] % v == 0:\n",
    "            ret.append(x[i])\n",
    "            isnot = 1\n",
    "\n",
    "    if isnot == 1 : \n",
    "        return ret\n",
    "    return -1"
   ]
  },
  {
   "cell_type": "code",
   "execution_count": 58,
   "metadata": {},
   "outputs": [
    {
     "data": {
      "text/plain": [
       "-1"
      ]
     },
     "execution_count": 58,
     "metadata": {},
     "output_type": "execute_result"
    }
   ],
   "source": [
    "factors([4, 9, 21, 7], 3)"
   ]
  },
  {
   "cell_type": "code",
   "execution_count": 56,
   "metadata": {},
   "outputs": [
    {
     "data": {
      "text/plain": [
       "-1"
      ]
     },
     "execution_count": 56,
     "metadata": {},
     "output_type": "execute_result"
    }
   ],
   "source": [
    "factors([4, 9, 21, 7], 11)"
   ]
  },
  {
   "cell_type": "markdown",
   "metadata": {},
   "source": [
    "### 문제 3\n",
    "2장에서 movielens에서 우리는 여성이 높게 평가한 영화 상위 10개와 남성이 높게 평가한 영화 상위 10개를 찾아 내었다.\n",
    "\n",
    "우리는 여성이 높게 평가한 영화 100개와 남성이 높게 평가한 상위 100개에 대해, 공통되는 영화를 추출하여 아래와 같은 표를 출력하라.\n",
    "\n",
    "|title|F|M|All|Rank|\n",
    "|---|---|---|---|---|\n",
    "|...|Fscore|Mscore|All|1|\n",
    "|...|Fscore|Mscore|All|2|\n"
   ]
  },
  {
   "cell_type": "code",
   "execution_count": 60,
   "metadata": {},
   "outputs": [
    {
     "name": "stderr",
     "output_type": "stream",
     "text": [
      "C:\\Users\\tmznq\\Anaconda3\\envs\\ml_scratch\\lib\\site-packages\\ipykernel_launcher.py:14: ParserWarning: Falling back to the 'python' engine because the 'c' engine does not support regex separators (separators > 1 char and different from '\\s+' are interpreted as regex); you can avoid this warning by specifying engine='python'.\n",
      "  \n",
      "C:\\Users\\tmznq\\Anaconda3\\envs\\ml_scratch\\lib\\site-packages\\ipykernel_launcher.py:15: ParserWarning: Falling back to the 'python' engine because the 'c' engine does not support regex separators (separators > 1 char and different from '\\s+' are interpreted as regex); you can avoid this warning by specifying engine='python'.\n",
      "  from ipykernel import kernelapp as app\n",
      "C:\\Users\\tmznq\\Anaconda3\\envs\\ml_scratch\\lib\\site-packages\\ipykernel_launcher.py:16: ParserWarning: Falling back to the 'python' engine because the 'c' engine does not support regex separators (separators > 1 char and different from '\\s+' are interpreted as regex); you can avoid this warning by specifying engine='python'.\n",
      "  app.launch_new_instance()\n"
     ]
    }
   ],
   "source": [
    "import pandas as pd\n",
    "import os\n",
    "encoding = 'latin1'\n",
    "# encoding = \"utf-8\"\n",
    "\n",
    "upath = os.path.expanduser('C:/Users/tmznq/workspace/ml_scratch/seoul_coding_academy/pydata-book-1st-edition/ch02/movielens/users.dat')\n",
    "rpath = os.path.expanduser('C:/Users/tmznq/workspace/ml_scratch/seoul_coding_academy/pydata-book-1st-edition/ch02/movielens/ratings.dat')\n",
    "mpath = os.path.expanduser('C:/Users/tmznq/workspace/ml_scratch/seoul_coding_academy/pydata-book-1st-edition/ch02/movielens/movies.dat')\n",
    "\n",
    "unames = ['user_id', 'gender', 'age', 'occupation', 'zip']\n",
    "rnames = ['user_id', 'movie_id', 'rating', 'timestamp']\n",
    "mnames = ['movie_id', 'title', 'genres']\n",
    "\n",
    "users = pd.read_csv(upath, sep='::', header=None, names=unames, encoding=encoding)\n",
    "ratings = pd.read_csv(rpath, sep='::', header=None, names=rnames, encoding=encoding)\n",
    "movies = pd.read_csv(mpath, sep='::', header=None, names=mnames, encoding=encoding)"
   ]
  },
  {
   "cell_type": "code",
   "execution_count": 67,
   "metadata": {
    "scrolled": false
   },
   "outputs": [
    {
     "data": {
      "text/html": [
       "<div>\n",
       "<style scoped>\n",
       "    .dataframe tbody tr th:only-of-type {\n",
       "        vertical-align: middle;\n",
       "    }\n",
       "\n",
       "    .dataframe tbody tr th {\n",
       "        vertical-align: top;\n",
       "    }\n",
       "\n",
       "    .dataframe thead th {\n",
       "        text-align: right;\n",
       "    }\n",
       "</style>\n",
       "<table border=\"1\" class=\"dataframe\">\n",
       "  <thead>\n",
       "    <tr style=\"text-align: right;\">\n",
       "      <th></th>\n",
       "      <th>user_id</th>\n",
       "      <th>movie_id</th>\n",
       "      <th>rating</th>\n",
       "      <th>timestamp</th>\n",
       "      <th>gender</th>\n",
       "      <th>age</th>\n",
       "      <th>occupation</th>\n",
       "      <th>zip</th>\n",
       "      <th>title</th>\n",
       "      <th>genres</th>\n",
       "    </tr>\n",
       "  </thead>\n",
       "  <tbody>\n",
       "    <tr>\n",
       "      <th>0</th>\n",
       "      <td>1</td>\n",
       "      <td>1193</td>\n",
       "      <td>5</td>\n",
       "      <td>978300760</td>\n",
       "      <td>F</td>\n",
       "      <td>1</td>\n",
       "      <td>10</td>\n",
       "      <td>48067</td>\n",
       "      <td>One Flew Over the Cuckoo's Nest (1975)</td>\n",
       "      <td>Drama</td>\n",
       "    </tr>\n",
       "    <tr>\n",
       "      <th>1</th>\n",
       "      <td>2</td>\n",
       "      <td>1193</td>\n",
       "      <td>5</td>\n",
       "      <td>978298413</td>\n",
       "      <td>M</td>\n",
       "      <td>56</td>\n",
       "      <td>16</td>\n",
       "      <td>70072</td>\n",
       "      <td>One Flew Over the Cuckoo's Nest (1975)</td>\n",
       "      <td>Drama</td>\n",
       "    </tr>\n",
       "    <tr>\n",
       "      <th>2</th>\n",
       "      <td>12</td>\n",
       "      <td>1193</td>\n",
       "      <td>4</td>\n",
       "      <td>978220179</td>\n",
       "      <td>M</td>\n",
       "      <td>25</td>\n",
       "      <td>12</td>\n",
       "      <td>32793</td>\n",
       "      <td>One Flew Over the Cuckoo's Nest (1975)</td>\n",
       "      <td>Drama</td>\n",
       "    </tr>\n",
       "    <tr>\n",
       "      <th>3</th>\n",
       "      <td>15</td>\n",
       "      <td>1193</td>\n",
       "      <td>4</td>\n",
       "      <td>978199279</td>\n",
       "      <td>M</td>\n",
       "      <td>25</td>\n",
       "      <td>7</td>\n",
       "      <td>22903</td>\n",
       "      <td>One Flew Over the Cuckoo's Nest (1975)</td>\n",
       "      <td>Drama</td>\n",
       "    </tr>\n",
       "    <tr>\n",
       "      <th>4</th>\n",
       "      <td>17</td>\n",
       "      <td>1193</td>\n",
       "      <td>5</td>\n",
       "      <td>978158471</td>\n",
       "      <td>M</td>\n",
       "      <td>50</td>\n",
       "      <td>1</td>\n",
       "      <td>95350</td>\n",
       "      <td>One Flew Over the Cuckoo's Nest (1975)</td>\n",
       "      <td>Drama</td>\n",
       "    </tr>\n",
       "  </tbody>\n",
       "</table>\n",
       "</div>"
      ],
      "text/plain": [
       "   user_id  movie_id  rating  timestamp gender  age  occupation    zip  \\\n",
       "0        1      1193       5  978300760      F    1          10  48067   \n",
       "1        2      1193       5  978298413      M   56          16  70072   \n",
       "2       12      1193       4  978220179      M   25          12  32793   \n",
       "3       15      1193       4  978199279      M   25           7  22903   \n",
       "4       17      1193       5  978158471      M   50           1  95350   \n",
       "\n",
       "                                    title genres  \n",
       "0  One Flew Over the Cuckoo's Nest (1975)  Drama  \n",
       "1  One Flew Over the Cuckoo's Nest (1975)  Drama  \n",
       "2  One Flew Over the Cuckoo's Nest (1975)  Drama  \n",
       "3  One Flew Over the Cuckoo's Nest (1975)  Drama  \n",
       "4  One Flew Over the Cuckoo's Nest (1975)  Drama  "
      ]
     },
     "execution_count": 67,
     "metadata": {},
     "output_type": "execute_result"
    }
   ],
   "source": [
    "data = pd.merge(pd.merge(ratings, users), movies)\n",
    "data.head()"
   ]
  },
  {
   "cell_type": "code",
   "execution_count": 75,
   "metadata": {},
   "outputs": [],
   "source": [
    "mean_ratings = data.pivot_table('rating', index='title',\n",
    "                                columns='gender', aggfunc='mean')\n",
    "\n",
    "female = mean_ratings['F'].sort_values(ascending = False)[:100]\n",
    "male = mean_ratings['M'].sort_values(ascending = False)[:100]"
   ]
  },
  {
   "cell_type": "code",
   "execution_count": 79,
   "metadata": {},
   "outputs": [
    {
     "data": {
      "text/html": [
       "<div>\n",
       "<style scoped>\n",
       "    .dataframe tbody tr th:only-of-type {\n",
       "        vertical-align: middle;\n",
       "    }\n",
       "\n",
       "    .dataframe tbody tr th {\n",
       "        vertical-align: top;\n",
       "    }\n",
       "\n",
       "    .dataframe thead th {\n",
       "        text-align: right;\n",
       "    }\n",
       "</style>\n",
       "<table border=\"1\" class=\"dataframe\">\n",
       "  <thead>\n",
       "    <tr style=\"text-align: right;\">\n",
       "      <th></th>\n",
       "      <th>F</th>\n",
       "      <th>M</th>\n",
       "    </tr>\n",
       "    <tr>\n",
       "      <th>title</th>\n",
       "      <th></th>\n",
       "      <th></th>\n",
       "    </tr>\n",
       "  </thead>\n",
       "  <tbody>\n",
       "    <tr>\n",
       "      <th>Lamerica (1994)</th>\n",
       "      <td>5.000000</td>\n",
       "      <td>4.666667</td>\n",
       "    </tr>\n",
       "    <tr>\n",
       "      <th>I Am Cuba (Soy Cuba/Ya Kuba) (1964)</th>\n",
       "      <td>5.000000</td>\n",
       "      <td>4.750000</td>\n",
       "    </tr>\n",
       "    <tr>\n",
       "      <th>Gate of Heavenly Peace, The (1995)</th>\n",
       "      <td>5.000000</td>\n",
       "      <td>5.000000</td>\n",
       "    </tr>\n",
       "    <tr>\n",
       "      <th>Apple, The (Sib) (1998)</th>\n",
       "      <td>4.750000</td>\n",
       "      <td>4.600000</td>\n",
       "    </tr>\n",
       "    <tr>\n",
       "      <th>Close Shave, A (1995)</th>\n",
       "      <td>4.644444</td>\n",
       "      <td>4.473795</td>\n",
       "    </tr>\n",
       "    <tr>\n",
       "      <th>Wrong Trousers, The (1993)</th>\n",
       "      <td>4.588235</td>\n",
       "      <td>4.478261</td>\n",
       "    </tr>\n",
       "    <tr>\n",
       "      <th>General, The (1927)</th>\n",
       "      <td>4.575758</td>\n",
       "      <td>4.329480</td>\n",
       "    </tr>\n",
       "    <tr>\n",
       "      <th>Sunset Blvd. (a.k.a. Sunset Boulevard) (1950)</th>\n",
       "      <td>4.572650</td>\n",
       "      <td>4.464589</td>\n",
       "    </tr>\n",
       "    <tr>\n",
       "      <th>Pather Panchali (1955)</th>\n",
       "      <td>4.571429</td>\n",
       "      <td>4.333333</td>\n",
       "    </tr>\n",
       "    <tr>\n",
       "      <th>Wallace &amp; Gromit: The Best of Aardman Animation (1996)</th>\n",
       "      <td>4.563107</td>\n",
       "      <td>4.385075</td>\n",
       "    </tr>\n",
       "    <tr>\n",
       "      <th>Schindler's List (1993)</th>\n",
       "      <td>4.562602</td>\n",
       "      <td>4.491415</td>\n",
       "    </tr>\n",
       "    <tr>\n",
       "      <th>Shawshank Redemption, The (1994)</th>\n",
       "      <td>4.539075</td>\n",
       "      <td>4.560625</td>\n",
       "    </tr>\n",
       "    <tr>\n",
       "      <th>Grand Day Out, A (1992)</th>\n",
       "      <td>4.537879</td>\n",
       "      <td>4.293255</td>\n",
       "    </tr>\n",
       "    <tr>\n",
       "      <th>To Kill a Mockingbird (1962)</th>\n",
       "      <td>4.536667</td>\n",
       "      <td>4.372611</td>\n",
       "    </tr>\n",
       "    <tr>\n",
       "      <th>Usual Suspects, The (1995)</th>\n",
       "      <td>4.513317</td>\n",
       "      <td>4.518248</td>\n",
       "    </tr>\n",
       "    <tr>\n",
       "      <th>Return with Honor (1998)</th>\n",
       "      <td>4.500000</td>\n",
       "      <td>4.333333</td>\n",
       "    </tr>\n",
       "    <tr>\n",
       "      <th>Rear Window (1954)</th>\n",
       "      <td>4.484536</td>\n",
       "      <td>4.472991</td>\n",
       "    </tr>\n",
       "    <tr>\n",
       "      <th>Seven Samurai (The Magnificent Seven) (Shichinin no samurai) (1954)</th>\n",
       "      <td>4.481132</td>\n",
       "      <td>4.576628</td>\n",
       "    </tr>\n",
       "    <tr>\n",
       "      <th>Sixth Sense, The (1999)</th>\n",
       "      <td>4.477410</td>\n",
       "      <td>4.379944</td>\n",
       "    </tr>\n",
       "    <tr>\n",
       "      <th>Third Man, The (1949)</th>\n",
       "      <td>4.466019</td>\n",
       "      <td>4.448276</td>\n",
       "    </tr>\n",
       "    <tr>\n",
       "      <th>City Lights (1931)</th>\n",
       "      <td>4.452055</td>\n",
       "      <td>4.363636</td>\n",
       "    </tr>\n",
       "    <tr>\n",
       "      <th>Yojimbo (1961)</th>\n",
       "      <td>4.423077</td>\n",
       "      <td>4.402116</td>\n",
       "    </tr>\n",
       "    <tr>\n",
       "      <th>Life Is Beautiful (La Vita è bella) (1997)</th>\n",
       "      <td>4.422343</td>\n",
       "      <td>4.286624</td>\n",
       "    </tr>\n",
       "    <tr>\n",
       "      <th>Bicycle Thief, The (Ladri di biciclette) (1948)</th>\n",
       "      <td>4.407407</td>\n",
       "      <td>4.343434</td>\n",
       "    </tr>\n",
       "    <tr>\n",
       "      <th>Paths of Glory (1957)</th>\n",
       "      <td>4.392857</td>\n",
       "      <td>4.485149</td>\n",
       "    </tr>\n",
       "  </tbody>\n",
       "</table>\n",
       "</div>"
      ],
      "text/plain": [
       "                                                           F         M\n",
       "title                                                                 \n",
       "Lamerica (1994)                                     5.000000  4.666667\n",
       "I Am Cuba (Soy Cuba/Ya Kuba) (1964)                 5.000000  4.750000\n",
       "Gate of Heavenly Peace, The (1995)                  5.000000  5.000000\n",
       "Apple, The (Sib) (1998)                             4.750000  4.600000\n",
       "Close Shave, A (1995)                               4.644444  4.473795\n",
       "Wrong Trousers, The (1993)                          4.588235  4.478261\n",
       "General, The (1927)                                 4.575758  4.329480\n",
       "Sunset Blvd. (a.k.a. Sunset Boulevard) (1950)       4.572650  4.464589\n",
       "Pather Panchali (1955)                              4.571429  4.333333\n",
       "Wallace & Gromit: The Best of Aardman Animation...  4.563107  4.385075\n",
       "Schindler's List (1993)                             4.562602  4.491415\n",
       "Shawshank Redemption, The (1994)                    4.539075  4.560625\n",
       "Grand Day Out, A (1992)                             4.537879  4.293255\n",
       "To Kill a Mockingbird (1962)                        4.536667  4.372611\n",
       "Usual Suspects, The (1995)                          4.513317  4.518248\n",
       "Return with Honor (1998)                            4.500000  4.333333\n",
       "Rear Window (1954)                                  4.484536  4.472991\n",
       "Seven Samurai (The Magnificent Seven) (Shichini...  4.481132  4.576628\n",
       "Sixth Sense, The (1999)                             4.477410  4.379944\n",
       "Third Man, The (1949)                               4.466019  4.448276\n",
       "City Lights (1931)                                  4.452055  4.363636\n",
       "Yojimbo (1961)                                      4.423077  4.402116\n",
       "Life Is Beautiful (La Vita è bella) (1997)          4.422343  4.286624\n",
       "Bicycle Thief, The (Ladri di biciclette) (1948)     4.407407  4.343434\n",
       "Paths of Glory (1957)                               4.392857  4.485149"
      ]
     },
     "execution_count": 79,
     "metadata": {},
     "output_type": "execute_result"
    }
   ],
   "source": [
    "result = pd.concat([female, male], axis = 1, join = 'inner')\n",
    "result"
   ]
  },
  {
   "cell_type": "code",
   "execution_count": null,
   "metadata": {},
   "outputs": [],
   "source": [
    "what?"
   ]
  },
  {
   "cell_type": "markdown",
   "metadata": {},
   "source": [
    "### 문제 4\n",
    "slicing은 i:j와 같은 방법으로 연속된 색인을 사용한다.\n",
    "![](http://i.imgur.com/nLqL1yM.png)\n",
    "\n",
    "\n",
    "3d array의 shape이 (l, m, n)일 때 shape을 예측해보자:\n",
    "1. arr3d[i]\n",
    "- arr3d[i:j]\n",
    "- arr3d[:j]\n",
    "- arr3d[i:]\n",
    "- arr3d[:-j]\n",
    "- arr3d[:, i]\n",
    "- arr3d[:, i:j]\n",
    "- arr3d[0, i:j]\n",
    "- arr3d[:, :, i]\n",
    "- arr3d[:, :, i:j]\n",
    "- arr3d[1, :, i]\n",
    "- arr3d[1, :, i:j]\n",
    "- arr3d[1, 2:, i]\n",
    "- arr3d[1, 2, i:j]\n",
    "- arr3d[:, 2, i]\n",
    "- arr3d[:, 2, i:j]"
   ]
  },
  {
   "cell_type": "code",
   "execution_count": 213,
   "metadata": {},
   "outputs": [
    {
     "data": {
      "text/plain": [
       "array([[0, 1, 2],\n",
       "       [3, 4, 5],\n",
       "       [6, 7, 8]])"
      ]
     },
     "execution_count": 213,
     "metadata": {},
     "output_type": "execute_result"
    }
   ],
   "source": [
    "arr = np.array(np.arange(9)).reshape(3, 3)\n",
    "arr"
   ]
  },
  {
   "cell_type": "code",
   "execution_count": 201,
   "metadata": {
    "scrolled": true
   },
   "outputs": [
    {
     "data": {
      "text/plain": [
       "array([[0, 1]])"
      ]
     },
     "execution_count": 201,
     "metadata": {},
     "output_type": "execute_result"
    }
   ],
   "source": [
    "arr[0:1] # [j-i, n]"
   ]
  },
  {
   "cell_type": "code",
   "execution_count": 217,
   "metadata": {},
   "outputs": [
    {
     "data": {
      "text/plain": [
       "array([[0, 1, 2],\n",
       "       [3, 4, 5]])"
      ]
     },
     "execution_count": 217,
     "metadata": {},
     "output_type": "execute_result"
    }
   ],
   "source": [
    "arr[:-1] # l-j"
   ]
  },
  {
   "cell_type": "markdown",
   "metadata": {},
   "source": [
    "l x m x n\n",
    "1. (m, n)\n",
    "2. (j-i, m, n)\n",
    "3. (j-1, m, n)\n",
    "-  (l-i, m, n)\n",
    "-  (l-j, m, n)\n",
    "-  (l, n)\n",
    "-  (l, j-i, n)\n",
    "-  (j-i, n)\n",
    "-  (l, m)\n",
    "-  (l, m, j-i)\n",
    "-  (m)\n",
    "-  (m, j-i)\n",
    "-  (m-2)\n",
    "-  (j-i)\n",
    "-  (l)\n",
    "-  (l, j-i)"
   ]
  },
  {
   "cell_type": "code",
   "execution_count": null,
   "metadata": {},
   "outputs": [],
   "source": [
    "# shape를 예측해보자."
   ]
  },
  {
   "cell_type": "markdown",
   "metadata": {},
   "source": [
    "### 문제 5\n",
    "임의의 0 ~ 99의 정수 값을 갖는 5 x 5 shape의 array를 생성하고 열 평균과 행 평균, 대각성분의 평균을 구하시오."
   ]
  },
  {
   "cell_type": "code",
   "execution_count": 110,
   "metadata": {},
   "outputs": [],
   "source": [
    "# array 생성하고 열, 행, 대각성분 평균 구하기"
   ]
  },
  {
   "cell_type": "code",
   "execution_count": 111,
   "metadata": {},
   "outputs": [],
   "source": [
    "import numpy as np"
   ]
  },
  {
   "cell_type": "code",
   "execution_count": 112,
   "metadata": {},
   "outputs": [
    {
     "data": {
      "text/plain": [
       "array([[72, 75, 18,  5, 60],\n",
       "       [37,  9, 65, 46, 25],\n",
       "       [43, 64, 77,  8,  8],\n",
       "       [18, 15, 90, 32, 96],\n",
       "       [86, 69, 83, 79, 98]])"
      ]
     },
     "execution_count": 112,
     "metadata": {},
     "output_type": "execute_result"
    }
   ],
   "source": [
    "arr = np.array([np.random.randint(100) for i in range(25)]).reshape(5, 5)\n",
    "arr"
   ]
  },
  {
   "cell_type": "code",
   "execution_count": 113,
   "metadata": {
    "scrolled": true
   },
   "outputs": [
    {
     "data": {
      "text/plain": [
       "array([51.2, 46.4, 66.6, 34. , 57.4])"
      ]
     },
     "execution_count": 113,
     "metadata": {},
     "output_type": "execute_result"
    }
   ],
   "source": [
    "# 열평균\n",
    "arr.mean(0)"
   ]
  },
  {
   "cell_type": "code",
   "execution_count": 114,
   "metadata": {},
   "outputs": [
    {
     "data": {
      "text/plain": [
       "array([46. , 36.4, 40. , 50.2, 83. ])"
      ]
     },
     "execution_count": 114,
     "metadata": {},
     "output_type": "execute_result"
    }
   ],
   "source": [
    "# 행평균\n",
    "arr.mean(1)"
   ]
  },
  {
   "cell_type": "code",
   "execution_count": 116,
   "metadata": {},
   "outputs": [
    {
     "data": {
      "text/plain": [
       "57.6"
      ]
     },
     "execution_count": 116,
     "metadata": {},
     "output_type": "execute_result"
    }
   ],
   "source": [
    "# 대각성분의 평균\n",
    "arr.trace() / 5"
   ]
  },
  {
   "cell_type": "code",
   "execution_count": null,
   "metadata": {},
   "outputs": [],
   "source": [
    "# 교수님 sol) 대각 평균\n",
    "arr.diagonal().mean()"
   ]
  },
  {
   "cell_type": "markdown",
   "metadata": {},
   "source": [
    "### 문제 6\n"
   ]
  },
  {
   "cell_type": "markdown",
   "metadata": {},
   "source": [
    "excel_exam.xlsx 파일을 이용하여 반별 과목별 평균을 구하고, 반별 과목별로 전체 과목 평균보다 낮은 학생 id를 출력하라.\n",
    "\n",
    "\n",
    "| class | math | english | science |\n",
    "|-------|------|---------|---------|\n",
    "| 1     | 2    | 1       | 3       |\n",
    "| 1     | 1    | 4       | NaN     |\n",
    "| 1     | NaN  | 2       | NaN     |\n",
    "| 2     | 8    | 7       | 6       |\n",
    "| 2     | 7    | 6       | 5       |\n",
    "\n",
    "- 평균보다 높은 학생의 수는 절반일 수도, 그 보다 높거나, 낮을 수 있다."
   ]
  },
  {
   "cell_type": "code",
   "execution_count": 192,
   "metadata": {},
   "outputs": [],
   "source": [
    "path_6 = 'C:/Users/tmznq/workspace/ml_scratch/seoul_coding_academy/강의자료/excel_exam.xlsx'\n",
    "\n",
    "def stu_id(path):\n",
    "    data = pd.read_excel(path) # excel 불러오기\n",
    "    cls = data.pivot_table(index='class') # data pivot\n",
    "    cls_group = df.groupby(level = 0) # groupby\n",
    "    result = pd.DataFrame(cls_group.apply(lambda x: x[x < x.mean()])) # apply에 함수 적용\n",
    "    return result"
   ]
  },
  {
   "cell_type": "code",
   "execution_count": 195,
   "metadata": {
    "scrolled": true
   },
   "outputs": [
    {
     "data": {
      "text/html": [
       "<div>\n",
       "<style scoped>\n",
       "    .dataframe tbody tr th:only-of-type {\n",
       "        vertical-align: middle;\n",
       "    }\n",
       "\n",
       "    .dataframe tbody tr th {\n",
       "        vertical-align: top;\n",
       "    }\n",
       "\n",
       "    .dataframe thead th {\n",
       "        text-align: right;\n",
       "    }\n",
       "</style>\n",
       "<table border=\"1\" class=\"dataframe\">\n",
       "  <thead>\n",
       "    <tr style=\"text-align: right;\">\n",
       "      <th></th>\n",
       "      <th></th>\n",
       "      <th>AA</th>\n",
       "      <th>AAPL</th>\n",
       "      <th>GE</th>\n",
       "      <th>IBM</th>\n",
       "      <th>JNJ</th>\n",
       "      <th>MSFT</th>\n",
       "      <th>PEP</th>\n",
       "      <th>SPX</th>\n",
       "      <th>XOM</th>\n",
       "    </tr>\n",
       "  </thead>\n",
       "  <tbody>\n",
       "    <tr>\n",
       "      <th>1990-12-31</th>\n",
       "      <th>1990-10-31</th>\n",
       "      <td>NaN</td>\n",
       "      <td>NaN</td>\n",
       "      <td>NaN</td>\n",
       "      <td>NaN</td>\n",
       "      <td>NaN</td>\n",
       "      <td>NaN</td>\n",
       "      <td>NaN</td>\n",
       "      <td>NaN</td>\n",
       "      <td>NaN</td>\n",
       "    </tr>\n",
       "    <tr>\n",
       "      <th>1991-12-31</th>\n",
       "      <th>1991-09-30</th>\n",
       "      <td>NaN</td>\n",
       "      <td>NaN</td>\n",
       "      <td>NaN</td>\n",
       "      <td>NaN</td>\n",
       "      <td>NaN</td>\n",
       "      <td>NaN</td>\n",
       "      <td>NaN</td>\n",
       "      <td>NaN</td>\n",
       "      <td>NaN</td>\n",
       "    </tr>\n",
       "    <tr>\n",
       "      <th>1992-12-31</th>\n",
       "      <th>1992-08-31</th>\n",
       "      <td>NaN</td>\n",
       "      <td>NaN</td>\n",
       "      <td>NaN</td>\n",
       "      <td>NaN</td>\n",
       "      <td>NaN</td>\n",
       "      <td>NaN</td>\n",
       "      <td>NaN</td>\n",
       "      <td>NaN</td>\n",
       "      <td>NaN</td>\n",
       "    </tr>\n",
       "    <tr>\n",
       "      <th>1993-12-31</th>\n",
       "      <th>1993-09-30</th>\n",
       "      <td>NaN</td>\n",
       "      <td>NaN</td>\n",
       "      <td>NaN</td>\n",
       "      <td>NaN</td>\n",
       "      <td>NaN</td>\n",
       "      <td>NaN</td>\n",
       "      <td>NaN</td>\n",
       "      <td>NaN</td>\n",
       "      <td>NaN</td>\n",
       "    </tr>\n",
       "    <tr>\n",
       "      <th>1994-12-31</th>\n",
       "      <th>1994-04-30</th>\n",
       "      <td>NaN</td>\n",
       "      <td>NaN</td>\n",
       "      <td>NaN</td>\n",
       "      <td>NaN</td>\n",
       "      <td>NaN</td>\n",
       "      <td>NaN</td>\n",
       "      <td>NaN</td>\n",
       "      <td>NaN</td>\n",
       "      <td>NaN</td>\n",
       "    </tr>\n",
       "    <tr>\n",
       "      <th>1995-12-31</th>\n",
       "      <th>1995-12-31</th>\n",
       "      <td>NaN</td>\n",
       "      <td>NaN</td>\n",
       "      <td>NaN</td>\n",
       "      <td>NaN</td>\n",
       "      <td>NaN</td>\n",
       "      <td>NaN</td>\n",
       "      <td>NaN</td>\n",
       "      <td>NaN</td>\n",
       "      <td>NaN</td>\n",
       "    </tr>\n",
       "    <tr>\n",
       "      <th>1996-12-31</th>\n",
       "      <th>1996-06-30</th>\n",
       "      <td>NaN</td>\n",
       "      <td>NaN</td>\n",
       "      <td>NaN</td>\n",
       "      <td>NaN</td>\n",
       "      <td>NaN</td>\n",
       "      <td>NaN</td>\n",
       "      <td>NaN</td>\n",
       "      <td>NaN</td>\n",
       "      <td>NaN</td>\n",
       "    </tr>\n",
       "    <tr>\n",
       "      <th>1997-12-31</th>\n",
       "      <th>1997-10-31</th>\n",
       "      <td>NaN</td>\n",
       "      <td>NaN</td>\n",
       "      <td>NaN</td>\n",
       "      <td>NaN</td>\n",
       "      <td>NaN</td>\n",
       "      <td>NaN</td>\n",
       "      <td>NaN</td>\n",
       "      <td>NaN</td>\n",
       "      <td>NaN</td>\n",
       "    </tr>\n",
       "    <tr>\n",
       "      <th>1998-12-31</th>\n",
       "      <th>1998-08-31</th>\n",
       "      <td>NaN</td>\n",
       "      <td>NaN</td>\n",
       "      <td>NaN</td>\n",
       "      <td>NaN</td>\n",
       "      <td>NaN</td>\n",
       "      <td>NaN</td>\n",
       "      <td>NaN</td>\n",
       "      <td>NaN</td>\n",
       "      <td>NaN</td>\n",
       "    </tr>\n",
       "    <tr>\n",
       "      <th>1999-12-31</th>\n",
       "      <th>1999-05-31</th>\n",
       "      <td>NaN</td>\n",
       "      <td>NaN</td>\n",
       "      <td>NaN</td>\n",
       "      <td>NaN</td>\n",
       "      <td>NaN</td>\n",
       "      <td>NaN</td>\n",
       "      <td>NaN</td>\n",
       "      <td>NaN</td>\n",
       "      <td>NaN</td>\n",
       "    </tr>\n",
       "    <tr>\n",
       "      <th>2000-12-31</th>\n",
       "      <th>2000-09-30</th>\n",
       "      <td>NaN</td>\n",
       "      <td>NaN</td>\n",
       "      <td>NaN</td>\n",
       "      <td>NaN</td>\n",
       "      <td>NaN</td>\n",
       "      <td>NaN</td>\n",
       "      <td>NaN</td>\n",
       "      <td>NaN</td>\n",
       "      <td>NaN</td>\n",
       "    </tr>\n",
       "    <tr>\n",
       "      <th>2001-12-31</th>\n",
       "      <th>2001-09-30</th>\n",
       "      <td>NaN</td>\n",
       "      <td>NaN</td>\n",
       "      <td>NaN</td>\n",
       "      <td>NaN</td>\n",
       "      <td>NaN</td>\n",
       "      <td>NaN</td>\n",
       "      <td>NaN</td>\n",
       "      <td>NaN</td>\n",
       "      <td>NaN</td>\n",
       "    </tr>\n",
       "    <tr>\n",
       "      <th>2002-12-31</th>\n",
       "      <th>2002-09-30</th>\n",
       "      <td>NaN</td>\n",
       "      <td>NaN</td>\n",
       "      <td>NaN</td>\n",
       "      <td>NaN</td>\n",
       "      <td>NaN</td>\n",
       "      <td>NaN</td>\n",
       "      <td>NaN</td>\n",
       "      <td>NaN</td>\n",
       "      <td>NaN</td>\n",
       "    </tr>\n",
       "    <tr>\n",
       "      <th>2003-12-31</th>\n",
       "      <th>2003-01-31</th>\n",
       "      <td>NaN</td>\n",
       "      <td>NaN</td>\n",
       "      <td>NaN</td>\n",
       "      <td>NaN</td>\n",
       "      <td>NaN</td>\n",
       "      <td>NaN</td>\n",
       "      <td>NaN</td>\n",
       "      <td>NaN</td>\n",
       "      <td>NaN</td>\n",
       "    </tr>\n",
       "    <tr>\n",
       "      <th>2004-12-31</th>\n",
       "      <th>2004-04-30</th>\n",
       "      <td>NaN</td>\n",
       "      <td>NaN</td>\n",
       "      <td>NaN</td>\n",
       "      <td>NaN</td>\n",
       "      <td>NaN</td>\n",
       "      <td>NaN</td>\n",
       "      <td>NaN</td>\n",
       "      <td>NaN</td>\n",
       "      <td>NaN</td>\n",
       "    </tr>\n",
       "    <tr>\n",
       "      <th>2005-12-31</th>\n",
       "      <th>2005-09-30</th>\n",
       "      <td>NaN</td>\n",
       "      <td>NaN</td>\n",
       "      <td>NaN</td>\n",
       "      <td>NaN</td>\n",
       "      <td>NaN</td>\n",
       "      <td>NaN</td>\n",
       "      <td>NaN</td>\n",
       "      <td>NaN</td>\n",
       "      <td>NaN</td>\n",
       "    </tr>\n",
       "    <tr>\n",
       "      <th>2006-12-31</th>\n",
       "      <th>2006-07-31</th>\n",
       "      <td>NaN</td>\n",
       "      <td>NaN</td>\n",
       "      <td>NaN</td>\n",
       "      <td>NaN</td>\n",
       "      <td>NaN</td>\n",
       "      <td>NaN</td>\n",
       "      <td>NaN</td>\n",
       "      <td>NaN</td>\n",
       "      <td>NaN</td>\n",
       "    </tr>\n",
       "    <tr>\n",
       "      <th>2007-12-31</th>\n",
       "      <th>2007-11-30</th>\n",
       "      <td>NaN</td>\n",
       "      <td>NaN</td>\n",
       "      <td>NaN</td>\n",
       "      <td>NaN</td>\n",
       "      <td>NaN</td>\n",
       "      <td>NaN</td>\n",
       "      <td>NaN</td>\n",
       "      <td>NaN</td>\n",
       "      <td>NaN</td>\n",
       "    </tr>\n",
       "    <tr>\n",
       "      <th>2008-12-31</th>\n",
       "      <th>2008-10-31</th>\n",
       "      <td>NaN</td>\n",
       "      <td>NaN</td>\n",
       "      <td>NaN</td>\n",
       "      <td>NaN</td>\n",
       "      <td>NaN</td>\n",
       "      <td>NaN</td>\n",
       "      <td>NaN</td>\n",
       "      <td>NaN</td>\n",
       "      <td>NaN</td>\n",
       "    </tr>\n",
       "    <tr>\n",
       "      <th>2009-12-31</th>\n",
       "      <th>2009-01-31</th>\n",
       "      <td>NaN</td>\n",
       "      <td>NaN</td>\n",
       "      <td>NaN</td>\n",
       "      <td>NaN</td>\n",
       "      <td>NaN</td>\n",
       "      <td>NaN</td>\n",
       "      <td>NaN</td>\n",
       "      <td>NaN</td>\n",
       "      <td>NaN</td>\n",
       "    </tr>\n",
       "    <tr>\n",
       "      <th>2010-12-31</th>\n",
       "      <th>2010-01-31</th>\n",
       "      <td>NaN</td>\n",
       "      <td>NaN</td>\n",
       "      <td>NaN</td>\n",
       "      <td>NaN</td>\n",
       "      <td>NaN</td>\n",
       "      <td>NaN</td>\n",
       "      <td>NaN</td>\n",
       "      <td>NaN</td>\n",
       "      <td>NaN</td>\n",
       "    </tr>\n",
       "    <tr>\n",
       "      <th>2011-12-31</th>\n",
       "      <th>2011-09-30</th>\n",
       "      <td>NaN</td>\n",
       "      <td>NaN</td>\n",
       "      <td>NaN</td>\n",
       "      <td>NaN</td>\n",
       "      <td>NaN</td>\n",
       "      <td>NaN</td>\n",
       "      <td>NaN</td>\n",
       "      <td>NaN</td>\n",
       "      <td>NaN</td>\n",
       "    </tr>\n",
       "  </tbody>\n",
       "</table>\n",
       "</div>"
      ],
      "text/plain": [
       "                       AA AAPL   GE  IBM  JNJ MSFT  PEP  SPX  XOM\n",
       "1990-12-31 1990-10-31 NaN  NaN  NaN  NaN  NaN  NaN  NaN  NaN  NaN\n",
       "1991-12-31 1991-09-30 NaN  NaN  NaN  NaN  NaN  NaN  NaN  NaN  NaN\n",
       "1992-12-31 1992-08-31 NaN  NaN  NaN  NaN  NaN  NaN  NaN  NaN  NaN\n",
       "1993-12-31 1993-09-30 NaN  NaN  NaN  NaN  NaN  NaN  NaN  NaN  NaN\n",
       "1994-12-31 1994-04-30 NaN  NaN  NaN  NaN  NaN  NaN  NaN  NaN  NaN\n",
       "1995-12-31 1995-12-31 NaN  NaN  NaN  NaN  NaN  NaN  NaN  NaN  NaN\n",
       "1996-12-31 1996-06-30 NaN  NaN  NaN  NaN  NaN  NaN  NaN  NaN  NaN\n",
       "1997-12-31 1997-10-31 NaN  NaN  NaN  NaN  NaN  NaN  NaN  NaN  NaN\n",
       "1998-12-31 1998-08-31 NaN  NaN  NaN  NaN  NaN  NaN  NaN  NaN  NaN\n",
       "1999-12-31 1999-05-31 NaN  NaN  NaN  NaN  NaN  NaN  NaN  NaN  NaN\n",
       "2000-12-31 2000-09-30 NaN  NaN  NaN  NaN  NaN  NaN  NaN  NaN  NaN\n",
       "2001-12-31 2001-09-30 NaN  NaN  NaN  NaN  NaN  NaN  NaN  NaN  NaN\n",
       "2002-12-31 2002-09-30 NaN  NaN  NaN  NaN  NaN  NaN  NaN  NaN  NaN\n",
       "2003-12-31 2003-01-31 NaN  NaN  NaN  NaN  NaN  NaN  NaN  NaN  NaN\n",
       "2004-12-31 2004-04-30 NaN  NaN  NaN  NaN  NaN  NaN  NaN  NaN  NaN\n",
       "2005-12-31 2005-09-30 NaN  NaN  NaN  NaN  NaN  NaN  NaN  NaN  NaN\n",
       "2006-12-31 2006-07-31 NaN  NaN  NaN  NaN  NaN  NaN  NaN  NaN  NaN\n",
       "2007-12-31 2007-11-30 NaN  NaN  NaN  NaN  NaN  NaN  NaN  NaN  NaN\n",
       "2008-12-31 2008-10-31 NaN  NaN  NaN  NaN  NaN  NaN  NaN  NaN  NaN\n",
       "2009-12-31 2009-01-31 NaN  NaN  NaN  NaN  NaN  NaN  NaN  NaN  NaN\n",
       "2010-12-31 2010-01-31 NaN  NaN  NaN  NaN  NaN  NaN  NaN  NaN  NaN\n",
       "2011-12-31 2011-09-30 NaN  NaN  NaN  NaN  NaN  NaN  NaN  NaN  NaN"
      ]
     },
     "execution_count": 195,
     "metadata": {},
     "output_type": "execute_result"
    }
   ],
   "source": [
    "stu_id(path_6)"
   ]
  },
  {
   "cell_type": "code",
   "execution_count": null,
   "metadata": {},
   "outputs": [],
   "source": [
    "# 전체 과목 평균보다 낮은 학생 id를 출력해라"
   ]
  },
  {
   "cell_type": "markdown",
   "metadata": {},
   "source": [
    "### 문제 7\n",
    "tips 데이터에서 sex와 time 별로, 음식지불액 대비 팁의 비율을 구하고, 이를 시각화하라."
   ]
  },
  {
   "cell_type": "code",
   "execution_count": 94,
   "metadata": {
    "scrolled": true
   },
   "outputs": [
    {
     "data": {
      "text/plain": [
       "<pandas.core.groupby.generic.DataFrameGroupBy object at 0x000001F028EB8F98>"
      ]
     },
     "execution_count": 94,
     "metadata": {},
     "output_type": "execute_result"
    }
   ],
   "source": [
    "tips = pd.read_csv('C:/Users/tmznq/workspace/ml_scratch/seoul_coding_academy/pydata-book-1st-edition/ch08/tips.csv')\n",
    "tip_group=tips.groupby(['sex','time'])\n",
    "tip_group"
   ]
  },
  {
   "cell_type": "code",
   "execution_count": 95,
   "metadata": {},
   "outputs": [
    {
     "data": {
      "text/html": [
       "<div>\n",
       "<style scoped>\n",
       "    .dataframe tbody tr th:only-of-type {\n",
       "        vertical-align: middle;\n",
       "    }\n",
       "\n",
       "    .dataframe tbody tr th {\n",
       "        vertical-align: top;\n",
       "    }\n",
       "\n",
       "    .dataframe thead th {\n",
       "        text-align: right;\n",
       "    }\n",
       "</style>\n",
       "<table border=\"1\" class=\"dataframe\">\n",
       "  <thead>\n",
       "    <tr style=\"text-align: right;\">\n",
       "      <th></th>\n",
       "      <th></th>\n",
       "      <th>total_bill</th>\n",
       "      <th>tip</th>\n",
       "    </tr>\n",
       "    <tr>\n",
       "      <th>sex</th>\n",
       "      <th>time</th>\n",
       "      <th></th>\n",
       "      <th></th>\n",
       "    </tr>\n",
       "  </thead>\n",
       "  <tbody>\n",
       "    <tr>\n",
       "      <th rowspan=\"2\" valign=\"top\">Female</th>\n",
       "      <th>Dinner</th>\n",
       "      <td>999.08</td>\n",
       "      <td>156.11</td>\n",
       "    </tr>\n",
       "    <tr>\n",
       "      <th>Lunch</th>\n",
       "      <td>571.87</td>\n",
       "      <td>90.40</td>\n",
       "    </tr>\n",
       "    <tr>\n",
       "      <th rowspan=\"2\" valign=\"top\">Male</th>\n",
       "      <th>Dinner</th>\n",
       "      <td>2661.22</td>\n",
       "      <td>389.96</td>\n",
       "    </tr>\n",
       "    <tr>\n",
       "      <th>Lunch</th>\n",
       "      <td>595.60</td>\n",
       "      <td>95.11</td>\n",
       "    </tr>\n",
       "  </tbody>\n",
       "</table>\n",
       "</div>"
      ],
      "text/plain": [
       "               total_bill     tip\n",
       "sex    time                      \n",
       "Female Dinner      999.08  156.11\n",
       "       Lunch       571.87   90.40\n",
       "Male   Dinner     2661.22  389.96\n",
       "       Lunch       595.60   95.11"
      ]
     },
     "execution_count": 95,
     "metadata": {},
     "output_type": "execute_result"
    }
   ],
   "source": [
    "tip_sum=tip_group[['total_bill','tip']].sum()\n",
    "tip_sum"
   ]
  },
  {
   "cell_type": "code",
   "execution_count": 96,
   "metadata": {},
   "outputs": [
    {
     "data": {
      "text/plain": [
       "sex     time  \n",
       "Female  Dinner    0.156254\n",
       "        Lunch     0.158078\n",
       "Male    Dinner    0.146534\n",
       "        Lunch     0.159688\n",
       "dtype: float64"
      ]
     },
     "execution_count": 96,
     "metadata": {},
     "output_type": "execute_result"
    }
   ],
   "source": [
    "tipbybill=tip_sum['tip']/tip_sum['total_bill']\n",
    "tipbybill"
   ]
  },
  {
   "cell_type": "code",
   "execution_count": 170,
   "metadata": {},
   "outputs": [
    {
     "data": {
      "text/plain": [
       "<matplotlib.axes._subplots.AxesSubplot at 0x1f028e834e0>"
      ]
     },
     "execution_count": 170,
     "metadata": {},
     "output_type": "execute_result"
    },
    {
     "data": {
      "image/png": "[encoded data removed]",
      "text/plain": [
       "<Figure size 720x432 with 1 Axes>"
      ]
     },
     "metadata": {
      "needs_background": "light"
     },
     "output_type": "display_data"
    }
   ],
   "source": [
    "tipbybill.plot(kind='bar',rot=0)"
   ]
  },
  {
   "cell_type": "code",
   "execution_count": null,
   "metadata": {},
   "outputs": [],
   "source": [
    "# 음식 지불액 대비 팁의 비율."
   ]
  },
  {
   "cell_type": "markdown",
   "metadata": {},
   "source": [
    "### 문제 8\n",
    "11장 주가 데이터를 이용하여 월간 수익률을 구하고, 2000년 한 해 동안 월간 수익률 평균이 가장 낮은 종목과 월을 찾아라."
   ]
  },
  {
   "cell_type": "code",
   "execution_count": 182,
   "metadata": {},
   "outputs": [
    {
     "data": {
      "text/html": [
       "<div>\n",
       "<style scoped>\n",
       "    .dataframe tbody tr th:only-of-type {\n",
       "        vertical-align: middle;\n",
       "    }\n",
       "\n",
       "    .dataframe tbody tr th {\n",
       "        vertical-align: top;\n",
       "    }\n",
       "\n",
       "    .dataframe thead th {\n",
       "        text-align: right;\n",
       "    }\n",
       "</style>\n",
       "<table border=\"1\" class=\"dataframe\">\n",
       "  <thead>\n",
       "    <tr style=\"text-align: right;\">\n",
       "      <th></th>\n",
       "      <th>AA</th>\n",
       "      <th>AAPL</th>\n",
       "      <th>GE</th>\n",
       "      <th>IBM</th>\n",
       "      <th>JNJ</th>\n",
       "      <th>MSFT</th>\n",
       "      <th>PEP</th>\n",
       "      <th>SPX</th>\n",
       "      <th>XOM</th>\n",
       "    </tr>\n",
       "  </thead>\n",
       "  <tbody>\n",
       "    <tr>\n",
       "      <th>1990-02-01</th>\n",
       "      <td>4.98</td>\n",
       "      <td>7.86</td>\n",
       "      <td>2.87</td>\n",
       "      <td>16.79</td>\n",
       "      <td>4.27</td>\n",
       "      <td>0.51</td>\n",
       "      <td>6.04</td>\n",
       "      <td>328.79</td>\n",
       "      <td>6.12</td>\n",
       "    </tr>\n",
       "    <tr>\n",
       "      <th>1990-02-02</th>\n",
       "      <td>5.04</td>\n",
       "      <td>8.00</td>\n",
       "      <td>2.87</td>\n",
       "      <td>16.89</td>\n",
       "      <td>4.37</td>\n",
       "      <td>0.51</td>\n",
       "      <td>6.09</td>\n",
       "      <td>330.92</td>\n",
       "      <td>6.24</td>\n",
       "    </tr>\n",
       "    <tr>\n",
       "      <th>1990-02-05</th>\n",
       "      <td>5.07</td>\n",
       "      <td>8.18</td>\n",
       "      <td>2.87</td>\n",
       "      <td>17.32</td>\n",
       "      <td>4.34</td>\n",
       "      <td>0.51</td>\n",
       "      <td>6.05</td>\n",
       "      <td>331.85</td>\n",
       "      <td>6.25</td>\n",
       "    </tr>\n",
       "    <tr>\n",
       "      <th>1990-02-06</th>\n",
       "      <td>5.01</td>\n",
       "      <td>8.12</td>\n",
       "      <td>2.88</td>\n",
       "      <td>17.56</td>\n",
       "      <td>4.32</td>\n",
       "      <td>0.51</td>\n",
       "      <td>6.15</td>\n",
       "      <td>329.66</td>\n",
       "      <td>6.23</td>\n",
       "    </tr>\n",
       "    <tr>\n",
       "      <th>1990-02-07</th>\n",
       "      <td>5.04</td>\n",
       "      <td>7.77</td>\n",
       "      <td>2.91</td>\n",
       "      <td>17.93</td>\n",
       "      <td>4.38</td>\n",
       "      <td>0.51</td>\n",
       "      <td>6.17</td>\n",
       "      <td>333.75</td>\n",
       "      <td>6.33</td>\n",
       "    </tr>\n",
       "  </tbody>\n",
       "</table>\n",
       "</div>"
      ],
      "text/plain": [
       "              AA  AAPL    GE    IBM   JNJ  MSFT   PEP     SPX   XOM\n",
       "1990-02-01  4.98  7.86  2.87  16.79  4.27  0.51  6.04  328.79  6.12\n",
       "1990-02-02  5.04  8.00  2.87  16.89  4.37  0.51  6.09  330.92  6.24\n",
       "1990-02-05  5.07  8.18  2.87  17.32  4.34  0.51  6.05  331.85  6.25\n",
       "1990-02-06  5.01  8.12  2.88  17.56  4.32  0.51  6.15  329.66  6.23\n",
       "1990-02-07  5.04  7.77  2.91  17.93  4.38  0.51  6.17  333.75  6.33"
      ]
     },
     "execution_count": 182,
     "metadata": {},
     "output_type": "execute_result"
    }
   ],
   "source": [
    "path_8 = 'C:/Users/tmznq/workspace/ml_scratch/seoul_coding_academy/pydata-book-1st-edition/ch11/stock_px.csv'\n",
    "\n",
    "close_px = pd.read_csv(path_8, parse_dates=True, index_col='Unnamed: 0')\n",
    "close_px.head()"
   ]
  },
  {
   "cell_type": "code",
   "execution_count": 183,
   "metadata": {
    "scrolled": true
   },
   "outputs": [
    {
     "data": {
      "text/html": [
       "<div>\n",
       "<style scoped>\n",
       "    .dataframe tbody tr th:only-of-type {\n",
       "        vertical-align: middle;\n",
       "    }\n",
       "\n",
       "    .dataframe tbody tr th {\n",
       "        vertical-align: top;\n",
       "    }\n",
       "\n",
       "    .dataframe thead th {\n",
       "        text-align: right;\n",
       "    }\n",
       "</style>\n",
       "<table border=\"1\" class=\"dataframe\">\n",
       "  <thead>\n",
       "    <tr style=\"text-align: right;\">\n",
       "      <th></th>\n",
       "      <th>AA</th>\n",
       "      <th>AAPL</th>\n",
       "      <th>GE</th>\n",
       "      <th>IBM</th>\n",
       "      <th>JNJ</th>\n",
       "      <th>MSFT</th>\n",
       "      <th>PEP</th>\n",
       "      <th>SPX</th>\n",
       "      <th>XOM</th>\n",
       "    </tr>\n",
       "  </thead>\n",
       "  <tbody>\n",
       "    <tr>\n",
       "      <th>1990-02-02</th>\n",
       "      <td>0.012048</td>\n",
       "      <td>0.017812</td>\n",
       "      <td>0.000000</td>\n",
       "      <td>0.005956</td>\n",
       "      <td>0.023419</td>\n",
       "      <td>0.0</td>\n",
       "      <td>0.008278</td>\n",
       "      <td>0.006478</td>\n",
       "      <td>0.019608</td>\n",
       "    </tr>\n",
       "    <tr>\n",
       "      <th>1990-02-05</th>\n",
       "      <td>0.005952</td>\n",
       "      <td>0.022500</td>\n",
       "      <td>0.000000</td>\n",
       "      <td>0.025459</td>\n",
       "      <td>-0.006865</td>\n",
       "      <td>0.0</td>\n",
       "      <td>-0.006568</td>\n",
       "      <td>0.002810</td>\n",
       "      <td>0.001603</td>\n",
       "    </tr>\n",
       "    <tr>\n",
       "      <th>1990-02-06</th>\n",
       "      <td>-0.011834</td>\n",
       "      <td>-0.007335</td>\n",
       "      <td>0.003484</td>\n",
       "      <td>0.013857</td>\n",
       "      <td>-0.004608</td>\n",
       "      <td>0.0</td>\n",
       "      <td>0.016529</td>\n",
       "      <td>-0.006599</td>\n",
       "      <td>-0.003200</td>\n",
       "    </tr>\n",
       "    <tr>\n",
       "      <th>1990-02-07</th>\n",
       "      <td>0.005988</td>\n",
       "      <td>-0.043103</td>\n",
       "      <td>0.010417</td>\n",
       "      <td>0.021071</td>\n",
       "      <td>0.013889</td>\n",
       "      <td>0.0</td>\n",
       "      <td>0.003252</td>\n",
       "      <td>0.012407</td>\n",
       "      <td>0.016051</td>\n",
       "    </tr>\n",
       "    <tr>\n",
       "      <th>1990-02-08</th>\n",
       "      <td>0.000000</td>\n",
       "      <td>-0.007722</td>\n",
       "      <td>0.003436</td>\n",
       "      <td>-0.003904</td>\n",
       "      <td>0.018265</td>\n",
       "      <td>0.0</td>\n",
       "      <td>0.008104</td>\n",
       "      <td>-0.002367</td>\n",
       "      <td>0.003160</td>\n",
       "    </tr>\n",
       "  </tbody>\n",
       "</table>\n",
       "</div>"
      ],
      "text/plain": [
       "                  AA      AAPL        GE       IBM       JNJ  MSFT       PEP  \\\n",
       "1990-02-02  0.012048  0.017812  0.000000  0.005956  0.023419   0.0  0.008278   \n",
       "1990-02-05  0.005952  0.022500  0.000000  0.025459 -0.006865   0.0 -0.006568   \n",
       "1990-02-06 -0.011834 -0.007335  0.003484  0.013857 -0.004608   0.0  0.016529   \n",
       "1990-02-07  0.005988 -0.043103  0.010417  0.021071  0.013889   0.0  0.003252   \n",
       "1990-02-08  0.000000 -0.007722  0.003436 -0.003904  0.018265   0.0  0.008104   \n",
       "\n",
       "                 SPX       XOM  \n",
       "1990-02-02  0.006478  0.019608  \n",
       "1990-02-05  0.002810  0.001603  \n",
       "1990-02-06 -0.006599 -0.003200  \n",
       "1990-02-07  0.012407  0.016051  \n",
       "1990-02-08 -0.002367  0.003160  "
      ]
     },
     "execution_count": 183,
     "metadata": {},
     "output_type": "execute_result"
    }
   ],
   "source": [
    "rate_px = (close_px / close_px.shift(1) - 1).dropna()\n",
    "rate_px.head()"
   ]
  },
  {
   "cell_type": "code",
   "execution_count": 184,
   "metadata": {},
   "outputs": [
    {
     "data": {
      "text/plain": [
       "DatetimeIndexResampler [freq=<MonthEnd>, axis=0, closed=right, label=right, convention=start, base=0]"
      ]
     },
     "execution_count": 184,
     "metadata": {},
     "output_type": "execute_result"
    }
   ],
   "source": [
    "# 월간 수익률\n",
    "msampler = rate_px.resample('M')\n",
    "msampler"
   ]
  },
  {
   "cell_type": "code",
   "execution_count": 185,
   "metadata": {},
   "outputs": [
    {
     "data": {
      "text/html": [
       "<div>\n",
       "<style scoped>\n",
       "    .dataframe tbody tr th:only-of-type {\n",
       "        vertical-align: middle;\n",
       "    }\n",
       "\n",
       "    .dataframe tbody tr th {\n",
       "        vertical-align: top;\n",
       "    }\n",
       "\n",
       "    .dataframe thead th {\n",
       "        text-align: right;\n",
       "    }\n",
       "</style>\n",
       "<table border=\"1\" class=\"dataframe\">\n",
       "  <thead>\n",
       "    <tr style=\"text-align: right;\">\n",
       "      <th></th>\n",
       "      <th>AA</th>\n",
       "      <th>AAPL</th>\n",
       "      <th>GE</th>\n",
       "      <th>IBM</th>\n",
       "      <th>JNJ</th>\n",
       "      <th>MSFT</th>\n",
       "      <th>PEP</th>\n",
       "      <th>SPX</th>\n",
       "      <th>XOM</th>\n",
       "    </tr>\n",
       "  </thead>\n",
       "  <tbody>\n",
       "    <tr>\n",
       "      <th>1990-02-28</th>\n",
       "      <td>0.002672</td>\n",
       "      <td>0.000965</td>\n",
       "      <td>0.000423</td>\n",
       "      <td>0.004130</td>\n",
       "      <td>0.000741</td>\n",
       "      <td>0.003360</td>\n",
       "      <td>0.000239</td>\n",
       "      <td>0.000549</td>\n",
       "      <td>0.000834</td>\n",
       "    </tr>\n",
       "    <tr>\n",
       "      <th>1990-03-31</th>\n",
       "      <td>0.000410</td>\n",
       "      <td>0.008039</td>\n",
       "      <td>0.001887</td>\n",
       "      <td>0.001008</td>\n",
       "      <td>0.002152</td>\n",
       "      <td>0.004983</td>\n",
       "      <td>0.003414</td>\n",
       "      <td>0.001113</td>\n",
       "      <td>-0.000675</td>\n",
       "    </tr>\n",
       "    <tr>\n",
       "      <th>1990-04-30</th>\n",
       "      <td>-0.001788</td>\n",
       "      <td>-0.000810</td>\n",
       "      <td>-0.000297</td>\n",
       "      <td>0.001388</td>\n",
       "      <td>0.000501</td>\n",
       "      <td>0.002668</td>\n",
       "      <td>0.002908</td>\n",
       "      <td>-0.001339</td>\n",
       "      <td>-0.001038</td>\n",
       "    </tr>\n",
       "    <tr>\n",
       "      <th>1990-05-31</th>\n",
       "      <td>0.002826</td>\n",
       "      <td>0.002444</td>\n",
       "      <td>0.003683</td>\n",
       "      <td>0.004955</td>\n",
       "      <td>0.005774</td>\n",
       "      <td>0.011232</td>\n",
       "      <td>0.005018</td>\n",
       "      <td>0.004031</td>\n",
       "      <td>0.003363</td>\n",
       "    </tr>\n",
       "    <tr>\n",
       "      <th>1990-06-30</th>\n",
       "      <td>-0.001576</td>\n",
       "      <td>0.004151</td>\n",
       "      <td>0.000325</td>\n",
       "      <td>-0.000965</td>\n",
       "      <td>0.002875</td>\n",
       "      <td>0.001898</td>\n",
       "      <td>0.002594</td>\n",
       "      <td>-0.000393</td>\n",
       "      <td>-0.000079</td>\n",
       "    </tr>\n",
       "  </tbody>\n",
       "</table>\n",
       "</div>"
      ],
      "text/plain": [
       "                  AA      AAPL        GE       IBM       JNJ      MSFT  \\\n",
       "1990-02-28  0.002672  0.000965  0.000423  0.004130  0.000741  0.003360   \n",
       "1990-03-31  0.000410  0.008039  0.001887  0.001008  0.002152  0.004983   \n",
       "1990-04-30 -0.001788 -0.000810 -0.000297  0.001388  0.000501  0.002668   \n",
       "1990-05-31  0.002826  0.002444  0.003683  0.004955  0.005774  0.011232   \n",
       "1990-06-30 -0.001576  0.004151  0.000325 -0.000965  0.002875  0.001898   \n",
       "\n",
       "                 PEP       SPX       XOM  \n",
       "1990-02-28  0.000239  0.000549  0.000834  \n",
       "1990-03-31  0.003414  0.001113 -0.000675  \n",
       "1990-04-30  0.002908 -0.001339 -0.001038  \n",
       "1990-05-31  0.005018  0.004031  0.003363  \n",
       "1990-06-30  0.002594 -0.000393 -0.000079  "
      ]
     },
     "execution_count": 185,
     "metadata": {},
     "output_type": "execute_result"
    }
   ],
   "source": [
    "# 월간 평균 수익률\n",
    "m_mean = msampler.mean()\n",
    "m_mean.head()"
   ]
  },
  {
   "cell_type": "code",
   "execution_count": 186,
   "metadata": {},
   "outputs": [
    {
     "data": {
      "text/plain": [
       "AAPL   -0.031231\n",
       "dtype: float64"
      ]
     },
     "execution_count": 186,
     "metadata": {},
     "output_type": "execute_result"
    }
   ],
   "source": [
    "m_mean['2000'].min().sort_values(ascending = True)[:1]"
   ]
  },
  {
   "cell_type": "code",
   "execution_count": 187,
   "metadata": {},
   "outputs": [
    {
     "data": {
      "text/html": [
       "<div>\n",
       "<style scoped>\n",
       "    .dataframe tbody tr th:only-of-type {\n",
       "        vertical-align: middle;\n",
       "    }\n",
       "\n",
       "    .dataframe tbody tr th {\n",
       "        vertical-align: top;\n",
       "    }\n",
       "\n",
       "    .dataframe thead th {\n",
       "        text-align: right;\n",
       "    }\n",
       "</style>\n",
       "<table border=\"1\" class=\"dataframe\">\n",
       "  <thead>\n",
       "    <tr style=\"text-align: right;\">\n",
       "      <th></th>\n",
       "      <th></th>\n",
       "      <th>AA</th>\n",
       "      <th>AAPL</th>\n",
       "      <th>GE</th>\n",
       "      <th>IBM</th>\n",
       "      <th>JNJ</th>\n",
       "      <th>MSFT</th>\n",
       "      <th>PEP</th>\n",
       "      <th>SPX</th>\n",
       "      <th>XOM</th>\n",
       "    </tr>\n",
       "  </thead>\n",
       "  <tbody>\n",
       "    <tr>\n",
       "      <th>1990-12-31</th>\n",
       "      <th>1990-09-30</th>\n",
       "      <td></td>\n",
       "      <td>-0.0125779</td>\n",
       "      <td></td>\n",
       "      <td></td>\n",
       "      <td></td>\n",
       "      <td></td>\n",
       "      <td></td>\n",
       "      <td></td>\n",
       "      <td></td>\n",
       "    </tr>\n",
       "    <tr>\n",
       "      <th>1991-12-31</th>\n",
       "      <th>1991-04-30</th>\n",
       "      <td></td>\n",
       "      <td>-0.00874407</td>\n",
       "      <td></td>\n",
       "      <td></td>\n",
       "      <td></td>\n",
       "      <td></td>\n",
       "      <td></td>\n",
       "      <td></td>\n",
       "      <td></td>\n",
       "    </tr>\n",
       "    <tr>\n",
       "      <th>1992-12-31</th>\n",
       "      <th>1992-12-31</th>\n",
       "      <td></td>\n",
       "      <td></td>\n",
       "      <td></td>\n",
       "      <td>-0.0131173</td>\n",
       "      <td></td>\n",
       "      <td></td>\n",
       "      <td></td>\n",
       "      <td></td>\n",
       "      <td></td>\n",
       "    </tr>\n",
       "    <tr>\n",
       "      <th>1993-12-31</th>\n",
       "      <th>1993-06-30</th>\n",
       "      <td></td>\n",
       "      <td>-0.0156442</td>\n",
       "      <td></td>\n",
       "      <td></td>\n",
       "      <td></td>\n",
       "      <td></td>\n",
       "      <td></td>\n",
       "      <td></td>\n",
       "      <td></td>\n",
       "    </tr>\n",
       "    <tr>\n",
       "      <th>1994-12-31</th>\n",
       "      <th>1994-06-30</th>\n",
       "      <td></td>\n",
       "      <td></td>\n",
       "      <td></td>\n",
       "      <td></td>\n",
       "      <td></td>\n",
       "      <td></td>\n",
       "      <td>-0.00687057</td>\n",
       "      <td></td>\n",
       "      <td></td>\n",
       "    </tr>\n",
       "    <tr>\n",
       "      <th>1995-12-31</th>\n",
       "      <th>1995-12-31</th>\n",
       "      <td></td>\n",
       "      <td>-0.00846176</td>\n",
       "      <td></td>\n",
       "      <td></td>\n",
       "      <td></td>\n",
       "      <td></td>\n",
       "      <td></td>\n",
       "      <td></td>\n",
       "      <td></td>\n",
       "    </tr>\n",
       "    <tr>\n",
       "      <th>1996-12-31</th>\n",
       "      <th>1996-06-30</th>\n",
       "      <td></td>\n",
       "      <td>-0.010452</td>\n",
       "      <td></td>\n",
       "      <td></td>\n",
       "      <td></td>\n",
       "      <td></td>\n",
       "      <td></td>\n",
       "      <td></td>\n",
       "      <td></td>\n",
       "    </tr>\n",
       "    <tr>\n",
       "      <th>1997-12-31</th>\n",
       "      <th>1997-12-31</th>\n",
       "      <td></td>\n",
       "      <td>-0.0133225</td>\n",
       "      <td></td>\n",
       "      <td></td>\n",
       "      <td></td>\n",
       "      <td></td>\n",
       "      <td></td>\n",
       "      <td></td>\n",
       "      <td></td>\n",
       "    </tr>\n",
       "    <tr>\n",
       "      <th>1998-12-31</th>\n",
       "      <th>1998-08-31</th>\n",
       "      <td></td>\n",
       "      <td></td>\n",
       "      <td></td>\n",
       "      <td></td>\n",
       "      <td></td>\n",
       "      <td></td>\n",
       "      <td>-0.01523</td>\n",
       "      <td></td>\n",
       "      <td></td>\n",
       "    </tr>\n",
       "    <tr>\n",
       "      <th>1999-12-31</th>\n",
       "      <th>1999-10-31</th>\n",
       "      <td></td>\n",
       "      <td></td>\n",
       "      <td></td>\n",
       "      <td>-0.00907026</td>\n",
       "      <td></td>\n",
       "      <td></td>\n",
       "      <td></td>\n",
       "      <td></td>\n",
       "      <td></td>\n",
       "    </tr>\n",
       "    <tr>\n",
       "      <th>2000-12-31</th>\n",
       "      <th>2000-09-30</th>\n",
       "      <td></td>\n",
       "      <td>-0.031231</td>\n",
       "      <td></td>\n",
       "      <td></td>\n",
       "      <td></td>\n",
       "      <td></td>\n",
       "      <td></td>\n",
       "      <td></td>\n",
       "      <td></td>\n",
       "    </tr>\n",
       "    <tr>\n",
       "      <th>2001-12-31</th>\n",
       "      <th>2001-09-30</th>\n",
       "      <td>-0.0127675</td>\n",
       "      <td></td>\n",
       "      <td></td>\n",
       "      <td></td>\n",
       "      <td></td>\n",
       "      <td></td>\n",
       "      <td></td>\n",
       "      <td></td>\n",
       "      <td></td>\n",
       "    </tr>\n",
       "    <tr>\n",
       "      <th>2002-12-31</th>\n",
       "      <th>2002-06-30</th>\n",
       "      <td></td>\n",
       "      <td>-0.0127661</td>\n",
       "      <td></td>\n",
       "      <td></td>\n",
       "      <td></td>\n",
       "      <td></td>\n",
       "      <td></td>\n",
       "      <td></td>\n",
       "      <td></td>\n",
       "    </tr>\n",
       "    <tr>\n",
       "      <th>2003-12-31</th>\n",
       "      <th>2003-01-31</th>\n",
       "      <td>-0.00617893</td>\n",
       "      <td></td>\n",
       "      <td></td>\n",
       "      <td></td>\n",
       "      <td></td>\n",
       "      <td></td>\n",
       "      <td></td>\n",
       "      <td></td>\n",
       "      <td></td>\n",
       "    </tr>\n",
       "    <tr>\n",
       "      <th>2004-12-31</th>\n",
       "      <th>2004-04-30</th>\n",
       "      <td>-0.00545549</td>\n",
       "      <td></td>\n",
       "      <td></td>\n",
       "      <td></td>\n",
       "      <td></td>\n",
       "      <td></td>\n",
       "      <td></td>\n",
       "      <td></td>\n",
       "      <td></td>\n",
       "    </tr>\n",
       "    <tr>\n",
       "      <th>2005-12-31</th>\n",
       "      <th>2005-04-30</th>\n",
       "      <td></td>\n",
       "      <td></td>\n",
       "      <td></td>\n",
       "      <td>-0.00824913</td>\n",
       "      <td></td>\n",
       "      <td></td>\n",
       "      <td></td>\n",
       "      <td></td>\n",
       "      <td></td>\n",
       "    </tr>\n",
       "    <tr>\n",
       "      <th>2006-12-31</th>\n",
       "      <th>2006-05-31</th>\n",
       "      <td></td>\n",
       "      <td>-0.00724073</td>\n",
       "      <td></td>\n",
       "      <td></td>\n",
       "      <td></td>\n",
       "      <td></td>\n",
       "      <td></td>\n",
       "      <td></td>\n",
       "      <td></td>\n",
       "    </tr>\n",
       "    <tr>\n",
       "      <th>2007-12-31</th>\n",
       "      <th>2007-02-28</th>\n",
       "      <td></td>\n",
       "      <td></td>\n",
       "      <td></td>\n",
       "      <td></td>\n",
       "      <td></td>\n",
       "      <td>-0.00451231</td>\n",
       "      <td></td>\n",
       "      <td></td>\n",
       "      <td></td>\n",
       "    </tr>\n",
       "    <tr>\n",
       "      <th>2008-12-31</th>\n",
       "      <th>2008-10-31</th>\n",
       "      <td>-0.0247284</td>\n",
       "      <td></td>\n",
       "      <td></td>\n",
       "      <td></td>\n",
       "      <td></td>\n",
       "      <td></td>\n",
       "      <td></td>\n",
       "      <td></td>\n",
       "      <td></td>\n",
       "    </tr>\n",
       "    <tr>\n",
       "      <th>2009-12-31</th>\n",
       "      <th>2009-01-31</th>\n",
       "      <td>-0.0169508</td>\n",
       "      <td></td>\n",
       "      <td></td>\n",
       "      <td></td>\n",
       "      <td></td>\n",
       "      <td></td>\n",
       "      <td></td>\n",
       "      <td></td>\n",
       "      <td></td>\n",
       "    </tr>\n",
       "    <tr>\n",
       "      <th>2010-12-31</th>\n",
       "      <th>2010-01-31</th>\n",
       "      <td>-0.0116172</td>\n",
       "      <td></td>\n",
       "      <td></td>\n",
       "      <td></td>\n",
       "      <td></td>\n",
       "      <td></td>\n",
       "      <td></td>\n",
       "      <td></td>\n",
       "      <td></td>\n",
       "    </tr>\n",
       "    <tr>\n",
       "      <th>2011-12-31</th>\n",
       "      <th>2011-09-30</th>\n",
       "      <td>-0.0133526</td>\n",
       "      <td></td>\n",
       "      <td></td>\n",
       "      <td></td>\n",
       "      <td></td>\n",
       "      <td></td>\n",
       "      <td></td>\n",
       "      <td></td>\n",
       "      <td></td>\n",
       "    </tr>\n",
       "  </tbody>\n",
       "</table>\n",
       "</div>"
      ],
      "text/plain": [
       "                               AA        AAPL GE         IBM JNJ        MSFT  \\\n",
       "1990-12-31 1990-09-30              -0.0125779                                  \n",
       "1991-12-31 1991-04-30             -0.00874407                                  \n",
       "1992-12-31 1992-12-31                             -0.0131173                   \n",
       "1993-12-31 1993-06-30              -0.0156442                                  \n",
       "1994-12-31 1994-06-30                                                          \n",
       "1995-12-31 1995-12-31             -0.00846176                                  \n",
       "1996-12-31 1996-06-30               -0.010452                                  \n",
       "1997-12-31 1997-12-31              -0.0133225                                  \n",
       "1998-12-31 1998-08-31                                                          \n",
       "1999-12-31 1999-10-31                            -0.00907026                   \n",
       "2000-12-31 2000-09-30               -0.031231                                  \n",
       "2001-12-31 2001-09-30  -0.0127675                                              \n",
       "2002-12-31 2002-06-30              -0.0127661                                  \n",
       "2003-12-31 2003-01-31 -0.00617893                                              \n",
       "2004-12-31 2004-04-30 -0.00545549                                              \n",
       "2005-12-31 2005-04-30                            -0.00824913                   \n",
       "2006-12-31 2006-05-31             -0.00724073                                  \n",
       "2007-12-31 2007-02-28                                            -0.00451231   \n",
       "2008-12-31 2008-10-31  -0.0247284                                              \n",
       "2009-12-31 2009-01-31  -0.0169508                                              \n",
       "2010-12-31 2010-01-31  -0.0116172                                              \n",
       "2011-12-31 2011-09-30  -0.0133526                                              \n",
       "\n",
       "                              PEP SPX XOM  \n",
       "1990-12-31 1990-09-30                      \n",
       "1991-12-31 1991-04-30                      \n",
       "1992-12-31 1992-12-31                      \n",
       "1993-12-31 1993-06-30                      \n",
       "1994-12-31 1994-06-30 -0.00687057          \n",
       "1995-12-31 1995-12-31                      \n",
       "1996-12-31 1996-06-30                      \n",
       "1997-12-31 1997-12-31                      \n",
       "1998-12-31 1998-08-31    -0.01523          \n",
       "1999-12-31 1999-10-31                      \n",
       "2000-12-31 2000-09-30                      \n",
       "2001-12-31 2001-09-30                      \n",
       "2002-12-31 2002-06-30                      \n",
       "2003-12-31 2003-01-31                      \n",
       "2004-12-31 2004-04-30                      \n",
       "2005-12-31 2005-04-30                      \n",
       "2006-12-31 2006-05-31                      \n",
       "2007-12-31 2007-02-28                      \n",
       "2008-12-31 2008-10-31                      \n",
       "2009-12-31 2009-01-31                      \n",
       "2010-12-31 2010-01-31                      \n",
       "2011-12-31 2011-09-30                      "
      ]
     },
     "execution_count": 187,
     "metadata": {},
     "output_type": "execute_result"
    }
   ],
   "source": [
    "m_mean.resample('Y').apply(lambda x:x[x == x.min().sort_values(ascending = True)[:1]].dropna(how = 'all').fillna(' '))"
   ]
  },
  {
   "cell_type": "markdown",
   "metadata": {},
   "source": [
    "#### 결론\n",
    "- 2000년 한 해 동안 월간 수익률 평균이 가장 낮은 종목과 월 : AAPL, 2000년 9월"
   ]
  },
  {
   "cell_type": "markdown",
   "metadata": {},
   "source": [
    "### 문제 9\n",
    "위 문제에서 년간 평균 수익률을 구하고, 2000년 가장 낮은 수익률을 기록한 종목을 찾아라."
   ]
  },
  {
   "cell_type": "code",
   "execution_count": 188,
   "metadata": {},
   "outputs": [],
   "source": [
    "# 년간 평균 수익률 구하고, 2000년 가장 낮은 수익률을 기록한 종목"
   ]
  },
  {
   "cell_type": "code",
   "execution_count": 189,
   "metadata": {},
   "outputs": [
    {
     "data": {
      "text/plain": [
       "DatetimeIndexResampler [freq=<YearEnd: month=12>, axis=0, closed=right, label=right, convention=start, base=0]"
      ]
     },
     "execution_count": 189,
     "metadata": {},
     "output_type": "execute_result"
    }
   ],
   "source": [
    "# 연간 수익률\n",
    "ysampler = rate_px.resample('Y')\n",
    "ysampler"
   ]
  },
  {
   "cell_type": "code",
   "execution_count": 190,
   "metadata": {},
   "outputs": [
    {
     "data": {
      "text/html": [
       "<div>\n",
       "<style scoped>\n",
       "    .dataframe tbody tr th:only-of-type {\n",
       "        vertical-align: middle;\n",
       "    }\n",
       "\n",
       "    .dataframe tbody tr th {\n",
       "        vertical-align: top;\n",
       "    }\n",
       "\n",
       "    .dataframe thead th {\n",
       "        text-align: right;\n",
       "    }\n",
       "</style>\n",
       "<table border=\"1\" class=\"dataframe\">\n",
       "  <thead>\n",
       "    <tr style=\"text-align: right;\">\n",
       "      <th></th>\n",
       "      <th>AA</th>\n",
       "      <th>AAPL</th>\n",
       "      <th>GE</th>\n",
       "      <th>IBM</th>\n",
       "      <th>JNJ</th>\n",
       "      <th>MSFT</th>\n",
       "      <th>PEP</th>\n",
       "      <th>SPX</th>\n",
       "      <th>XOM</th>\n",
       "    </tr>\n",
       "  </thead>\n",
       "  <tbody>\n",
       "    <tr>\n",
       "      <th>1990-12-31</th>\n",
       "      <td>-0.000064</td>\n",
       "      <td>0.001498</td>\n",
       "      <td>-0.000060</td>\n",
       "      <td>0.000908</td>\n",
       "      <td>0.001485</td>\n",
       "      <td>0.002385</td>\n",
       "      <td>0.001505</td>\n",
       "      <td>0.000068</td>\n",
       "      <td>0.000719</td>\n",
       "    </tr>\n",
       "    <tr>\n",
       "      <th>1991-12-31</th>\n",
       "      <td>0.000696</td>\n",
       "      <td>0.001541</td>\n",
       "      <td>0.001362</td>\n",
       "      <td>-0.000649</td>\n",
       "      <td>0.002022</td>\n",
       "      <td>0.003426</td>\n",
       "      <td>0.001304</td>\n",
       "      <td>0.000964</td>\n",
       "      <td>0.000899</td>\n",
       "    </tr>\n",
       "    <tr>\n",
       "      <th>1992-12-31</th>\n",
       "      <td>0.000657</td>\n",
       "      <td>0.000513</td>\n",
       "      <td>0.000609</td>\n",
       "      <td>-0.001863</td>\n",
       "      <td>-0.000301</td>\n",
       "      <td>0.000796</td>\n",
       "      <td>0.000946</td>\n",
       "      <td>0.000190</td>\n",
       "      <td>0.000266</td>\n",
       "    </tr>\n",
       "    <tr>\n",
       "      <th>1993-12-31</th>\n",
       "      <td>0.000056</td>\n",
       "      <td>-0.002262</td>\n",
       "      <td>0.000952</td>\n",
       "      <td>0.000758</td>\n",
       "      <td>-0.000186</td>\n",
       "      <td>-0.000043</td>\n",
       "      <td>0.000100</td>\n",
       "      <td>0.000284</td>\n",
       "      <td>0.000352</td>\n",
       "    </tr>\n",
       "    <tr>\n",
       "      <th>1994-12-31</th>\n",
       "      <td>0.001080</td>\n",
       "      <td>0.001566</td>\n",
       "      <td>0.000080</td>\n",
       "      <td>0.001285</td>\n",
       "      <td>0.000964</td>\n",
       "      <td>0.001799</td>\n",
       "      <td>-0.000295</td>\n",
       "      <td>-0.000042</td>\n",
       "      <td>0.000080</td>\n",
       "    </tr>\n",
       "  </tbody>\n",
       "</table>\n",
       "</div>"
      ],
      "text/plain": [
       "                  AA      AAPL        GE       IBM       JNJ      MSFT  \\\n",
       "1990-12-31 -0.000064  0.001498 -0.000060  0.000908  0.001485  0.002385   \n",
       "1991-12-31  0.000696  0.001541  0.001362 -0.000649  0.002022  0.003426   \n",
       "1992-12-31  0.000657  0.000513  0.000609 -0.001863 -0.000301  0.000796   \n",
       "1993-12-31  0.000056 -0.002262  0.000952  0.000758 -0.000186 -0.000043   \n",
       "1994-12-31  0.001080  0.001566  0.000080  0.001285  0.000964  0.001799   \n",
       "\n",
       "                 PEP       SPX       XOM  \n",
       "1990-12-31  0.001505  0.000068  0.000719  \n",
       "1991-12-31  0.001304  0.000964  0.000899  \n",
       "1992-12-31  0.000946  0.000190  0.000266  \n",
       "1993-12-31  0.000100  0.000284  0.000352  \n",
       "1994-12-31 -0.000295 -0.000042  0.000080  "
      ]
     },
     "execution_count": 190,
     "metadata": {},
     "output_type": "execute_result"
    }
   ],
   "source": [
    "# 연간 평균 수익률\n",
    "y_mean = ysampler.mean()\n",
    "y_mean.head()"
   ]
  },
  {
   "cell_type": "code",
   "execution_count": 191,
   "metadata": {},
   "outputs": [
    {
     "data": {
      "text/plain": [
       "MSFT   -0.003289\n",
       "dtype: float64"
      ]
     },
     "execution_count": 191,
     "metadata": {},
     "output_type": "execute_result"
    }
   ],
   "source": [
    "y_mean['2000'].min().sort_values(ascending = True)[:1]"
   ]
  },
  {
   "cell_type": "markdown",
   "metadata": {},
   "source": [
    "#### 결론\n",
    "- 2000년 연간 평균 수익률이 가장 낮은 종목은 MSFT이다."
   ]
  }
 ],
 "metadata": {
  "kernelspec": {
   "display_name": "Python 3",
   "language": "python",
   "name": "python3"
  },
  "language_info": {
   "codemirror_mode": {
    "name": "ipython",
    "version": 3
   },
   "file_extension": ".py",
   "mimetype": "text/x-python",
   "name": "python",
   "nbconvert_exporter": "python",
   "pygments_lexer": "ipython3",
   "version": "3.7.2"
  }
 },
 "nbformat": 4,
 "nbformat_minor": 2
}
