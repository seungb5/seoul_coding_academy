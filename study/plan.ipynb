{
 "cells": [
  {
   "cell_type": "markdown",
   "metadata": {},
   "source": [
    "# Data analyst\n",
    "- Data scientist의 하위 개념\n",
    "- Data를 통해 유의미한 결론을 도출함.  \n",
    "ex) '고려원' 회사의 data를 통해서 이 회사가 망할 것인지 흥할 것인지 판단."
   ]
  },
  {
   "cell_type": "markdown",
   "metadata": {},
   "source": [
    "#### 데이터 분석 과정"
   ]
  },
  {
   "cell_type": "markdown",
   "metadata": {},
   "source": [
    "![](https://user-images.githubusercontent.com/46778769/54584850-d22aa400-4a5b-11e9-95f0-37a1bd25aa56.PNG)"
   ]
  },
  {
   "cell_type": "markdown",
   "metadata": {},
   "source": [
    "#### 인재상"
   ]
  },
  {
   "cell_type": "markdown",
   "metadata": {},
   "source": [
    "1. 서버 : SQL, RDBMS\n",
    "2. 통계 패키지 : Pandas, Numpy, matplotlib 등등\n",
    "3. 수학 & 통계학 \n",
    "4. Excel 엑셀"
   ]
  },
  {
   "cell_type": "markdown",
   "metadata": {},
   "source": [
    "#### + a\n",
    "- github 소스코드 관리\n",
    "- 영어 원문을 읽고 해석할 수 있을 만한 영어 능력 why? 최신 기술들은 전부 외국에서 넘어옴\n",
    "- 일하는 회사에서 사용하는 프로그램, 그 분야에 대한 전반적인 지식업 "
   ]
  },
  {
   "cell_type": "markdown",
   "metadata": {},
   "source": [
    "#### 해야할 것\n",
    "1. 서버 구축   \n",
    "작은 서버라도 직접 구축해보기 how?\n",
    "2. 임의의 데이터로 직접 실습  \n",
    "ex) titanic data\n",
    "3. 선형대수학, 통계학  \n",
    "ex) 선형 회귀분석, 군집화 등\n",
    "4. 파생변수, 매크로 함수  \n",
    "ex) Excel..."
   ]
  },
  {
   "cell_type": "markdown",
   "metadata": {},
   "source": [
    "#### 기타 사항\n",
    "- 데이터를 사실로만 바라볼것\n",
    "- 해당 산업에 대한 독립변수에 대한 공부도 필요\n",
    "- 프로젝트에 대입한 독립변수에 대한 제한을 두지 말 것. 리포팅과는 별개로\n",
    "- 데이터 조작에 관한 역량\n",
    "- 변수를 변환하고, 그 설정 이유 잘 기억해 둘것\n",
    "- 데이터 분석했던 경험들 메모 해둘 것. ex) 'a' 데이터를 통해 'b'라는 결론을 도출 했다.\n",
    "- 수학 통계학적인 이론으로 의사소통 때 활용할 것 == 신뢰수준"
   ]
  },
  {
   "cell_type": "markdown",
   "metadata": {},
   "source": [
    "___"
   ]
  },
  {
   "cell_type": "markdown",
   "metadata": {},
   "source": [
    "## 2. 임의의 데이터 실습"
   ]
  },
  {
   "cell_type": "code",
   "execution_count": null,
   "metadata": {},
   "outputs": [],
   "source": [
    "# URL = https://www.kaggle.com/c/titanic"
   ]
  },
  {
   "cell_type": "markdown",
   "metadata": {},
   "source": [
    "1. kaggle 가입하기.\n",
    "1. URL 접속해서 titanic competition 참여하기\n",
    "1. Data에 들어가서 data 다운로드하기 / Data - download all \n",
    "1. Data : train.csv, test.csv, gender_submission.csv 3개로 구성.\n",
    "1. 실습할 컴퓨터에서 Data load부터 시작하기."
   ]
  },
  {
   "cell_type": "markdown",
   "metadata": {},
   "source": [
    "#### 실습 할 일\n",
    "- train.csv 파일 사용\n",
    "- 지금까지 배운 내용 적용해보기.\n",
    "- 지금 당장 모델 구축하는 것은 불가능. 우리가 할 일은 indexing, slicing, pivot_table, plot, cross_table, data IO, numpy와 pandas 함수들 적용해보는 것."
   ]
  },
  {
   "cell_type": "markdown",
   "metadata": {},
   "source": [
    "#### 3월 목표\n",
    "- 모델링을 배우기 전까지, 데이터를 다루는 역량을 최대한 늘리기"
   ]
  },
  {
   "cell_type": "markdown",
   "metadata": {},
   "source": [
    "#### 최종 목표\n",
    "- train.csv을 통해 모델을 만들기 - test.csv에 survived column 생성 - gender_submission.csv와 비교하기"
   ]
  }
 ],
 "metadata": {
  "kernelspec": {
   "display_name": "Python 3",
   "language": "python",
   "name": "python3"
  },
  "language_info": {
   "codemirror_mode": {
    "name": "ipython",
    "version": 3
   },
   "file_extension": ".py",
   "mimetype": "text/x-python",
   "name": "python",
   "nbconvert_exporter": "python",
   "pygments_lexer": "ipython3",
   "version": "3.7.2"
  }
 },
 "nbformat": 4,
 "nbformat_minor": 2
}
