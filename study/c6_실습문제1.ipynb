{
 "cells": [
  {
   "cell_type": "markdown",
   "metadata": {},
   "source": [
    "## 실습 문제 1\n",
    "#### 1) lxml 라이브러리를 이용한 웹 데이터 추출\n",
    "6.1.5 절 1)에서 <a href=url>링크 문자열</a>의 구조를 갖는 Elements를 links로 생성하였다.\n",
    "links로 부터 [(링크 문자열, active url), .... ]와 같은 구조를 갖는 pandas 데이터프레임 객체를 생성하라.\n",
    "\n",
    "단, active url은 단순히 웹서버 내에서만 지정되는 상대 경로가 아닌, 사용자의 브라우저에서 직접 입력되어 브라우징이 가능한 url 이어야 한다.\n",
    "\n",
    ">active url의 예: https://finance.yahoo.com/watchlists"
   ]
  },
  {
   "cell_type": "code",
   "execution_count": null,
   "metadata": {},
   "outputs": [],
   "source": [
    "url = 'http://finance.yahoo.com/q/op?s=AAPL+Options?ltr=1'"
   ]
  },
  {
   "cell_type": "code",
   "execution_count": null,
   "metadata": {},
   "outputs": [],
   "source": [
    "subs = url.split(sep='/')\n",
    "subs"
   ]
  },
  {
   "cell_type": "code",
   "execution_count": null,
   "metadata": {},
   "outputs": [],
   "source": [
    "page = '/'"
   ]
  },
  {
   "cell_type": "code",
   "execution_count": null,
   "metadata": {},
   "outputs": [],
   "source": [
    "a = doc.findall('.//a')"
   ]
  },
  {
   "cell_type": "code",
   "execution_count": null,
   "metadata": {},
   "outputs": [],
   "source": [
    "def unpack():\n",
    "    txt = a.text_content()\n",
    "    remote = a.get('href')\n",
    "    return [txt, remote]"
   ]
  },
  {
   "cell_type": "code",
   "execution_count": null,
   "metadata": {},
   "outputs": [],
   "source": [
    "if remote[:4] == 'http':\n",
    "    remote = remote\n",
    "else:\n",
    "    remote = page + remote"
   ]
  },
  {
   "cell_type": "code",
   "execution_count": null,
   "metadata": {},
   "outputs": [],
   "source": [
    "def createRemote(remote):\n",
    "    if remote[:4] == 'http':\n",
    "        remote = remote\n",
    "    else:\n",
    "        remote = page + remote"
   ]
  },
  {
   "cell_type": "code",
   "execution_count": null,
   "metadata": {},
   "outputs": [],
   "source": [
    "# 잘 봐놓을 것.\n",
    "def unpack2():\n",
    "    txt = a.text_content()\n",
    "    remote = a.get('href')\n",
    "    remote = createRemote(remote)\n",
    "    return [txt, remote]"
   ]
  },
  {
   "cell_type": "code",
   "execution_count": null,
   "metadata": {},
   "outputs": [],
   "source": [
    "# TextParser.get_chunk() : 들어오는 데이터들을 type에 따라 개별적으로 분해해줌.\n",
    "from pandas.io.parsers import TextParser\n",
    "\n",
    "def parse_options_data1(a):\n",
    "    a = doc.findall('.//a')\n",
    "    href = links.get('href')\n",
    "    header = [_unpack(a[0], tag = 'href')] # row[0] : col_name들을 모아놓은 행\n",
    "    data = [_unpack(link) for link in a] # row[1:] : 모든 record, 그리고 data에는 [] 한 번 더 감싸준다.\n",
    "    return TextParser(data, names=header).get_chunk() # get_chunk() : get_DataFrame이라고 생각하면 됨."
   ]
  }
 ],
 "metadata": {
  "kernelspec": {
   "display_name": "Python 3",
   "language": "python",
   "name": "python3"
  },
  "language_info": {
   "codemirror_mode": {
    "name": "ipython",
    "version": 3
   },
   "file_extension": ".py",
   "mimetype": "text/x-python",
   "name": "python",
   "nbconvert_exporter": "python",
   "pygments_lexer": "ipython3",
   "version": "3.5.3"
  }
 },
 "nbformat": 4,
 "nbformat_minor": 2
}
