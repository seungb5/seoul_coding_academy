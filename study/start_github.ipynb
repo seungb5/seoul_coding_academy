{
 "cells": [
  {
   "cell_type": "markdown",
   "metadata": {},
   "source": [
    "### GitHub\n",
    "- Set up git\n",
    "- GitHub의 핵심은 소스 코드의 버전관리이다. sourcs version control system (VCS)\n",
    "- 프로젝트 협업을 위해 주로 사용함. 혹은 문서 저장 용도 (GitHub Markdown), 주피터 Markdown과 거의 동일\n",
    "- GitHub-relate된 모든 파일. 즉, 개인의 컴퓨터에서 Git과 연동 시켜놓은 공간은 항상 오픈될 수 있다는 사실.\n",
    "- 명령프롬프트(CMD)에서 commmand line으로 작업하고 싶다면 Git\n",
    "- 단순히 Git을 이용하고 싶다면 GitHub Desktop 사용할 것."
   ]
  },
  {
   "cell_type": "markdown",
   "metadata": {},
   "source": [
    "### GitHub 설치 방법\n",
    "- 회원가입\n",
    "- ㅠ ㅠ 졸려"
   ]
  },
  {
   "cell_type": "markdown",
   "metadata": {},
   "source": [
    "Creating a repository\n",
    "Forking a repository\n",
    "Managing files\n",
    "Being social"
   ]
  }
 ],
 "metadata": {
  "kernelspec": {
   "display_name": "Python 3",
   "language": "python",
   "name": "python3"
  },
  "language_info": {
   "codemirror_mode": {
    "name": "ipython",
    "version": 3
   },
   "file_extension": ".py",
   "mimetype": "text/x-python",
   "name": "python",
   "nbconvert_exporter": "python",
   "pygments_lexer": "ipython3",
   "version": "3.7.2"
  }
 },
 "nbformat": 4,
 "nbformat_minor": 2
}
