{
 "cells": [
  {
   "cell_type": "markdown",
   "metadata": {},
   "source": [
    "## 2. 임의의 데이터 실습"
   ]
  },
  {
   "cell_type": "code",
   "execution_count": null,
   "metadata": {},
   "outputs": [],
   "source": [
    "# URL = https://www.kaggle.com/c/titanic"
   ]
  },
  {
   "cell_type": "markdown",
   "metadata": {},
   "source": [
    "1. kaggle 가입하기.\n",
    "1. URL 접속해서 titanic competition 참여하기\n",
    "1. Data에 들어가서 data 다운로드하기 / Data - download all \n",
    "1. Data : train.csv, test.csv, gender_submission.csv 3개로 구성.\n",
    "1. 실습할 컴퓨터에서 Data load부터 시작하기."
   ]
  },
  {
   "cell_type": "markdown",
   "metadata": {},
   "source": [
    "#### 실습 할 일\n",
    "- train.csv 파일 사용\n",
    "- 지금까지 배운 내용 적용해보기.\n",
    "- 지금 당장 모델 구축하는 것은 불가능. 우리가 할 일은 indexing, slicing, pivot_table, plot, cross_table, data IO, numpy와 pandas 함수들 적용해보는 것."
   ]
  },
  {
   "cell_type": "markdown",
   "metadata": {},
   "source": [
    "#### 3월 목표\n",
    "- 모델링을 배우기 전까지, 데이터를 다루는 역량을 최대한 늘리기"
   ]
  },
  {
   "cell_type": "markdown",
   "metadata": {},
   "source": [
    "#### 최종 목표\n",
    "- train.csv을 통해 모델을 만들기 - test.csv에 survived column 생성 - gender_submission.csv와 비교하기"
   ]
  }
 ],
 "metadata": {
  "kernelspec": {
   "display_name": "Python 3",
   "language": "python",
   "name": "python3"
  },
  "language_info": {
   "codemirror_mode": {
    "name": "ipython",
    "version": 3
   },
   "file_extension": ".py",
   "mimetype": "text/x-python",
   "name": "python",
   "nbconvert_exporter": "python",
   "pygments_lexer": "ipython3",
   "version": "3.7.2"
  }
 },
 "nbformat": 4,
 "nbformat_minor": 2
}
