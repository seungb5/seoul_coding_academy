{
 "cells": [
  {
   "cell_type": "markdown",
   "metadata": {},
   "source": [
    "# 앱 / 서버에서 데이터 추출하기 (by twitter)\n",
    "- twitter 앱에서 특정 word 추출하기\n",
    "- 단계별 설명 참고해서 직접 해볼 것."
   ]
  },
  {
   "cell_type": "markdown",
   "metadata": {},
   "source": [
    "#### 1단계\n",
    "- twitter의 검색 url 지정하기.\n",
    "- twitter [개발자 계정](https://docs.aws.amazon.com/ko_kr/gettingstarted/latest/emr/getting-started-emr-sentiment-create-twitter-account.html) 생성하기."
   ]
  },
  {
   "cell_type": "code",
   "execution_count": 1,
   "metadata": {},
   "outputs": [
    {
     "data": {
      "text/plain": [
       "<Response [410]>"
      ]
     },
     "execution_count": 1,
     "metadata": {},
     "output_type": "execute_result"
    }
   ],
   "source": [
    "# url 지정\n",
    "import requests\n",
    "url = 'http://search.twitter.com/search.json?q=python%20pandas'\n",
    "resp = requests.get(url)\n",
    "resp"
   ]
  },
  {
   "cell_type": "code",
   "execution_count": null,
   "metadata": {},
   "outputs": [],
   "source": [
    "# 패키지 설치\n",
    "# !pip install tweepy"
   ]
  },
  {
   "cell_type": "markdown",
   "metadata": {},
   "source": [
    "### 2단계\n",
    "- 인증과 토큰의 key, secret을 받았다면 진행할 것.\n",
    "- 아래 코드를 실행하면 크롤링이 실행된다."
   ]
  },
  {
   "cell_type": "code",
   "execution_count": null,
   "metadata": {},
   "outputs": [],
   "source": [
    "# 아래와 같이 인증과 토큰의 key, secret을 입력하여 데이터를 받아볼 수 있당.\n",
    "import tweepy\n",
    "import time\n",
    "import os\n",
    "\n",
    "search_term = 'trump'\n",
    "search_term2= 'THAAD'\n",
    "\n",
    "lat = \"37.6\"\n",
    "lon = \"127.0\"\n",
    "radius = \"200km\"\n",
    "location = \"%s,%s,%s\" % (lat, lon, radius)\n",
    "\n",
    "# twitter 인증\n",
    "API_key = \"********\"\n",
    "API_secret = \"*********\"\n",
    "Access_token = \"***********\"\n",
    "Access_token_secret = \"*********\"\n",
    "\n",
    "auth = tweepy.OAuthHandler(API_key, API_secret)\n",
    "auth.set_access_token(Access_token, Access_token_secret)\n",
    "\n",
    "# twitter API rapper instance 획득\n",
    "api = tweepy.API(auth)\n",
    "\n",
    "# Cursor를 이용한 tweet 검색\n",
    "c=tweepy.Cursor(api.search,\n",
    "            q=\"{}+OR+{}\".format(search_term,search_term2),\n",
    "            rpp=1000,\n",
    "            geocode=location,\n",
    "            include_entities=True)\n",
    "\n",
    "# wfile = open(os.getcwd()+\"/twtw2.txt\", mode='w')   \n",
    "wfile = open(\"twtw2.txt\", mode='w', encoding='utf8')\n",
    "data = {}   \n",
    "i = 0       \n",
    "\n",
    "for tweet in c.items():\n",
    "    data['text'] = tweet.text\n",
    "    print(i, \":\", tweet.text)\n",
    "    wfile.write(data['text']+'\\n')  \n",
    "    i += 1\n",
    "    time.sleep(1)\n",
    "\n",
    "wfile.close()"
   ]
  }
 ],
 "metadata": {
  "kernelspec": {
   "display_name": "Python 3",
   "language": "python",
   "name": "python3"
  },
  "language_info": {
   "codemirror_mode": {
    "name": "ipython",
    "version": 3
   },
   "file_extension": ".py",
   "mimetype": "text/x-python",
   "name": "python",
   "nbconvert_exporter": "python",
   "pygments_lexer": "ipython3",
   "version": "3.7.2"
  }
 },
 "nbformat": 4,
 "nbformat_minor": 2
}
