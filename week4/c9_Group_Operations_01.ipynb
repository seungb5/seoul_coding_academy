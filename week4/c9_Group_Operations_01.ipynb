{
 "cells": [
  {
   "cell_type": "code",
   "execution_count": 3,
   "metadata": {},
   "outputs": [],
   "source": [
    "from __future__ import division\n",
    "from numpy.random import randn\n",
    "import numpy as np\n",
    "import os\n",
    "import matplotlib.pyplot as plt\n",
    "np.random.seed(12345)\n",
    "plt.rc('figure', figsize=(10, 6))\n",
    "from pandas import Series, DataFrame\n",
    "import pandas as pd\n",
    "np.set_printoptions(precision=4)"
   ]
  },
  {
   "cell_type": "markdown",
   "metadata": {},
   "source": [
    "## Overview\n",
    "- groupby로 그룹을 생성\n",
    "- 그룹 : 범주형(categorical) 데이터를 이용 ; 연속형 변수 : 양자화해서 사용\n",
    "- agg/ transform / apply 메소드로 그룹 연산\n",
    "- 연속형 변수를 양자화\n",
    "- pd.pivot_table 함수 : pivot + groupby\n",
    "- pd.crosstab \n",
    "- 실습 : 주가 데이터, 대통령 후보 기부 데이터"
   ]
  },
  {
   "cell_type": "markdown",
   "metadata": {},
   "source": [
    "___\n",
    "#### 0328\n",
    "### 그룹 연산\n",
    "- grouped = df.groupby(keys)[cols]\n",
    "- aggregation : mean, sum 등 모든 성분을 적용. \n",
    "\t- 집계의 의미\n",
    "\t- group 별 통계량 등 list로 여러 개 지정 가능.\n",
    "\t- groupby.agg(sum) 각 그룹에 적용, 그리고 combine 과정을 거친 후에 다시 df으로 나온다.\n",
    "\t- column 별로 다른 통계량을 제공할 수 있다. ex) 과목에 따라 다르게 통계량 지정 가능. 평균, 표준편차, 분산\n",
    "    - 행을 축소하기 때문에 차원 축소됨.\n",
    "    - 여러 개의 함수 전달 시 list로 전달. ex) ['func1', 'func2']\n",
    "- transform : +1, -1 등 각 성분에 각각 적용. 변환의 의미\n",
    "- apply : 위 두 개를 전부 가지고 있음.\n",
    "- 병합 연산 시 색인이 사라짐."
   ]
  },
  {
   "cell_type": "markdown",
   "metadata": {},
   "source": [
    "#### Groupby\n",
    "- axis = 1 인 경우는 몰라도됨. default 값 = 0\n",
    "- groupby 변수 = class, key\n",
    "- 그룹 key : 주로 index를 사용함.\n",
    "- head, tail 이용 가능.\n",
    "- nth 함수는 각 그룹의 n번째 성분을 조회할 수 있음.\n",
    "- 병합함수\n",
    "    - mean, sum, median 등의 연속형 데이터 처리 함수에서 범주형 데이터는 연산결과 자동적으로 제외된다.\n",
    "    - count, first, last, head, tail\n",
    "    - size"
   ]
  },
  {
   "cell_type": "markdown",
   "metadata": {},
   "source": [
    "#### apply\n",
    "- 그룹연산 단계에서 여러가지를 적용 시키는 단계\n",
    "- aggregation, transform 등도 결국은 apply의 의미\n",
    "- split - apply - combine 규칙을 따르는 함수\n",
    "- ex) top5 : transform, aggregation이 아닌 여러 개의 열에서 특정 value만 추출"
   ]
  },
  {
   "cell_type": "markdown",
   "metadata": {},
   "source": [
    "#### group key의 형태 :\n",
    "- 그룹으로 묶을 축의 길이와 동일한 길이의 리스트나 배열\n",
    "- DataFrame의 column을 지칭하는 값\n",
    "- dict, Series 객체\n",
    "- 축 색인 또는 색인 내의 개별 이름에 대해 실행되는 함수\n",
    "- DataFrame을 전달할 수는 없다.\n",
    "- 연속형 데이터는 양자화해서 만듦. ex) Age : youth, middle, senior\n",
    "- 양자화 변환함수 : cut, qcut"
   ]
  },
  {
   "cell_type": "markdown",
   "metadata": {},
   "source": [
    "#### pivot_table\n",
    "- 그룹과 agg의 결합\n",
    "- margine을 계산함. 그룹 별 전체합, 전체평균 등"
   ]
  },
  {
   "cell_type": "markdown",
   "metadata": {},
   "source": [
    "#### crosstab\n",
    "- 그룹 빈도를 계산하기 위한 피벗 테이블의 특수한 형태"
   ]
  },
  {
   "cell_type": "markdown",
   "metadata": {},
   "source": [
    "#### groupby operation"
   ]
  },
  {
   "cell_type": "code",
   "execution_count": 5,
   "metadata": {},
   "outputs": [
    {
     "data": {
      "text/html": [
       "<div>\n",
       "<style scoped>\n",
       "    .dataframe tbody tr th:only-of-type {\n",
       "        vertical-align: middle;\n",
       "    }\n",
       "\n",
       "    .dataframe tbody tr th {\n",
       "        vertical-align: top;\n",
       "    }\n",
       "\n",
       "    .dataframe thead th {\n",
       "        text-align: right;\n",
       "    }\n",
       "</style>\n",
       "<table border=\"1\" class=\"dataframe\">\n",
       "  <thead>\n",
       "    <tr style=\"text-align: right;\">\n",
       "      <th></th>\n",
       "      <th>key1</th>\n",
       "      <th>key2</th>\n",
       "      <th>data1</th>\n",
       "      <th>data2</th>\n",
       "    </tr>\n",
       "  </thead>\n",
       "  <tbody>\n",
       "    <tr>\n",
       "      <th>0</th>\n",
       "      <td>a</td>\n",
       "      <td>one</td>\n",
       "      <td>1.007189</td>\n",
       "      <td>0.886429</td>\n",
       "    </tr>\n",
       "    <tr>\n",
       "      <th>1</th>\n",
       "      <td>a</td>\n",
       "      <td>two</td>\n",
       "      <td>-1.296221</td>\n",
       "      <td>-2.001637</td>\n",
       "    </tr>\n",
       "    <tr>\n",
       "      <th>2</th>\n",
       "      <td>b</td>\n",
       "      <td>one</td>\n",
       "      <td>0.274992</td>\n",
       "      <td>-0.371843</td>\n",
       "    </tr>\n",
       "    <tr>\n",
       "      <th>3</th>\n",
       "      <td>b</td>\n",
       "      <td>two</td>\n",
       "      <td>0.228913</td>\n",
       "      <td>1.669025</td>\n",
       "    </tr>\n",
       "    <tr>\n",
       "      <th>4</th>\n",
       "      <td>a</td>\n",
       "      <td>one</td>\n",
       "      <td>1.352917</td>\n",
       "      <td>-0.438570</td>\n",
       "    </tr>\n",
       "  </tbody>\n",
       "</table>\n",
       "</div>"
      ],
      "text/plain": [
       "  key1 key2     data1     data2\n",
       "0    a  one  1.007189  0.886429\n",
       "1    a  two -1.296221 -2.001637\n",
       "2    b  one  0.274992 -0.371843\n",
       "3    b  two  0.228913  1.669025\n",
       "4    a  one  1.352917 -0.438570"
      ]
     },
     "execution_count": 5,
     "metadata": {},
     "output_type": "execute_result"
    }
   ],
   "source": [
    "df = DataFrame({'key1' : ['a', 'a', 'b', 'b', 'a'],\n",
    "                'key2' : ['one', 'two', 'one', 'two', 'one'],\n",
    "                'data1' : np.random.randn(5),\n",
    "                'data2' : np.random.randn(5)})\n",
    "df"
   ]
  },
  {
   "cell_type": "code",
   "execution_count": 6,
   "metadata": {},
   "outputs": [
    {
     "data": {
      "text/plain": [
       "<pandas.core.groupby.groupby.SeriesGroupBy object at 0x0000000008EDC0B8>"
      ]
     },
     "execution_count": 6,
     "metadata": {},
     "output_type": "execute_result"
    }
   ],
   "source": [
    "grouped = df['data1'].groupby(df['key1'])\n",
    "grouped"
   ]
  },
  {
   "cell_type": "code",
   "execution_count": 7,
   "metadata": {},
   "outputs": [
    {
     "data": {
      "text/plain": [
       "key1\n",
       "a    0.354628\n",
       "b    0.251952\n",
       "Name: data1, dtype: float64"
      ]
     },
     "execution_count": 7,
     "metadata": {},
     "output_type": "execute_result"
    }
   ],
   "source": [
    "grouped.mean()"
   ]
  },
  {
   "cell_type": "code",
   "execution_count": 8,
   "metadata": {},
   "outputs": [
    {
     "data": {
      "text/plain": [
       "key1  key2\n",
       "a     one     1.180053\n",
       "      two    -1.296221\n",
       "b     one     0.274992\n",
       "      two     0.228913\n",
       "Name: data1, dtype: float64"
      ]
     },
     "execution_count": 8,
     "metadata": {},
     "output_type": "execute_result"
    }
   ],
   "source": [
    "means = df['data1'].groupby([df['key1'], df['key2']]).mean()\n",
    "means"
   ]
  },
  {
   "cell_type": "code",
   "execution_count": 9,
   "metadata": {},
   "outputs": [
    {
     "data": {
      "text/html": [
       "<div>\n",
       "<style scoped>\n",
       "    .dataframe tbody tr th:only-of-type {\n",
       "        vertical-align: middle;\n",
       "    }\n",
       "\n",
       "    .dataframe tbody tr th {\n",
       "        vertical-align: top;\n",
       "    }\n",
       "\n",
       "    .dataframe thead th {\n",
       "        text-align: right;\n",
       "    }\n",
       "</style>\n",
       "<table border=\"1\" class=\"dataframe\">\n",
       "  <thead>\n",
       "    <tr style=\"text-align: right;\">\n",
       "      <th>key2</th>\n",
       "      <th>one</th>\n",
       "      <th>two</th>\n",
       "    </tr>\n",
       "    <tr>\n",
       "      <th>key1</th>\n",
       "      <th></th>\n",
       "      <th></th>\n",
       "    </tr>\n",
       "  </thead>\n",
       "  <tbody>\n",
       "    <tr>\n",
       "      <th>a</th>\n",
       "      <td>1.180053</td>\n",
       "      <td>-1.296221</td>\n",
       "    </tr>\n",
       "    <tr>\n",
       "      <th>b</th>\n",
       "      <td>0.274992</td>\n",
       "      <td>0.228913</td>\n",
       "    </tr>\n",
       "  </tbody>\n",
       "</table>\n",
       "</div>"
      ],
      "text/plain": [
       "key2       one       two\n",
       "key1                    \n",
       "a     1.180053 -1.296221\n",
       "b     0.274992  0.228913"
      ]
     },
     "execution_count": 9,
     "metadata": {},
     "output_type": "execute_result"
    }
   ],
   "source": [
    "means.unstack()"
   ]
  },
  {
   "cell_type": "markdown",
   "metadata": {},
   "source": [
    "- 아래와 같이 길이가 같은 Series라면 연산할 때 문제없다."
   ]
  },
  {
   "cell_type": "code",
   "execution_count": 10,
   "metadata": {},
   "outputs": [
    {
     "data": {
      "text/plain": [
       "California  2005   -1.296221\n",
       "            2006    0.274992\n",
       "Ohio        2005    0.618051\n",
       "            2006    1.352917\n",
       "Name: data1, dtype: float64"
      ]
     },
     "execution_count": 10,
     "metadata": {},
     "output_type": "execute_result"
    }
   ],
   "source": [
    "states = np.array(['Ohio', 'California', 'California', 'Ohio', 'Ohio'])\n",
    "years = np.array([2005, 2005, 2006, 2005, 2006])\n",
    "df['data1'].groupby([states, years]).mean()"
   ]
  },
  {
   "cell_type": "markdown",
   "metadata": {},
   "source": [
    "- 아래의 경우 mean() 함수가 사용되기 때문에, 범주형 변수인 key2는 제외된다."
   ]
  },
  {
   "cell_type": "code",
   "execution_count": 11,
   "metadata": {},
   "outputs": [
    {
     "data": {
      "text/html": [
       "<div>\n",
       "<style scoped>\n",
       "    .dataframe tbody tr th:only-of-type {\n",
       "        vertical-align: middle;\n",
       "    }\n",
       "\n",
       "    .dataframe tbody tr th {\n",
       "        vertical-align: top;\n",
       "    }\n",
       "\n",
       "    .dataframe thead th {\n",
       "        text-align: right;\n",
       "    }\n",
       "</style>\n",
       "<table border=\"1\" class=\"dataframe\">\n",
       "  <thead>\n",
       "    <tr style=\"text-align: right;\">\n",
       "      <th></th>\n",
       "      <th>data1</th>\n",
       "      <th>data2</th>\n",
       "    </tr>\n",
       "    <tr>\n",
       "      <th>key1</th>\n",
       "      <th></th>\n",
       "      <th></th>\n",
       "    </tr>\n",
       "  </thead>\n",
       "  <tbody>\n",
       "    <tr>\n",
       "      <th>a</th>\n",
       "      <td>0.354628</td>\n",
       "      <td>-0.517926</td>\n",
       "    </tr>\n",
       "    <tr>\n",
       "      <th>b</th>\n",
       "      <td>0.251952</td>\n",
       "      <td>0.648591</td>\n",
       "    </tr>\n",
       "  </tbody>\n",
       "</table>\n",
       "</div>"
      ],
      "text/plain": [
       "         data1     data2\n",
       "key1                    \n",
       "a     0.354628 -0.517926\n",
       "b     0.251952  0.648591"
      ]
     },
     "execution_count": 11,
     "metadata": {},
     "output_type": "execute_result"
    }
   ],
   "source": [
    "df.groupby('key1').mean()"
   ]
  },
  {
   "cell_type": "code",
   "execution_count": null,
   "metadata": {},
   "outputs": [],
   "source": [
    "for k, group"
   ]
  },
  {
   "cell_type": "code",
   "execution_count": 12,
   "metadata": {},
   "outputs": [
    {
     "data": {
      "text/html": [
       "<div>\n",
       "<style scoped>\n",
       "    .dataframe tbody tr th:only-of-type {\n",
       "        vertical-align: middle;\n",
       "    }\n",
       "\n",
       "    .dataframe tbody tr th {\n",
       "        vertical-align: top;\n",
       "    }\n",
       "\n",
       "    .dataframe thead th {\n",
       "        text-align: right;\n",
       "    }\n",
       "</style>\n",
       "<table border=\"1\" class=\"dataframe\">\n",
       "  <thead>\n",
       "    <tr style=\"text-align: right;\">\n",
       "      <th></th>\n",
       "      <th></th>\n",
       "      <th>data1</th>\n",
       "      <th>data2</th>\n",
       "    </tr>\n",
       "    <tr>\n",
       "      <th>key1</th>\n",
       "      <th>key2</th>\n",
       "      <th></th>\n",
       "      <th></th>\n",
       "    </tr>\n",
       "  </thead>\n",
       "  <tbody>\n",
       "    <tr>\n",
       "      <th rowspan=\"2\" valign=\"top\">a</th>\n",
       "      <th>one</th>\n",
       "      <td>1.180053</td>\n",
       "      <td>0.223930</td>\n",
       "    </tr>\n",
       "    <tr>\n",
       "      <th>two</th>\n",
       "      <td>-1.296221</td>\n",
       "      <td>-2.001637</td>\n",
       "    </tr>\n",
       "    <tr>\n",
       "      <th rowspan=\"2\" valign=\"top\">b</th>\n",
       "      <th>one</th>\n",
       "      <td>0.274992</td>\n",
       "      <td>-0.371843</td>\n",
       "    </tr>\n",
       "    <tr>\n",
       "      <th>two</th>\n",
       "      <td>0.228913</td>\n",
       "      <td>1.669025</td>\n",
       "    </tr>\n",
       "  </tbody>\n",
       "</table>\n",
       "</div>"
      ],
      "text/plain": [
       "              data1     data2\n",
       "key1 key2                    \n",
       "a    one   1.180053  0.223930\n",
       "     two  -1.296221 -2.001637\n",
       "b    one   0.274992 -0.371843\n",
       "     two   0.228913  1.669025"
      ]
     },
     "execution_count": 12,
     "metadata": {},
     "output_type": "execute_result"
    }
   ],
   "source": [
    "df.groupby(['key1', 'key2']).mean()"
   ]
  },
  {
   "cell_type": "markdown",
   "metadata": {},
   "source": [
    "size()\n",
    "- 그룹별 크기를 값으로 하는 Series를 반환.\n",
    "- 현재는 그룹의 색인에서 누락된 값은 결과에서 제외되나, 추후 Na 그룹을 결과에 포함시키도록하는 옵션이 추가될 예정.\n",
    "- df.size와 다른 함수이다."
   ]
  },
  {
   "cell_type": "code",
   "execution_count": 13,
   "metadata": {},
   "outputs": [
    {
     "data": {
      "text/plain": [
       "key1  key2\n",
       "a     one     2\n",
       "      two     1\n",
       "b     one     1\n",
       "      two     1\n",
       "dtype: int64"
      ]
     },
     "execution_count": 13,
     "metadata": {},
     "output_type": "execute_result"
    }
   ],
   "source": [
    "df.groupby(['key1', 'key2']).size()"
   ]
  },
  {
   "cell_type": "code",
   "execution_count": 15,
   "metadata": {},
   "outputs": [
    {
     "data": {
      "text/html": [
       "<div>\n",
       "<style scoped>\n",
       "    .dataframe tbody tr th:only-of-type {\n",
       "        vertical-align: middle;\n",
       "    }\n",
       "\n",
       "    .dataframe tbody tr th {\n",
       "        vertical-align: top;\n",
       "    }\n",
       "\n",
       "    .dataframe thead th {\n",
       "        text-align: right;\n",
       "    }\n",
       "</style>\n",
       "<table border=\"1\" class=\"dataframe\">\n",
       "  <thead>\n",
       "    <tr style=\"text-align: right;\">\n",
       "      <th></th>\n",
       "      <th></th>\n",
       "      <th>data1</th>\n",
       "      <th>data2</th>\n",
       "    </tr>\n",
       "    <tr>\n",
       "      <th>key1</th>\n",
       "      <th>key2</th>\n",
       "      <th></th>\n",
       "      <th></th>\n",
       "    </tr>\n",
       "  </thead>\n",
       "  <tbody>\n",
       "    <tr>\n",
       "      <th rowspan=\"2\" valign=\"top\">a</th>\n",
       "      <th>one</th>\n",
       "      <td>2</td>\n",
       "      <td>2</td>\n",
       "    </tr>\n",
       "    <tr>\n",
       "      <th>two</th>\n",
       "      <td>1</td>\n",
       "      <td>1</td>\n",
       "    </tr>\n",
       "    <tr>\n",
       "      <th rowspan=\"2\" valign=\"top\">b</th>\n",
       "      <th>one</th>\n",
       "      <td>1</td>\n",
       "      <td>1</td>\n",
       "    </tr>\n",
       "    <tr>\n",
       "      <th>two</th>\n",
       "      <td>1</td>\n",
       "      <td>1</td>\n",
       "    </tr>\n",
       "  </tbody>\n",
       "</table>\n",
       "</div>"
      ],
      "text/plain": [
       "           data1  data2\n",
       "key1 key2              \n",
       "a    one       2      2\n",
       "     two       1      1\n",
       "b    one       1      1\n",
       "     two       1      1"
      ]
     },
     "execution_count": 15,
     "metadata": {},
     "output_type": "execute_result"
    }
   ],
   "source": [
    "df.groupby(['key1', 'key2']).count() # df 유지해주고, 결측치 여부를 판단하여 제외하고 count."
   ]
  },
  {
   "cell_type": "markdown",
   "metadata": {},
   "source": [
    "### Iterating over groups\n",
    "- 그룹 iterating"
   ]
  },
  {
   "cell_type": "code",
   "execution_count": 16,
   "metadata": {},
   "outputs": [
    {
     "name": "stdout",
     "output_type": "stream",
     "text": [
      "a\n",
      "  key1 key2     data1     data2\n",
      "0    a  one  1.007189  0.886429\n",
      "1    a  two -1.296221 -2.001637\n",
      "4    a  one  1.352917 -0.438570\n",
      "b\n",
      "  key1 key2     data1     data2\n",
      "2    b  one  0.274992 -0.371843\n",
      "3    b  two  0.228913  1.669025\n"
     ]
    }
   ],
   "source": [
    "for name, group in df.groupby('key1'):\n",
    "    print(name)\n",
    "    print(group)"
   ]
  },
  {
   "cell_type": "code",
   "execution_count": 17,
   "metadata": {},
   "outputs": [
    {
     "name": "stdout",
     "output_type": "stream",
     "text": [
      "('a', 'one')\n",
      "  key1 key2     data1     data2\n",
      "0    a  one  1.007189  0.886429\n",
      "4    a  one  1.352917 -0.438570\n",
      "('a', 'two')\n",
      "  key1 key2     data1     data2\n",
      "1    a  two -1.296221 -2.001637\n",
      "('b', 'one')\n",
      "  key1 key2     data1     data2\n",
      "2    b  one  0.274992 -0.371843\n",
      "('b', 'two')\n",
      "  key1 key2     data1     data2\n",
      "3    b  two  0.228913  1.669025\n"
     ]
    }
   ],
   "source": [
    "for (k1, k2), group in df.groupby(['key1', 'key2']):\n",
    "    print((k1, k2))\n",
    "    print(group)"
   ]
  },
  {
   "cell_type": "markdown",
   "metadata": {},
   "source": [
    "- 매 반복마다 key,value를 쌍으로 반환해준다."
   ]
  },
  {
   "cell_type": "code",
   "execution_count": 18,
   "metadata": {},
   "outputs": [
    {
     "data": {
      "text/html": [
       "<div>\n",
       "<style scoped>\n",
       "    .dataframe tbody tr th:only-of-type {\n",
       "        vertical-align: middle;\n",
       "    }\n",
       "\n",
       "    .dataframe tbody tr th {\n",
       "        vertical-align: top;\n",
       "    }\n",
       "\n",
       "    .dataframe thead th {\n",
       "        text-align: right;\n",
       "    }\n",
       "</style>\n",
       "<table border=\"1\" class=\"dataframe\">\n",
       "  <thead>\n",
       "    <tr style=\"text-align: right;\">\n",
       "      <th></th>\n",
       "      <th>key1</th>\n",
       "      <th>key2</th>\n",
       "      <th>data1</th>\n",
       "      <th>data2</th>\n",
       "    </tr>\n",
       "  </thead>\n",
       "  <tbody>\n",
       "    <tr>\n",
       "      <th>2</th>\n",
       "      <td>b</td>\n",
       "      <td>one</td>\n",
       "      <td>0.274992</td>\n",
       "      <td>-0.371843</td>\n",
       "    </tr>\n",
       "    <tr>\n",
       "      <th>3</th>\n",
       "      <td>b</td>\n",
       "      <td>two</td>\n",
       "      <td>0.228913</td>\n",
       "      <td>1.669025</td>\n",
       "    </tr>\n",
       "  </tbody>\n",
       "</table>\n",
       "</div>"
      ],
      "text/plain": [
       "  key1 key2     data1     data2\n",
       "2    b  one  0.274992 -0.371843\n",
       "3    b  two  0.228913  1.669025"
      ]
     },
     "execution_count": 18,
     "metadata": {},
     "output_type": "execute_result"
    }
   ],
   "source": [
    "pieces = dict(list(df.groupby('key1')))\n",
    "pieces['b']"
   ]
  },
  {
   "cell_type": "code",
   "execution_count": 19,
   "metadata": {},
   "outputs": [
    {
     "data": {
      "text/plain": [
       "key1      object\n",
       "key2      object\n",
       "data1    float64\n",
       "data2    float64\n",
       "dtype: object"
      ]
     },
     "execution_count": 19,
     "metadata": {},
     "output_type": "execute_result"
    }
   ],
   "source": [
    "df.dtypes # col에 따라 dtype이 다르므로 df.dtype이 아닌 df.dtypes를 해야한다."
   ]
  },
  {
   "cell_type": "code",
   "execution_count": 20,
   "metadata": {},
   "outputs": [
    {
     "data": {
      "text/plain": [
       "{dtype('float64'):       data1     data2\n",
       " 0  1.007189  0.886429\n",
       " 1 -1.296221 -2.001637\n",
       " 2  0.274992 -0.371843\n",
       " 3  0.228913  1.669025\n",
       " 4  1.352917 -0.438570, dtype('O'):   key1 key2\n",
       " 0    a  one\n",
       " 1    a  two\n",
       " 2    b  one\n",
       " 3    b  two\n",
       " 4    a  one}"
      ]
     },
     "execution_count": 20,
     "metadata": {},
     "output_type": "execute_result"
    }
   ],
   "source": [
    "grouped = df.groupby(df.dtypes, axis=1)\n",
    "dict(list(grouped))"
   ]
  },
  {
   "cell_type": "markdown",
   "metadata": {},
   "source": [
    "- groupby 객체의 key는 groupby.key() 함수로 접근 가능"
   ]
  },
  {
   "cell_type": "code",
   "execution_count": 24,
   "metadata": {},
   "outputs": [
    {
     "data": {
      "text/plain": [
       "{dtype('float64'):       data1     data2\n",
       " 0  1.007189  0.886429\n",
       " 1 -1.296221 -2.001637\n",
       " 2  0.274992 -0.371843\n",
       " 3  0.228913  1.669025\n",
       " 4  1.352917 -0.438570, dtype('O'):   key1 key2\n",
       " 0    a  one\n",
       " 1    a  two\n",
       " 2    b  one\n",
       " 3    b  two\n",
       " 4    a  one}"
      ]
     },
     "execution_count": 24,
     "metadata": {},
     "output_type": "execute_result"
    }
   ],
   "source": [
    "dict_grouped = dict(list(grouped))\n",
    "dict_grouped\n",
    "\n",
    "\n",
    "# dtype('float64') X\n",
    "# np.dtype('float64')\n",
    "# "
   ]
  },
  {
   "cell_type": "code",
   "execution_count": 26,
   "metadata": {},
   "outputs": [
    {
     "data": {
      "text/plain": [
       "dict_keys([dtype('float64'), dtype('O')])"
      ]
     },
     "execution_count": 26,
     "metadata": {},
     "output_type": "execute_result"
    }
   ],
   "source": [
    "dict_grouped.keys()# str이 아닌 np.array 형식임."
   ]
  },
  {
   "cell_type": "markdown",
   "metadata": {},
   "source": [
    "### Selecting a column or subset of columns"
   ]
  },
  {
   "cell_type": "code",
   "execution_count": null,
   "metadata": {},
   "outputs": [],
   "source": [
    "df['data1'].groupby(df['key1'])\n",
    "df.groupby('key1')['data1'] # Series\n",
    "df.groupby('key1')[['data1']] # DataFrame"
   ]
  },
  {
   "cell_type": "code",
   "execution_count": 34,
   "metadata": {},
   "outputs": [
    {
     "data": {
      "text/plain": [
       "0    1.007189\n",
       "1   -1.296221\n",
       "2    0.274992\n",
       "3    0.228913\n",
       "4    1.352917\n",
       "Name: data1, dtype: float64"
      ]
     },
     "execution_count": 34,
     "metadata": {},
     "output_type": "execute_result"
    }
   ],
   "source": [
    "df['data1']"
   ]
  },
  {
   "cell_type": "code",
   "execution_count": 35,
   "metadata": {},
   "outputs": [
    {
     "ename": "KeyError",
     "evalue": "'key1'",
     "output_type": "error",
     "traceback": [
      "\u001b[1;31m---------------------------------------------------------------------------\u001b[0m",
      "\u001b[1;31mKeyError\u001b[0m                                  Traceback (most recent call last)",
      "\u001b[1;32m<ipython-input-35-1300518fc541>\u001b[0m in \u001b[0;36m<module>\u001b[1;34m()\u001b[0m\n\u001b[1;32m----> 1\u001b[1;33m \u001b[0mdf\u001b[0m\u001b[1;33m[\u001b[0m\u001b[1;34m'data1'\u001b[0m\u001b[1;33m]\u001b[0m\u001b[1;33m.\u001b[0m\u001b[0mgroupby\u001b[0m\u001b[1;33m(\u001b[0m\u001b[1;34m'key1'\u001b[0m\u001b[1;33m)\u001b[0m\u001b[1;33m\u001b[0m\u001b[0m\n\u001b[0m",
      "\u001b[1;32mC:\\ProgramData\\Anaconda3\\lib\\site-packages\\pandas\\core\\generic.py\u001b[0m in \u001b[0;36mgroupby\u001b[1;34m(self, by, axis, level, as_index, sort, group_keys, squeeze, observed, **kwargs)\u001b[0m\n\u001b[0;32m   6657\u001b[0m         return groupby(self, by=by, axis=axis, level=level, as_index=as_index,\n\u001b[0;32m   6658\u001b[0m                        \u001b[0msort\u001b[0m\u001b[1;33m=\u001b[0m\u001b[0msort\u001b[0m\u001b[1;33m,\u001b[0m \u001b[0mgroup_keys\u001b[0m\u001b[1;33m=\u001b[0m\u001b[0mgroup_keys\u001b[0m\u001b[1;33m,\u001b[0m \u001b[0msqueeze\u001b[0m\u001b[1;33m=\u001b[0m\u001b[0msqueeze\u001b[0m\u001b[1;33m,\u001b[0m\u001b[1;33m\u001b[0m\u001b[0m\n\u001b[1;32m-> 6659\u001b[1;33m                        observed=observed, **kwargs)\n\u001b[0m\u001b[0;32m   6660\u001b[0m \u001b[1;33m\u001b[0m\u001b[0m\n\u001b[0;32m   6661\u001b[0m     def asfreq(self, freq, method=None, how=None, normalize=False,\n",
      "\u001b[1;32mC:\\ProgramData\\Anaconda3\\lib\\site-packages\\pandas\\core\\groupby\\groupby.py\u001b[0m in \u001b[0;36mgroupby\u001b[1;34m(obj, by, **kwds)\u001b[0m\n\u001b[0;32m   2150\u001b[0m         \u001b[1;32mraise\u001b[0m \u001b[0mTypeError\u001b[0m\u001b[1;33m(\u001b[0m\u001b[1;34m'invalid type: %s'\u001b[0m \u001b[1;33m%\u001b[0m \u001b[0mtype\u001b[0m\u001b[1;33m(\u001b[0m\u001b[0mobj\u001b[0m\u001b[1;33m)\u001b[0m\u001b[1;33m)\u001b[0m\u001b[1;33m\u001b[0m\u001b[0m\n\u001b[0;32m   2151\u001b[0m \u001b[1;33m\u001b[0m\u001b[0m\n\u001b[1;32m-> 2152\u001b[1;33m     \u001b[1;32mreturn\u001b[0m \u001b[0mklass\u001b[0m\u001b[1;33m(\u001b[0m\u001b[0mobj\u001b[0m\u001b[1;33m,\u001b[0m \u001b[0mby\u001b[0m\u001b[1;33m,\u001b[0m \u001b[1;33m**\u001b[0m\u001b[0mkwds\u001b[0m\u001b[1;33m)\u001b[0m\u001b[1;33m\u001b[0m\u001b[0m\n\u001b[0m\u001b[0;32m   2153\u001b[0m \u001b[1;33m\u001b[0m\u001b[0m\n\u001b[0;32m   2154\u001b[0m \u001b[1;33m\u001b[0m\u001b[0m\n",
      "\u001b[1;32mC:\\ProgramData\\Anaconda3\\lib\\site-packages\\pandas\\core\\groupby\\groupby.py\u001b[0m in \u001b[0;36m__init__\u001b[1;34m(self, obj, keys, axis, level, grouper, exclusions, selection, as_index, sort, group_keys, squeeze, observed, **kwargs)\u001b[0m\n\u001b[0;32m    597\u001b[0m                                                     \u001b[0msort\u001b[0m\u001b[1;33m=\u001b[0m\u001b[0msort\u001b[0m\u001b[1;33m,\u001b[0m\u001b[1;33m\u001b[0m\u001b[0m\n\u001b[0;32m    598\u001b[0m                                                     \u001b[0mobserved\u001b[0m\u001b[1;33m=\u001b[0m\u001b[0mobserved\u001b[0m\u001b[1;33m,\u001b[0m\u001b[1;33m\u001b[0m\u001b[0m\n\u001b[1;32m--> 599\u001b[1;33m                                                     mutated=self.mutated)\n\u001b[0m\u001b[0;32m    600\u001b[0m \u001b[1;33m\u001b[0m\u001b[0m\n\u001b[0;32m    601\u001b[0m         \u001b[0mself\u001b[0m\u001b[1;33m.\u001b[0m\u001b[0mobj\u001b[0m \u001b[1;33m=\u001b[0m \u001b[0mobj\u001b[0m\u001b[1;33m\u001b[0m\u001b[0m\n",
      "\u001b[1;32mC:\\ProgramData\\Anaconda3\\lib\\site-packages\\pandas\\core\\groupby\\groupby.py\u001b[0m in \u001b[0;36m_get_grouper\u001b[1;34m(obj, key, axis, level, sort, observed, mutated, validate)\u001b[0m\n\u001b[0;32m   3289\u001b[0m                 \u001b[0min_axis\u001b[0m\u001b[1;33m,\u001b[0m \u001b[0mname\u001b[0m\u001b[1;33m,\u001b[0m \u001b[0mlevel\u001b[0m\u001b[1;33m,\u001b[0m \u001b[0mgpr\u001b[0m \u001b[1;33m=\u001b[0m \u001b[1;32mFalse\u001b[0m\u001b[1;33m,\u001b[0m \u001b[1;32mNone\u001b[0m\u001b[1;33m,\u001b[0m \u001b[0mgpr\u001b[0m\u001b[1;33m,\u001b[0m \u001b[1;32mNone\u001b[0m\u001b[1;33m\u001b[0m\u001b[0m\n\u001b[0;32m   3290\u001b[0m             \u001b[1;32melse\u001b[0m\u001b[1;33m:\u001b[0m\u001b[1;33m\u001b[0m\u001b[0m\n\u001b[1;32m-> 3291\u001b[1;33m                 \u001b[1;32mraise\u001b[0m \u001b[0mKeyError\u001b[0m\u001b[1;33m(\u001b[0m\u001b[0mgpr\u001b[0m\u001b[1;33m)\u001b[0m\u001b[1;33m\u001b[0m\u001b[0m\n\u001b[0m\u001b[0;32m   3292\u001b[0m         \u001b[1;32melif\u001b[0m \u001b[0misinstance\u001b[0m\u001b[1;33m(\u001b[0m\u001b[0mgpr\u001b[0m\u001b[1;33m,\u001b[0m \u001b[0mGrouper\u001b[0m\u001b[1;33m)\u001b[0m \u001b[1;32mand\u001b[0m \u001b[0mgpr\u001b[0m\u001b[1;33m.\u001b[0m\u001b[0mkey\u001b[0m \u001b[1;32mis\u001b[0m \u001b[1;32mnot\u001b[0m \u001b[1;32mNone\u001b[0m\u001b[1;33m:\u001b[0m\u001b[1;33m\u001b[0m\u001b[0m\n\u001b[0;32m   3293\u001b[0m             \u001b[1;31m# Add key to exclusions\u001b[0m\u001b[1;33m\u001b[0m\u001b[1;33m\u001b[0m\u001b[0m\n",
      "\u001b[1;31mKeyError\u001b[0m: 'key1'"
     ]
    }
   ],
   "source": [
    "df['data1'].groupby('key1') # key1"
   ]
  },
  {
   "cell_type": "code",
   "execution_count": 36,
   "metadata": {},
   "outputs": [
    {
     "data": {
      "text/plain": [
       "0    a\n",
       "1    a\n",
       "2    b\n",
       "3    b\n",
       "4    a\n",
       "Name: key1, dtype: object"
      ]
     },
     "execution_count": 36,
     "metadata": {},
     "output_type": "execute_result"
    }
   ],
   "source": [
    "df['key1'] # 따라서 df['data1'].groupby(df['key1'])을 써야한다."
   ]
  },
  {
   "cell_type": "code",
   "execution_count": 22,
   "metadata": {},
   "outputs": [
    {
     "data": {
      "text/plain": [
       "<pandas.core.groupby.groupby.DataFrameGroupBy object at 0x0000000005375160>"
      ]
     },
     "execution_count": 22,
     "metadata": {},
     "output_type": "execute_result"
    }
   ],
   "source": [
    "df.groupby('key1')['data1']\n",
    "df.groupby('key1')[['data2']]"
   ]
  },
  {
   "cell_type": "code",
   "execution_count": null,
   "metadata": {},
   "outputs": [],
   "source": [
    "df['data1'].groupby(df['key1'])\n",
    "df[['data2']].groupby(df['key1'])"
   ]
  },
  {
   "cell_type": "code",
   "execution_count": null,
   "metadata": {},
   "outputs": [],
   "source": [
    "df.groupby(['key1', 'key2'])[['data2']].mean()"
   ]
  },
  {
   "cell_type": "code",
   "execution_count": null,
   "metadata": {},
   "outputs": [],
   "source": [
    "s_grouped = df.groupby(['key1', 'key2'])['data2']\n",
    "s_grouped"
   ]
  },
  {
   "cell_type": "code",
   "execution_count": null,
   "metadata": {},
   "outputs": [],
   "source": [
    "s_grouped.mean()"
   ]
  },
  {
   "cell_type": "markdown",
   "metadata": {},
   "source": [
    "### Grouping with dicts and Series"
   ]
  },
  {
   "cell_type": "code",
   "execution_count": 32,
   "metadata": {},
   "outputs": [
    {
     "name": "stderr",
     "output_type": "stream",
     "text": [
      "C:\\ProgramData\\Anaconda3\\lib\\site-packages\\ipykernel_launcher.py:4: DeprecationWarning: \n",
      ".ix is deprecated. Please use\n",
      ".loc for label based indexing or\n",
      ".iloc for positional indexing\n",
      "\n",
      "See the documentation here:\n",
      "http://pandas.pydata.org/pandas-docs/stable/indexing.html#ix-indexer-is-deprecated\n",
      "  after removing the cwd from sys.path.\n"
     ]
    },
    {
     "data": {
      "text/html": [
       "<div>\n",
       "<style scoped>\n",
       "    .dataframe tbody tr th:only-of-type {\n",
       "        vertical-align: middle;\n",
       "    }\n",
       "\n",
       "    .dataframe tbody tr th {\n",
       "        vertical-align: top;\n",
       "    }\n",
       "\n",
       "    .dataframe thead th {\n",
       "        text-align: right;\n",
       "    }\n",
       "</style>\n",
       "<table border=\"1\" class=\"dataframe\">\n",
       "  <thead>\n",
       "    <tr style=\"text-align: right;\">\n",
       "      <th></th>\n",
       "      <th>a</th>\n",
       "      <th>b</th>\n",
       "      <th>c</th>\n",
       "      <th>d</th>\n",
       "      <th>e</th>\n",
       "    </tr>\n",
       "  </thead>\n",
       "  <tbody>\n",
       "    <tr>\n",
       "      <th>Joe</th>\n",
       "      <td>-1.332610</td>\n",
       "      <td>1.074623</td>\n",
       "      <td>0.723642</td>\n",
       "      <td>0.690002</td>\n",
       "      <td>1.001543</td>\n",
       "    </tr>\n",
       "    <tr>\n",
       "      <th>Steve</th>\n",
       "      <td>-0.503087</td>\n",
       "      <td>-0.622274</td>\n",
       "      <td>-0.921169</td>\n",
       "      <td>-0.726213</td>\n",
       "      <td>0.222896</td>\n",
       "    </tr>\n",
       "    <tr>\n",
       "      <th>Wes</th>\n",
       "      <td>0.051316</td>\n",
       "      <td>NaN</td>\n",
       "      <td>NaN</td>\n",
       "      <td>0.433610</td>\n",
       "      <td>1.010737</td>\n",
       "    </tr>\n",
       "    <tr>\n",
       "      <th>Jim</th>\n",
       "      <td>1.824875</td>\n",
       "      <td>-0.997518</td>\n",
       "      <td>0.850591</td>\n",
       "      <td>-0.131578</td>\n",
       "      <td>0.912414</td>\n",
       "    </tr>\n",
       "    <tr>\n",
       "      <th>Travis</th>\n",
       "      <td>0.188211</td>\n",
       "      <td>2.169461</td>\n",
       "      <td>-0.114928</td>\n",
       "      <td>2.003697</td>\n",
       "      <td>0.029610</td>\n",
       "    </tr>\n",
       "  </tbody>\n",
       "</table>\n",
       "</div>"
      ],
      "text/plain": [
       "               a         b         c         d         e\n",
       "Joe    -1.332610  1.074623  0.723642  0.690002  1.001543\n",
       "Steve  -0.503087 -0.622274 -0.921169 -0.726213  0.222896\n",
       "Wes     0.051316       NaN       NaN  0.433610  1.010737\n",
       "Jim     1.824875 -0.997518  0.850591 -0.131578  0.912414\n",
       "Travis  0.188211  2.169461 -0.114928  2.003697  0.029610"
      ]
     },
     "execution_count": 32,
     "metadata": {},
     "output_type": "execute_result"
    }
   ],
   "source": [
    "people = DataFrame(np.random.randn(5, 5),\n",
    "                   columns=['a', 'b', 'c', 'd', 'e'],\n",
    "                   index=['Joe', 'Steve', 'Wes', 'Jim', 'Travis'])\n",
    "people.ix[2:3, ['b', 'c']] = np.nan # Add a few NA values\n",
    "people"
   ]
  },
  {
   "cell_type": "code",
   "execution_count": null,
   "metadata": {},
   "outputs": [],
   "source": [
    "df['data1'].groupby(df['key1'])\n",
    "df.groupby('key1')['data1'] # Series\n",
    "df.groupby('key1')[['data1']] # DataFrame"
   ]
  },
  {
   "cell_type": "code",
   "execution_count": 28,
   "metadata": {},
   "outputs": [],
   "source": [
    "mapping = {'a': 'red', 'b': 'red', 'c': 'blue',\n",
    "           'd': 'blue', 'e': 'red', 'f' : 'orange'}"
   ]
  },
  {
   "cell_type": "code",
   "execution_count": 29,
   "metadata": {},
   "outputs": [
    {
     "data": {
      "text/html": [
       "<div>\n",
       "<style scoped>\n",
       "    .dataframe tbody tr th:only-of-type {\n",
       "        vertical-align: middle;\n",
       "    }\n",
       "\n",
       "    .dataframe tbody tr th {\n",
       "        vertical-align: top;\n",
       "    }\n",
       "\n",
       "    .dataframe thead th {\n",
       "        text-align: right;\n",
       "    }\n",
       "</style>\n",
       "<table border=\"1\" class=\"dataframe\">\n",
       "  <thead>\n",
       "    <tr style=\"text-align: right;\">\n",
       "      <th></th>\n",
       "      <th>blue</th>\n",
       "      <th>red</th>\n",
       "    </tr>\n",
       "  </thead>\n",
       "  <tbody>\n",
       "    <tr>\n",
       "      <th>Joe</th>\n",
       "      <td>2.227716</td>\n",
       "      <td>-0.639844</td>\n",
       "    </tr>\n",
       "    <tr>\n",
       "      <th>Steve</th>\n",
       "      <td>0.524712</td>\n",
       "      <td>1.770545</td>\n",
       "    </tr>\n",
       "    <tr>\n",
       "      <th>Wes</th>\n",
       "      <td>-1.860761</td>\n",
       "      <td>-1.574301</td>\n",
       "    </tr>\n",
       "    <tr>\n",
       "      <th>Jim</th>\n",
       "      <td>-0.943685</td>\n",
       "      <td>-0.372906</td>\n",
       "    </tr>\n",
       "    <tr>\n",
       "      <th>Travis</th>\n",
       "      <td>-2.512731</td>\n",
       "      <td>-3.865992</td>\n",
       "    </tr>\n",
       "  </tbody>\n",
       "</table>\n",
       "</div>"
      ],
      "text/plain": [
       "            blue       red\n",
       "Joe     2.227716 -0.639844\n",
       "Steve   0.524712  1.770545\n",
       "Wes    -1.860761 -1.574301\n",
       "Jim    -0.943685 -0.372906\n",
       "Travis -2.512731 -3.865992"
      ]
     },
     "execution_count": 29,
     "metadata": {},
     "output_type": "execute_result"
    }
   ],
   "source": [
    "by_column = people.groupby(mapping, axis=1)\n",
    "by_column.sum()"
   ]
  },
  {
   "cell_type": "code",
   "execution_count": 30,
   "metadata": {},
   "outputs": [
    {
     "data": {
      "text/plain": [
       "a       red\n",
       "b       red\n",
       "c      blue\n",
       "d      blue\n",
       "e       red\n",
       "f    orange\n",
       "dtype: object"
      ]
     },
     "execution_count": 30,
     "metadata": {},
     "output_type": "execute_result"
    }
   ],
   "source": [
    "map_series = Series(mapping)\n",
    "map_series"
   ]
  },
  {
   "cell_type": "code",
   "execution_count": 33,
   "metadata": {},
   "outputs": [
    {
     "data": {
      "text/html": [
       "<div>\n",
       "<style scoped>\n",
       "    .dataframe tbody tr th:only-of-type {\n",
       "        vertical-align: middle;\n",
       "    }\n",
       "\n",
       "    .dataframe tbody tr th {\n",
       "        vertical-align: top;\n",
       "    }\n",
       "\n",
       "    .dataframe thead th {\n",
       "        text-align: right;\n",
       "    }\n",
       "</style>\n",
       "<table border=\"1\" class=\"dataframe\">\n",
       "  <thead>\n",
       "    <tr style=\"text-align: right;\">\n",
       "      <th></th>\n",
       "      <th>blue</th>\n",
       "      <th>red</th>\n",
       "    </tr>\n",
       "  </thead>\n",
       "  <tbody>\n",
       "    <tr>\n",
       "      <th>Joe</th>\n",
       "      <td>2</td>\n",
       "      <td>3</td>\n",
       "    </tr>\n",
       "    <tr>\n",
       "      <th>Steve</th>\n",
       "      <td>2</td>\n",
       "      <td>3</td>\n",
       "    </tr>\n",
       "    <tr>\n",
       "      <th>Wes</th>\n",
       "      <td>1</td>\n",
       "      <td>2</td>\n",
       "    </tr>\n",
       "    <tr>\n",
       "      <th>Jim</th>\n",
       "      <td>2</td>\n",
       "      <td>3</td>\n",
       "    </tr>\n",
       "    <tr>\n",
       "      <th>Travis</th>\n",
       "      <td>2</td>\n",
       "      <td>3</td>\n",
       "    </tr>\n",
       "  </tbody>\n",
       "</table>\n",
       "</div>"
      ],
      "text/plain": [
       "        blue  red\n",
       "Joe        2    3\n",
       "Steve      2    3\n",
       "Wes        1    2\n",
       "Jim        2    3\n",
       "Travis     2    3"
      ]
     },
     "execution_count": 33,
     "metadata": {},
     "output_type": "execute_result"
    }
   ],
   "source": [
    "people.groupby(map_series, axis=1).count()"
   ]
  },
  {
   "cell_type": "markdown",
   "metadata": {},
   "source": [
    "### Grouping with functions"
   ]
  },
  {
   "cell_type": "code",
   "execution_count": 37,
   "metadata": {},
   "outputs": [
    {
     "data": {
      "text/html": [
       "<div>\n",
       "<style scoped>\n",
       "    .dataframe tbody tr th:only-of-type {\n",
       "        vertical-align: middle;\n",
       "    }\n",
       "\n",
       "    .dataframe tbody tr th {\n",
       "        vertical-align: top;\n",
       "    }\n",
       "\n",
       "    .dataframe thead th {\n",
       "        text-align: right;\n",
       "    }\n",
       "</style>\n",
       "<table border=\"1\" class=\"dataframe\">\n",
       "  <thead>\n",
       "    <tr style=\"text-align: right;\">\n",
       "      <th></th>\n",
       "      <th>a</th>\n",
       "      <th>b</th>\n",
       "      <th>c</th>\n",
       "      <th>d</th>\n",
       "      <th>e</th>\n",
       "    </tr>\n",
       "  </thead>\n",
       "  <tbody>\n",
       "    <tr>\n",
       "      <th>3</th>\n",
       "      <td>0.543582</td>\n",
       "      <td>0.077104</td>\n",
       "      <td>1.574233</td>\n",
       "      <td>0.992034</td>\n",
       "      <td>2.924695</td>\n",
       "    </tr>\n",
       "    <tr>\n",
       "      <th>5</th>\n",
       "      <td>-0.503087</td>\n",
       "      <td>-0.622274</td>\n",
       "      <td>-0.921169</td>\n",
       "      <td>-0.726213</td>\n",
       "      <td>0.222896</td>\n",
       "    </tr>\n",
       "    <tr>\n",
       "      <th>6</th>\n",
       "      <td>0.188211</td>\n",
       "      <td>2.169461</td>\n",
       "      <td>-0.114928</td>\n",
       "      <td>2.003697</td>\n",
       "      <td>0.029610</td>\n",
       "    </tr>\n",
       "  </tbody>\n",
       "</table>\n",
       "</div>"
      ],
      "text/plain": [
       "          a         b         c         d         e\n",
       "3  0.543582  0.077104  1.574233  0.992034  2.924695\n",
       "5 -0.503087 -0.622274 -0.921169 -0.726213  0.222896\n",
       "6  0.188211  2.169461 -0.114928  2.003697  0.029610"
      ]
     },
     "execution_count": 37,
     "metadata": {},
     "output_type": "execute_result"
    }
   ],
   "source": [
    "people.groupby(len).sum()"
   ]
  },
  {
   "cell_type": "code",
   "execution_count": 38,
   "metadata": {},
   "outputs": [
    {
     "data": {
      "text/html": [
       "<div>\n",
       "<style scoped>\n",
       "    .dataframe tbody tr th:only-of-type {\n",
       "        vertical-align: middle;\n",
       "    }\n",
       "\n",
       "    .dataframe tbody tr th {\n",
       "        vertical-align: top;\n",
       "    }\n",
       "\n",
       "    .dataframe thead th {\n",
       "        text-align: right;\n",
       "    }\n",
       "</style>\n",
       "<table border=\"1\" class=\"dataframe\">\n",
       "  <thead>\n",
       "    <tr style=\"text-align: right;\">\n",
       "      <th></th>\n",
       "      <th></th>\n",
       "      <th>a</th>\n",
       "      <th>b</th>\n",
       "      <th>c</th>\n",
       "      <th>d</th>\n",
       "      <th>e</th>\n",
       "    </tr>\n",
       "  </thead>\n",
       "  <tbody>\n",
       "    <tr>\n",
       "      <th rowspan=\"2\" valign=\"top\">3</th>\n",
       "      <th>one</th>\n",
       "      <td>-1.332610</td>\n",
       "      <td>1.074623</td>\n",
       "      <td>0.723642</td>\n",
       "      <td>0.433610</td>\n",
       "      <td>1.001543</td>\n",
       "    </tr>\n",
       "    <tr>\n",
       "      <th>two</th>\n",
       "      <td>1.824875</td>\n",
       "      <td>-0.997518</td>\n",
       "      <td>0.850591</td>\n",
       "      <td>-0.131578</td>\n",
       "      <td>0.912414</td>\n",
       "    </tr>\n",
       "    <tr>\n",
       "      <th>5</th>\n",
       "      <th>one</th>\n",
       "      <td>-0.503087</td>\n",
       "      <td>-0.622274</td>\n",
       "      <td>-0.921169</td>\n",
       "      <td>-0.726213</td>\n",
       "      <td>0.222896</td>\n",
       "    </tr>\n",
       "    <tr>\n",
       "      <th>6</th>\n",
       "      <th>two</th>\n",
       "      <td>0.188211</td>\n",
       "      <td>2.169461</td>\n",
       "      <td>-0.114928</td>\n",
       "      <td>2.003697</td>\n",
       "      <td>0.029610</td>\n",
       "    </tr>\n",
       "  </tbody>\n",
       "</table>\n",
       "</div>"
      ],
      "text/plain": [
       "              a         b         c         d         e\n",
       "3 one -1.332610  1.074623  0.723642  0.433610  1.001543\n",
       "  two  1.824875 -0.997518  0.850591 -0.131578  0.912414\n",
       "5 one -0.503087 -0.622274 -0.921169 -0.726213  0.222896\n",
       "6 two  0.188211  2.169461 -0.114928  2.003697  0.029610"
      ]
     },
     "execution_count": 38,
     "metadata": {},
     "output_type": "execute_result"
    }
   ],
   "source": [
    "key_list = ['one', 'one', 'one', 'two', 'two']\n",
    "people.groupby([len, key_list]).min()"
   ]
  },
  {
   "cell_type": "markdown",
   "metadata": {},
   "source": [
    "### Grouping by index levels"
   ]
  },
  {
   "cell_type": "code",
   "execution_count": 39,
   "metadata": {},
   "outputs": [
    {
     "data": {
      "text/html": [
       "<div>\n",
       "<style scoped>\n",
       "    .dataframe tbody tr th:only-of-type {\n",
       "        vertical-align: middle;\n",
       "    }\n",
       "\n",
       "    .dataframe tbody tr th {\n",
       "        vertical-align: top;\n",
       "    }\n",
       "\n",
       "    .dataframe thead tr th {\n",
       "        text-align: left;\n",
       "    }\n",
       "</style>\n",
       "<table border=\"1\" class=\"dataframe\">\n",
       "  <thead>\n",
       "    <tr>\n",
       "      <th>cty</th>\n",
       "      <th colspan=\"3\" halign=\"left\">US</th>\n",
       "      <th colspan=\"2\" halign=\"left\">JP</th>\n",
       "    </tr>\n",
       "    <tr>\n",
       "      <th>tenor</th>\n",
       "      <th>1</th>\n",
       "      <th>3</th>\n",
       "      <th>5</th>\n",
       "      <th>1</th>\n",
       "      <th>3</th>\n",
       "    </tr>\n",
       "  </thead>\n",
       "  <tbody>\n",
       "    <tr>\n",
       "      <th>0</th>\n",
       "      <td>0.795253</td>\n",
       "      <td>0.118110</td>\n",
       "      <td>-0.748532</td>\n",
       "      <td>0.584970</td>\n",
       "      <td>0.152677</td>\n",
       "    </tr>\n",
       "    <tr>\n",
       "      <th>1</th>\n",
       "      <td>-1.565657</td>\n",
       "      <td>-0.562540</td>\n",
       "      <td>-0.032664</td>\n",
       "      <td>-0.929006</td>\n",
       "      <td>-0.482573</td>\n",
       "    </tr>\n",
       "    <tr>\n",
       "      <th>2</th>\n",
       "      <td>-0.036264</td>\n",
       "      <td>1.095390</td>\n",
       "      <td>0.980928</td>\n",
       "      <td>-0.589488</td>\n",
       "      <td>1.581700</td>\n",
       "    </tr>\n",
       "    <tr>\n",
       "      <th>3</th>\n",
       "      <td>-0.528735</td>\n",
       "      <td>0.457002</td>\n",
       "      <td>0.929969</td>\n",
       "      <td>-1.569271</td>\n",
       "      <td>-1.022487</td>\n",
       "    </tr>\n",
       "  </tbody>\n",
       "</table>\n",
       "</div>"
      ],
      "text/plain": [
       "cty          US                            JP          \n",
       "tenor         1         3         5         1         3\n",
       "0      0.795253  0.118110 -0.748532  0.584970  0.152677\n",
       "1     -1.565657 -0.562540 -0.032664 -0.929006 -0.482573\n",
       "2     -0.036264  1.095390  0.980928 -0.589488  1.581700\n",
       "3     -0.528735  0.457002  0.929969 -1.569271 -1.022487"
      ]
     },
     "execution_count": 39,
     "metadata": {},
     "output_type": "execute_result"
    }
   ],
   "source": [
    "columns = pd.MultiIndex.from_arrays([['US', 'US', 'US', 'JP', 'JP'],\n",
    "                                    [1, 3, 5, 1, 3]], names=['cty', 'tenor'])\n",
    "hier_df = DataFrame(np.random.randn(4, 5), columns=columns)\n",
    "hier_df"
   ]
  },
  {
   "cell_type": "code",
   "execution_count": 40,
   "metadata": {},
   "outputs": [
    {
     "data": {
      "text/html": [
       "<div>\n",
       "<style scoped>\n",
       "    .dataframe tbody tr th:only-of-type {\n",
       "        vertical-align: middle;\n",
       "    }\n",
       "\n",
       "    .dataframe tbody tr th {\n",
       "        vertical-align: top;\n",
       "    }\n",
       "\n",
       "    .dataframe thead th {\n",
       "        text-align: right;\n",
       "    }\n",
       "</style>\n",
       "<table border=\"1\" class=\"dataframe\">\n",
       "  <thead>\n",
       "    <tr style=\"text-align: right;\">\n",
       "      <th>cty</th>\n",
       "      <th>JP</th>\n",
       "      <th>US</th>\n",
       "    </tr>\n",
       "  </thead>\n",
       "  <tbody>\n",
       "    <tr>\n",
       "      <th>0</th>\n",
       "      <td>2</td>\n",
       "      <td>3</td>\n",
       "    </tr>\n",
       "    <tr>\n",
       "      <th>1</th>\n",
       "      <td>2</td>\n",
       "      <td>3</td>\n",
       "    </tr>\n",
       "    <tr>\n",
       "      <th>2</th>\n",
       "      <td>2</td>\n",
       "      <td>3</td>\n",
       "    </tr>\n",
       "    <tr>\n",
       "      <th>3</th>\n",
       "      <td>2</td>\n",
       "      <td>3</td>\n",
       "    </tr>\n",
       "  </tbody>\n",
       "</table>\n",
       "</div>"
      ],
      "text/plain": [
       "cty  JP  US\n",
       "0     2   3\n",
       "1     2   3\n",
       "2     2   3\n",
       "3     2   3"
      ]
     },
     "execution_count": 40,
     "metadata": {},
     "output_type": "execute_result"
    }
   ],
   "source": [
    "hier_df.groupby(level='cty', axis=1).count()"
   ]
  },
  {
   "cell_type": "markdown",
   "metadata": {},
   "source": [
    "### tip 데이터"
   ]
  },
  {
   "cell_type": "code",
   "execution_count": 11,
   "metadata": {},
   "outputs": [
    {
     "data": {
      "text/plain": [
       "'C:\\\\Users\\\\tmznq\\\\workspace\\\\ml_scratch\\\\seoul_coding_academy\\\\week4'"
      ]
     },
     "execution_count": 11,
     "metadata": {},
     "output_type": "execute_result"
    }
   ],
   "source": [
    "%pwd"
   ]
  },
  {
   "cell_type": "code",
   "execution_count": 17,
   "metadata": {},
   "outputs": [],
   "source": [
    "path = 'C:/Users/tmznq/workspace/ml_scratch/seoul_coding_academy/pydata-book-1st-edition/ch08/tips.csv'\n",
    "\n",
    "tips = pd.read_csv(path)"
   ]
  },
  {
   "cell_type": "code",
   "execution_count": 18,
   "metadata": {},
   "outputs": [
    {
     "data": {
      "text/html": [
       "<div>\n",
       "<style scoped>\n",
       "    .dataframe tbody tr th:only-of-type {\n",
       "        vertical-align: middle;\n",
       "    }\n",
       "\n",
       "    .dataframe tbody tr th {\n",
       "        vertical-align: top;\n",
       "    }\n",
       "\n",
       "    .dataframe thead th {\n",
       "        text-align: right;\n",
       "    }\n",
       "</style>\n",
       "<table border=\"1\" class=\"dataframe\">\n",
       "  <thead>\n",
       "    <tr style=\"text-align: right;\">\n",
       "      <th></th>\n",
       "      <th>total_bill</th>\n",
       "      <th>tip</th>\n",
       "      <th>sex</th>\n",
       "      <th>smoker</th>\n",
       "      <th>day</th>\n",
       "      <th>time</th>\n",
       "      <th>size</th>\n",
       "      <th>tip_pct</th>\n",
       "    </tr>\n",
       "  </thead>\n",
       "  <tbody>\n",
       "    <tr>\n",
       "      <th>0</th>\n",
       "      <td>16.99</td>\n",
       "      <td>1.01</td>\n",
       "      <td>Female</td>\n",
       "      <td>No</td>\n",
       "      <td>Sun</td>\n",
       "      <td>Dinner</td>\n",
       "      <td>2</td>\n",
       "      <td>0.059447</td>\n",
       "    </tr>\n",
       "    <tr>\n",
       "      <th>1</th>\n",
       "      <td>10.34</td>\n",
       "      <td>1.66</td>\n",
       "      <td>Male</td>\n",
       "      <td>No</td>\n",
       "      <td>Sun</td>\n",
       "      <td>Dinner</td>\n",
       "      <td>3</td>\n",
       "      <td>0.160542</td>\n",
       "    </tr>\n",
       "    <tr>\n",
       "      <th>2</th>\n",
       "      <td>21.01</td>\n",
       "      <td>3.50</td>\n",
       "      <td>Male</td>\n",
       "      <td>No</td>\n",
       "      <td>Sun</td>\n",
       "      <td>Dinner</td>\n",
       "      <td>3</td>\n",
       "      <td>0.166587</td>\n",
       "    </tr>\n",
       "    <tr>\n",
       "      <th>3</th>\n",
       "      <td>23.68</td>\n",
       "      <td>3.31</td>\n",
       "      <td>Male</td>\n",
       "      <td>No</td>\n",
       "      <td>Sun</td>\n",
       "      <td>Dinner</td>\n",
       "      <td>2</td>\n",
       "      <td>0.139780</td>\n",
       "    </tr>\n",
       "    <tr>\n",
       "      <th>4</th>\n",
       "      <td>24.59</td>\n",
       "      <td>3.61</td>\n",
       "      <td>Female</td>\n",
       "      <td>No</td>\n",
       "      <td>Sun</td>\n",
       "      <td>Dinner</td>\n",
       "      <td>4</td>\n",
       "      <td>0.146808</td>\n",
       "    </tr>\n",
       "    <tr>\n",
       "      <th>5</th>\n",
       "      <td>25.29</td>\n",
       "      <td>4.71</td>\n",
       "      <td>Male</td>\n",
       "      <td>No</td>\n",
       "      <td>Sun</td>\n",
       "      <td>Dinner</td>\n",
       "      <td>4</td>\n",
       "      <td>0.186240</td>\n",
       "    </tr>\n",
       "  </tbody>\n",
       "</table>\n",
       "</div>"
      ],
      "text/plain": [
       "   total_bill   tip     sex smoker  day    time  size   tip_pct\n",
       "0       16.99  1.01  Female     No  Sun  Dinner     2  0.059447\n",
       "1       10.34  1.66    Male     No  Sun  Dinner     3  0.160542\n",
       "2       21.01  3.50    Male     No  Sun  Dinner     3  0.166587\n",
       "3       23.68  3.31    Male     No  Sun  Dinner     2  0.139780\n",
       "4       24.59  3.61  Female     No  Sun  Dinner     4  0.146808\n",
       "5       25.29  4.71    Male     No  Sun  Dinner     4  0.186240"
      ]
     },
     "execution_count": 18,
     "metadata": {},
     "output_type": "execute_result"
    }
   ],
   "source": [
    "tips['tip_pct'] = tips['tip'] / tips['total_bill']\n",
    "tips[:6]"
   ]
  },
  {
   "cell_type": "markdown",
   "metadata": {},
   "source": [
    "### 성별에 따른 흡연 여부 grouping\n",
    "- sex와 smoker를 구분해서, tip_pct의 평균을 구해보면?\n",
    "- 음식값의 합 대비 tip의 합을 구하는 것이 적절하다. \n",
    "\n",
    "1. sex와 smoker를 그룹키로 하여 그룹핑\n",
    "2. 각 그룹별로 bill과 tip의 합계를 구한다.\n",
    "3. tip합계를 bill합계로 나눈다.\n",
    "4. 그래프로 나타낸다."
   ]
  },
  {
   "cell_type": "code",
   "execution_count": 19,
   "metadata": {},
   "outputs": [
    {
     "data": {
      "text/plain": [
       "<pandas.core.groupby.generic.DataFrameGroupBy object at 0x0000021BED3748D0>"
      ]
     },
     "execution_count": 19,
     "metadata": {},
     "output_type": "execute_result"
    }
   ],
   "source": [
    "tip_group = tips.groupby(['sex', 'smoker'])\n",
    "tip_group"
   ]
  },
  {
   "cell_type": "code",
   "execution_count": 20,
   "metadata": {},
   "outputs": [
    {
     "name": "stdout",
     "output_type": "stream",
     "text": [
      "('Female', 'No')\n",
      "     total_bill   tip     sex smoker   day    time  size   tip_pct\n",
      "0         16.99  1.01  Female     No   Sun  Dinner     2  0.059447\n",
      "4         24.59  3.61  Female     No   Sun  Dinner     4  0.146808\n",
      "11        35.26  5.00  Female     No   Sun  Dinner     4  0.141804\n",
      "14        14.83  3.02  Female     No   Sun  Dinner     2  0.203641\n",
      "16        10.33  1.67  Female     No   Sun  Dinner     3  0.161665\n",
      "18        16.97  3.50  Female     No   Sun  Dinner     3  0.206246\n",
      "21        20.29  2.75  Female     No   Sat  Dinner     2  0.135535\n",
      "22        15.77  2.23  Female     No   Sat  Dinner     2  0.141408\n",
      "29        19.65  3.00  Female     No   Sat  Dinner     2  0.152672\n",
      "32        15.06  3.00  Female     No   Sat  Dinner     2  0.199203\n",
      "33        20.69  2.45  Female     No   Sat  Dinner     4  0.118415\n",
      "37        16.93  3.07  Female     No   Sat  Dinner     3  0.181335\n",
      "51        10.29  2.60  Female     No   Sun  Dinner     2  0.252672\n",
      "52        34.81  5.20  Female     No   Sun  Dinner     4  0.149382\n",
      "57        26.41  1.50  Female     No   Sat  Dinner     2  0.056797\n",
      "66        16.45  2.47  Female     No   Sat  Dinner     2  0.150152\n",
      "71        17.07  3.00  Female     No   Sat  Dinner     3  0.175747\n",
      "74        14.73  2.20  Female     No   Sat  Dinner     2  0.149355\n",
      "82        10.07  1.83  Female     No  Thur   Lunch     1  0.181728\n",
      "85        34.83  5.17  Female     No  Thur   Lunch     4  0.148435\n",
      "94        22.75  3.25  Female     No   Fri  Dinner     2  0.142857\n",
      "104       20.92  4.08  Female     No   Sat  Dinner     2  0.195029\n",
      "111        7.25  1.00  Female     No   Sat  Dinner     1  0.137931\n",
      "114       25.71  4.00  Female     No   Sun  Dinner     3  0.155581\n",
      "115       17.31  3.50  Female     No   Sun  Dinner     2  0.202195\n",
      "117       10.65  1.50  Female     No  Thur   Lunch     2  0.140845\n",
      "118       12.43  1.80  Female     No  Thur   Lunch     2  0.144811\n",
      "119       24.08  2.92  Female     No  Thur   Lunch     4  0.121262\n",
      "121       13.42  1.68  Female     No  Thur   Lunch     2  0.125186\n",
      "124       12.48  2.52  Female     No  Thur   Lunch     2  0.201923\n",
      "125       29.80  4.20  Female     No  Thur   Lunch     6  0.140940\n",
      "127       14.52  2.00  Female     No  Thur   Lunch     2  0.137741\n",
      "128       11.38  2.00  Female     No  Thur   Lunch     2  0.175747\n",
      "131       20.27  2.83  Female     No  Thur   Lunch     2  0.139615\n",
      "132       11.17  1.50  Female     No  Thur   Lunch     2  0.134288\n",
      "133       12.26  2.00  Female     No  Thur   Lunch     2  0.163132\n",
      "134       18.26  3.25  Female     No  Thur   Lunch     2  0.177985\n",
      "135        8.51  1.25  Female     No  Thur   Lunch     2  0.146886\n",
      "136       10.33  2.00  Female     No  Thur   Lunch     2  0.193611\n",
      "137       14.15  2.00  Female     No  Thur   Lunch     2  0.141343\n",
      "139       13.16  2.75  Female     No  Thur   Lunch     2  0.208967\n",
      "140       17.47  3.50  Female     No  Thur   Lunch     2  0.200343\n",
      "143       27.05  5.00  Female     No  Thur   Lunch     6  0.184843\n",
      "144       16.43  2.30  Female     No  Thur   Lunch     2  0.139988\n",
      "145        8.35  1.50  Female     No  Thur   Lunch     2  0.179641\n",
      "146       18.64  1.36  Female     No  Thur   Lunch     3  0.072961\n",
      "147       11.87  1.63  Female     No  Thur   Lunch     2  0.137321\n",
      "155       29.85  5.14  Female     No   Sun  Dinner     5  0.172194\n",
      "157       25.00  3.75  Female     No   Sun  Dinner     4  0.150000\n",
      "158       13.39  2.61  Female     No   Sun  Dinner     2  0.194922\n",
      "162       16.21  2.00  Female     No   Sun  Dinner     3  0.123381\n",
      "223       15.98  3.00  Female     No   Fri   Lunch     3  0.187735\n",
      "238       35.83  4.67  Female     No   Sat  Dinner     3  0.130338\n",
      "243       18.78  3.00  Female     No  Thur  Dinner     2  0.159744\n",
      "('Female', 'Yes')\n",
      "     total_bill   tip     sex smoker   day    time  size   tip_pct\n",
      "67         3.07  1.00  Female    Yes   Sat  Dinner     1  0.325733\n",
      "72        26.86  3.14  Female    Yes   Sat  Dinner     2  0.116902\n",
      "73        25.28  5.00  Female    Yes   Sat  Dinner     2  0.197785\n",
      "92         5.75  1.00  Female    Yes   Fri  Dinner     2  0.173913\n",
      "93        16.32  4.30  Female    Yes   Fri  Dinner     2  0.263480\n",
      "100       11.35  2.50  Female    Yes   Fri  Dinner     2  0.220264\n",
      "101       15.38  3.00  Female    Yes   Fri  Dinner     2  0.195059\n",
      "102       44.30  2.50  Female    Yes   Sat  Dinner     3  0.056433\n",
      "103       22.42  3.48  Female    Yes   Sat  Dinner     2  0.155219\n",
      "109       14.31  4.00  Female    Yes   Sat  Dinner     2  0.279525\n",
      "164       17.51  3.00  Female    Yes   Sun  Dinner     2  0.171331\n",
      "168       10.59  1.61  Female    Yes   Sat  Dinner     2  0.152030\n",
      "169       10.63  2.00  Female    Yes   Sat  Dinner     2  0.188147\n",
      "178        9.60  4.00  Female    Yes   Sun  Dinner     2  0.416667\n",
      "186       20.90  3.50  Female    Yes   Sun  Dinner     3  0.167464\n",
      "188       18.15  3.50  Female    Yes   Sun  Dinner     3  0.192837\n",
      "191       19.81  4.19  Female    Yes  Thur   Lunch     2  0.211509\n",
      "197       43.11  5.00  Female    Yes  Thur   Lunch     4  0.115982\n",
      "198       13.00  2.00  Female    Yes  Thur   Lunch     2  0.153846\n",
      "201       12.74  2.01  Female    Yes  Thur   Lunch     2  0.157771\n",
      "202       13.00  2.00  Female    Yes  Thur   Lunch     2  0.153846\n",
      "203       16.40  2.50  Female    Yes  Thur   Lunch     2  0.152439\n",
      "205       16.47  3.23  Female    Yes  Thur   Lunch     3  0.196114\n",
      "209       12.76  2.23  Female    Yes   Sat  Dinner     2  0.174765\n",
      "213       13.27  2.50  Female    Yes   Sat  Dinner     2  0.188395\n",
      "214       28.17  6.50  Female    Yes   Sat  Dinner     3  0.230742\n",
      "215       12.90  1.10  Female    Yes   Sat  Dinner     2  0.085271\n",
      "219       30.14  3.09  Female    Yes   Sat  Dinner     4  0.102522\n",
      "221       13.42  3.48  Female    Yes   Fri   Lunch     2  0.259314\n",
      "225       16.27  2.50  Female    Yes   Fri   Lunch     2  0.153657\n",
      "226       10.09  2.00  Female    Yes   Fri   Lunch     2  0.198216\n",
      "229       22.12  2.88  Female    Yes   Sat  Dinner     2  0.130199\n",
      "240       27.18  2.00  Female    Yes   Sat  Dinner     2  0.073584\n",
      "('Male', 'No')\n",
      "     total_bill   tip   sex smoker   day    time  size   tip_pct\n",
      "1         10.34  1.66  Male     No   Sun  Dinner     3  0.160542\n",
      "2         21.01  3.50  Male     No   Sun  Dinner     3  0.166587\n",
      "3         23.68  3.31  Male     No   Sun  Dinner     2  0.139780\n",
      "5         25.29  4.71  Male     No   Sun  Dinner     4  0.186240\n",
      "6          8.77  2.00  Male     No   Sun  Dinner     2  0.228050\n",
      "7         26.88  3.12  Male     No   Sun  Dinner     4  0.116071\n",
      "8         15.04  1.96  Male     No   Sun  Dinner     2  0.130319\n",
      "9         14.78  3.23  Male     No   Sun  Dinner     2  0.218539\n",
      "10        10.27  1.71  Male     No   Sun  Dinner     2  0.166504\n",
      "12        15.42  1.57  Male     No   Sun  Dinner     2  0.101816\n",
      "13        18.43  3.00  Male     No   Sun  Dinner     4  0.162778\n",
      "15        21.58  3.92  Male     No   Sun  Dinner     2  0.181650\n",
      "17        16.29  3.71  Male     No   Sun  Dinner     3  0.227747\n",
      "19        20.65  3.35  Male     No   Sat  Dinner     3  0.162228\n",
      "20        17.92  4.08  Male     No   Sat  Dinner     2  0.227679\n",
      "23        39.42  7.58  Male     No   Sat  Dinner     4  0.192288\n",
      "24        19.82  3.18  Male     No   Sat  Dinner     2  0.160444\n",
      "25        17.81  2.34  Male     No   Sat  Dinner     4  0.131387\n",
      "26        13.37  2.00  Male     No   Sat  Dinner     2  0.149589\n",
      "27        12.69  2.00  Male     No   Sat  Dinner     2  0.157604\n",
      "28        21.70  4.30  Male     No   Sat  Dinner     2  0.198157\n",
      "30         9.55  1.45  Male     No   Sat  Dinner     2  0.151832\n",
      "31        18.35  2.50  Male     No   Sat  Dinner     4  0.136240\n",
      "34        17.78  3.27  Male     No   Sat  Dinner     2  0.183915\n",
      "35        24.06  3.60  Male     No   Sat  Dinner     3  0.149626\n",
      "36        16.31  2.00  Male     No   Sat  Dinner     3  0.122624\n",
      "38        18.69  2.31  Male     No   Sat  Dinner     3  0.123596\n",
      "39        31.27  5.00  Male     No   Sat  Dinner     3  0.159898\n",
      "40        16.04  2.24  Male     No   Sat  Dinner     3  0.139651\n",
      "41        17.46  2.54  Male     No   Sun  Dinner     2  0.145475\n",
      "..          ...   ...   ...    ...   ...     ...   ...       ...\n",
      "126        8.52  1.48  Male     No  Thur   Lunch     2  0.173709\n",
      "129       22.82  2.18  Male     No  Thur   Lunch     3  0.095530\n",
      "130       19.08  1.50  Male     No  Thur   Lunch     2  0.078616\n",
      "141       34.30  6.70  Male     No  Thur   Lunch     6  0.195335\n",
      "142       41.19  5.00  Male     No  Thur   Lunch     5  0.121389\n",
      "148        9.78  1.73  Male     No  Thur   Lunch     2  0.176892\n",
      "149        7.51  2.00  Male     No  Thur   Lunch     2  0.266312\n",
      "150       14.07  2.50  Male     No   Sun  Dinner     2  0.177683\n",
      "151       13.13  2.00  Male     No   Sun  Dinner     2  0.152323\n",
      "152       17.26  2.74  Male     No   Sun  Dinner     3  0.158749\n",
      "153       24.55  2.00  Male     No   Sun  Dinner     4  0.081466\n",
      "154       19.77  2.00  Male     No   Sun  Dinner     4  0.101163\n",
      "156       48.17  5.00  Male     No   Sun  Dinner     6  0.103799\n",
      "159       16.49  2.00  Male     No   Sun  Dinner     4  0.121286\n",
      "160       21.50  3.50  Male     No   Sun  Dinner     4  0.162791\n",
      "161       12.66  2.50  Male     No   Sun  Dinner     2  0.197472\n",
      "163       13.81  2.00  Male     No   Sun  Dinner     2  0.144823\n",
      "165       24.52  3.48  Male     No   Sun  Dinner     3  0.141925\n",
      "166       20.76  2.24  Male     No   Sun  Dinner     2  0.107900\n",
      "167       31.71  4.50  Male     No   Sun  Dinner     4  0.141911\n",
      "185       20.69  5.00  Male     No   Sun  Dinner     5  0.241663\n",
      "195        7.56  1.44  Male     No  Thur   Lunch     2  0.190476\n",
      "212       48.33  9.00  Male     No   Sat  Dinner     4  0.186220\n",
      "227       20.45  3.00  Male     No   Sat  Dinner     4  0.146699\n",
      "228       13.28  2.72  Male     No   Sat  Dinner     2  0.204819\n",
      "232       11.61  3.39  Male     No   Sat  Dinner     2  0.291990\n",
      "233       10.77  1.47  Male     No   Sat  Dinner     2  0.136490\n",
      "235       10.07  1.25  Male     No   Sat  Dinner     2  0.124131\n",
      "239       29.03  5.92  Male     No   Sat  Dinner     3  0.203927\n",
      "242       17.82  1.75  Male     No   Sat  Dinner     2  0.098204\n",
      "\n",
      "[97 rows x 8 columns]\n",
      "('Male', 'Yes')\n",
      "     total_bill    tip   sex smoker   day    time  size   tip_pct\n",
      "56        38.01   3.00  Male    Yes   Sat  Dinner     4  0.078927\n",
      "58        11.24   1.76  Male    Yes   Sat  Dinner     2  0.156584\n",
      "60        20.29   3.21  Male    Yes   Sat  Dinner     2  0.158206\n",
      "61        13.81   2.00  Male    Yes   Sat  Dinner     2  0.144823\n",
      "62        11.02   1.98  Male    Yes   Sat  Dinner     2  0.179673\n",
      "63        18.29   3.76  Male    Yes   Sat  Dinner     4  0.205577\n",
      "69        15.01   2.09  Male    Yes   Sat  Dinner     2  0.139241\n",
      "76        17.92   3.08  Male    Yes   Sat  Dinner     2  0.171875\n",
      "80        19.44   3.00  Male    Yes  Thur   Lunch     2  0.154321\n",
      "83        32.68   5.00  Male    Yes  Thur   Lunch     2  0.152999\n",
      "90        28.97   3.00  Male    Yes   Fri  Dinner     2  0.103555\n",
      "95        40.17   4.73  Male    Yes   Fri  Dinner     4  0.117750\n",
      "96        27.28   4.00  Male    Yes   Fri  Dinner     2  0.146628\n",
      "97        12.03   1.50  Male    Yes   Fri  Dinner     2  0.124688\n",
      "98        21.01   3.00  Male    Yes   Fri  Dinner     2  0.142789\n",
      "105       15.36   1.64  Male    Yes   Sat  Dinner     2  0.106771\n",
      "106       20.49   4.06  Male    Yes   Sat  Dinner     2  0.198145\n",
      "107       25.21   4.29  Male    Yes   Sat  Dinner     2  0.170171\n",
      "138       16.00   2.00  Male    Yes  Thur   Lunch     2  0.125000\n",
      "170       50.81  10.00  Male    Yes   Sat  Dinner     3  0.196812\n",
      "171       15.81   3.16  Male    Yes   Sat  Dinner     2  0.199873\n",
      "172        7.25   5.15  Male    Yes   Sun  Dinner     2  0.710345\n",
      "173       31.85   3.18  Male    Yes   Sun  Dinner     2  0.099843\n",
      "174       16.82   4.00  Male    Yes   Sun  Dinner     2  0.237812\n",
      "175       32.90   3.11  Male    Yes   Sun  Dinner     2  0.094529\n",
      "176       17.89   2.00  Male    Yes   Sun  Dinner     2  0.111794\n",
      "177       14.48   2.00  Male    Yes   Sun  Dinner     2  0.138122\n",
      "179       34.63   3.55  Male    Yes   Sun  Dinner     2  0.102512\n",
      "180       34.65   3.68  Male    Yes   Sun  Dinner     4  0.106205\n",
      "181       23.33   5.65  Male    Yes   Sun  Dinner     2  0.242177\n",
      "182       45.35   3.50  Male    Yes   Sun  Dinner     3  0.077178\n",
      "183       23.17   6.50  Male    Yes   Sun  Dinner     4  0.280535\n",
      "184       40.55   3.00  Male    Yes   Sun  Dinner     2  0.073983\n",
      "187       30.46   2.00  Male    Yes   Sun  Dinner     5  0.065660\n",
      "189       23.10   4.00  Male    Yes   Sun  Dinner     3  0.173160\n",
      "190       15.69   1.50  Male    Yes   Sun  Dinner     2  0.095602\n",
      "192       28.44   2.56  Male    Yes  Thur   Lunch     2  0.090014\n",
      "193       15.48   2.02  Male    Yes  Thur   Lunch     2  0.130491\n",
      "194       16.58   4.00  Male    Yes  Thur   Lunch     2  0.241255\n",
      "196       10.34   2.00  Male    Yes  Thur   Lunch     2  0.193424\n",
      "199       13.51   2.00  Male    Yes  Thur   Lunch     2  0.148038\n",
      "200       18.71   4.00  Male    Yes  Thur   Lunch     3  0.213789\n",
      "204       20.53   4.00  Male    Yes  Thur   Lunch     4  0.194837\n",
      "206       26.59   3.41  Male    Yes   Sat  Dinner     3  0.128244\n",
      "207       38.73   3.00  Male    Yes   Sat  Dinner     4  0.077459\n",
      "208       24.27   2.03  Male    Yes   Sat  Dinner     2  0.083642\n",
      "210       30.06   2.00  Male    Yes   Sat  Dinner     3  0.066534\n",
      "211       25.89   5.16  Male    Yes   Sat  Dinner     4  0.199305\n",
      "216       28.15   3.00  Male    Yes   Sat  Dinner     5  0.106572\n",
      "217       11.59   1.50  Male    Yes   Sat  Dinner     2  0.129422\n",
      "218        7.74   1.44  Male    Yes   Sat  Dinner     2  0.186047\n",
      "220       12.16   2.20  Male    Yes   Fri   Lunch     2  0.180921\n",
      "222        8.58   1.92  Male    Yes   Fri   Lunch     1  0.223776\n",
      "224       13.42   1.58  Male    Yes   Fri   Lunch     2  0.117735\n",
      "230       24.01   2.00  Male    Yes   Sat  Dinner     4  0.083299\n",
      "231       15.69   3.00  Male    Yes   Sat  Dinner     3  0.191205\n",
      "234       15.53   3.00  Male    Yes   Sat  Dinner     2  0.193175\n",
      "236       12.60   1.00  Male    Yes   Sat  Dinner     2  0.079365\n",
      "237       32.83   1.17  Male    Yes   Sat  Dinner     2  0.035638\n",
      "241       22.67   2.00  Male    Yes   Sat  Dinner     2  0.088222\n"
     ]
    }
   ],
   "source": [
    "for name, group in tips.groupby(['sex', 'smoker']):\n",
    "    print(name)\n",
    "    print(group)"
   ]
  },
  {
   "cell_type": "code",
   "execution_count": 21,
   "metadata": {
    "scrolled": true
   },
   "outputs": [],
   "source": [
    "# tip_sum = tip_group(tips['total_bill','tip']).sum()"
   ]
  },
  {
   "cell_type": "code",
   "execution_count": 22,
   "metadata": {},
   "outputs": [
    {
     "ename": "SyntaxError",
     "evalue": "invalid syntax (<ipython-input-22-b3bb081e0133>, line 1)",
     "output_type": "error",
     "traceback": [
      "\u001b[1;36m  File \u001b[1;32m\"<ipython-input-22-b3bb081e0133>\"\u001b[1;36m, line \u001b[1;32m1\u001b[0m\n\u001b[1;33m    tips.keys[]\u001b[0m\n\u001b[1;37m              ^\u001b[0m\n\u001b[1;31mSyntaxError\u001b[0m\u001b[1;31m:\u001b[0m invalid syntax\n"
     ]
    }
   ],
   "source": [
    "tips.keys[]"
   ]
  },
  {
   "cell_type": "code",
   "execution_count": 23,
   "metadata": {},
   "outputs": [
    {
     "data": {
      "text/html": [
       "<div>\n",
       "<style scoped>\n",
       "    .dataframe tbody tr th:only-of-type {\n",
       "        vertical-align: middle;\n",
       "    }\n",
       "\n",
       "    .dataframe tbody tr th {\n",
       "        vertical-align: top;\n",
       "    }\n",
       "\n",
       "    .dataframe thead th {\n",
       "        text-align: right;\n",
       "    }\n",
       "</style>\n",
       "<table border=\"1\" class=\"dataframe\">\n",
       "  <thead>\n",
       "    <tr style=\"text-align: right;\">\n",
       "      <th></th>\n",
       "      <th></th>\n",
       "      <th>total_bill</th>\n",
       "      <th>tip</th>\n",
       "    </tr>\n",
       "    <tr>\n",
       "      <th>sex</th>\n",
       "      <th>smoker</th>\n",
       "      <th></th>\n",
       "      <th></th>\n",
       "    </tr>\n",
       "  </thead>\n",
       "  <tbody>\n",
       "    <tr>\n",
       "      <th rowspan=\"2\" valign=\"top\">Female</th>\n",
       "      <th>No</th>\n",
       "      <td>977.68</td>\n",
       "      <td>149.77</td>\n",
       "    </tr>\n",
       "    <tr>\n",
       "      <th>Yes</th>\n",
       "      <td>593.27</td>\n",
       "      <td>96.74</td>\n",
       "    </tr>\n",
       "    <tr>\n",
       "      <th rowspan=\"2\" valign=\"top\">Male</th>\n",
       "      <th>No</th>\n",
       "      <td>1919.75</td>\n",
       "      <td>302.00</td>\n",
       "    </tr>\n",
       "    <tr>\n",
       "      <th>Yes</th>\n",
       "      <td>1337.07</td>\n",
       "      <td>183.07</td>\n",
       "    </tr>\n",
       "  </tbody>\n",
       "</table>\n",
       "</div>"
      ],
      "text/plain": [
       "               total_bill     tip\n",
       "sex    smoker                    \n",
       "Female No          977.68  149.77\n",
       "       Yes         593.27   96.74\n",
       "Male   No         1919.75  302.00\n",
       "       Yes        1337.07  183.07"
      ]
     },
     "execution_count": 23,
     "metadata": {},
     "output_type": "execute_result"
    }
   ],
   "source": [
    "tip_sum = tip_group[['total_bill', 'tip']].sum()\n",
    "tip_sum"
   ]
  },
  {
   "cell_type": "code",
   "execution_count": 24,
   "metadata": {},
   "outputs": [],
   "source": [
    "tip_sum['tip_rate'] = tip_sum.tip / tip_sum.total_bill"
   ]
  },
  {
   "cell_type": "code",
   "execution_count": 25,
   "metadata": {},
   "outputs": [
    {
     "data": {
      "text/html": [
       "<div>\n",
       "<style scoped>\n",
       "    .dataframe tbody tr th:only-of-type {\n",
       "        vertical-align: middle;\n",
       "    }\n",
       "\n",
       "    .dataframe tbody tr th {\n",
       "        vertical-align: top;\n",
       "    }\n",
       "\n",
       "    .dataframe thead th {\n",
       "        text-align: right;\n",
       "    }\n",
       "</style>\n",
       "<table border=\"1\" class=\"dataframe\">\n",
       "  <thead>\n",
       "    <tr style=\"text-align: right;\">\n",
       "      <th></th>\n",
       "      <th></th>\n",
       "      <th>total_bill</th>\n",
       "      <th>tip</th>\n",
       "      <th>tip_rate</th>\n",
       "    </tr>\n",
       "    <tr>\n",
       "      <th>sex</th>\n",
       "      <th>smoker</th>\n",
       "      <th></th>\n",
       "      <th></th>\n",
       "      <th></th>\n",
       "    </tr>\n",
       "  </thead>\n",
       "  <tbody>\n",
       "    <tr>\n",
       "      <th rowspan=\"2\" valign=\"top\">Female</th>\n",
       "      <th>No</th>\n",
       "      <td>977.68</td>\n",
       "      <td>149.77</td>\n",
       "      <td>0.153189</td>\n",
       "    </tr>\n",
       "    <tr>\n",
       "      <th>Yes</th>\n",
       "      <td>593.27</td>\n",
       "      <td>96.74</td>\n",
       "      <td>0.163062</td>\n",
       "    </tr>\n",
       "    <tr>\n",
       "      <th rowspan=\"2\" valign=\"top\">Male</th>\n",
       "      <th>No</th>\n",
       "      <td>1919.75</td>\n",
       "      <td>302.00</td>\n",
       "      <td>0.157312</td>\n",
       "    </tr>\n",
       "    <tr>\n",
       "      <th>Yes</th>\n",
       "      <td>1337.07</td>\n",
       "      <td>183.07</td>\n",
       "      <td>0.136919</td>\n",
       "    </tr>\n",
       "  </tbody>\n",
       "</table>\n",
       "</div>"
      ],
      "text/plain": [
       "               total_bill     tip  tip_rate\n",
       "sex    smoker                              \n",
       "Female No          977.68  149.77  0.153189\n",
       "       Yes         593.27   96.74  0.163062\n",
       "Male   No         1919.75  302.00  0.157312\n",
       "       Yes        1337.07  183.07  0.136919"
      ]
     },
     "execution_count": 25,
     "metadata": {},
     "output_type": "execute_result"
    }
   ],
   "source": [
    "tip_sum"
   ]
  },
  {
   "cell_type": "code",
   "execution_count": 26,
   "metadata": {},
   "outputs": [
    {
     "data": {
      "text/plain": [
       "<matplotlib.axes._subplots.AxesSubplot at 0x21bed374470>"
      ]
     },
     "execution_count": 26,
     "metadata": {},
     "output_type": "execute_result"
    },
    {
     "data": {
      "image/png": "[encoded data removed]",
      "text/plain": [
       "<Figure size 432x288 with 1 Axes>"
      ]
     },
     "metadata": {
      "needs_background": "light"
     },
     "output_type": "display_data"
    }
   ],
   "source": [
    "tip_sum['tip_rate'].plot(kind = 'bar', rot=0)"
   ]
  },
  {
   "cell_type": "code",
   "execution_count": 90,
   "metadata": {},
   "outputs": [],
   "source": [
    "# time에따른 bill의 min max mean와 tip의 min max mean을 구해보자.\n",
    "# 성별건수 size와 평균 고객 size의 수."
   ]
  },
  {
   "cell_type": "code",
   "execution_count": 94,
   "metadata": {},
   "outputs": [],
   "source": [
    "# tg = tips.groupb('time')\n",
    "# tg.agg(['min', 'max']) # str로 적었지만 df 내의 함수라면 함수로 적용이 가능하다."
   ]
  },
  {
   "cell_type": "code",
   "execution_count": 93,
   "metadata": {},
   "outputs": [],
   "source": [
    "# tsg['size'].size() # 여러 개의 값을 빈도수로 축소시켜주는 함수.\n",
    "# tsg.agg('size') \n",
    "# tsg.agg(['size', 'mean']) # 2가지 함수 적용할 때."
   ]
  },
  {
   "cell_type": "markdown",
   "metadata": {},
   "source": [
    "- DataFrame의 병합 함수들 (min, max, mean, median, size 등)을 agge의 인자로 여러 개 넣을 때는 문자열로 전달해야한다."
   ]
  },
  {
   "cell_type": "code",
   "execution_count": null,
   "metadata": {},
   "outputs": [],
   "source": [
    "pd.concat({key: value}) # dict로 key, value 정해서 합치기 가능."
   ]
  }
 ],
 "metadata": {
  "kernelspec": {
   "display_name": "Python 3",
   "language": "python",
   "name": "python3"
  },
  "language_info": {
   "codemirror_mode": {
    "name": "ipython",
    "version": 3
   },
   "file_extension": ".py",
   "mimetype": "text/x-python",
   "name": "python",
   "nbconvert_exporter": "python",
   "pygments_lexer": "ipython3",
   "version": "3.7.2"
  }
 },
 "nbformat": 4,
 "nbformat_minor": 2
}
