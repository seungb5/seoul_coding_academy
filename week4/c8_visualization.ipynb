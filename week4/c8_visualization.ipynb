{
 "cells": [
  {
   "cell_type": "markdown",
   "metadata": {},
   "source": [
    "#### 시각화\n",
    "도표나 시각화의 목적\n",
    "\n",
    "- 특이값을 찾아내거나\n",
    "- 데이터의 변형 필요성\n",
    "- 모델에 대한 아이디어 획득\n",
    "\n",
    "- 주로 matplotlib를 통한 시각화에 촛점을 둘 것이다.\n",
    "- 시각화만 잘해도 먹고살 수 있다."
   ]
  },
  {
   "cell_type": "markdown",
   "metadata": {},
   "source": [
    "- matplotlib(Python) : matlab의 plot 함수로 만든 패키지. 분석 용도로 사용하는 그래프\n",
    "- ggplot(R) : 그림 그리는 표준 문법. 동적 그래프, 상호 작용 그래프 등"
   ]
  },
  {
   "cell_type": "markdown",
   "metadata": {},
   "source": [
    "- matplotlib : pylab(Numpy + pyplot), pyplot (Numpy를 data로 사용)"
   ]
  },
  {
   "cell_type": "markdown",
   "metadata": {},
   "source": [
    "#### 1. pyplot\n",
    "- pyplot과 numpy를 별도로 각각 사용하는 것이 유용하다. \n",
    "- pylab은 뒤쳐져 있음."
   ]
  },
  {
   "cell_type": "code",
   "execution_count": 5,
   "metadata": {},
   "outputs": [],
   "source": [
    "import numpy as np\n",
    "import matplotlib.pyplot as plt"
   ]
  },
  {
   "cell_type": "markdown",
   "metadata": {},
   "source": [
    "#### figure\n",
    "- pyplot의 figure안에 존재하는 각 요소들에 대한 설명이 있는 사진 찾아보기.\n",
    "- figure : 그림이 들어갈 수 있는 전체 공간. 그 안에 여러 그림을 넣는 것.\n",
    "- axes : 각각의 그래프가 그려지는 영역은 axes라고 불림.\n",
    "- marker : scatter point. color, size 지정 가능.\n",
    "- tick : 눈금\n",
    "- label : axis label (축 이름), major/minor tick label\n",
    "- anotation : 주석\n",
    "- 각각의 그래프는 subplot 명령으로 axes로 할당된다.\n",
    "- figure는 plt.plot 명령으로 자동으로 axes와 함께 생성할 수도 있다."
   ]
  },
  {
   "cell_type": "code",
   "execution_count": 31,
   "metadata": {},
   "outputs": [
    {
     "data": {
      "text/plain": [
       "<Figure size 432x288 with 0 Axes>"
      ]
     },
     "metadata": {},
     "output_type": "display_data"
    }
   ],
   "source": [
    "fig = plt.figure()"
   ]
  },
  {
   "cell_type": "code",
   "execution_count": 10,
   "metadata": {},
   "outputs": [
    {
     "data": {
      "text/plain": [
       "<Figure size 432x288 with 0 Axes>"
      ]
     },
     "execution_count": 10,
     "metadata": {},
     "output_type": "execute_result"
    },
    {
     "data": {
      "text/plain": [
       "<Figure size 432x288 with 0 Axes>"
      ]
     },
     "metadata": {},
     "output_type": "display_data"
    }
   ],
   "source": [
    "plt.gcf() # 가장 최근에 생성한 figure를 찾음."
   ]
  },
  {
   "cell_type": "code",
   "execution_count": 7,
   "metadata": {},
   "outputs": [
    {
     "data": {
      "text/plain": [
       "<matplotlib.axes._subplots.AxesSubplot at 0x2a544b8fa58>"
      ]
     },
     "execution_count": 7,
     "metadata": {},
     "output_type": "execute_result"
    },
    {
     "data": {
      "image/png": "[encoded data removed]",
      "text/plain": [
       "<Figure size 432x288 with 1 Axes>"
      ]
     },
     "metadata": {
      "needs_background": "light"
     },
     "output_type": "display_data"
    }
   ],
   "source": [
    "plt.gca() # 가장 최근에 생성한 axes를 찾음."
   ]
  },
  {
   "cell_type": "code",
   "execution_count": 32,
   "metadata": {},
   "outputs": [
    {
     "data": {
      "text/plain": [
       "<matplotlib.axes._subplots.AxesSubplot at 0x2a546fcc4e0>"
      ]
     },
     "execution_count": 32,
     "metadata": {},
     "output_type": "execute_result"
    }
   ],
   "source": [
    "ax1 = fig.add_subplot(2, 2, 1) # 1, 2, 3은 axes의 각 ax numbering\n",
    "ax2 = fig.add_subplot(2, 2, 2) # row : 2, column : 2. 즉, 2 X 2 shape.\n",
    "ax3 = fig.add_subplot(2, 2, 3)\n",
    "ax3"
   ]
  },
  {
   "cell_type": "code",
   "execution_count": 33,
   "metadata": {},
   "outputs": [
    {
     "data": {
      "text/plain": [
       "<matplotlib.collections.PathCollection at 0x2a5470366d8>"
      ]
     },
     "execution_count": 33,
     "metadata": {},
     "output_type": "execute_result"
    }
   ],
   "source": [
    "from numpy.random import randn\n",
    "ax3.plot(randn(50).cumsum(), 'k--')\n",
    "_ = ax1.hist(randn(100), bins = 20, color = 'k', alpha = 0.3) # alpha : 투명도\n",
    "ax2.scatter(np.arange(30), np.arange(30) + 3 * randn(30))"
   ]
  },
  {
   "cell_type": "markdown",
   "metadata": {},
   "source": [
    "그림을 drawing하려면\n",
    "- fig : 지정한 figure만\n",
    "- plt.show() : 모든 figure"
   ]
  },
  {
   "cell_type": "code",
   "execution_count": 37,
   "metadata": {},
   "outputs": [
    {
     "data": {
      "image/png": "[encoded data removed]",
      "text/plain": [
       "<Figure size 432x288 with 3 Axes>"
      ]
     },
     "execution_count": 37,
     "metadata": {},
     "output_type": "execute_result"
    }
   ],
   "source": [
    "fig"
   ]
  },
  {
   "cell_type": "markdown",
   "metadata": {},
   "source": [
    "생성된 figure 인스턴스를 종료하는 법"
   ]
  },
  {
   "cell_type": "code",
   "execution_count": 43,
   "metadata": {},
   "outputs": [],
   "source": [
    "plt.close() "
   ]
  },
  {
   "cell_type": "markdown",
   "metadata": {},
   "source": [
    "####  Axes\n",
    "- 그래프가 그려지는 공간\n",
    "- figure : Axes가 들어갈 수 있는 공간을 확보하는 것.\n",
    "- \n",
    "\n",
    "#### Axis\n",
    "- x, y 축\n",
    "\n",
    "#### Artist\n",
    "- figure에서 볼 수 있는 모든 요소들(figure, tick, label, axes, axis 등)을 Artist라고 한다.\n",
    "- 모든 것을 artist로 부를 수 있음.\n",
    "- 대부분의 artists들은 axes에 고착되며 공유되거나 옮겨지지 않는다.\n",
    "\n",
    "#### plot.type\n",
    "- 그림이 실제로 그려지는 data들을 말하며 numpy, Series, Series_index, DataFrame이 가능하다. why? np.array이므로.\n",
    ">plt에서 np.array를 처리할 때, Series, DataFrame에서는 오류가 날 수 도 있어서 각각에서 따로 plot을 만들었음.\n",
    "    - Series.plot()\n",
    "    - DataFrame.plot()"
   ]
  },
  {
   "cell_type": "markdown",
   "metadata": {},
   "source": [
    "#### coding style\n",
    "1) 객체형 스타일 \n",
    "- 가독성이 좋으며, 학구적이다.\n",
    "\n",
    "2) 함수형 스타일\n",
    "- 동일한 스타일의 그림을 데이터만 바꾸어 사용하거나, 약간의 스타일을 변형하여 반복적으로 그래프를 그리는 경우."
   ]
  },
  {
   "cell_type": "markdown",
   "metadata": {},
   "source": [
    "#### 이미지 그리기\n",
    "- imshow()\n",
    "- 이미지를 그려야 할 때 다시 찾아보자.\n",
    "___"
   ]
  },
  {
   "cell_type": "markdown",
   "metadata": {},
   "source": [
    "## 1. A brief matplotlib API primer\n",
    "python에서 자료를 차트(chart)나 플롯(plot)으로 그리기 위한 패키지.\n",
    "- contour plot : 3차원 data를 그리기 위한 것.\n",
    "- bar chart : 범주형 데이터의 빈도수, 수치가 이미 존재할 때 그리는 것. 불연속 data\n",
    "- histogram : 데이터의 종류는 1가지. 데이터의 범위가 정해져 있고, 연속된 data. ex) 온도변화 데이터, 온도 범위 : -20 ~ 40, bins 지정\n",
    "- box plot : 연속된 data의 범위를 구하는 것. 백분위로 펼쳐서 분포를 보여줌.\n",
    "\n",
    "- [http://matplotlib.org/gallery.html](http://matplotlib.org/gallery.html) 그래프 인용할 거 찾을 때 참고."
   ]
  },
  {
   "cell_type": "code",
   "execution_count": 77,
   "metadata": {},
   "outputs": [
    {
     "data": {
      "text/plain": [
       "[<matplotlib.lines.Line2D at 0x2a54a8026d8>]"
      ]
     },
     "execution_count": 77,
     "metadata": {},
     "output_type": "execute_result"
    },
    {
     "data": {
      "image/png": "[encoded data removed]",
      "text/plain": [
       "<Figure size 720x432 with 1 Axes>"
      ]
     },
     "metadata": {
      "needs_background": "light"
     },
     "output_type": "display_data"
    }
   ],
   "source": [
    "import matplotlib.pyplot as plt\n",
    "plt.rc('figure', figsize=(10, 6))\n",
    "plt.plot(np.arange(10), 'm|-') # o : circle, s : square"
   ]
  },
  {
   "cell_type": "code",
   "execution_count": 57,
   "metadata": {},
   "outputs": [],
   "source": [
    "plt.plot? # 읽어볼 것."
   ]
  },
  {
   "cell_type": "markdown",
   "metadata": {},
   "source": [
    "## 2. Figures and Subplots\n",
    "- dpi : figure의 inch당 찍혀질 점의 개수. dpi가 높을수록 선명해진다.\n",
    "- figsize"
   ]
  },
  {
   "cell_type": "code",
   "execution_count": 78,
   "metadata": {},
   "outputs": [
    {
     "data": {
      "text/plain": [
       "<Figure size 720x432 with 0 Axes>"
      ]
     },
     "metadata": {},
     "output_type": "display_data"
    }
   ],
   "source": [
    "fig = plt.figure()"
   ]
  },
  {
   "cell_type": "code",
   "execution_count": 79,
   "metadata": {},
   "outputs": [],
   "source": [
    "ax1 = fig.add_subplot(2, 2, 1) # 2번째 row, column의 1번째 그림."
   ]
  },
  {
   "cell_type": "code",
   "execution_count": 80,
   "metadata": {},
   "outputs": [],
   "source": [
    "ax2 = fig.add_subplot(222) # 2번째 row, column의 2번째 그림.\n",
    "ax3 = fig.add_subplot(2, 2, 3) # 2번째 row, column의 3번째 그림."
   ]
  },
  {
   "cell_type": "code",
   "execution_count": 81,
   "metadata": {},
   "outputs": [
    {
     "data": {
      "text/plain": [
       "<matplotlib.axes._subplots.AxesSubplot at 0x2a549476668>"
      ]
     },
     "execution_count": 81,
     "metadata": {},
     "output_type": "execute_result"
    }
   ],
   "source": [
    "ax3"
   ]
  },
  {
   "cell_type": "markdown",
   "metadata": {},
   "source": [
    "matplotlib : Axes guide # 읽어 볼 것."
   ]
  },
  {
   "cell_type": "code",
   "execution_count": 82,
   "metadata": {},
   "outputs": [
    {
     "data": {
      "text/plain": [
       "<Figure size 720x432 with 0 Axes>"
      ]
     },
     "execution_count": 82,
     "metadata": {},
     "output_type": "execute_result"
    },
    {
     "data": {
      "text/plain": [
       "<Figure size 720x432 with 0 Axes>"
      ]
     },
     "metadata": {},
     "output_type": "display_data"
    }
   ],
   "source": [
    "plt.gcf()"
   ]
  },
  {
   "cell_type": "code",
   "execution_count": 83,
   "metadata": {},
   "outputs": [
    {
     "data": {
      "text/plain": [
       "<matplotlib.axes._subplots.AxesSubplot at 0x2a54947c198>"
      ]
     },
     "execution_count": 83,
     "metadata": {},
     "output_type": "execute_result"
    },
    {
     "data": {
      "image/png": "[encoded data removed]",
      "text/plain": [
       "<Figure size 720x432 with 1 Axes>"
      ]
     },
     "metadata": {
      "needs_background": "light"
     },
     "output_type": "display_data"
    }
   ],
   "source": [
    "plt.gca()"
   ]
  },
  {
   "cell_type": "code",
   "execution_count": 84,
   "metadata": {},
   "outputs": [],
   "source": [
    "plt.close('all')"
   ]
  },
  {
   "cell_type": "markdown",
   "metadata": {},
   "source": [
    "#### plt.subplots()\n",
    "- 한꺼번에 그림 만드는 방법\n",
    "- sharex : x 축 전체를 다 공유 할 것인지.\n",
    "- sharey : y \"\n",
    "- squeeze : array처럼 접근할 것인지\n",
    "- subplot_kw : 각 subplot을 생성할 때, 사용할 키워드를 담는 사전. 폭과 너비 등 조절.\n",
    "- wspace, hspace : subplots 간의 간격을 조절할 때 사용. 너비와 높이의 비율로 조정."
   ]
  },
  {
   "cell_type": "code",
   "execution_count": 93,
   "metadata": {},
   "outputs": [
    {
     "data": {
      "image/png": "[encoded data removed]",
      "text/plain": [
       "<Figure size 720x432 with 4 Axes>"
      ]
     },
     "metadata": {
      "needs_background": "light"
     },
     "output_type": "display_data"
    }
   ],
   "source": [
    "fig, axes = plt.subplots(2, 2, sharex=True, sharey=True)\n",
    "for i in range(2):\n",
    "    for j in range(2):\n",
    "        axes[i, j].hist(randn(500), bins=50, color='m', alpha=0.5)\n",
    "plt.subplots_adjust(wspace=0.05, hspace=0.1) # wspace, hspace 조절"
   ]
  },
  {
   "cell_type": "markdown",
   "metadata": {},
   "source": [
    "### Colors, markers, and line styles\n",
    "- plot함수는 x, y data와 색상, 선 스타일등을 인자로 받는다.\n",
    "\n",
    "[https://matplotlib.org/2.0.2/api/axes_api.html#matplotlib.axes.Axes](https://matplotlib.org/2.0.2/api/axes_api.html#matplotlib.axes.Axes)"
   ]
  },
  {
   "cell_type": "code",
   "execution_count": 94,
   "metadata": {},
   "outputs": [
    {
     "data": {
      "text/plain": [
       "<Figure size 720x432 with 0 Axes>"
      ]
     },
     "execution_count": 94,
     "metadata": {},
     "output_type": "execute_result"
    },
    {
     "data": {
      "text/plain": [
       "<Figure size 720x432 with 0 Axes>"
      ]
     },
     "metadata": {},
     "output_type": "display_data"
    }
   ],
   "source": [
    "plt.figure()"
   ]
  },
  {
   "cell_type": "code",
   "execution_count": 95,
   "metadata": {},
   "outputs": [
    {
     "data": {
      "text/plain": [
       "[<matplotlib.lines.Line2D at 0x2a54b21c908>]"
      ]
     },
     "execution_count": 95,
     "metadata": {},
     "output_type": "execute_result"
    },
    {
     "data": {
      "image/png": "[encoded data removed]",
      "text/plain": [
       "<Figure size 720x432 with 1 Axes>"
      ]
     },
     "metadata": {
      "needs_background": "light"
     },
     "output_type": "display_data"
    }
   ],
   "source": [
    "plt.plot(randn(30).cumsum(), 'ko--')"
   ]
  },
  {
   "cell_type": "code",
   "execution_count": 96,
   "metadata": {},
   "outputs": [],
   "source": [
    "# close the a\n",
    "plt.close('all')"
   ]
  },
  {
   "cell_type": "code",
   "execution_count": 99,
   "metadata": {},
   "outputs": [
    {
     "data": {
      "text/plain": [
       "<matplotlib.legend.Legend at 0x2a54c3f3198>"
      ]
     },
     "execution_count": 99,
     "metadata": {},
     "output_type": "execute_result"
    },
    {
     "data": {
      "image/png": "[encoded data removed]",
      "text/plain": [
       "<Figure size 720x432 with 1 Axes>"
      ]
     },
     "metadata": {
      "needs_background": "light"
     },
     "output_type": "display_data"
    }
   ],
   "source": [
    "# 선 스타일을 그리는 draw style도 변경할 수 있다.\n",
    "data = randn(30).cumsum()\n",
    "plt.plot(data, 'k-', label='Default')\n",
    "plt.plot(data, 'k-', drawstyle='steps-post', label='steps-post')\n",
    "plt.legend(loc='best')\n",
    "\n",
    "# steps-post는 보통 주가 그래프를 그릴 때 사용한다."
   ]
  },
  {
   "cell_type": "code",
   "execution_count": null,
   "metadata": {},
   "outputs": [],
   "source": []
  }
 ],
 "metadata": {
  "kernelspec": {
   "display_name": "Python 3",
   "language": "python",
   "name": "python3"
  },
  "language_info": {
   "codemirror_mode": {
    "name": "ipython",
    "version": 3
   },
   "file_extension": ".py",
   "mimetype": "text/x-python",
   "name": "python",
   "nbconvert_exporter": "python",
   "pygments_lexer": "ipython3",
   "version": "3.7.2"
  }
 },
 "nbformat": 4,
 "nbformat_minor": 2
}
