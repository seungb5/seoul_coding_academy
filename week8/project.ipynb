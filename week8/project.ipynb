{
 "cells": [
  {
   "cell_type": "code",
   "execution_count": 1,
   "metadata": {},
   "outputs": [],
   "source": [
    "# 패키지 호출\n",
    "import pandas as pd\n",
    "\n",
    "# 사용할 함수"
   ]
  },
  {
   "cell_type": "markdown",
   "metadata": {},
   "source": [
    "___\n",
    "## General information¶\n",
    "- In this kernel I'm working with data from TMDB Box Office Prediction Challenge. Film industry is booming, the revunues are growing, so we have a lot of data about films. Can we build models, which will be able to accurately predict film revenues? Could this models be used to make some changes in movies to increase their revenues even further? I'll try answer this questions in my kernel!"
   ]
  },
  {
   "cell_type": "markdown",
   "metadata": {},
   "source": [
    "### 1.2. File data\n",
    "- 이번 프로젝트는 Dataset을 File로 저장하여 사용.\n",
    "\n",
    "``` python\n",
    "# 사용하는 명령어\n",
    "%pwd, %cd, %ls\n",
    "```"
   ]
  },
  {
   "cell_type": "code",
   "execution_count": 2,
   "metadata": {},
   "outputs": [],
   "source": [
    "submission_path = \"C:/Users/tmznq/workspace/ml_scratch/dataset/tmdb-box-office-prediction/sample_submission.csv\"\n",
    "train_path = \"C:/Users/tmznq/workspace/ml_scratch/dataset/tmdb-box-office-prediction/train.csv\"\n",
    "test_path = \"C:/Users/tmznq/workspace/ml_scratch/dataset/tmdb-box-office-prediction/test.csv\""
   ]
  },
  {
   "cell_type": "code",
   "execution_count": 3,
   "metadata": {},
   "outputs": [],
   "source": [
    "TMDB_data = pd.read_csv(train_path)\n",
    "submission = pd.read_csv(submission_path)\n",
    "test_data = pd.read_csv(test_path)"
   ]
  },
  {
   "cell_type": "markdown",
   "metadata": {},
   "source": [
    "___\n",
    "## 2. 데이터 탐색\n",
    "### 2.1. 문제정의\n",
    "- 목표를 구체적으로 정의 하는 것. \n",
    "    - 알고 싶은 것이 \"무엇\"인지 명확하게 정의하지 않으면 \"어떻게\" 분석해야 할지 어려움.\n",
    "- 문제 유형 파악하기\n",
    "    - 어떤 유형의 문제인지를 알고 있어야 \"어떤\" 분석 방법을 사용할 것인지, 어떤 방법이 비효율적인지 알 수 있음."
   ]
  },
  {
   "cell_type": "markdown",
   "metadata": {},
   "source": [
    "#### TMDB Box office data\n",
    "#### 목표\n",
    "- TMDB 데이터를 이용해서 영화의 worldwide box office revenue(수익률)을 예측."
   ]
  },
  {
   "cell_type": "markdown",
   "metadata": {},
   "source": [
    "### 2.2. DA (Descriptive Analysis)\n",
    "- 주어진 데이터를 요약/집계하여 결과 도출"
   ]
  },
  {
   "cell_type": "code",
   "execution_count": 4,
   "metadata": {},
   "outputs": [
    {
     "data": {
      "text/plain": [
       "Index(['id', 'belongs_to_collection', 'budget', 'genres', 'homepage',\n",
       "       'imdb_id', 'original_language', 'original_title', 'overview',\n",
       "       'popularity', 'poster_path', 'production_companies',\n",
       "       'production_countries', 'release_date', 'runtime', 'spoken_languages',\n",
       "       'status', 'tagline', 'title', 'Keywords', 'cast', 'crew', 'revenue'],\n",
       "      dtype='object')"
      ]
     },
     "execution_count": 4,
     "metadata": {},
     "output_type": "execute_result"
    }
   ],
   "source": [
    "# columns\n",
    "TMDB_data.columns"
   ]
  },
  {
   "cell_type": "markdown",
   "metadata": {},
   "source": [
    "### 2.3. EDA (Exploratory Data Analysis)\n",
    "- 여러 변수 간 트렌드나 패턴, 관계 파악"
   ]
  },
  {
   "cell_type": "markdown",
   "metadata": {},
   "source": [
    "___\n",
    "### 3. 데이터 전처리\n",
    "- Data Wrangling"
   ]
  },
  {
   "cell_type": "markdown",
   "metadata": {},
   "source": [
    "___\n",
    "### 4. 데이터 변환\n",
    "- Transformed data\n",
    "- Feature engineering"
   ]
  },
  {
   "cell_type": "markdown",
   "metadata": {},
   "source": [
    "___\n",
    "### 5. 데이터 모델링\n",
    "- Base 모델 생성\n",
    "- 모델 튜닝"
   ]
  },
  {
   "cell_type": "markdown",
   "metadata": {},
   "source": [
    "___\n",
    "### 6. 모델 평가"
   ]
  },
  {
   "cell_type": "markdown",
   "metadata": {},
   "source": [
    "___\n",
    "### 7. 결론"
   ]
  }
 ],
 "metadata": {
  "kernelspec": {
   "display_name": "Python 3",
   "language": "python",
   "name": "python3"
  },
  "language_info": {
   "codemirror_mode": {
    "name": "ipython",
    "version": 3
   },
   "file_extension": ".py",
   "mimetype": "text/x-python",
   "name": "python",
   "nbconvert_exporter": "python",
   "pygments_lexer": "ipython3",
   "version": "3.7.2"
  }
 },
 "nbformat": 4,
 "nbformat_minor": 2
}
