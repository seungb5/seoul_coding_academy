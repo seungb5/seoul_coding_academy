{
 "cells": [
  {
   "cell_type": "markdown",
   "metadata": {},
   "source": [
    "'목적에 따라 달라지는 분석 방법'\n",
    "\n",
    "데이터 분석의 첫 단계 : \"문제 정의\" 단계\n",
    "\n",
    "\t1. 목표를 구체적으로 정의 하는 것. \n",
    "\t알고 싶은 것이 \"무엇\"인지 명확하게 정의하지 않으면 \"어떻게\" 분석해야 할지 어려움.\n",
    "\n",
    "\t2. 문제 유형 파악하기\n",
    "\t어떤 유형의 문제인지를 알고 있어야 \"어떤\" 분석 방법을 사용할 것인지, 어떤 방법이 비효율적인지 알 수 있음.\n",
    "\t\n",
    "6가지 유형\n",
    "\t1. Descriptive analysis : 주어진 데이터를 요약/집계하여 결과 도출\n",
    "\tEx) 대회 결과 데이터 분석 \n",
    "\t2. Exploratory analysis : 여러 변수 간 트렌드나 패턴, 관계 파악\n",
    "\tEx) 승률과 여러 변수들 간의 관계 파악\n",
    "\t\ta. Purpose\n",
    "\t\tb. Reproducibility\n",
    "\t3. Inferential anlaysis : 샘플-모집단 간의 관계 탐구\n",
    "\t4. Predictive analysis : 통계적 기법을 사용하여 사건 예측\n",
    "\tEx) 상대방의 Pick & Ban 예측\n",
    "\t5. Causal analysis : 독립 변수와 종속 변수 간의 인과관계 여부 확인\n"
   ]
  },
  {
   "cell_type": "markdown",
   "metadata": {},
   "source": [
    "___\n",
    "- 1. 데이터셋 확인 - 대부분의 캐글 데이터들은 잘 정제되어 있습니다. 하지만 가끔 null data가 존재합니다. 이를 확인하고, 향후 수정합니다.\n",
    "- 2. 탐색적 데이터 분석(exploratory data analysis) - 여러 feature 들을 개별적으로 분석하고, feature 들 간의 상관관계를 확인합니다. 여러 시각화 툴을 사용하여 insight를 얻습니다.\n",
    "- 3. feature engineering - 모델을 세우기에 앞서, 모델의 성능을 높일 수 있도록 feature 들을 engineering 합니다. one-hot encoding, class로 나누기, 구간으로 나누기, 텍스트 데이터 처리 등을 합니다.\n",
    "- 4. model 만들기 - sklearn 을 사용해 모델을 만듭니다. 파이썬에서 머신러닝을 할 때는 sklearn 을 사용하면 수많은 알고리즘을 일관된 문법으로 사용할 수 있습니다. 물론 딥러닝을 위해 tensorflow, pytorch 등을 사용할 수 도 있습니다.\n",
    "- 5. 모델 학습 및 예측 - trainset 을 가지고 모델을 학습시킨 후, testset 을 가지고 prediction 합니다.\n",
    "- 6. 모델 평가 - 예측 성능이 원하는 수준인지 판단합니다. 풀려는 문제에 따라 모델을 평가하는 방식도 달라집니다. 학습된 모델이 어떤 것을 학습하였는 지 확인해봅니다."
   ]
  },
  {
   "cell_type": "markdown",
   "metadata": {},
   "source": [
    "#### 순서?\n",
    "\n",
    "1. DA(Descriptive Analysis)\n",
    "    - 주어진 데이터를 요약/집계하여 결과 도출\n",
    "2. EDA (Exploratory Data Analysis) \n",
    "    - 여러 변수 간 트렌드나 패턴, 상관관계 파악\n",
    "    - 시각화 툴 이용.\n",
    "3. FE(Feature Engineering)\n",
    "    - one-hot encoding\n",
    "    - class로 나누기\n",
    "    - 구간으로 나누기\n",
    "    - 텍스트 데이터 처리 \n",
    "    - 새로운 Feature 생성\n",
    "4. Base model\n",
    "5. model fitting, prediction\n",
    "6. model 평가\n",
    "7. model 성능 개선"
   ]
  },
  {
   "cell_type": "markdown",
   "metadata": {},
   "source": [
    "- 데이터 수집 - 처리 - 모델 - 운영"
   ]
  }
 ],
 "metadata": {
  "kernelspec": {
   "display_name": "Python 3",
   "language": "python",
   "name": "python3"
  },
  "language_info": {
   "codemirror_mode": {
    "name": "ipython",
    "version": 3
   },
   "file_extension": ".py",
   "mimetype": "text/x-python",
   "name": "python",
   "nbconvert_exporter": "python",
   "pygments_lexer": "ipython3",
   "version": "3.7.2"
  }
 },
 "nbformat": 4,
 "nbformat_minor": 2
}
