{
 "cells": [
  {
   "cell_type": "markdown",
   "metadata": {},
   "source": [
    "#### Jupyter notebook Markdown\n",
    "- 이미지 첨부, 수식"
   ]
  },
  {
   "cell_type": "code",
   "execution_count": null,
   "metadata": {},
   "outputs": [],
   "source": [
    "# 이미지 : ![](URL)"
   ]
  },
  {
   "cell_type": "markdown",
   "metadata": {},
   "source": [
    "![](data:image/jpeg;base64,/9j/4AAQSkZJRgABAQAAAQABAAD/2wCEAAkGBxITEhUTExMWFhUXFxcYGBgXFhUXGBgXGBUWGBcXGBgYHSggGB0lHRcVITEhJSkrLi4uGB8zODMtNygtLisBCgoKDg0OGxAQGy0mICUtLS0tLy0tLy0tLy8tLS0tLS0rLS0tLS0tLS0tLS0tLS0tLS0tLS0tLS0tLS0tLS0tLf/AABEIAQ0AvAMBIgACEQEDEQH/xAAcAAACAwEBAQEAAAAAAAAAAAAEBQIDBgcBAAj/xABAEAABAwIEAwYDBQcCBgMAAAABAgMRACEEBRIxQVFhBhMicYGRMqGxQlLB0fAUI2KCkuHxU3IHM0OTwtIVFoP/xAAbAQADAQEBAQEAAAAAAAAAAAADBAUCAQAGB//EADQRAAEEAQMBBgMHBAMAAAAAAAEAAgMRIQQSMUEFEyJRYZGB0fAUMjNxobHhI0LB8QYVJP/aAAwDAQACEQMRAD8A5I2qK9UK8AgVMDjVQIS8UelVqRyq9KJ6c690QaWlTTGH4INTdQQySbfrrRuivkt/Een4ik3FHESo7gD7Ynpq+sV6UXkqmeNz9ahpqeihFbaPRfLY4ivkIonDDgatSxBrBfSYbBuohDqZrxTVqYd1Xha4UPvEY6dL+7tVSkRTFTdVKZrYehOhKAKagRRa0VUpFEBS7mKiqtNERXjiOW1atCLFU0L184mphNeAcK7aztxSp01GKIcTVemugrDm0qjUTVhFeRWkOkx1VYhVVuNarp34i9uoqxpB4g+cWNUxdoCJaHEetXlsESPblVOGBB2pgwgb+396FO2xapaOiNpS7RFWtN7jpRb2G4ioJRep0idbEWmigCzU+4vRyWuFWs4e9JukpOR6S0EyxRCUTRisLBq5rDigOkTkem2hCtt/Squ7piQm1jtb1qoorAevOjQJbqp1FopiGqFW3W2vQnMwly2qpW3TBxNCuIplrklLEAg1Jr7Rwq8t1Ei9F3JUsQihUaKfb5UORWgbQXtoqO9RKKkBU0mtLFXyqCmoFNFFFeaK9ayY0ShV5NXlIjUNuI5UMRV7Koq009CpxU2zemeGMiD70F3INxt9KOwqd7iw48ennRTHYRYJthV7PI7fSvVYaFUZhsvddSVIbUqLGBN/zohtk3StJSobggg+xqNqo9pNL6LSPEg2n4JejDwZo1nDyJ4iim8KKZsMQLDaCeNidvKocxNq7GAwJcMKJ6H61W9hotFPMRhouBUCxqO17fSKV3lEEg5SAYNSiEpEkkAAcSafsdkSRdfjItA8JVwEm9+dM8nwQTC1ATBjoD+dvnzqWe5kpGkgRKoNdJceOim6nV3IGMWFeZgbX4iglt1qu0rcYhw28RCv60pV/wCVZ91uiMejEbgHJS4mqHG6Yrb3qruidh60016XMdoDu6rWmjVsjifQX+dUqA5e9FDkB8VIQC0UO41TCTwj2FRuL8KIHpZ0QISxSa+7vnRbyqGMmig2lHMAKjPKvpr2BXmqtLKJSmxqxAqCBV6E1daFIJRGHtTFLUAEbfq1LmacZWRIB2O4ppvCWeaytFlwjDIOoEd4oEbciD/mnqXW1JSlQDqORI1J6tHceWxpCxhigKG6SAoen9iasweaFtUaRpmARuodSq3pvUbXQguTcE7mncE7dygJ8TZ1t84uk/dWOB+RqxjCxMjfpVeGzBSlhTPhUT4oIhQ6/e9aeLzHSk/u0FXGESd5kf25V89MC0kOX0sPaBewWhE5eCnTBPKBJqxvJgkgq8JE24n22400OP1KSlKvCsWI8r/4oRsqI1q2NkniYMfOlyAOiydXIcDCz+PxiwsgTvw2/wAULjGlOqR+9MAytBgWHERvf6itKrDIWbgSKrayoAlRFjFuQ6c+NDyGmlxr2lwJWd7UYTxoPFTTatuSAn/xrNLavXQ+2OACUsuJMgoCfKP19axzzN+leFtwVZ0hEkQKUnC1S81wpypNCup6D2rTXlMmMVhInGoqgop44yDuI8qExGEi4250w2RLPgPISpY8vaqSo+lGOIih3E0dpSbwUG/70K4TRq0UI6mmWFTpQeUOTXmqvVCoUVJkpmkdd7+X63q9AoVoGj20Wr6GMWpDzSuZakim2XsiQZi8bUHhUDbatLlDBmTsBPrtajnASb3pvh2glBnxSYFrRG4HtSPH4FzVAJSJj4ZBE7iLG0b1oWEnu7zYz5bg/Oi8e8kIbSogcd7kDYe0GlJmBwyvRSkGkBlTZQL3kW4ekDamWJxiEOMKUNIUZk2uAYB6zWexmPeKF/szRVBAKlCEyTA2NzMbVj3e0eKh0POBfdqA7otyCmYKgv7G6Snn4tov8/qYS92OitaZ4YPEurpSlzStBJHeFRANpmFfSmOeIJY0jwhOgk8gCJPtWV7IulIWCod2dK03FtQkitHnOMSMMsWOvSmfsg/xEbCpLgGktJ5VIbiQQOFmsF2uwynVaEuqAUAtYQooHKY2ECfQ1sGcYgK0Ei/A71lMqy7unHH06gl1BGjUkM61CC6Y+MgagN/iMRNOdfeQk7J0gKNiVcI+tD1BY38Naia52Xik9fyUOYdSUqJPxJCuY4TwkWrBYjDFNiCCCQZ3F9j7fOuiZDiVA9258Q2PAj86XdsMuHeBwfbEHzEX+lYwYw4dMFNaPUujlMbuDkLAqbqlbVPH2AOpoFbZ5UIOVxslpS61Qq1EU6WnmKAfYFEY5EyeEmxeH4jb6UAtuny2txQGIYim2P6JaeH+4JM4mg3U03eZoN1npTTHqVNESlLgqqj3WhQqkCmgbUx7CCmrbIHH2BowAGAnVYcukk/rlQLajFXpJr6dldFAeCjmFRFaPAEEb3B/sfwrLNKp9lipIn8qIeErIFscvAPhUbKAA/XnSTtdmCG1aYkpGlMc9pprhrgcxt9RWf7fsq75tKbG1/bnxpOceFZg/ERfZ3tGptoNLbK0FMGdRPW8b1VnLeGeQdKHCpREBQRG+8gSfWlIZSndwg8idInmQYmpO4UnSUvz5C55QI52sKjyRkm7VmNzR0U8me7rEBhfwpTa53Jmen9q2LSUuNFsuJCr+GRKh0HLasMzgEuuy9ruIJSpSVCw4C/DaK13Z1xptam1FLp+yowlYSUiyvUTExUXWQA56qzppqFJxleVSgBUBQMJ1cDUnA4y4PApwg8pAH8IA360ZgUQ75DbwzHSTenWNe02tMDf9ECkImgtJPRFlkIfXNqzArQ8AsgpUOYKTaqO0qQoIjhP4V5l2HROtQ8R5i/pYe9GZgzJFGYC4cDP1lLNIbKCOiyWIwuwoReEF602JwYJk0FicJyFDfCQqkeoWXxWHpa83WlxOFNK38PWBhUYpbSFbVCYpqnT7EUE8ijNcm8ObSROooF1NN3UUA83TbHKbKwpa65zANVAtncRRTzdUd0kWIk000ikg5rr6fFTwxSDcSOUxV6CKHBmrkV9e1fHORTcWt+utOstaPC8cqUI4EAFJttsY2PXiP8ANOsrTBEbn9bUQ8JV61GXtmw+sVZ2gaUtlPdI1LSSNUXCSOB+yJqvDMT0p5lbV5UfDF+opeQWEFp2uBXNMLlejU9ivAkmwSAVrPJOrYdb0bhlF1NhoT9hsEiZmNShczBM7nTFpFbrPez6XRNiCPDvFuFth+ANYvMcM5h1K6WHuCs9CCGduKSeNIuYG5VBsm/HVLMSlxKoCgADAVFrEyQkesDyp9kuQMrglatZvqBIJ2k9axgztTYgwr02qeG7RuT4BB4cbcbecVI1Ld33VVgcRyurZfh04YlbrwUngVHflPPeisVniXwENgaD9qTIvawi1cadxjyz4pPW9vnWp7NY91XgtqG3C3GY978utSJoSxpoqrE4SOBdyF1LJlFJ0SVHjM/4p46mazvZ5ZMAqkjc9Pxp6t0hW9Kwy7GZ4v2Ss4Peeq8fwvKluIZ4U8Q5NVv4cHzp0ncLCHHMWmis09h6VYnBgVqX2KWYpmlZQQqcMyyWLww50qfaFabGM0lxDe9Da5WIJLWefail2JRT3Et0oxKYpuNy3K1LnERQawZo96aGNNsKRkb0VLbR5UbhsOSQNJJ6A8aradjdMjkJn05VNzHKUNIlCPugn5kmT9OlfbjC+AdZRK2FBekmY87Twjgac4ERHp9KQ4Q3FaDLEcSdot9K0eEB/K02XCdx607wqCTb15UtwLURx8vzrR4ZsxsPIfjzpZ7qQKsolIlspTuNuN/1euW9siEEATqOqRJ3Mg2P+1FdYZRp8RtFcm7Y5iy68tNpSY3ETsfnaleQU2wEOC5+VeKFfISadYTDAKST4f8AfAmSOFU4djxElURx4m/Pf0FHYZwaoUJBTBJvx3J4R8oqLqDilahFlNBgln7KTNiUqPz3AnzonAKLNiQDvo0gD0CVGfM0razIhOgzI2NgfOAPnNBYzHLQNSUqVuSQFFKY5lAg+tTTE+Q0FVjlZGLcunZJm4StKZBKtvEJ0xNxwrUqvcKv51yTsKlcKxDxlSxDYPBvcmDxJ+QHOtxh84BITJ+R+lTdUzu7YMrQYZvGAtUwSmLzNMG12pUysFA+sEUfhTeDWtM7NJGVqueakTSvFJFONqBx7VOyNsV1XIX0aWaxjAPSkONw5rTYsUlxVTHeFyu6d5Wcea6UrxbXIU9xSN6Vv0yxyrM8QSB9gje1L3Fwad40UjdTen4jYyktS3bwvCoG4/AfSpoFfNk9PYflV6VHkPQAV94AvzpxV+DiRN60+BZk2ESPrSLBkk8PYVr8sB0gx632rj0s4pxgmRAPin5Tz3p/hEi1/SRSHCIPn6U3ZJApV4tDujaIzfEaMOtfGDseQr865ipRUombk3686/Q3aPDKXhRp4zv58R6VxztBlZ1XBna0RPT8zSxHgTsZp+VnMtdcURCVGAbAW43k7cL+dSwmKxWpYZ0q0iVaJUAL2FvFEG496uxWpxnQVEaBAHi0KSTMkJFymLedUdn8NiEOhTRUkFKgSPDqbMBXlwPmBSEob1VGPd0Q/wC1LcLhLwKgJFj4hxSIAuJG/CeVNsj7Our0rdJbQPFpBhR57bCAPTlU09m0IWCAVAalqjYJRKlAmRAgBM2+KnuMzQJ0gp0EEAovKZO1+QikZ5XBo7scp2CEF3jKIxWZi8X+VMezrepU/Kf71nsuaC1eOQBe9vb8q2WWBtIjVYRcbiedR5gBhWmv2twthgFaj+dM0nxA0gy14kwLi1+dNsUbdQQbUq0hhsKfKzxUU2UqRvUXU6kke3nQ2Fc1IBmrmnIMU6X5BSZaR8FnccmkuKrR5q1Clfres/i6nzmnq3pnWAkmNHGlbwppjKWP0xHwrMPCUY0UncbvTrGGkzgvVCLhc1DQtA52fW0od4lY6EETVJy+DOg9CRTzJO1LoASohafurAUn2O3pWraOExSQn/kLG0eJsk/MV9057m8hfk9lYXC4czt7AVpMC5CQLzN+UeVH4ns241cgFPBSbpPr+dGZdladClkaiCAE3AuCZMb7Vl0jSLWSCTSjhTTVCQBUFgaRAAPQAVUhdBJ3LH3SnDsKw4/hn9fOsVmeVIeBPEz9a12DJU2tI4fr8qzONdKSVKIjbqP10oUbeQUd7zTXBYjHdmlpBN4k26eVfZZli0hOsEATv1gwfYVrl5mkwCRv6kfgPP8AwFnjvgkbTaOJ/Q9qm6iKiqen1DiADyjOzeWMrC3HoKVJ0aCJBSpQ5C5JSI8xxIpR2rypku942ZSpSZgbKSkQBzBSLUPkHaltpvusQlQg+FQTqkTIB03BBPyB3qzFZih5YSy2pCEkL8Q+NV07E+EAT78IpfU92IsH/ab0vembP8Ugw+CYCdgIIvO8W4zTLLUFRGoAW5e4n9CgVDu5CRYbA8t4BPHb2q7BYxS9/baD0/XSobhYVwuI4Wyy7gZsOW/yp24eMkhVv81l8ncIIJECY4iT+BrTuHwiSQRsY4daXoEEJaXkKGWuadSRwPv1osLJvSRh4a1EbCmGGfmaI1w2gIT2m7VubJlIV6VlsYretWfGgp3kW86xmOWQSONK6htvDh1T+hzbfJK8U5NLnaNxAE0E7YHrR4+FeiCV4kWpa4i9NMTEUvUKejOEZ7QQoYZyDWkyvFbVl2jTXBORX6CRhfkDxldP7P5uoDTMjkbg+YrS4VptU6fDqF08OhHKuaZRiYBV7e4rYZFmYMA0jPFyQvRPo07hOX8CRwpRiWoNa0OJUms5nTek9DseBpeGQk0UXURACwh8sxWlzSdlW99qS55h0pJJjc2PPgLdf1yvS9BmrM1wfet6hv8Aa9OPO9N1Tr80nfhryXNMY4Q7O54cvPlTPD5ipadJI5W4zaPpSTtKwtKvypbgcYUEG9tvOkp25IVKE20FaNGVSA4rbxE7X07wPYe1GhpCJKjEJNk2NiTPqBM8I6VXljpdbQEmISQP6iSPI29hX2C0jFDvJhX7tXI60lKoHIEgTyKqjayBzRZ4VbSThxocqnGOpSmRdQJmbX3Ch89qrax4BCtUEz/cQbGh81w5CjqPiQpSQP8AaTG3MEHyoJnDW1KI347i3zt8qRDBSpBwPK1eS5oVriI2BJB+Yrfd2rSCbDeJkD15VzzJcUgQJSeA5jlB5frnW9y4hSDci23K3LakZm54XpDgUlGVuytRn7R/X6504bOknhPtWNyjGacQoAymTvzmtT+1SeldIGy1h195S0OXgwN6yPazDaHjyV4h67/OtVhMVIArNdrly9HJI+lelDe6FeaNodwn+CyzyqEdAot+gnqGxfRxpdi6XrpliRaljm9Px8Ir3YR2J7O4hvxaQtH+o2oKR5k2KP5gKnhGgBJIPlceZjem37YpBlCik8wYolp1p4/vmklX+o3Dbk8zA0rPmKvaft8EVM2vUfJfnE/ZbuYz7obBYlNvEn1JA+cU4aUpHiTJHMEKA8yKFdyUqMtOJX/CsBC/n4T5g+lQRhFIMKStCucGRw261Yi1MU4uNwKkzQPjNPFLW5dnLhAEGLCYMe9MRmIMpWJQSRFrQYlJ51lMA44FRqUOJ8J0mOJAsacB1ekhTfdnfWiACeFzO/TnWXsF8IYcQOVZmWX6IUk6m1fCr8DyNfYJwJ348JBt1qGX5jEoWNbarEagfIgjY1Vi8GWVyDqQoSlXNP5jlXs/dcvAA5CV9rMkSUladiNuVcszDCqQY4V3pKEuNEHlXKe2OQqQrUk2PDlQZbc31CYgO11FIclzVTSkmdiD863uAy5DzriiCG20BCj/ABuDSSDwKUlX9QrnGT5eXMS2lVkAlbh4aGwVKHrGnzUK7FhGO5y1a1fGv98vzWtMD0TpHpUHtKc7QwKzooQHF/wWF7QvqQtK1DxK8C4/1WzpV6WEeRpahp1R1Da1p5TT3PFB7WQJJSHB/uQNK4/kv5qrKrx6gdKZtAN7EilY/EzCfd4Xpi+VIgFAg806h5gi6TW47EOOK3dJRHw2JHSYn3rKdn2ZOpUjje9dByLFNSEym/l+FKanikffTSBlZLOinDPrMiDJHrVvZzNlvK5CfP61nf8AiE8pWLU3PhBG3UUd2cxOjSAOk9a6Yf6Qd1XGnJvldcwA2rJdoMSC+5M2Mc9q2GR3QCTNqxPaxBTiF2ICjqHWRS8jfAEfs+jMQfJLHFA7RQb4orDYNbh8IAHFSiEoA6qNhVzqMIyP3ji31fdb8DfkXFeI/wAorjIyq79TFDyc+XX6/NZ1+SYSCSeABJ9hUFZG+dwhB5LcQlXsTIpunNzcNpS0DwRv6qPiPvQT2IvTQcW4CnzdoucfAKCMczZCl92+goc+6+O5c8w58CxyKonlTFnAp+yog8ErGk+h+FXnUXXlEaFhLjf3HUhafSbpPkRUGMpSBOGdXhzv3av3zB9FXSet6L/55Rg7D65HvyPYqR/VZ0senPtx+yLcSpFlAj9cOdDu5y4gRIUn7qxqHpO3pVi8W+0kd80dPFxr98z6pJ1I8yfSg8aw2qZCkECSUStIBEypBhaB1Nqx9llhO8ceYNj3H8Lwnjk8J58j8ipN5kyr77Kj1K2//ZPzrzFa0p1JVrRvqR4kzzJHw+oFK15euNSYcT95s6h6jceoqrDuKSZSSDzBiqcHa80eH+IevPulJOzIpMtwUW3migQQZ8o+XGtdlWcJWktOmEEylRsEKOxHnsazXgeP75sKkRqRDa+h2KSfMUVgsrLSzCithQjxJgiSLKEkHjtVB/bOnfESMOHQ/wCCkv8AqpWvAPHmFpsFjShRSocfQ9ZpP28EIC/sn1F6UZzhVYdSSg+BSUqEEggkAlJG2/GKqf7QrU33ayhSQIGpMEeSkWPqmhR9qxv5FfqFt/ZrxkG/0SLsy33jpn4VHSZ+4khSh6wP6a3PaLOQrCPpm5SmP+4msjhlpQFFMX5cOJE85n3oLH44lpwcx/5A1GnPeS36qtE3u46U8mzL94mb325zYj1r7/41DRUm9jaet0/KKzLWIhQINwZrouS5c1iwHXXXU2ACGm5UrSLHvFeBMSU35Vtze7PoV0v3j1CDwL4CTpvb9RT3sjkinFl1UqIMwNh+VaDK8hbQCWcM2iBJdxSy8RG5LaSG0+YVSjMc9ecUpDb6lNApR4UpQklR+whImISqJJNLSbXdVqN7m2GrB9qQP2tw8dXOYt/erckelSYknkBJrUudk04h9bzilBKjIQLW4SfyitNgMrYYEIQlPpc+Z41p+pjbGGjJXAx5dZTLI3Fd1EXI3NgPxoHNg0CFEBawIBULDyT+c19icfA3gbf2pRjXfvHT5/F/TuP5opDcXcBGaNpu0qzbHE7ny5DyHCkLzbiwVAQn7yiEp/qNq07eUOuJLiEIQgf9V9SQP5Um3uFedZnOEL1kvOokWCpKzH8CYEDqABTcTVmt2LAVLTjSBKlFflKE+6hqV6J9agrNln4G/D0aSR7rBJ9TQjeIbBlKNR+85f2SLe5PlU3cc4T8ah0BKR6BMAUxtFrNsHGVuAWnE60EFMTqblQA5qQYWi8jxAbUThWzFoUOab/3rm+DzBaQ0DICSVpUlIS5BsrS5EwdPlT/AAnadaCkKSHPDcg6XCrf4wINo+IK2NUdT/x91XCb9Dg/L9lNj7SHEg9vr5rULcKTKVFJ5gxSvMFocILyCVDZxpXdup6iPCr1FMWcyadQlSlBJUJCXSlpyJ0yFTpUOAkieVU4rB3gGFfdWNJ6QdledhUcM1OkdRtp+vgU8HQzt6FLhh1k6mnEvHko/s+K9FfC6epKttq9ZxKFr0OiF8Q6nuXR/N8Kx5wTyqvE4cpMKEefHy516cSrTpVDifuuDUB5H4k+hFG+0Mk/Fbnzbg/EcH2H5rggezMbvgc/rym+IwbaIKT8rj8/SjhiUHDuAEHwHY8QJjptWKxDQEd0FpAkBIUsiZKpKggn7YHkkV53tlmSTcJJPiA1tjfhYifOlnQNJsHCejje9vt+prmkP2lzkmL8J97/AENZw5oFDcSNx+PlWoxZTHwAjQSQU2UYUZIIvwv0r5SSdWkGQbDURxOrxJbVtwsKbjLWjhDOklJIvgX1PWkz7Nf/ABCsK2X3kpeIJcSVuC+tRFkncoSkRI3F5qOeM5VoT+zLbJ71vWlTrhltR8QMmLFSBMD4SZEmM/jlKCsOFNiDiGr6iqI1WhTKN78TtSbte540dWhP/dcpphBIFD/SxKXNY52cY9welLZ5bl2XuKQnSyVK0g6QoeLSdRAN9434TyMdKy7BsMp1AoQy2i52SkJBkknawn9TXHctZaQlp7ShCg00AuzZlTKSZMaLwolSoJ+9wo3OMxcdaCCrW2SyQBdKgXWSCZAmx5AdKX1JMzg0YCHHpXxtJsXV89DXx6pv2r7fjEks4eU4cHfZTpH2lDgnkn1PIe9m1au7HNalH+RHh+alVnMRhVrcaUEakpcUFm0Ce60iON5sOtFYLFEJBCr3G4mCEm8uJlJ5QePOgysBb4UePTvaXDyrz6rorWIAkC5HAXjzOyfUihcxzJDYl1xKOQBBUfKbT0g+dY9/M1KjUoQlKgnSUoCZSbwlwyeG3GZtTjIMkYdSMStAW5ATJuITtbn1pQxNYLctujcG7vWlU9nDq5/ZWST99ZIAB5qJmOkx0oVGEcSdb7xWofYaACAeWoiPUA1pcQ3aAIHAcPaleLYUQYG25JAA8ybCuNkvDQs1WUgzPM3DYHSBtBJV/Ubj0gdKQrQVGACSeQJJp9immUeJatfke7b8tarqPRIPnSfF5+ANLY8PENgtI9Vf8xY6EgVQhaawEq85UWMAUmHFBB+4PG55aE/Cf90UYO5FtE9VvBKvVKQQnyk0hXjyRATpHJIgevE+s1ShVtzR+6J5WNwpWsuGPEQCAIBk2O0Tw/OmDbiCSpaikKTPgT9pI8KSJ8IKgDO/SkeHTJttf4jHlXynkiwk3M7aeO3Pzr60SUMqGWWmOPx6l/Ebjw72A5JGyU9Bzq3Lc5eZGlCzo/01QtH9CrA9RB60tYfCidXHbmelepB5Vx22QU4WPJdaNvGFvsjxb+JhLbKr2t42iQOSzqHoVeVE5iGGR4tTrkXQyT3QP8Tp38kyRyrAM4taIhREEkQdjxI5HqKFW6FXO/M/+2/vNQNX2V490YFeQ+v2VKDV0KccrUHMO9UqEadKZggJAMgGFhKlTKrQnYec1JS4FkqCCNOlPduNkDxpVPjUkk+He245QFGV4tDQXq1eIoiAk2SHJElQH2k+21MXO0jZMqDo9FAeyXqQMRaaAVOOVpYDuo3fy6ZTgLB0qUI8B8MglSfHKtSZSLSYnh1oXvULaK1JWUXXuEGxIJhD6VETO4oA5/h4PjVOlQAKFHfVuorUeNXZZmWFKEo72wQlBBZJTYJnc/eE7UPaW5o/qjCRrvDvHHWjm+OOFTqw6ltaEK1B1s6lqdAQAqVHxvKEmALjYkzQ/abLytTcEGG4OlSViStZiUkiYIrU4T9gPxPNj/8AFP504wWHy0jxYxkfyEfIV7v6IIu/X+Vjum7SwkUSCaB6X5D1WIzTCFeFbQDeMN1+Fi/zo5kJCG5vCMOOHAsflTp7B4OTpxzKhaEllStkwNyL0Pi8IwZKXhEJhKW1QNJQbR/t5caGZcAHztHIZbiDywN9q+SiyAAtXAKIvECSgBYlJvce2x4EL7zm7/Uz+VIsc/hdaFB8nQpRILakm4TYXPKpjMWdSinxaiTdkWubDxiN/kK5sx/C8+VjpHOsdKwCmq1L3Jdt1ZNvatR2a19zq0LcQo7gp1jj8MBKt+m3GsUwvV8KB/2k/wDvU3cxw7RhxYK7DSgCbDjBIRaBEjaeNYfHuFAWgyPZWDn8l0IrISotJDyx9gjStPId2uI8yb1z3Pc6fCilbZbUkxpWk6kg7QkgJSDB2Hkasfx4Vh1Ka8JSQSdzp4m/HrvWTdxJUSVEqJ4kkk9STW4Ia5CLpwwgl1FELfQtUrJnmqVfOvAwyTZwfSfegFKoRxVONYT1QZGsHATdxhpJ/wCYn3m1DF1n73yNKVqqE0YR+ZShI8lY47J/QtyHKvAaHSqrEKJMCrIfaj0p66t7wxBV1t+JoRRr1KxxrwfS9SOSq2+1VJWPT60MXuYn9dK9C4gVrvLXqRnfgXF+h41BLwNiN+W1+n5RQa1yYFFZYwVuJEcZ9r/hQZi1wJI4W2WDQWjyDLsGtbgxEABkrCi821DkKKUhK5KwQBtqMlIgTIe5n2XyxGNwzaHP3K1Ol2MU3ASgNaAFqkJklzc34ERbNLytbj3dtpKlE6EgbnSNP0EzWrwvZNOHReFOn4iNk/wp/PjUV+rZG3PKfEBe7GEoZyPLg48HXTobfIQlOIaClsjB4h0QqIKi6hlEiwK9NyQSb/8AVsqASBjgpKHCXnO9QkKZKHFoS2nTOv8A5CFETClrEeGvMV2dmY3jas67gylDiCNwPktNdZq2v4C67TEdU/wXZvLO+c141KcPLCmHEYhBX41QtlxOiU6TILpCdACSQdUBt2XGHdbPeLbDwGIhAxDRlTagGk2N0kSdYsYkVksry2bG4Ig+RF6oRla0Li4Uk2IttsoH2NefLG+wQuNie3IK6+vIsA+k6gF/dJUlK44DUIULQZNgbEVj+12VsZaFqShTkaCnXH2+osIJH2TM8K1PYHMUvQ074Xhsdg4OnJXMeo5CX/F7KteGdIHws6/6Dq+iBSgfuIBFC+i2RtujmlxLG9o33LatCfuo8I9TufeOlLw6QaFBohCJvVUMa0YCT3ElbnshiAQpCj8QKSOhEVnFykqSrdJKT5g/2r3JcSUrBFMs8wyFJ79BvI1jzsFD1gGkwNkhB4KpMcNlhJ+8qL3McapWqvULsR5mmKWe8vCrVUalqryK2gk2oowq1GEJKjyAk8NgOFx7ijRgHEpEtq1EFXwqnSIEnkOvWlJr0GnWyAFTiEwOVvnZpcf7Tzj61FWWvj/ouWvdCv1FA6hyFfWjaubr4XaROJwbqLuNrQCYlSSJMTFUASarSKscMGPI/KuA9Su0pA1ouxSCXlTZCEyqeZUBf0CqzYUSfl8or1rFLQCEqUkKidKiJiYmN9zWZbcwtB5XWHa4ErrmW9qMNgm4S0gvKB1vOqg9UobF9PkZPypLmP8AxGSTbUvohIaT/UfH7zXOAeNRpH7FGTbspj7S4fdwuuZXjw8ht9IjWkkjktCtKh1mx9K+7R4JJaL6OQ1j+YXrMdgsSru3EcELQtPmsKSr3CRWszNUYZ8cCj6KSalzM7ueh5qhE/fFZSXKXUyCduPpQud9oksPhBbCjAKyDBBOybXMCOIsRVGUOHUB+rAq/CPWshmmIK3nFncqPsDAHsBTkMAc82l5pS1opdNyLtXgXCO8Wpo73GkiPuq2HqTXR8vzZvHoLClpXKHEJckQ6lQAE8NUTtIO/SvzDV+ExbjSgptakKGykKKSI2uL0U6Jv9pS/wBoJ+8q1pIJBEEGCORG9TacioOulSipRJUokknckmSTXgpxARTb9Fs45QbKOdj5TNLUmrmzWS0FEY4q1RqINSivAK4iFRBqdRFSBry8Cv/Z)"
   ]
  },
  {
   "cell_type": "code",
   "execution_count": null,
   "metadata": {},
   "outputs": [],
   "source": [
    "# 수식 : $$ 식 $$"
   ]
  },
  {
   "cell_type": "markdown",
   "metadata": {},
   "source": [
    "$$\\\\pi$$"
   ]
  },
  {
   "cell_type": "markdown",
   "metadata": {},
   "source": [
    "#### Python 처리 과정\n",
    "- Script(Input) - Interpreter(Kerne) - 기계어 변환 - CPU 연산 - Console(Output)"
   ]
  },
  {
   "cell_type": "markdown",
   "metadata": {},
   "source": [
    "*기본 연습문제*"
   ]
  },
  {
   "cell_type": "code",
   "execution_count": null,
   "metadata": {},
   "outputs": [],
   "source": [
    "# 1.1. 5.5를 2로 나누고 몫과 나머지를 구하라."
   ]
  },
  {
   "cell_type": "code",
   "execution_count": 118,
   "metadata": {},
   "outputs": [],
   "source": [
    "def Q1(float):\n",
    "    x = float\n",
    "    a = int(float / 2)\n",
    "    b = (float / 2) - a\n",
    "    print(\"{}를 2로 나눈 몫은 {}이고 나머지는 {}이다.\".format(float, a, b))"
   ]
  },
  {
   "cell_type": "code",
   "execution_count": 119,
   "metadata": {},
   "outputs": [
    {
     "name": "stdout",
     "output_type": "stream",
     "text": [
      "5.5를 2로 나눈 몫은 2이고 나머지는 0.75이다.\n"
     ]
    }
   ],
   "source": [
    "Q1(5.5)"
   ]
  },
  {
   "cell_type": "code",
   "execution_count": 62,
   "metadata": {},
   "outputs": [],
   "source": [
    "result1 = 2, 0.75"
   ]
  },
  {
   "cell_type": "code",
   "execution_count": 27,
   "metadata": {},
   "outputs": [],
   "source": [
    "# 1.2. sin(pi/2)를 구하라."
   ]
  },
  {
   "cell_type": "code",
   "execution_count": 116,
   "metadata": {},
   "outputs": [
    {
     "data": {
      "text/plain": [
       "1.0"
      ]
     },
     "execution_count": 116,
     "metadata": {},
     "output_type": "execute_result"
    }
   ],
   "source": [
    "from math import sin, pi\n",
    "sin(pi/2)"
   ]
  },
  {
   "cell_type": "code",
   "execution_count": 117,
   "metadata": {},
   "outputs": [],
   "source": [
    "result2 = 1.0"
   ]
  },
  {
   "cell_type": "code",
   "execution_count": 40,
   "metadata": {},
   "outputs": [
    {
     "data": {
      "text/plain": [
       "3"
      ]
     },
     "execution_count": 40,
     "metadata": {},
     "output_type": "execute_result"
    }
   ],
   "source": [
    "# 1.3. round(2.9), math floor(2.9), math ceil(2.9)의 차이점?\n",
    "math.ceil(2.9)"
   ]
  },
  {
   "cell_type": "code",
   "execution_count": 51,
   "metadata": {},
   "outputs": [
    {
     "name": "stdout",
     "output_type": "stream",
     "text": [
      "2.9의 반올림:3, 내림:2, 올림:3\n"
     ]
    }
   ],
   "source": [
    "def Q3(float):\n",
    "    a = round(float); b = math.floor(float); c = math.ceil(float)\n",
    "    print(\"{}의 반올림:{}, 내림:{}, 올림:{}\".format(float, a, b, c))\n",
    "\n",
    "Q3(2.9)"
   ]
  },
  {
   "cell_type": "code",
   "execution_count": 63,
   "metadata": {},
   "outputs": [],
   "source": [
    "result3 = 3, 2, 3"
   ]
  },
  {
   "cell_type": "code",
   "execution_count": null,
   "metadata": {},
   "outputs": [],
   "source": [
    "# 1.4. random()을 이용해서 운수를 알아보자. 0~5 : 보통, 6~10 : 좋음"
   ]
  },
  {
   "cell_type": "code",
   "execution_count": 65,
   "metadata": {},
   "outputs": [],
   "source": [
    "import random"
   ]
  },
  {
   "cell_type": "code",
   "execution_count": 109,
   "metadata": {},
   "outputs": [
    {
     "data": {
      "text/plain": [
       "8"
      ]
     },
     "execution_count": 109,
     "metadata": {},
     "output_type": "execute_result"
    }
   ],
   "source": [
    "random.randint(0, 10) # including both end points.\n"
   ]
  },
  {
   "cell_type": "code",
   "execution_count": 322,
   "metadata": {},
   "outputs": [],
   "source": [
    "# cf) list comprehension을 이용한 주간 운수 판별기\n",
    "def my_luck():\n",
    "    import random\n",
    "    l = [random.randint(0, 10) for _ in range(7)]\n",
    "    if sum(l) > 35:\n",
    "        print(\"좋음\")\n",
    "    else: print(\"나쁨\")"
   ]
  },
  {
   "cell_type": "markdown",
   "metadata": {},
   "source": [
    "#### Composite type\n",
    "- list, tuple, dict, set"
   ]
  },
  {
   "cell_type": "markdown",
   "metadata": {},
   "source": [
    "split을 이용한 dict와 tuple의 차이 구분"
   ]
  },
  {
   "cell_type": "code",
   "execution_count": 130,
   "metadata": {},
   "outputs": [
    {
     "data": {
      "text/plain": [
       "list"
      ]
     },
     "execution_count": 130,
     "metadata": {},
     "output_type": "execute_result"
    }
   ],
   "source": [
    "a = [\"Tom&jerry\", \"b\"]\n",
    "type(a[0].split()) # list element를 split하면 다시 하나의 list로 취급함."
   ]
  },
  {
   "cell_type": "code",
   "execution_count": 141,
   "metadata": {},
   "outputs": [
    {
     "data": {
      "text/plain": [
       "['Tom', 'jerry']"
      ]
     },
     "execution_count": 141,
     "metadata": {},
     "output_type": "execute_result"
    }
   ],
   "source": [
    "a[0].split(\"&\", 1) # tuple로 표현하면 위치를 바꾸면 문제가 생김."
   ]
  },
  {
   "cell_type": "code",
   "execution_count": 147,
   "metadata": {},
   "outputs": [
    {
     "data": {
      "text/plain": [
       "['Tom', 'jerry']"
      ]
     },
     "execution_count": 147,
     "metadata": {},
     "output_type": "execute_result"
    }
   ],
   "source": [
    "a[0].split(sep=\"&\", maxsplit=1) # dict로 정의하면 key 값의 위치를 바꿔도 상관없음."
   ]
  },
  {
   "cell_type": "code",
   "execution_count": 314,
   "metadata": {},
   "outputs": [
    {
     "data": {
      "text/plain": [
       "10"
      ]
     },
     "execution_count": 314,
     "metadata": {},
     "output_type": "execute_result"
    }
   ],
   "source": [
    "a = [1, 2, 3, 4]\n",
    "sum(a)"
   ]
  },
  {
   "cell_type": "code",
   "execution_count": 313,
   "metadata": {},
   "outputs": [],
   "source": [
    "# list comprehension\n",
    "import random\n",
    "l = [random.randint(1, 100) for _ in range(100)]"
   ]
  },
  {
   "cell_type": "code",
   "execution_count": 316,
   "metadata": {},
   "outputs": [],
   "source": [
    "# during the week 운수 측정기\n",
    "def my_luck():\n",
    "    import random\n",
    "    l = [random.randint(1, 10) for _ in range(7)]\n",
    "    if sum(l) > 35:\n",
    "        print(\"좋음\")\n",
    "    else: print(\"나쁨\")"
   ]
  },
  {
   "cell_type": "markdown",
   "metadata": {},
   "source": [
    "#### module\n",
    "- 불러오기\n",
    "```python\n",
    "import sys\n",
    "import os as window\n",
    "from math import sqrt, pi # sqrt, pi만 모듈명 없이 사용. 즉, 필요한 함수만 골라서 사용 why? 다 부르면 메모리 낭비\n",
    "from random import * # 모든 변수, 함수 모듈명 없이 사용\n",
    "```\n",
    "\n",
    "- prototype만들 때는 import 다 불러서 만듦. 상용적으로 다시 만들어낼 때는 사용했던 것만 따로 불러서 사용할 것. (메모리 절약)\n",
    "\n",
    "- 협업 시 지속적으로 module 수정 시\n",
    "```python\n",
    "import myclass as mc\n",
    "import imp\n",
    "imp.reload(mc) # 실행환경에 따라 소스의 변경이 반영되지 않을 수 있음. 명시적으로 다시 부르는 방법.\n",
    "```"
   ]
  },
  {
   "cell_type": "markdown",
   "metadata": {},
   "source": [
    "#### for문"
   ]
  },
  {
   "cell_type": "code",
   "execution_count": 148,
   "metadata": {},
   "outputs": [
    {
     "name": "stdout",
     "output_type": "stream",
     "text": [
      "0\n",
      "1\n",
      "2\n",
      "3\n",
      "4\n",
      "5\n",
      "6\n",
      "7\n",
      "8\n",
      "9\n"
     ]
    }
   ],
   "source": [
    "for i in range(0,10): # range(0,10)에서 i를 하나씩 뽑는 행위를 반복해라\n",
    "    print(i)"
   ]
  },
  {
   "cell_type": "code",
   "execution_count": 160,
   "metadata": {},
   "outputs": [
    {
     "name": "stdout",
     "output_type": "stream",
     "text": [
      "False\n",
      "False\n",
      "False\n",
      "3\n",
      "False\n",
      "False\n",
      "False\n",
      "False\n",
      "False\n",
      "False\n"
     ]
    }
   ],
   "source": [
    "for i in range(0,10): # 만약(if) i == 3이라면 i 출력, 아니라면(else) False 출력\n",
    "    if i == 3:\n",
    "        print(i)\n",
    "    else: print(False)"
   ]
  },
  {
   "cell_type": "markdown",
   "metadata": {},
   "source": [
    "*연습문제1*"
   ]
  },
  {
   "cell_type": "code",
   "execution_count": 172,
   "metadata": {},
   "outputs": [
    {
     "data": {
      "text/plain": [
       "'c'"
      ]
     },
     "execution_count": 172,
     "metadata": {},
     "output_type": "execute_result"
    }
   ],
   "source": [
    "chr() # 아스키 코드를 문자로 변환 시켜주는 built-in 함수.\n",
    "ord() # 문자를 아스키 코드로 변환 시켜주는 built-in 함수."
   ]
  },
  {
   "cell_type": "code",
   "execution_count": 175,
   "metadata": {},
   "outputs": [
    {
     "data": {
      "text/plain": [
       "'f'"
      ]
     },
     "execution_count": 175,
     "metadata": {},
     "output_type": "execute_result"
    }
   ],
   "source": [
    "chr(ord('d') + 2)\n"
   ]
  },
  {
   "cell_type": "code",
   "execution_count": 181,
   "metadata": {},
   "outputs": [
    {
     "data": {
      "text/plain": [
       "['a',\n",
       " 'b',\n",
       " 'c',\n",
       " 'd',\n",
       " 'e',\n",
       " 'f',\n",
       " 'g',\n",
       " 'h',\n",
       " 'i',\n",
       " 'j',\n",
       " 'k',\n",
       " 'l',\n",
       " 'm',\n",
       " 'n',\n",
       " 'o',\n",
       " 'p',\n",
       " 'q',\n",
       " 'r',\n",
       " 's',\n",
       " 't',\n",
       " 'u',\n",
       " 'v',\n",
       " 'w',\n",
       " 'x',\n",
       " 'y',\n",
       " 'z']"
      ]
     },
     "execution_count": 181,
     "metadata": {},
     "output_type": "execute_result"
    }
   ],
   "source": [
    "alphabet = [chr(ord('a') + i) for i in range(26)] # for문을 이용해서 alphabet 만들기.\n",
    "alphabet"
   ]
  },
  {
   "cell_type": "markdown",
   "metadata": {},
   "source": [
    "*연습문제2*"
   ]
  },
  {
   "cell_type": "code",
   "execution_count": 264,
   "metadata": {},
   "outputs": [],
   "source": [
    "# 100보다 작은 홀수 만들기\n",
    "# range만 사용 \n",
    "def odd_number1(n):\n",
    "    ll = []\n",
    "    for i in range(1, n, 2):\n",
    "        ll.append(i)\n",
    "    print(ll)"
   ]
  },
  {
   "cell_type": "code",
   "execution_count": 265,
   "metadata": {},
   "outputs": [
    {
     "name": "stdout",
     "output_type": "stream",
     "text": [
      "[1, 3, 5, 7, 9, 11, 13, 15, 17, 19, 21, 23, 25, 27, 29, 31, 33, 35, 37, 39, 41, 43, 45, 47, 49, 51, 53, 55, 57, 59, 61, 63, 65, 67, 69, 71, 73, 75, 77, 79, 81, 83, 85, 87, 89, 91, 93, 95, 97, 99]\n"
     ]
    }
   ],
   "source": [
    "odd_number1(100)"
   ]
  },
  {
   "cell_type": "code",
   "execution_count": 260,
   "metadata": {},
   "outputs": [],
   "source": [
    "# 조건문 사용\n",
    "def odd_number2(n):\n",
    "    l2 = []\n",
    "    for i in range(1, n):\n",
    "        if i % 2 == 1:\n",
    "            l2.append(i)\n",
    "    print(l2)"
   ]
  },
  {
   "cell_type": "code",
   "execution_count": 261,
   "metadata": {},
   "outputs": [
    {
     "name": "stdout",
     "output_type": "stream",
     "text": [
      "[1, 3, 5, 7, 9, 11, 13, 15, 17, 19, 21, 23, 25, 27, 29, 31, 33, 35, 37, 39, 41, 43, 45, 47, 49, 51, 53, 55, 57, 59, 61, 63, 65, 67, 69, 71, 73, 75, 77, 79, 81, 83, 85, 87, 89, 91, 93, 95, 97, 99]\n"
     ]
    }
   ],
   "source": [
    "odd_number2(100)"
   ]
  },
  {
   "cell_type": "markdown",
   "metadata": {},
   "source": [
    "- 위의 두 결과물은 같지만 연산 과정은 위가 훨씬 간단함.\n",
    "- 필요한 것만 뽑는 의미와 전체를 두고 비교하고, 출력하는 차이를 알아야함."
   ]
  },
  {
   "cell_type": "markdown",
   "metadata": {},
   "source": [
    "*연습문제3*"
   ]
  },
  {
   "cell_type": "code",
   "execution_count": 288,
   "metadata": {},
   "outputs": [],
   "source": [
    "# for문 list에 담기\n",
    "l = []\n",
    "for i in range(1,10):\n",
    "    l.append(i)"
   ]
  },
  {
   "cell_type": "code",
   "execution_count": 375,
   "metadata": {},
   "outputs": [],
   "source": [
    "# 0부터 99까지 10*10 행렬 형태의 리스트\n",
    "mylist=[]\n",
    "for i in range(10):\n",
    "    n = i*10\n",
    "    innerlist=[]\n",
    "    for j in range(10):\n",
    "        innerlist.append(n+j)\n",
    "    mylist.append(innerlist)"
   ]
  },
  {
   "cell_type": "code",
   "execution_count": 289,
   "metadata": {},
   "outputs": [],
   "source": [
    "# 구구단 만들기\n",
    "ll = []\n",
    "for i in range(1,10):\n",
    "    for j in range(1,10):\n",
    "        ll.append(i*j)"
   ]
  },
  {
   "cell_type": "code",
   "execution_count": 290,
   "metadata": {},
   "outputs": [],
   "source": [
    "# 10 * 10 행렬로 구구단 만들기\n",
    "tl = []\n",
    "for i in range(1,10):\n",
    "    l = []\n",
    "    for j in range(1,10):\n",
    "        l.append(i*j)\n",
    "    tl.append(l)"
   ]
  },
  {
   "cell_type": "code",
   "execution_count": null,
   "metadata": {},
   "outputs": [],
   "source": [
    "# dict로 단 별로 나누기.\n",
    "d99 = {}\n",
    "for i in range(1,10):\n",
    "    innerlist = []\n",
    "    for j in range(1, 10):\n",
    "        innerlist.append(i*j)\n",
    "    d99[i] = innerlist\n",
    "d99"
   ]
  },
  {
   "cell_type": "markdown",
   "metadata": {},
   "source": [
    "#### Sorting(정렬)\n",
    "- list.sort() : 해당 list 자체를 정렬함. 반환X \n",
    "- sorted(list) : list를 복사해서 정렬한 후 반환. 본래의 list는 바뀌지 않음."
   ]
  },
  {
   "cell_type": "code",
   "execution_count": 339,
   "metadata": {},
   "outputs": [],
   "source": [
    "# 기본 Sorting\n",
    "l = [3, 6, 7, 9, 2, 8, 5, 1]\n",
    "n = len(l)\n",
    "sortedl = []"
   ]
  },
  {
   "cell_type": "code",
   "execution_count": null,
   "metadata": {},
   "outputs": [],
   "source": [
    "# Sorting을 이용한 최대 최솟값 구하기\n",
    "l = [3, 1, 5, 4, 2]\n",
    "def minmax(li):\n",
    "    l.sort()\n",
    "    return li[0], li[-1]\n",
    "minmax(l)\n",
    "print(\"l의 최댓값은 {}, 최솟값은 {}이다.\".format(minmax(l)[-1], minmax(l)[0]))"
   ]
  },
  {
   "cell_type": "code",
   "execution_count": 340,
   "metadata": {
    "scrolled": true
   },
   "outputs": [
    {
     "name": "stdout",
     "output_type": "stream",
     "text": [
      "[3, 6, 7, 9, 2, 8, 5] [1]\n",
      "[3, 6, 7, 9, 8, 5] [1, 2]\n",
      "[6, 7, 9, 8, 5] [1, 2, 3]\n",
      "[6, 7, 9, 8] [1, 2, 3, 5]\n",
      "[7, 9, 8] [1, 2, 3, 5, 6]\n",
      "[9, 8] [1, 2, 3, 5, 6, 7]\n",
      "[9] [1, 2, 3, 5, 6, 7, 8]\n",
      "[] [1, 2, 3, 5, 6, 7, 8, 9]\n"
     ]
    }
   ],
   "source": [
    "for j in range(n):\n",
    "    m = l[0]\n",
    "    for i in range(len(l)):\n",
    "        m = min(m, l[i])\n",
    "    sortedl.append(m)\n",
    "    l.remove(m)\n",
    "    print(l, sortedl)"
   ]
  },
  {
   "cell_type": "code",
   "execution_count": 296,
   "metadata": {
    "scrolled": true
   },
   "outputs": [
    {
     "name": "stdout",
     "output_type": "stream",
     "text": [
      "[3, 6, 7, 9, 2, 8, 5] [1]\n",
      "[3, 6, 7, 9, 8, 5] [1, 2]\n",
      "[6, 7, 9, 8, 5] [1, 2, 3]\n",
      "[6, 7, 9, 8] [1, 2, 3, 5]\n",
      "[7, 9, 8] [1, 2, 3, 5, 6]\n",
      "[9, 8] [1, 2, 3, 5, 6, 7]\n",
      "[9] [1, 2, 3, 5, 6, 7, 8]\n",
      "[] [1, 2, 3, 5, 6, 7, 8, 9]\n"
     ]
    }
   ],
   "source": [
    "for j in range(n):\n",
    "    m = 0\n",
    "    for i in range(len(l)):\n",
    "        if l[i] < l[m]: m = i\n",
    "    sortedl.append(l.pop(m))\n",
    "    print(l, sortedl)"
   ]
  },
  {
   "cell_type": "code",
   "execution_count": 347,
   "metadata": {},
   "outputs": [],
   "source": [
    "# 분리결합 Sorting (quick-sort)\n",
    "import random\n",
    "l = [random.randint(1,100) for _ in range(100)]\n",
    "\n",
    "def qsort(l):\n",
    "    if len(l) == 0: cl = []\n",
    "    else: cl = [l[0]]\n",
    "    ll = []; rl = []\n",
    "    #종료 조건\n",
    "    if len(l) <= 1:\n",
    "        return ll + cl + rl\n",
    "    for i in range(1, len(l)):\n",
    "        if l[i] < cl[0]: ll.append(l[i])\n",
    "        else: rl.append(l[i])\n",
    "    llist = qsort(ll)\n",
    "    rlist = qsort(rl)\n",
    "    return llist + cl + rlist"
   ]
  },
  {
   "cell_type": "markdown",
   "metadata": {},
   "source": [
    "####  enumerate"
   ]
  },
  {
   "cell_type": "code",
   "execution_count": 346,
   "metadata": {},
   "outputs": [
    {
     "name": "stdout",
     "output_type": "stream",
     "text": [
      "0는 반복 횟수를 나타낸다.\n",
      "2는 ll의 값을 나타낸다.\n",
      "======다음 반복을 시작한다.=====.\n",
      "1는 반복 횟수를 나타낸다.\n",
      "3는 ll의 값을 나타낸다.\n",
      "======다음 반복을 시작한다.=====.\n"
     ]
    }
   ],
   "source": [
    "# 반복문에서 반복의 횟수도 같이 뽑아냄.\n",
    "ll = [2, 3]\n",
    "for i, j in enumerate(ll):\n",
    "    print(\"{}는 반복 횟수를 나타낸다.\".format(i))\n",
    "    print(\"{}는 ll의 값을 나타낸다.\".format(j))\n",
    "    print(\"======다음 반복을 시작한다.=====.\")"
   ]
  },
  {
   "cell_type": "markdown",
   "metadata": {},
   "source": [
    "####  zip"
   ]
  },
  {
   "cell_type": "code",
   "execution_count": 297,
   "metadata": {},
   "outputs": [],
   "source": [
    "l1 = [1, 2, 3]\n",
    "l2 = ['a', 'b', 'c']"
   ]
  },
  {
   "cell_type": "code",
   "execution_count": 298,
   "metadata": {},
   "outputs": [
    {
     "name": "stdout",
     "output_type": "stream",
     "text": [
      "1는 l1의 성분이다.\n",
      "a는 l2의 성분이다.\n",
      "======다음 반복을 시작한다.=====.\n",
      "2는 l1의 성분이다.\n",
      "b는 l2의 성분이다.\n",
      "======다음 반복을 시작한다.=====.\n",
      "3는 l1의 성분이다.\n",
      "c는 l2의 성분이다.\n",
      "======다음 반복을 시작한다.=====.\n"
     ]
    }
   ],
   "source": [
    "for i, j in zip(l1, l2):\n",
    "    print(\"{}는 l1의 성분이다.\".format(i))\n",
    "    print(\"{}는 l2의 성분이다.\".format(j))\n",
    "    print(\"======다음 반복을 시작한다.=====.\")"
   ]
  },
  {
   "cell_type": "code",
   "execution_count": 300,
   "metadata": {},
   "outputs": [
    {
     "data": {
      "text/plain": [
       "{'a': 1, 'b': 2, 'c': 3}"
      ]
     },
     "execution_count": 300,
     "metadata": {},
     "output_type": "execute_result"
    }
   ],
   "source": [
    "# zip 응용 : dict 만들기\n",
    "\n",
    "l1 = [1, 2, 3]\n",
    "l2 = ['a', 'b', 'c']\n",
    "d = {}\n",
    "for i, j in zip(l1, l2):\n",
    "    d[j] = i\n",
    "d"
   ]
  },
  {
   "cell_type": "markdown",
   "metadata": {},
   "source": [
    "#### lambda 함수\n",
    "- 간단하게 함수 만들 때 사용.\n",
    "- lambda [value]: return 값"
   ]
  },
  {
   "cell_type": "code",
   "execution_count": 304,
   "metadata": {},
   "outputs": [
    {
     "data": {
      "text/plain": [
       "6"
      ]
     },
     "execution_count": 304,
     "metadata": {},
     "output_type": "execute_result"
    }
   ],
   "source": [
    "# lambda 기본 명령법\n",
    "f = lambda a,b,c : a+b+c\n",
    "f(1, 2, 3)"
   ]
  },
  {
   "cell_type": "code",
   "execution_count": 305,
   "metadata": {},
   "outputs": [
    {
     "data": {
      "text/plain": [
       "[3, 4, 2, 5, 1]"
      ]
     },
     "execution_count": 305,
     "metadata": {},
     "output_type": "execute_result"
    }
   ],
   "source": [
    "sorted([1, 2, 3, 4, 5], key=lambda x:abs(3.1-x)) # 생략된 과정 / abs : 절댓값 반환."
   ]
  },
  {
   "cell_type": "markdown",
   "metadata": {},
   "source": [
    "#### file read & write"
   ]
  },
  {
   "cell_type": "code",
   "execution_count": 306,
   "metadata": {},
   "outputs": [
    {
     "data": {
      "text/plain": [
       "'C:\\\\Users\\\\tmznq\\\\workspace\\\\ml_scratch\\\\seoul_coding_academy\\\\week1'"
      ]
     },
     "execution_count": 306,
     "metadata": {},
     "output_type": "execute_result"
    }
   ],
   "source": [
    "# 현재 위치 확인\n",
    "import os\n",
    "os.getcwd()"
   ]
  },
  {
   "cell_type": "markdown",
   "metadata": {},
   "source": [
    "*연습문제*"
   ]
  },
  {
   "cell_type": "code",
   "execution_count": null,
   "metadata": {},
   "outputs": [],
   "source": [
    "# 아래와 같은 txt 파일을 만들어라. (open 이용)"
   ]
  },
  {
   "cell_type": "markdown",
   "metadata": {},
   "source": [
    "1. 서울,99.9,중부\n",
    "1. 부산,83.2,남부\n",
    "1. 대구,77.5,남부\n",
    "1. 인천,67.8,중부"
   ]
  },
  {
   "cell_type": "code",
   "execution_count": 307,
   "metadata": {},
   "outputs": [],
   "source": [
    "with open(\"cities.txt\", \"w\") as f:\n",
    "    f.write(\"\"\"1,서울,99.9,중부\n",
    "2,부산,83.2,남부\n",
    "3,대구,77.5,남부\n",
    "4,인천,67.8,중부\n",
    "\"\"\")"
   ]
  },
  {
   "cell_type": "code",
   "execution_count": 308,
   "metadata": {},
   "outputs": [
    {
     "data": {
      "text/plain": [
       "['1,서울,99.9,중부\\n', '2,부산,83.2,남부\\n', '3,대구,77.5,남부\\n', '4,인천,67.8,중부\\n']"
      ]
     },
     "execution_count": 308,
     "metadata": {},
     "output_type": "execute_result"
    }
   ],
   "source": [
    "f = open(\"cities.txt\")\n",
    "f.readlines()"
   ]
  },
  {
   "cell_type": "code",
   "execution_count": 309,
   "metadata": {},
   "outputs": [],
   "source": [
    "f.close()"
   ]
  },
  {
   "cell_type": "markdown",
   "metadata": {},
   "source": [
    "#### search"
   ]
  },
  {
   "cell_type": "code",
   "execution_count": 383,
   "metadata": {},
   "outputs": [
    {
     "data": {
      "text/plain": [
       "[59, 91, 86, 87, 22]"
      ]
     },
     "execution_count": 383,
     "metadata": {},
     "output_type": "execute_result"
    }
   ],
   "source": [
    "# list comprehension\n",
    "import random\n",
    "l = [random.randint(1, 100) for _ in range(100)] # list comprehension\n",
    "l[:5] # "
   ]
  },
  {
   "cell_type": "code",
   "execution_count": 384,
   "metadata": {},
   "outputs": [],
   "source": [
    "def seqsearch(l, target): \n",
    "    for i in range(len(l)):\n",
    "        if l[i] == target:\n",
    "            return i"
   ]
  },
  {
   "cell_type": "code",
   "execution_count": 385,
   "metadata": {},
   "outputs": [
    {
     "data": {
      "text/plain": [
       "33"
      ]
     },
     "execution_count": 385,
     "metadata": {},
     "output_type": "execute_result"
    }
   ],
   "source": [
    "seqsearch(l, 42)"
   ]
  },
  {
   "cell_type": "code",
   "execution_count": 386,
   "metadata": {},
   "outputs": [],
   "source": [
    "# list에 동일한 값이 중복된다면? 그 값이 얼마나 존재하는지?\n",
    "def seqsearchall(l, target):\n",
    "    ret = []\n",
    "    isnot = 0\n",
    "    for i in range(len(l)):\n",
    "        if l[i] == target:\n",
    "            ret.append(i)\n",
    "            isnot = 1\n",
    "        elif l[i] > target:\n",
    "            if isnot == 1: return ret\n",
    "            else: return -1\n",
    "    return -1"
   ]
  },
  {
   "cell_type": "code",
   "execution_count": 388,
   "metadata": {},
   "outputs": [
    {
     "data": {
      "text/plain": [
       "-1"
      ]
     },
     "execution_count": 388,
     "metadata": {},
     "output_type": "execute_result"
    }
   ],
   "source": [
    "seqsearchall(l, 42)"
   ]
  },
  {
   "cell_type": "markdown",
   "metadata": {},
   "source": [
    "- python으로 구현하려면 매우 복잡함.\n",
    "- Numpy의 Series를 이용한다면 value.count()를 통해 쉽게 구할 수 있음."
   ]
  },
  {
   "cell_type": "markdown",
   "metadata": {},
   "source": [
    "#### 재귀함수(recursive function) \n",
    "- 함수 정의부에서 자기 자신을 호출하는 함수"
   ]
  },
  {
   "cell_type": "code",
   "execution_count": null,
   "metadata": {},
   "outputs": [],
   "source": [
    "def factorial(x):\n",
    "    if x == 1: return 1\n",
    "    else: return x*factorial(x-1)"
   ]
  },
  {
   "cell_type": "markdown",
   "metadata": {},
   "source": [
    "#### 하노이의 탑\n",
    "- 간단한 알고리즘 예제\n",
    "![](https://encrypted-tbn0.gstatic.com/images?q=tbn:ANd9GcQ0b1Edu4SIGYVHgKZqZso7__aeivqXfodUly5zyFA6J1hSDtXB)"
   ]
  },
  {
   "cell_type": "markdown",
   "metadata": {},
   "source": [
    "1. n-1개 원반셋을 기둥1에서 기둥2로\n",
    "2. n번째 원반을 기둥1에서 기둥3\n",
    "3. n-1개 원반셋을 기둥2에서 기둥3"
   ]
  },
  {
   "cell_type": "code",
   "execution_count": 373,
   "metadata": {},
   "outputs": [],
   "source": [
    "def hanoi(n, o, t): # o : original, t: target\n",
    "    if n == 1:\n",
    "        print(\"{}번째 원반을 기둥{}에서 기둥{}로 옮겨라\".format(n, o, t))\n",
    "        return\n",
    "    hanoi(n-1, o, 6-o-t)\n",
    "    print(\"{}번째 원반을 기둥{}에서 기둥{}로 옮겨라\".format(n, o, t))\n",
    "    hanoi(n-1, 6-o-t, t)"
   ]
  },
  {
   "cell_type": "code",
   "execution_count": 374,
   "metadata": {},
   "outputs": [
    {
     "name": "stdout",
     "output_type": "stream",
     "text": [
      "1번째 원반을 기둥1에서 기둥3로 옮겨라\n",
      "2번째 원반을 기둥1에서 기둥2로 옮겨라\n",
      "1번째 원반을 기둥3에서 기둥2로 옮겨라\n",
      "3번째 원반을 기둥1에서 기둥3로 옮겨라\n",
      "1번째 원반을 기둥2에서 기둥1로 옮겨라\n",
      "2번째 원반을 기둥2에서 기둥3로 옮겨라\n",
      "1번째 원반을 기둥1에서 기둥3로 옮겨라\n"
     ]
    }
   ],
   "source": [
    "hanoi(3, 1, 3)"
   ]
  }
 ],
 "metadata": {
  "kernelspec": {
   "display_name": "Python 3",
   "language": "python",
   "name": "python3"
  },
  "language_info": {
   "codemirror_mode": {
    "name": "ipython",
    "version": 3
   },
   "file_extension": ".py",
   "mimetype": "text/x-python",
   "name": "python",
   "nbconvert_exporter": "python",
   "pygments_lexer": "ipython3",
   "version": "3.5.3"
  }
 },
 "nbformat": 4,
 "nbformat_minor": 2
}
