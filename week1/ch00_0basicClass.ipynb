{
 "cells": [
  {
   "cell_type": "markdown",
   "metadata": {},
   "source": [
    "#### 구구단\n",
    "1. 1단부터 만들어보자.\n",
    "2. 2단도 만들어보자.\n",
    "3. 일반화해보자."
   ]
  },
  {
   "cell_type": "code",
   "execution_count": 2,
   "metadata": {},
   "outputs": [
    {
     "data": {
      "text/plain": [
       "[1, 2, 3, 4, 5, 6, 7, 8, 9]"
      ]
     },
     "execution_count": 2,
     "metadata": {},
     "output_type": "execute_result"
    }
   ],
   "source": [
    "list(range(1, 10))"
   ]
  },
  {
   "cell_type": "code",
   "execution_count": 7,
   "metadata": {},
   "outputs": [
    {
     "name": "stdout",
     "output_type": "stream",
     "text": [
      "[1]\n",
      "[1, 2]\n",
      "[1, 2, 3]\n",
      "[1, 2, 3, 4]\n",
      "[1, 2, 3, 4, 5]\n",
      "[1, 2, 3, 4, 5, 6]\n",
      "[1, 2, 3, 4, 5, 6, 7]\n",
      "[1, 2, 3, 4, 5, 6, 7, 8]\n",
      "[1, 2, 3, 4, 5, 6, 7, 8, 9]\n"
     ]
    },
    {
     "data": {
      "text/plain": [
       "[1, 2, 3, 4, 5, 6, 7, 8, 9]"
      ]
     },
     "execution_count": 7,
     "metadata": {},
     "output_type": "execute_result"
    }
   ],
   "source": [
    "l = []\n",
    "for i in range(1,10):\n",
    "    l.append(i)\n",
    "    print(l)\n",
    "l"
   ]
  },
  {
   "cell_type": "code",
   "execution_count": 9,
   "metadata": {},
   "outputs": [
    {
     "name": "stdout",
     "output_type": "stream",
     "text": [
      "[3]\n",
      "[3, 6]\n",
      "[3, 6, 9]\n",
      "[3, 6, 9, 12]\n",
      "[3, 6, 9, 12, 15]\n",
      "[3, 6, 9, 12, 15, 18]\n",
      "[3, 6, 9, 12, 15, 18, 21]\n",
      "[3, 6, 9, 12, 15, 18, 21, 24]\n",
      "[3, 6, 9, 12, 15, 18, 21, 24, 27]\n"
     ]
    },
    {
     "data": {
      "text/plain": [
       "[3, 6, 9, 12, 15, 18, 21, 24, 27]"
      ]
     },
     "execution_count": 9,
     "metadata": {},
     "output_type": "execute_result"
    }
   ],
   "source": [
    "l = []\n",
    "for i in range(1,10):\n",
    "    l.append(3*i)\n",
    "    print(l)\n",
    "l"
   ]
  },
  {
   "cell_type": "code",
   "execution_count": 12,
   "metadata": {},
   "outputs": [
    {
     "name": "stdout",
     "output_type": "stream",
     "text": [
      "[1]\n",
      "[1, 2]\n",
      "[1, 2, 3]\n",
      "[1, 2, 3, 4]\n",
      "[1, 2, 3, 4, 5]\n",
      "[1, 2, 3, 4, 5, 6]\n",
      "[1, 2, 3, 4, 5, 6, 7]\n",
      "[1, 2, 3, 4, 5, 6, 7, 8]\n",
      "[1, 2, 3, 4, 5, 6, 7, 8, 9]\n",
      "[[1, 2, 3, 4, 5, 6, 7, 8, 9]]\n",
      "[2]\n",
      "[2, 4]\n",
      "[2, 4, 6]\n",
      "[2, 4, 6, 8]\n",
      "[2, 4, 6, 8, 10]\n",
      "[2, 4, 6, 8, 10, 12]\n",
      "[2, 4, 6, 8, 10, 12, 14]\n",
      "[2, 4, 6, 8, 10, 12, 14, 16]\n",
      "[2, 4, 6, 8, 10, 12, 14, 16, 18]\n",
      "[[1, 2, 3, 4, 5, 6, 7, 8, 9], [2, 4, 6, 8, 10, 12, 14, 16, 18]]\n",
      "[3]\n",
      "[3, 6]\n",
      "[3, 6, 9]\n",
      "[3, 6, 9, 12]\n",
      "[3, 6, 9, 12, 15]\n",
      "[3, 6, 9, 12, 15, 18]\n",
      "[3, 6, 9, 12, 15, 18, 21]\n",
      "[3, 6, 9, 12, 15, 18, 21, 24]\n",
      "[3, 6, 9, 12, 15, 18, 21, 24, 27]\n",
      "[[1, 2, 3, 4, 5, 6, 7, 8, 9], [2, 4, 6, 8, 10, 12, 14, 16, 18], [3, 6, 9, 12, 15, 18, 21, 24, 27]]\n",
      "[4]\n",
      "[4, 8]\n",
      "[4, 8, 12]\n",
      "[4, 8, 12, 16]\n",
      "[4, 8, 12, 16, 20]\n",
      "[4, 8, 12, 16, 20, 24]\n",
      "[4, 8, 12, 16, 20, 24, 28]\n",
      "[4, 8, 12, 16, 20, 24, 28, 32]\n",
      "[4, 8, 12, 16, 20, 24, 28, 32, 36]\n",
      "[[1, 2, 3, 4, 5, 6, 7, 8, 9], [2, 4, 6, 8, 10, 12, 14, 16, 18], [3, 6, 9, 12, 15, 18, 21, 24, 27], [4, 8, 12, 16, 20, 24, 28, 32, 36]]\n",
      "[5]\n",
      "[5, 10]\n",
      "[5, 10, 15]\n",
      "[5, 10, 15, 20]\n",
      "[5, 10, 15, 20, 25]\n",
      "[5, 10, 15, 20, 25, 30]\n",
      "[5, 10, 15, 20, 25, 30, 35]\n",
      "[5, 10, 15, 20, 25, 30, 35, 40]\n",
      "[5, 10, 15, 20, 25, 30, 35, 40, 45]\n",
      "[[1, 2, 3, 4, 5, 6, 7, 8, 9], [2, 4, 6, 8, 10, 12, 14, 16, 18], [3, 6, 9, 12, 15, 18, 21, 24, 27], [4, 8, 12, 16, 20, 24, 28, 32, 36], [5, 10, 15, 20, 25, 30, 35, 40, 45]]\n",
      "[6]\n",
      "[6, 12]\n",
      "[6, 12, 18]\n",
      "[6, 12, 18, 24]\n",
      "[6, 12, 18, 24, 30]\n",
      "[6, 12, 18, 24, 30, 36]\n",
      "[6, 12, 18, 24, 30, 36, 42]\n",
      "[6, 12, 18, 24, 30, 36, 42, 48]\n",
      "[6, 12, 18, 24, 30, 36, 42, 48, 54]\n",
      "[[1, 2, 3, 4, 5, 6, 7, 8, 9], [2, 4, 6, 8, 10, 12, 14, 16, 18], [3, 6, 9, 12, 15, 18, 21, 24, 27], [4, 8, 12, 16, 20, 24, 28, 32, 36], [5, 10, 15, 20, 25, 30, 35, 40, 45], [6, 12, 18, 24, 30, 36, 42, 48, 54]]\n",
      "[7]\n",
      "[7, 14]\n",
      "[7, 14, 21]\n",
      "[7, 14, 21, 28]\n",
      "[7, 14, 21, 28, 35]\n",
      "[7, 14, 21, 28, 35, 42]\n",
      "[7, 14, 21, 28, 35, 42, 49]\n",
      "[7, 14, 21, 28, 35, 42, 49, 56]\n",
      "[7, 14, 21, 28, 35, 42, 49, 56, 63]\n",
      "[[1, 2, 3, 4, 5, 6, 7, 8, 9], [2, 4, 6, 8, 10, 12, 14, 16, 18], [3, 6, 9, 12, 15, 18, 21, 24, 27], [4, 8, 12, 16, 20, 24, 28, 32, 36], [5, 10, 15, 20, 25, 30, 35, 40, 45], [6, 12, 18, 24, 30, 36, 42, 48, 54], [7, 14, 21, 28, 35, 42, 49, 56, 63]]\n",
      "[8]\n",
      "[8, 16]\n",
      "[8, 16, 24]\n",
      "[8, 16, 24, 32]\n",
      "[8, 16, 24, 32, 40]\n",
      "[8, 16, 24, 32, 40, 48]\n",
      "[8, 16, 24, 32, 40, 48, 56]\n",
      "[8, 16, 24, 32, 40, 48, 56, 64]\n",
      "[8, 16, 24, 32, 40, 48, 56, 64, 72]\n",
      "[[1, 2, 3, 4, 5, 6, 7, 8, 9], [2, 4, 6, 8, 10, 12, 14, 16, 18], [3, 6, 9, 12, 15, 18, 21, 24, 27], [4, 8, 12, 16, 20, 24, 28, 32, 36], [5, 10, 15, 20, 25, 30, 35, 40, 45], [6, 12, 18, 24, 30, 36, 42, 48, 54], [7, 14, 21, 28, 35, 42, 49, 56, 63], [8, 16, 24, 32, 40, 48, 56, 64, 72]]\n",
      "[9]\n",
      "[9, 18]\n",
      "[9, 18, 27]\n",
      "[9, 18, 27, 36]\n",
      "[9, 18, 27, 36, 45]\n",
      "[9, 18, 27, 36, 45, 54]\n",
      "[9, 18, 27, 36, 45, 54, 63]\n",
      "[9, 18, 27, 36, 45, 54, 63, 72]\n",
      "[9, 18, 27, 36, 45, 54, 63, 72, 81]\n",
      "[[1, 2, 3, 4, 5, 6, 7, 8, 9], [2, 4, 6, 8, 10, 12, 14, 16, 18], [3, 6, 9, 12, 15, 18, 21, 24, 27], [4, 8, 12, 16, 20, 24, 28, 32, 36], [5, 10, 15, 20, 25, 30, 35, 40, 45], [6, 12, 18, 24, 30, 36, 42, 48, 54], [7, 14, 21, 28, 35, 42, 49, 56, 63], [8, 16, 24, 32, 40, 48, 56, 64, 72], [9, 18, 27, 36, 45, 54, 63, 72, 81]]\n"
     ]
    }
   ],
   "source": [
    "list99 = []\n",
    "for j in range(1, 10):\n",
    "    l = []\n",
    "    for i in range(1, 10):\n",
    "        l.append(i*j)\n",
    "        print(l)\n",
    "    list99.append(l)\n",
    "    print(list99)"
   ]
  },
  {
   "cell_type": "markdown",
   "metadata": {},
   "source": [
    "#### 리스트의 정렬\n",
    "l = [3, 6, 7, 9, 2, 8, 5, 1]를 순서대로 정렬하고자 한다.\n",
    "\n",
    "1. l에서 for 문을 이용한 비교를 통해 최소값을 꺼낸다.(pop)\n",
    "2. 새로운 list에 append한다.\n",
    "3. l이 빌때까지, 1 ~ 2를 반복한다.\n",
    "4. 새로운 list를 리턴한다."
   ]
  },
  {
   "cell_type": "code",
   "execution_count": 13,
   "metadata": {},
   "outputs": [],
   "source": [
    "l = [3, 6, 7, 9, 2, 8, 5, 1]"
   ]
  },
  {
   "cell_type": "code",
   "execution_count": 19,
   "metadata": {},
   "outputs": [],
   "source": [
    "m = 9999999"
   ]
  },
  {
   "cell_type": "code",
   "execution_count": 18,
   "metadata": {},
   "outputs": [
    {
     "data": {
      "text/plain": [
       "0"
      ]
     },
     "execution_count": 18,
     "metadata": {},
     "output_type": "execute_result"
    }
   ],
   "source": [
    "min(0, 7)"
   ]
  },
  {
   "cell_type": "code",
   "execution_count": 20,
   "metadata": {},
   "outputs": [
    {
     "data": {
      "text/plain": [
       "1"
      ]
     },
     "execution_count": 20,
     "metadata": {},
     "output_type": "execute_result"
    }
   ],
   "source": [
    "for i in range(len(l)):\n",
    "    m = min(m, l[i])"
   ]
  },
  {
   "cell_type": "code",
   "execution_count": 21,
   "metadata": {},
   "outputs": [],
   "source": [
    "sortedl = []"
   ]
  },
  {
   "cell_type": "code",
   "execution_count": 22,
   "metadata": {},
   "outputs": [
    {
     "name": "stdout",
     "output_type": "stream",
     "text": [
      "[3, 6, 7, 9, 2, 8, 5] [1]\n"
     ]
    }
   ],
   "source": [
    "sortedl.append(m)\n",
    "l.remove(m)\n",
    "print(l, sortedl)"
   ]
  },
  {
   "cell_type": "markdown",
   "metadata": {},
   "source": [
    "#### 가장 작은 값을 찾아 정렬하는 방법"
   ]
  },
  {
   "cell_type": "code",
   "execution_count": 32,
   "metadata": {},
   "outputs": [],
   "source": [
    "l = [3, 6, 7, 9, 2, 8, 5, 1]\n",
    "n = len(l)\n",
    "sortedl = []"
   ]
  },
  {
   "cell_type": "code",
   "execution_count": 29,
   "metadata": {
    "collapsed": true
   },
   "outputs": [
    {
     "name": "stdout",
     "output_type": "stream",
     "text": [
      "[3, 6, 7, 9, 2, 8, 5] [1]\n",
      "[3, 6, 7, 9, 8, 5] [1, 2]\n",
      "[6, 7, 9, 8, 5] [1, 2, 3]\n",
      "[6, 7, 9, 8] [1, 2, 3, 5]\n",
      "[7, 9, 8] [1, 2, 3, 5, 6]\n",
      "[9, 8] [1, 2, 3, 5, 6, 7]\n",
      "[9] [1, 2, 3, 5, 6, 7, 8]\n",
      "[] [1, 2, 3, 5, 6, 7, 8, 9]\n"
     ]
    }
   ],
   "source": [
    "for j in range(n):\n",
    "    m = l[0]\n",
    "    for i in range(len(l)):\n",
    "        m = min(m, l[i])\n",
    "    sortedl.append(m)\n",
    "    l.remove(m)\n",
    "    print(l, sortedl)"
   ]
  },
  {
   "cell_type": "markdown",
   "metadata": {},
   "source": [
    "#### 가장 작은 위치를 찾아서 정렬하는 방법"
   ]
  },
  {
   "cell_type": "code",
   "execution_count": 34,
   "metadata": {},
   "outputs": [],
   "source": [
    "l = [3, 6, 7, 9, 2, 8, 5, 1]\n",
    "n = len(l)\n",
    "sortedl = []\n",
    "\n",
    "for j in range(n):\n",
    "    m = 0\n",
    "    for i in range(len(l)):\n",
    "        if l[i] < l[m]: m = i\n",
    "    sortedl.append(l.pop(m))\n",
    "    print(l, sortedl)"
   ]
  },
  {
   "cell_type": "code",
   "execution_count": 30,
   "metadata": {},
   "outputs": [
    {
     "name": "stdout",
     "output_type": "stream",
     "text": [
      "[2, 3] [1]\n"
     ]
    }
   ],
   "source": [
    "ll = [1,2,3]\n",
    "lll = []\n",
    "lll.append(ll.pop(0))\n",
    "print(ll, lll)"
   ]
  },
  {
   "cell_type": "code",
   "execution_count": 36,
   "metadata": {},
   "outputs": [
    {
     "data": {
      "text/plain": [
       "[2, 3]"
      ]
     },
     "execution_count": 36,
     "metadata": {},
     "output_type": "execute_result"
    }
   ],
   "source": [
    "ll"
   ]
  },
  {
   "cell_type": "code",
   "execution_count": 44,
   "metadata": {},
   "outputs": [
    {
     "name": "stdout",
     "output_type": "stream",
     "text": [
      "i = 0는 반복 횟수를 나타낸다.\n",
      "j = 2는 ll의 값을 나타낸다.\n",
      "=====다음 반복을 시작한다.======\n",
      "i = 1는 반복 횟수를 나타낸다.\n",
      "j = 3는 ll의 값을 나타낸다.\n",
      "=====다음 반복을 시작한다.======\n"
     ]
    }
   ],
   "source": [
    "for i, j in enumerate(ll):\n",
    "    print(\"i = %d는 반복 횟수를 나타낸다.\" %i)\n",
    "    print(\"j = %d는 ll의 값을 나타낸다.\" %j)\n",
    "    print(\"=====다음 반복을 시작한다.======\")"
   ]
  },
  {
   "cell_type": "code",
   "execution_count": 46,
   "metadata": {},
   "outputs": [
    {
     "name": "stdout",
     "output_type": "stream",
     "text": [
      "i = 1는 l1의 성분이다.\n",
      "j = a는 l2의 성분이다.\n",
      "=====다음 반복을 시작한다.======\n",
      "i = 2는 l1의 성분이다.\n",
      "j = b는 l2의 성분이다.\n",
      "=====다음 반복을 시작한다.======\n",
      "i = 3는 l1의 성분이다.\n",
      "j = c는 l2의 성분이다.\n",
      "=====다음 반복을 시작한다.======\n"
     ]
    }
   ],
   "source": [
    "l1 = [1, 2, 3]\n",
    "l2 = [\"a\", \"b\", \"c\"]\n",
    "for i, j in zip(l1, l2):\n",
    "    print(\"i = %d는 l1의 성분이다.\" %i)\n",
    "    print(\"j = %s는 l2의 성분이다.\" %j)\n",
    "    print(\"=====다음 반복을 시작한다.======\")"
   ]
  },
  {
   "cell_type": "markdown",
   "metadata": {},
   "source": [
    "zip은 사전을 만드는 좋은 도구이다. 함수의 이름이 인자(인풋)을 설정할 때 사용한다."
   ]
  },
  {
   "cell_type": "code",
   "execution_count": 47,
   "metadata": {},
   "outputs": [
    {
     "data": {
      "text/plain": [
       "{'a': 1, 'b': 2, 'c': 3}"
      ]
     },
     "execution_count": 47,
     "metadata": {},
     "output_type": "execute_result"
    }
   ],
   "source": [
    "l1 = [1, 2, 3]\n",
    "l2 = [\"a\", \"b\", \"c\"]\n",
    "d = {}\n",
    "for i, j in zip(l1, l2):\n",
    "    d[j] = i\n",
    "d"
   ]
  },
  {
   "cell_type": "code",
   "execution_count": 48,
   "metadata": {},
   "outputs": [
    {
     "name": "stdout",
     "output_type": "stream",
     "text": [
      "a\n",
      "1\n",
      "b\n",
      "2\n",
      "c\n",
      "3\n"
     ]
    }
   ],
   "source": [
    "for k in d:\n",
    "    print(k)\n",
    "    print(d[k])"
   ]
  },
  {
   "cell_type": "code",
   "execution_count": 49,
   "metadata": {},
   "outputs": [
    {
     "name": "stdout",
     "output_type": "stream",
     "text": [
      "a 1\n",
      "b 2\n",
      "c 3\n"
     ]
    }
   ],
   "source": [
    "for k, v in d.items():\n",
    "    print(k, v)"
   ]
  },
  {
   "cell_type": "code",
   "execution_count": 50,
   "metadata": {},
   "outputs": [
    {
     "name": "stdout",
     "output_type": "stream",
     "text": [
      "1\n",
      "2\n",
      "3\n"
     ]
    }
   ],
   "source": [
    "for v in d.values():\n",
    "    print(v)"
   ]
  },
  {
   "cell_type": "code",
   "execution_count": 55,
   "metadata": {},
   "outputs": [],
   "source": [
    "import numpy as np"
   ]
  },
  {
   "cell_type": "code",
   "execution_count": 62,
   "metadata": {},
   "outputs": [],
   "source": [
    "def meansum(lst):\n",
    "    return np.sum(lst), np.mean(lst), np.std(lst)"
   ]
  },
  {
   "cell_type": "code",
   "execution_count": 63,
   "metadata": {},
   "outputs": [
    {
     "data": {
      "text/plain": [
       "(41, 5.125, 2.7128168017763383)"
      ]
     },
     "execution_count": 63,
     "metadata": {},
     "output_type": "execute_result"
    }
   ],
   "source": [
    "meansum(l)"
   ]
  },
  {
   "cell_type": "code",
   "execution_count": 65,
   "metadata": {},
   "outputs": [
    {
     "name": "stdout",
     "output_type": "stream",
     "text": [
      "41 [5.125, 2.7128168017763383]\n"
     ]
    }
   ],
   "source": [
    "s, *m = meansum(l)\n",
    "print(s, m)"
   ]
  },
  {
   "cell_type": "code",
   "execution_count": 68,
   "metadata": {},
   "outputs": [
    {
     "name": "stdout",
     "output_type": "stream",
     "text": [
      "2.7128168017763383 5.125\n"
     ]
    }
   ],
   "source": [
    "_, k, o = meansum(l)\n",
    "print(o, k)"
   ]
  },
  {
   "cell_type": "markdown",
   "metadata": {},
   "source": [
    "#### 변수의 범위"
   ]
  },
  {
   "cell_type": "code",
   "execution_count": 70,
   "metadata": {},
   "outputs": [
    {
     "data": {
      "text/plain": [
       "3"
      ]
     },
     "execution_count": 70,
     "metadata": {},
     "output_type": "execute_result"
    }
   ],
   "source": [
    "n = 99\n",
    "\n",
    "def f(x):\n",
    "    x += 1\n",
    "    return x\n",
    "\n",
    "f(2)"
   ]
  },
  {
   "cell_type": "code",
   "execution_count": 71,
   "metadata": {},
   "outputs": [
    {
     "data": {
      "text/plain": [
       "100"
      ]
     },
     "execution_count": 71,
     "metadata": {},
     "output_type": "execute_result"
    }
   ],
   "source": [
    "f(n)"
   ]
  },
  {
   "cell_type": "code",
   "execution_count": 72,
   "metadata": {},
   "outputs": [
    {
     "data": {
      "text/plain": [
       "99"
      ]
     },
     "execution_count": 72,
     "metadata": {},
     "output_type": "execute_result"
    }
   ],
   "source": [
    "n"
   ]
  },
  {
   "cell_type": "code",
   "execution_count": 73,
   "metadata": {},
   "outputs": [],
   "source": [
    "s, s2 = \"abc\", 'def'"
   ]
  },
  {
   "cell_type": "code",
   "execution_count": 74,
   "metadata": {},
   "outputs": [
    {
     "data": {
      "text/plain": [
       "'abc'"
      ]
     },
     "execution_count": 74,
     "metadata": {},
     "output_type": "execute_result"
    }
   ],
   "source": [
    "s"
   ]
  },
  {
   "cell_type": "code",
   "execution_count": 75,
   "metadata": {},
   "outputs": [
    {
     "data": {
      "text/plain": [
       "'def'"
      ]
     },
     "execution_count": 75,
     "metadata": {},
     "output_type": "execute_result"
    }
   ],
   "source": [
    "s2"
   ]
  },
  {
   "cell_type": "code",
   "execution_count": 76,
   "metadata": {},
   "outputs": [],
   "source": [
    "def sf(x, y):\n",
    "    x = x + y\n",
    "    return x"
   ]
  },
  {
   "cell_type": "code",
   "execution_count": 77,
   "metadata": {},
   "outputs": [
    {
     "data": {
      "text/plain": [
       "'afgh'"
      ]
     },
     "execution_count": 77,
     "metadata": {},
     "output_type": "execute_result"
    }
   ],
   "source": [
    "sf(\"a\", \"fgh\")"
   ]
  },
  {
   "cell_type": "code",
   "execution_count": 78,
   "metadata": {},
   "outputs": [
    {
     "data": {
      "text/plain": [
       "'abcdef'"
      ]
     },
     "execution_count": 78,
     "metadata": {},
     "output_type": "execute_result"
    }
   ],
   "source": [
    "sf(s, s2)"
   ]
  },
  {
   "cell_type": "code",
   "execution_count": 79,
   "metadata": {},
   "outputs": [
    {
     "data": {
      "text/plain": [
       "'abc'"
      ]
     },
     "execution_count": 79,
     "metadata": {},
     "output_type": "execute_result"
    }
   ],
   "source": [
    "s"
   ]
  },
  {
   "cell_type": "code",
   "execution_count": 80,
   "metadata": {},
   "outputs": [
    {
     "data": {
      "text/plain": [
       "(1, 3, 4, 5, 7)"
      ]
     },
     "execution_count": 80,
     "metadata": {},
     "output_type": "execute_result"
    }
   ],
   "source": [
    "t = (1, 3, 4)\n",
    "t2 = (5, 7)\n",
    "t+t2"
   ]
  },
  {
   "cell_type": "code",
   "execution_count": 81,
   "metadata": {},
   "outputs": [
    {
     "data": {
      "text/plain": [
       "(1, 3, 4, 5, 7)"
      ]
     },
     "execution_count": 81,
     "metadata": {},
     "output_type": "execute_result"
    }
   ],
   "source": [
    "sf(t, t2)"
   ]
  },
  {
   "cell_type": "code",
   "execution_count": 82,
   "metadata": {},
   "outputs": [
    {
     "data": {
      "text/plain": [
       "(1, 3, 4)"
      ]
     },
     "execution_count": 82,
     "metadata": {},
     "output_type": "execute_result"
    }
   ],
   "source": [
    "t"
   ]
  },
  {
   "cell_type": "code",
   "execution_count": 85,
   "metadata": {},
   "outputs": [],
   "source": [
    "l = [1,2,3]; l2 = [5, 7]"
   ]
  },
  {
   "cell_type": "code",
   "execution_count": 84,
   "metadata": {},
   "outputs": [
    {
     "data": {
      "text/plain": [
       "[1, 2, 3, 5, 7]"
      ]
     },
     "execution_count": 84,
     "metadata": {},
     "output_type": "execute_result"
    }
   ],
   "source": [
    "l, l2 = [1,2,3], [5, 7]\n",
    "l1 + l2"
   ]
  },
  {
   "cell_type": "code",
   "execution_count": 86,
   "metadata": {},
   "outputs": [
    {
     "data": {
      "text/plain": [
       "[1, 2, 3, 5, 7]"
      ]
     },
     "execution_count": 86,
     "metadata": {},
     "output_type": "execute_result"
    }
   ],
   "source": [
    "sf(l, l2)"
   ]
  },
  {
   "cell_type": "code",
   "execution_count": 87,
   "metadata": {},
   "outputs": [
    {
     "data": {
      "text/plain": [
       "[1, 2, 3]"
      ]
     },
     "execution_count": 87,
     "metadata": {},
     "output_type": "execute_result"
    }
   ],
   "source": [
    "l"
   ]
  },
  {
   "cell_type": "markdown",
   "metadata": {},
   "source": [
    "#### lambda 함수"
   ]
  },
  {
   "cell_type": "code",
   "execution_count": 94,
   "metadata": {},
   "outputs": [
    {
     "data": {
      "text/plain": [
       "[3, 4, 2, 5, 1]"
      ]
     },
     "execution_count": 94,
     "metadata": {},
     "output_type": "execute_result"
    }
   ],
   "source": [
    "sorted([1,2,3,4,5],key=lambda x: abs(3.1 -x))"
   ]
  },
  {
   "cell_type": "code",
   "execution_count": 88,
   "metadata": {},
   "outputs": [],
   "source": [
    "l = [1,2,3,4,5]"
   ]
  },
  {
   "cell_type": "code",
   "execution_count": 89,
   "metadata": {},
   "outputs": [],
   "source": [
    "f = lambda x: abs(3.1 -x)"
   ]
  },
  {
   "cell_type": "code",
   "execution_count": 93,
   "metadata": {},
   "outputs": [
    {
     "data": {
      "text/plain": [
       "[2.1, 1.1, 0.10000000000000009, 0.8999999999999999, 1.9]"
      ]
     },
     "execution_count": 93,
     "metadata": {},
     "output_type": "execute_result"
    }
   ],
   "source": [
    "list(map(f, l))"
   ]
  },
  {
   "cell_type": "code",
   "execution_count": 98,
   "metadata": {},
   "outputs": [
    {
     "data": {
      "text/plain": [
       "[3, 4, 2, 5, 1]"
      ]
     },
     "execution_count": 98,
     "metadata": {},
     "output_type": "execute_result"
    }
   ],
   "source": [
    "ll = [1,2,3,4,5]\n",
    "ll.sort(key=lambda x: abs(3.1 -x))\n",
    "ll"
   ]
  },
  {
   "cell_type": "code",
   "execution_count": 99,
   "metadata": {},
   "outputs": [
    {
     "data": {
      "text/plain": [
       "'e:\\\\pydata-book-old-edition\\\\notebooks'"
      ]
     },
     "execution_count": 99,
     "metadata": {},
     "output_type": "execute_result"
    }
   ],
   "source": [
    "import os\n",
    "os.getcwd()"
   ]
  },
  {
   "cell_type": "code",
   "execution_count": 104,
   "metadata": {},
   "outputs": [],
   "source": [
    "f = open(\"test.txt\", 'w')"
   ]
  },
  {
   "cell_type": "code",
   "execution_count": 105,
   "metadata": {},
   "outputs": [
    {
     "data": {
      "text/plain": [
       "24"
      ]
     },
     "execution_count": 105,
     "metadata": {},
     "output_type": "execute_result"
    }
   ],
   "source": [
    "f.write(\"\"\"2 둘리 25\n",
    "1 봉수 57\n",
    "3 지온 13\n",
    "\"\"\")"
   ]
  },
  {
   "cell_type": "code",
   "execution_count": 128,
   "metadata": {},
   "outputs": [],
   "source": [
    "f.close()"
   ]
  },
  {
   "cell_type": "code",
   "execution_count": 123,
   "metadata": {},
   "outputs": [],
   "source": [
    "f = open(\"test.txt\")"
   ]
  },
  {
   "cell_type": "code",
   "execution_count": 113,
   "metadata": {},
   "outputs": [
    {
     "data": {
      "text/plain": [
       "''"
      ]
     },
     "execution_count": 113,
     "metadata": {},
     "output_type": "execute_result"
    }
   ],
   "source": [
    "f.readline()"
   ]
  },
  {
   "cell_type": "code",
   "execution_count": 118,
   "metadata": {},
   "outputs": [
    {
     "data": {
      "text/plain": [
       "'2 둘리 25\\n1 봉수 57\\n3 지온 13\\n'"
      ]
     },
     "execution_count": 118,
     "metadata": {},
     "output_type": "execute_result"
    }
   ],
   "source": [
    "f.read()"
   ]
  },
  {
   "cell_type": "code",
   "execution_count": 121,
   "metadata": {},
   "outputs": [
    {
     "data": {
      "text/plain": [
       "['2 둘리 25\\n', '1 봉수 57\\n', '3 지온 13\\n']"
      ]
     },
     "execution_count": 121,
     "metadata": {},
     "output_type": "execute_result"
    }
   ],
   "source": [
    "f.readlines()"
   ]
  },
  {
   "cell_type": "code",
   "execution_count": 129,
   "metadata": {},
   "outputs": [],
   "source": [
    "f = open(\"test.txt\")"
   ]
  },
  {
   "cell_type": "code",
   "execution_count": 130,
   "metadata": {},
   "outputs": [],
   "source": [
    "colname = [\"id\", \"name\", \"age\"]\n",
    "recs = []"
   ]
  },
  {
   "cell_type": "code",
   "execution_count": 131,
   "metadata": {},
   "outputs": [
    {
     "data": {
      "text/plain": [
       "[{'id': '2', 'name': '둘리', 'age': '25\\n'},\n",
       " {'id': '1', 'name': '봉수', 'age': '57\\n'},\n",
       " {'id': '3', 'name': '지온', 'age': '13\\n'}]"
      ]
     },
     "execution_count": 131,
     "metadata": {},
     "output_type": "execute_result"
    }
   ],
   "source": [
    "for line in f.readlines():\n",
    "    l = line.split(\" \")\n",
    "    rec = {}\n",
    "    for name, v in zip(colname, l):\n",
    "        rec[name] = v\n",
    "    recs.append(rec)\n",
    "\n",
    "recs"
   ]
  },
  {
   "cell_type": "code",
   "execution_count": 132,
   "metadata": {},
   "outputs": [],
   "source": [
    "f.close()"
   ]
  },
  {
   "cell_type": "code",
   "execution_count": 133,
   "metadata": {},
   "outputs": [
    {
     "data": {
      "text/plain": [
       "[{'id': '2', 'name': '둘리', 'age': '25\\n'},\n",
       " {'id': '1', 'name': '봉수', 'age': '57\\n'},\n",
       " {'id': '3', 'name': '지온', 'age': '13\\n'}]"
      ]
     },
     "execution_count": 133,
     "metadata": {},
     "output_type": "execute_result"
    }
   ],
   "source": [
    "colname = [\"id\", \"name\", \"age\"]\n",
    "recs = []\n",
    "\n",
    "with open(\"test.txt\") as f:\n",
    "    for line in f.readlines():\n",
    "        l = line.split(\" \")\n",
    "        rec = {}\n",
    "        for n, v in zip(colname, l):\n",
    "            rec[n] = v\n",
    "        recs.append(rec)\n",
    "        \n",
    "recs"
   ]
  },
  {
   "cell_type": "code",
   "execution_count": 138,
   "metadata": {},
   "outputs": [],
   "source": [
    "with open(\"hello.py\", 'w') as f:\n",
    "    f.write(\"\"\"def main(x):\n",
    "    print(x)\n",
    "    \"\"\")"
   ]
  },
  {
   "cell_type": "code",
   "execution_count": 140,
   "metadata": {},
   "outputs": [],
   "source": [
    "# %load \"hello.py\"\n",
    "def main(x):\n",
    "    print(x)\n",
    "    "
   ]
  },
  {
   "cell_type": "code",
   "execution_count": 141,
   "metadata": {},
   "outputs": [
    {
     "name": "stdout",
     "output_type": "stream",
     "text": [
      "yes\n"
     ]
    }
   ],
   "source": [
    "main(\"yes\")"
   ]
  },
  {
   "cell_type": "code",
   "execution_count": 148,
   "metadata": {},
   "outputs": [
    {
     "data": {
      "text/plain": [
       "'abc'"
      ]
     },
     "execution_count": 148,
     "metadata": {},
     "output_type": "execute_result"
    }
   ],
   "source": [
    "s.split"
   ]
  },
  {
   "cell_type": "code",
   "execution_count": 4,
   "metadata": {},
   "outputs": [],
   "source": [
    "with open(\"cities.txt\", \"w\") as f:\n",
    "    f.write(\"\"\"1,서울 ,99.9, 중부\n",
    "2, 부산 ,83.2, 남부\n",
    "3, 대구 ,77.5, 남부\n",
    "4, 인천 ,67.8, 중부\n",
    "   \"\"\")"
   ]
  },
  {
   "cell_type": "code",
   "execution_count": null,
   "metadata": {},
   "outputs": [],
   "source": [
    "f = open(\"cities.txt\")"
   ]
  },
  {
   "cell_type": "code",
   "execution_count": 169,
   "metadata": {},
   "outputs": [],
   "source": [
    "line = f.readline()"
   ]
  },
  {
   "cell_type": "code",
   "execution_count": 170,
   "metadata": {},
   "outputs": [
    {
     "data": {
      "text/plain": [
       "['3', ' 대구 ', '77.5', ' 남부\\n']"
      ]
     },
     "execution_count": 170,
     "metadata": {},
     "output_type": "execute_result"
    }
   ],
   "source": [
    "l = line.split(\",\")\n",
    "l"
   ]
  },
  {
   "cell_type": "code",
   "execution_count": 171,
   "metadata": {},
   "outputs": [
    {
     "data": {
      "text/plain": [
       "78"
      ]
     },
     "execution_count": 171,
     "metadata": {},
     "output_type": "execute_result"
    }
   ],
   "source": [
    "round(float(l[2]))"
   ]
  },
  {
   "cell_type": "code",
   "execution_count": 6,
   "metadata": {},
   "outputs": [],
   "source": [
    "with open(\"cities2.txt\", \"w\") as g:\n",
    "    with open(\"cities.txt\") as f:\n",
    "        for i, line in enumerate(f.readlines()):\n",
    "            l = line.split(\",\")\n",
    "            duml = []\n",
    "            duml.append(l[0])\n",
    "            try:\n",
    "                duml.append(round(float(l[2])))\n",
    "            except IndexError as error:\n",
    "                print(l, i)\n",
    "            if l[3] == \" 중부\\n\": a = 0\n",
    "            else: a = 1\n",
    "            duml.append(a)\n",
    "            duml = list(map(str, duml))\n",
    "            s = \",\".join(duml)\n",
    "            s = s + '\\n'\n",
    "            g.write(s)\n",
    "            if i == 3: break"
   ]
  },
  {
   "cell_type": "code",
   "execution_count": 155,
   "metadata": {},
   "outputs": [
    {
     "data": {
      "text/plain": [
       "['1', '39', '1']"
      ]
     },
     "execution_count": 155,
     "metadata": {},
     "output_type": "execute_result"
    }
   ],
   "source": [
    "k = [1, 39, 1]\n",
    "k = list(map(str, k))\n",
    "k"
   ]
  },
  {
   "cell_type": "code",
   "execution_count": 156,
   "metadata": {},
   "outputs": [
    {
     "data": {
      "text/plain": [
       "'1,39,1'"
      ]
     },
     "execution_count": 156,
     "metadata": {},
     "output_type": "execute_result"
    }
   ],
   "source": [
    "\",\".join(k)"
   ]
  },
  {
   "cell_type": "code",
   "execution_count": 183,
   "metadata": {},
   "outputs": [
    {
     "data": {
      "text/plain": [
       "'1,100,0\\n2,83,1\\n3,78,1\\n4,68,0\\n'"
      ]
     },
     "execution_count": 183,
     "metadata": {},
     "output_type": "execute_result"
    }
   ],
   "source": [
    "g = open(\"cities2.txt\")\n",
    "g.read()"
   ]
  },
  {
   "cell_type": "code",
   "execution_count": 184,
   "metadata": {},
   "outputs": [
    {
     "data": {
      "text/plain": [
       "'4,68,0\\n'"
      ]
     },
     "execution_count": 184,
     "metadata": {},
     "output_type": "execute_result"
    }
   ],
   "source": [
    "s.strip"
   ]
  },
  {
   "cell_type": "markdown",
   "metadata": {},
   "source": [
    "#### for문의 continue\n",
    "반복문에서 continue 문장을 만나는 순간, continue 문장 아래의 내용을 실행하지 말고, 다음 반복으로 이동하다."
   ]
  },
  {
   "cell_type": "code",
   "execution_count": 12,
   "metadata": {},
   "outputs": [
    {
     "data": {
      "text/plain": [
       "[[2, 4, 6, 8, 10, 12, 14, 16, 18],\n",
       " [4, 8, 12, 16, 20, 24, 28, 32, 36],\n",
       " [6, 12, 18, 24, 30, 36, 42, 48, 54]]"
      ]
     },
     "execution_count": 12,
     "metadata": {},
     "output_type": "execute_result"
    }
   ],
   "source": [
    "list99 = []\n",
    "for j in range(1, 10):\n",
    "    # 짝수 구구단만 만들고자 하는 경우.\n",
    "    if j%2 == 1: continue\n",
    "    l = []\n",
    "    for i in range(1, 10):\n",
    "        l.append(i*j)\n",
    "    list99.append(l)\n",
    "    ## 짝수 구구단 6단까지만 만들고자 하는 경우.\n",
    "    if j == 6: break\n",
    "    \n",
    "list99"
   ]
  },
  {
   "cell_type": "markdown",
   "metadata": {},
   "source": [
    "#### 재귀함수(recursive function)\n",
    "함수 정의부에서 자기자신을 호출하는 함수\n",
    "```python\n",
    "def f_name(x):\n",
    "    y = ...\n",
    "    f_name(y)\n",
    "    ....\n",
    "    return result\n",
    "```\n",
    ">[예]\n",
    ">factorial 함수 f는 재귀적인 특성을 갖는다.\n",
    ">f(5) = 5 x 4 x 3 x 2 x 1 = 5! = 5 x f(4)"
   ]
  },
  {
   "cell_type": "code",
   "execution_count": 20,
   "metadata": {},
   "outputs": [],
   "source": [
    "def factorial(x):\n",
    "    if x == 1: return 1\n",
    "    return x*factorial(x-1)"
   ]
  },
  {
   "cell_type": "code",
   "execution_count": 21,
   "metadata": {},
   "outputs": [
    {
     "data": {
      "text/plain": [
       "120"
      ]
     },
     "execution_count": 21,
     "metadata": {},
     "output_type": "execute_result"
    }
   ],
   "source": [
    "factorial(5)"
   ]
  },
  {
   "cell_type": "code",
   "execution_count": 24,
   "metadata": {},
   "outputs": [
    {
     "data": {
      "text/plain": [
       "93326215443944152681699238856266700490715968264381621468592963895217599993229915608941463976156518286253697920827223758251185210916864000000000000000000000000"
      ]
     },
     "execution_count": 24,
     "metadata": {},
     "output_type": "execute_result"
    }
   ],
   "source": [
    "factorial(100)"
   ]
  },
  {
   "cell_type": "markdown",
   "metadata": {},
   "source": [
    "##### 하노이의 탑.\n",
    "![](http://mblogthumb1.phinf.naver.net/20150923_176/mathplant00_1442991091987S1YQj_JPEG/%C0%CC%B9%CC%C1%F6_5.jpg?type=w2)\n",
    "\n",
    "1. n-1 개 원반셋을 기둥1에서 기둥 2로 옮기고,\n",
    "2. nth 원반을 기둥 1에서 기둥 3으로 옮기고,\n",
    "3. n-1 개 원반셋을 기둥2에서 기둥 3으로 옮긴다."
   ]
  },
  {
   "cell_type": "code",
   "execution_count": 36,
   "metadata": {},
   "outputs": [],
   "source": [
    "i = 0\n",
    "def hanoi(n, o, t):\n",
    "    if n == 1:\n",
    "        global i\n",
    "        i+=1\n",
    "        print(\"%d번째 원반을 %d 기둥에서 %d 기둥으로 %d 번째 옮긴다.\" %(n, o, t, i))\n",
    "        return\n",
    "    hanoi(n-1, o, 6-o-t)\n",
    "    i+=1\n",
    "    print(\"%d번째 원반을 %d 기둥에서 %d 기둥으로 %d 번째 옮긴다.\" %(n, o, t, i))\n",
    "    hanoi(n-1, 6-o-t, t)"
   ]
  },
  {
   "cell_type": "code",
   "execution_count": 35,
   "metadata": {},
   "outputs": [
    {
     "name": "stdout",
     "output_type": "stream",
     "text": [
      "1번째 원반을 1 기둥에서 2 기둥으로 1 번째 옮긴다.\n",
      "2번째 원반을 1 기둥에서 3 기둥으로 2 번째 옮긴다.\n",
      "1번째 원반을 2 기둥에서 3 기둥으로 3 번째 옮긴다.\n",
      "3번째 원반을 1 기둥에서 2 기둥으로 4 번째 옮긴다.\n",
      "1번째 원반을 3 기둥에서 1 기둥으로 5 번째 옮긴다.\n",
      "2번째 원반을 3 기둥에서 2 기둥으로 6 번째 옮긴다.\n",
      "1번째 원반을 1 기둥에서 2 기둥으로 7 번째 옮긴다.\n",
      "4번째 원반을 1 기둥에서 3 기둥으로 8 번째 옮긴다.\n",
      "1번째 원반을 2 기둥에서 3 기둥으로 9 번째 옮긴다.\n",
      "2번째 원반을 2 기둥에서 1 기둥으로 10 번째 옮긴다.\n",
      "1번째 원반을 3 기둥에서 1 기둥으로 11 번째 옮긴다.\n",
      "3번째 원반을 2 기둥에서 3 기둥으로 12 번째 옮긴다.\n",
      "1번째 원반을 1 기둥에서 2 기둥으로 13 번째 옮긴다.\n",
      "2번째 원반을 1 기둥에서 3 기둥으로 14 번째 옮긴다.\n",
      "1번째 원반을 2 기둥에서 3 기둥으로 15 번째 옮긴다.\n",
      "5번째 원반을 1 기둥에서 2 기둥으로 16 번째 옮긴다.\n",
      "1번째 원반을 3 기둥에서 1 기둥으로 17 번째 옮긴다.\n",
      "2번째 원반을 3 기둥에서 2 기둥으로 18 번째 옮긴다.\n",
      "1번째 원반을 1 기둥에서 2 기둥으로 19 번째 옮긴다.\n",
      "3번째 원반을 3 기둥에서 1 기둥으로 20 번째 옮긴다.\n",
      "1번째 원반을 2 기둥에서 3 기둥으로 21 번째 옮긴다.\n",
      "2번째 원반을 2 기둥에서 1 기둥으로 22 번째 옮긴다.\n",
      "1번째 원반을 3 기둥에서 1 기둥으로 23 번째 옮긴다.\n",
      "4번째 원반을 3 기둥에서 2 기둥으로 24 번째 옮긴다.\n",
      "1번째 원반을 1 기둥에서 2 기둥으로 25 번째 옮긴다.\n",
      "2번째 원반을 1 기둥에서 3 기둥으로 26 번째 옮긴다.\n",
      "1번째 원반을 2 기둥에서 3 기둥으로 27 번째 옮긴다.\n",
      "3번째 원반을 1 기둥에서 2 기둥으로 28 번째 옮긴다.\n",
      "1번째 원반을 3 기둥에서 1 기둥으로 29 번째 옮긴다.\n",
      "2번째 원반을 3 기둥에서 2 기둥으로 30 번째 옮긴다.\n",
      "1번째 원반을 1 기둥에서 2 기둥으로 31 번째 옮긴다.\n",
      "6번째 원반을 1 기둥에서 3 기둥으로 32 번째 옮긴다.\n",
      "1번째 원반을 2 기둥에서 3 기둥으로 33 번째 옮긴다.\n",
      "2번째 원반을 2 기둥에서 1 기둥으로 34 번째 옮긴다.\n",
      "1번째 원반을 3 기둥에서 1 기둥으로 35 번째 옮긴다.\n",
      "3번째 원반을 2 기둥에서 3 기둥으로 36 번째 옮긴다.\n",
      "1번째 원반을 1 기둥에서 2 기둥으로 37 번째 옮긴다.\n",
      "2번째 원반을 1 기둥에서 3 기둥으로 38 번째 옮긴다.\n",
      "1번째 원반을 2 기둥에서 3 기둥으로 39 번째 옮긴다.\n",
      "4번째 원반을 2 기둥에서 1 기둥으로 40 번째 옮긴다.\n",
      "1번째 원반을 3 기둥에서 1 기둥으로 41 번째 옮긴다.\n",
      "2번째 원반을 3 기둥에서 2 기둥으로 42 번째 옮긴다.\n",
      "1번째 원반을 1 기둥에서 2 기둥으로 43 번째 옮긴다.\n",
      "3번째 원반을 3 기둥에서 1 기둥으로 44 번째 옮긴다.\n",
      "1번째 원반을 2 기둥에서 3 기둥으로 45 번째 옮긴다.\n",
      "2번째 원반을 2 기둥에서 1 기둥으로 46 번째 옮긴다.\n",
      "1번째 원반을 3 기둥에서 1 기둥으로 47 번째 옮긴다.\n",
      "5번째 원반을 2 기둥에서 3 기둥으로 48 번째 옮긴다.\n",
      "1번째 원반을 1 기둥에서 2 기둥으로 49 번째 옮긴다.\n",
      "2번째 원반을 1 기둥에서 3 기둥으로 50 번째 옮긴다.\n",
      "1번째 원반을 2 기둥에서 3 기둥으로 51 번째 옮긴다.\n",
      "3번째 원반을 1 기둥에서 2 기둥으로 52 번째 옮긴다.\n",
      "1번째 원반을 3 기둥에서 1 기둥으로 53 번째 옮긴다.\n",
      "2번째 원반을 3 기둥에서 2 기둥으로 54 번째 옮긴다.\n",
      "1번째 원반을 1 기둥에서 2 기둥으로 55 번째 옮긴다.\n",
      "4번째 원반을 1 기둥에서 3 기둥으로 56 번째 옮긴다.\n",
      "1번째 원반을 2 기둥에서 3 기둥으로 57 번째 옮긴다.\n",
      "2번째 원반을 2 기둥에서 1 기둥으로 58 번째 옮긴다.\n",
      "1번째 원반을 3 기둥에서 1 기둥으로 59 번째 옮긴다.\n",
      "3번째 원반을 2 기둥에서 3 기둥으로 60 번째 옮긴다.\n",
      "1번째 원반을 1 기둥에서 2 기둥으로 61 번째 옮긴다.\n",
      "2번째 원반을 1 기둥에서 3 기둥으로 62 번째 옮긴다.\n",
      "1번째 원반을 2 기둥에서 3 기둥으로 63 번째 옮긴다.\n",
      "7번째 원반을 1 기둥에서 2 기둥으로 64 번째 옮긴다.\n",
      "1번째 원반을 3 기둥에서 1 기둥으로 65 번째 옮긴다.\n",
      "2번째 원반을 3 기둥에서 2 기둥으로 66 번째 옮긴다.\n",
      "1번째 원반을 1 기둥에서 2 기둥으로 67 번째 옮긴다.\n",
      "3번째 원반을 3 기둥에서 1 기둥으로 68 번째 옮긴다.\n",
      "1번째 원반을 2 기둥에서 3 기둥으로 69 번째 옮긴다.\n",
      "2번째 원반을 2 기둥에서 1 기둥으로 70 번째 옮긴다.\n",
      "1번째 원반을 3 기둥에서 1 기둥으로 71 번째 옮긴다.\n",
      "4번째 원반을 3 기둥에서 2 기둥으로 72 번째 옮긴다.\n",
      "1번째 원반을 1 기둥에서 2 기둥으로 73 번째 옮긴다.\n",
      "2번째 원반을 1 기둥에서 3 기둥으로 74 번째 옮긴다.\n",
      "1번째 원반을 2 기둥에서 3 기둥으로 75 번째 옮긴다.\n",
      "3번째 원반을 1 기둥에서 2 기둥으로 76 번째 옮긴다.\n",
      "1번째 원반을 3 기둥에서 1 기둥으로 77 번째 옮긴다.\n",
      "2번째 원반을 3 기둥에서 2 기둥으로 78 번째 옮긴다.\n",
      "1번째 원반을 1 기둥에서 2 기둥으로 79 번째 옮긴다.\n",
      "5번째 원반을 3 기둥에서 1 기둥으로 80 번째 옮긴다.\n",
      "1번째 원반을 2 기둥에서 3 기둥으로 81 번째 옮긴다.\n",
      "2번째 원반을 2 기둥에서 1 기둥으로 82 번째 옮긴다.\n",
      "1번째 원반을 3 기둥에서 1 기둥으로 83 번째 옮긴다.\n",
      "3번째 원반을 2 기둥에서 3 기둥으로 84 번째 옮긴다.\n",
      "1번째 원반을 1 기둥에서 2 기둥으로 85 번째 옮긴다.\n",
      "2번째 원반을 1 기둥에서 3 기둥으로 86 번째 옮긴다.\n",
      "1번째 원반을 2 기둥에서 3 기둥으로 87 번째 옮긴다.\n",
      "4번째 원반을 2 기둥에서 1 기둥으로 88 번째 옮긴다.\n",
      "1번째 원반을 3 기둥에서 1 기둥으로 89 번째 옮긴다.\n",
      "2번째 원반을 3 기둥에서 2 기둥으로 90 번째 옮긴다.\n",
      "1번째 원반을 1 기둥에서 2 기둥으로 91 번째 옮긴다.\n",
      "3번째 원반을 3 기둥에서 1 기둥으로 92 번째 옮긴다.\n",
      "1번째 원반을 2 기둥에서 3 기둥으로 93 번째 옮긴다.\n",
      "2번째 원반을 2 기둥에서 1 기둥으로 94 번째 옮긴다.\n",
      "1번째 원반을 3 기둥에서 1 기둥으로 95 번째 옮긴다.\n",
      "6번째 원반을 3 기둥에서 2 기둥으로 96 번째 옮긴다.\n",
      "1번째 원반을 1 기둥에서 2 기둥으로 97 번째 옮긴다.\n",
      "2번째 원반을 1 기둥에서 3 기둥으로 98 번째 옮긴다.\n",
      "1번째 원반을 2 기둥에서 3 기둥으로 99 번째 옮긴다.\n",
      "3번째 원반을 1 기둥에서 2 기둥으로 100 번째 옮긴다.\n",
      "1번째 원반을 3 기둥에서 1 기둥으로 101 번째 옮긴다.\n",
      "2번째 원반을 3 기둥에서 2 기둥으로 102 번째 옮긴다.\n",
      "1번째 원반을 1 기둥에서 2 기둥으로 103 번째 옮긴다.\n",
      "4번째 원반을 1 기둥에서 3 기둥으로 104 번째 옮긴다.\n",
      "1번째 원반을 2 기둥에서 3 기둥으로 105 번째 옮긴다.\n",
      "2번째 원반을 2 기둥에서 1 기둥으로 106 번째 옮긴다.\n",
      "1번째 원반을 3 기둥에서 1 기둥으로 107 번째 옮긴다.\n",
      "3번째 원반을 2 기둥에서 3 기둥으로 108 번째 옮긴다.\n",
      "1번째 원반을 1 기둥에서 2 기둥으로 109 번째 옮긴다.\n",
      "2번째 원반을 1 기둥에서 3 기둥으로 110 번째 옮긴다.\n",
      "1번째 원반을 2 기둥에서 3 기둥으로 111 번째 옮긴다.\n",
      "5번째 원반을 1 기둥에서 2 기둥으로 112 번째 옮긴다.\n",
      "1번째 원반을 3 기둥에서 1 기둥으로 113 번째 옮긴다.\n",
      "2번째 원반을 3 기둥에서 2 기둥으로 114 번째 옮긴다.\n",
      "1번째 원반을 1 기둥에서 2 기둥으로 115 번째 옮긴다.\n",
      "3번째 원반을 3 기둥에서 1 기둥으로 116 번째 옮긴다.\n",
      "1번째 원반을 2 기둥에서 3 기둥으로 117 번째 옮긴다.\n",
      "2번째 원반을 2 기둥에서 1 기둥으로 118 번째 옮긴다.\n",
      "1번째 원반을 3 기둥에서 1 기둥으로 119 번째 옮긴다.\n",
      "4번째 원반을 3 기둥에서 2 기둥으로 120 번째 옮긴다.\n",
      "1번째 원반을 1 기둥에서 2 기둥으로 121 번째 옮긴다.\n",
      "2번째 원반을 1 기둥에서 3 기둥으로 122 번째 옮긴다.\n",
      "1번째 원반을 2 기둥에서 3 기둥으로 123 번째 옮긴다.\n",
      "3번째 원반을 1 기둥에서 2 기둥으로 124 번째 옮긴다.\n",
      "1번째 원반을 3 기둥에서 1 기둥으로 125 번째 옮긴다.\n",
      "2번째 원반을 3 기둥에서 2 기둥으로 126 번째 옮긴다.\n",
      "1번째 원반을 1 기둥에서 2 기둥으로 127 번째 옮긴다.\n",
      "8번째 원반을 1 기둥에서 3 기둥으로 128 번째 옮긴다.\n",
      "1번째 원반을 2 기둥에서 3 기둥으로 129 번째 옮긴다.\n",
      "2번째 원반을 2 기둥에서 1 기둥으로 130 번째 옮긴다.\n",
      "1번째 원반을 3 기둥에서 1 기둥으로 131 번째 옮긴다.\n",
      "3번째 원반을 2 기둥에서 3 기둥으로 132 번째 옮긴다.\n",
      "1번째 원반을 1 기둥에서 2 기둥으로 133 번째 옮긴다.\n",
      "2번째 원반을 1 기둥에서 3 기둥으로 134 번째 옮긴다.\n",
      "1번째 원반을 2 기둥에서 3 기둥으로 135 번째 옮긴다.\n",
      "4번째 원반을 2 기둥에서 1 기둥으로 136 번째 옮긴다.\n",
      "1번째 원반을 3 기둥에서 1 기둥으로 137 번째 옮긴다.\n",
      "2번째 원반을 3 기둥에서 2 기둥으로 138 번째 옮긴다.\n",
      "1번째 원반을 1 기둥에서 2 기둥으로 139 번째 옮긴다.\n",
      "3번째 원반을 3 기둥에서 1 기둥으로 140 번째 옮긴다.\n",
      "1번째 원반을 2 기둥에서 3 기둥으로 141 번째 옮긴다.\n",
      "2번째 원반을 2 기둥에서 1 기둥으로 142 번째 옮긴다.\n",
      "1번째 원반을 3 기둥에서 1 기둥으로 143 번째 옮긴다.\n",
      "5번째 원반을 2 기둥에서 3 기둥으로 144 번째 옮긴다.\n",
      "1번째 원반을 1 기둥에서 2 기둥으로 145 번째 옮긴다.\n",
      "2번째 원반을 1 기둥에서 3 기둥으로 146 번째 옮긴다.\n",
      "1번째 원반을 2 기둥에서 3 기둥으로 147 번째 옮긴다.\n",
      "3번째 원반을 1 기둥에서 2 기둥으로 148 번째 옮긴다.\n",
      "1번째 원반을 3 기둥에서 1 기둥으로 149 번째 옮긴다.\n",
      "2번째 원반을 3 기둥에서 2 기둥으로 150 번째 옮긴다.\n",
      "1번째 원반을 1 기둥에서 2 기둥으로 151 번째 옮긴다.\n",
      "4번째 원반을 1 기둥에서 3 기둥으로 152 번째 옮긴다.\n",
      "1번째 원반을 2 기둥에서 3 기둥으로 153 번째 옮긴다.\n",
      "2번째 원반을 2 기둥에서 1 기둥으로 154 번째 옮긴다.\n",
      "1번째 원반을 3 기둥에서 1 기둥으로 155 번째 옮긴다.\n",
      "3번째 원반을 2 기둥에서 3 기둥으로 156 번째 옮긴다.\n",
      "1번째 원반을 1 기둥에서 2 기둥으로 157 번째 옮긴다.\n",
      "2번째 원반을 1 기둥에서 3 기둥으로 158 번째 옮긴다.\n",
      "1번째 원반을 2 기둥에서 3 기둥으로 159 번째 옮긴다.\n",
      "6번째 원반을 2 기둥에서 1 기둥으로 160 번째 옮긴다.\n",
      "1번째 원반을 3 기둥에서 1 기둥으로 161 번째 옮긴다.\n",
      "2번째 원반을 3 기둥에서 2 기둥으로 162 번째 옮긴다.\n",
      "1번째 원반을 1 기둥에서 2 기둥으로 163 번째 옮긴다.\n",
      "3번째 원반을 3 기둥에서 1 기둥으로 164 번째 옮긴다.\n",
      "1번째 원반을 2 기둥에서 3 기둥으로 165 번째 옮긴다.\n",
      "2번째 원반을 2 기둥에서 1 기둥으로 166 번째 옮긴다.\n",
      "1번째 원반을 3 기둥에서 1 기둥으로 167 번째 옮긴다.\n",
      "4번째 원반을 3 기둥에서 2 기둥으로 168 번째 옮긴다.\n",
      "1번째 원반을 1 기둥에서 2 기둥으로 169 번째 옮긴다.\n",
      "2번째 원반을 1 기둥에서 3 기둥으로 170 번째 옮긴다.\n",
      "1번째 원반을 2 기둥에서 3 기둥으로 171 번째 옮긴다.\n",
      "3번째 원반을 1 기둥에서 2 기둥으로 172 번째 옮긴다.\n",
      "1번째 원반을 3 기둥에서 1 기둥으로 173 번째 옮긴다.\n",
      "2번째 원반을 3 기둥에서 2 기둥으로 174 번째 옮긴다.\n",
      "1번째 원반을 1 기둥에서 2 기둥으로 175 번째 옮긴다.\n",
      "5번째 원반을 3 기둥에서 1 기둥으로 176 번째 옮긴다.\n",
      "1번째 원반을 2 기둥에서 3 기둥으로 177 번째 옮긴다.\n",
      "2번째 원반을 2 기둥에서 1 기둥으로 178 번째 옮긴다.\n",
      "1번째 원반을 3 기둥에서 1 기둥으로 179 번째 옮긴다.\n",
      "3번째 원반을 2 기둥에서 3 기둥으로 180 번째 옮긴다.\n",
      "1번째 원반을 1 기둥에서 2 기둥으로 181 번째 옮긴다.\n",
      "2번째 원반을 1 기둥에서 3 기둥으로 182 번째 옮긴다.\n",
      "1번째 원반을 2 기둥에서 3 기둥으로 183 번째 옮긴다.\n",
      "4번째 원반을 2 기둥에서 1 기둥으로 184 번째 옮긴다.\n",
      "1번째 원반을 3 기둥에서 1 기둥으로 185 번째 옮긴다.\n",
      "2번째 원반을 3 기둥에서 2 기둥으로 186 번째 옮긴다.\n",
      "1번째 원반을 1 기둥에서 2 기둥으로 187 번째 옮긴다.\n",
      "3번째 원반을 3 기둥에서 1 기둥으로 188 번째 옮긴다.\n",
      "1번째 원반을 2 기둥에서 3 기둥으로 189 번째 옮긴다.\n",
      "2번째 원반을 2 기둥에서 1 기둥으로 190 번째 옮긴다.\n",
      "1번째 원반을 3 기둥에서 1 기둥으로 191 번째 옮긴다.\n",
      "7번째 원반을 2 기둥에서 3 기둥으로 192 번째 옮긴다.\n",
      "1번째 원반을 1 기둥에서 2 기둥으로 193 번째 옮긴다.\n",
      "2번째 원반을 1 기둥에서 3 기둥으로 194 번째 옮긴다.\n",
      "1번째 원반을 2 기둥에서 3 기둥으로 195 번째 옮긴다.\n",
      "3번째 원반을 1 기둥에서 2 기둥으로 196 번째 옮긴다.\n",
      "1번째 원반을 3 기둥에서 1 기둥으로 197 번째 옮긴다.\n",
      "2번째 원반을 3 기둥에서 2 기둥으로 198 번째 옮긴다.\n",
      "1번째 원반을 1 기둥에서 2 기둥으로 199 번째 옮긴다.\n",
      "4번째 원반을 1 기둥에서 3 기둥으로 200 번째 옮긴다.\n",
      "1번째 원반을 2 기둥에서 3 기둥으로 201 번째 옮긴다.\n",
      "2번째 원반을 2 기둥에서 1 기둥으로 202 번째 옮긴다.\n",
      "1번째 원반을 3 기둥에서 1 기둥으로 203 번째 옮긴다.\n",
      "3번째 원반을 2 기둥에서 3 기둥으로 204 번째 옮긴다.\n",
      "1번째 원반을 1 기둥에서 2 기둥으로 205 번째 옮긴다.\n",
      "2번째 원반을 1 기둥에서 3 기둥으로 206 번째 옮긴다.\n",
      "1번째 원반을 2 기둥에서 3 기둥으로 207 번째 옮긴다.\n",
      "5번째 원반을 1 기둥에서 2 기둥으로 208 번째 옮긴다.\n",
      "1번째 원반을 3 기둥에서 1 기둥으로 209 번째 옮긴다.\n",
      "2번째 원반을 3 기둥에서 2 기둥으로 210 번째 옮긴다.\n",
      "1번째 원반을 1 기둥에서 2 기둥으로 211 번째 옮긴다.\n",
      "3번째 원반을 3 기둥에서 1 기둥으로 212 번째 옮긴다.\n",
      "1번째 원반을 2 기둥에서 3 기둥으로 213 번째 옮긴다.\n",
      "2번째 원반을 2 기둥에서 1 기둥으로 214 번째 옮긴다.\n",
      "1번째 원반을 3 기둥에서 1 기둥으로 215 번째 옮긴다.\n",
      "4번째 원반을 3 기둥에서 2 기둥으로 216 번째 옮긴다.\n",
      "1번째 원반을 1 기둥에서 2 기둥으로 217 번째 옮긴다.\n",
      "2번째 원반을 1 기둥에서 3 기둥으로 218 번째 옮긴다.\n",
      "1번째 원반을 2 기둥에서 3 기둥으로 219 번째 옮긴다.\n",
      "3번째 원반을 1 기둥에서 2 기둥으로 220 번째 옮긴다.\n",
      "1번째 원반을 3 기둥에서 1 기둥으로 221 번째 옮긴다.\n",
      "2번째 원반을 3 기둥에서 2 기둥으로 222 번째 옮긴다.\n",
      "1번째 원반을 1 기둥에서 2 기둥으로 223 번째 옮긴다.\n",
      "6번째 원반을 1 기둥에서 3 기둥으로 224 번째 옮긴다.\n",
      "1번째 원반을 2 기둥에서 3 기둥으로 225 번째 옮긴다.\n",
      "2번째 원반을 2 기둥에서 1 기둥으로 226 번째 옮긴다.\n",
      "1번째 원반을 3 기둥에서 1 기둥으로 227 번째 옮긴다.\n",
      "3번째 원반을 2 기둥에서 3 기둥으로 228 번째 옮긴다.\n",
      "1번째 원반을 1 기둥에서 2 기둥으로 229 번째 옮긴다.\n",
      "2번째 원반을 1 기둥에서 3 기둥으로 230 번째 옮긴다.\n",
      "1번째 원반을 2 기둥에서 3 기둥으로 231 번째 옮긴다.\n",
      "4번째 원반을 2 기둥에서 1 기둥으로 232 번째 옮긴다.\n",
      "1번째 원반을 3 기둥에서 1 기둥으로 233 번째 옮긴다.\n",
      "2번째 원반을 3 기둥에서 2 기둥으로 234 번째 옮긴다.\n",
      "1번째 원반을 1 기둥에서 2 기둥으로 235 번째 옮긴다.\n",
      "3번째 원반을 3 기둥에서 1 기둥으로 236 번째 옮긴다.\n",
      "1번째 원반을 2 기둥에서 3 기둥으로 237 번째 옮긴다.\n",
      "2번째 원반을 2 기둥에서 1 기둥으로 238 번째 옮긴다.\n",
      "1번째 원반을 3 기둥에서 1 기둥으로 239 번째 옮긴다.\n",
      "5번째 원반을 2 기둥에서 3 기둥으로 240 번째 옮긴다.\n",
      "1번째 원반을 1 기둥에서 2 기둥으로 241 번째 옮긴다.\n",
      "2번째 원반을 1 기둥에서 3 기둥으로 242 번째 옮긴다.\n",
      "1번째 원반을 2 기둥에서 3 기둥으로 243 번째 옮긴다.\n",
      "3번째 원반을 1 기둥에서 2 기둥으로 244 번째 옮긴다.\n",
      "1번째 원반을 3 기둥에서 1 기둥으로 245 번째 옮긴다.\n",
      "2번째 원반을 3 기둥에서 2 기둥으로 246 번째 옮긴다.\n",
      "1번째 원반을 1 기둥에서 2 기둥으로 247 번째 옮긴다.\n",
      "4번째 원반을 1 기둥에서 3 기둥으로 248 번째 옮긴다.\n",
      "1번째 원반을 2 기둥에서 3 기둥으로 249 번째 옮긴다.\n",
      "2번째 원반을 2 기둥에서 1 기둥으로 250 번째 옮긴다.\n",
      "1번째 원반을 3 기둥에서 1 기둥으로 251 번째 옮긴다.\n",
      "3번째 원반을 2 기둥에서 3 기둥으로 252 번째 옮긴다.\n",
      "1번째 원반을 1 기둥에서 2 기둥으로 253 번째 옮긴다.\n",
      "2번째 원반을 1 기둥에서 3 기둥으로 254 번째 옮긴다.\n",
      "1번째 원반을 2 기둥에서 3 기둥으로 255 번째 옮긴다.\n"
     ]
    }
   ],
   "source": [
    "hanoi(8, 1, 3)"
   ]
  },
  {
   "cell_type": "markdown",
   "metadata": {},
   "source": [
    "#### 분리결합을 통한 정렬 방법\n",
    "최소값을 찾아내는 정렬 방법은 n개의 원소에 대해 $\\cfrac {n(n+1)}{2}$ 번 계산해야 한다. 그러나, 이 방식은 실전 업무에서는 매우 느려 잘 사용하지 않는다.\n",
    "```python\n",
    "for j in range(n):\n",
    "    m = 0\n",
    "    for i in range(len(l)):\n",
    "        if l[i] < l[m]: m = i\n",
    "    sortedl.append(l.pop(m))\n",
    "    print(l, sortedl)\n",
    "```\n",
    "\n",
    "우리는 상업용 정렬에서 퀵소트라고 알려진 분리 결합을 통한 정렬 방법을 구현할 것이다."
   ]
  },
  {
   "cell_type": "code",
   "execution_count": 15,
   "metadata": {},
   "outputs": [],
   "source": [
    "l = [3, 6, 7, 9, 2, 8, 5, 1]\n",
    "n = len(l)\n",
    "sortedl = []"
   ]
  },
  {
   "cell_type": "markdown",
   "metadata": {},
   "source": [
    "1. 리스트의 특정 값을 중심으로 이 값보다 작은 것은 ll에 보내고, 그렇지 않은 것은 rl에 보내자."
   ]
  },
  {
   "cell_type": "code",
   "execution_count": 16,
   "metadata": {},
   "outputs": [],
   "source": [
    "cv = l[0]\n",
    "ll = []; rl = []\n",
    "for v in range(1, len(l)):\n",
    "    if l[v] < cv : ll.append(l[v])\n",
    "    else: rl.append(l[v])"
   ]
  },
  {
   "cell_type": "code",
   "execution_count": 17,
   "metadata": {},
   "outputs": [
    {
     "name": "stdout",
     "output_type": "stream",
     "text": [
      "[2, 1] [6, 7, 9, 8, 5]\n"
     ]
    }
   ],
   "source": [
    "print(ll, rl)"
   ]
  },
  {
   "cell_type": "code",
   "execution_count": 43,
   "metadata": {},
   "outputs": [],
   "source": [
    "def qsort(l):\n",
    "    ## 예외처리\n",
    "    if len(l) == 0: cl = []\n",
    "    else: cl = [l[0]]\n",
    "    ll = []; rl = []\n",
    "    ## 종료조건\n",
    "    if len(l) <= 1:\n",
    "        return ll + cl + rl\n",
    "    for i in range(1, len(l)):\n",
    "        if l[i] < cl[0]: ll.append(l[i])\n",
    "        else: rl.append(l[i])\n",
    "    llist = qsort(ll)\n",
    "    rlist = qsort(rl)\n",
    "    return llist + cl + rlist"
   ]
  },
  {
   "cell_type": "code",
   "execution_count": 44,
   "metadata": {},
   "outputs": [
    {
     "data": {
      "text/plain": [
       "[1, 2, 3, 5, 6, 7, 8, 9]"
      ]
     },
     "execution_count": 44,
     "metadata": {},
     "output_type": "execute_result"
    }
   ],
   "source": [
    "qsort(l)"
   ]
  },
  {
   "cell_type": "code",
   "execution_count": 47,
   "metadata": {},
   "outputs": [
    {
     "data": {
      "text/plain": [
       "int"
      ]
     },
     "execution_count": 47,
     "metadata": {},
     "output_type": "execute_result"
    }
   ],
   "source": [
    "type(3)"
   ]
  },
  {
   "cell_type": "code",
   "execution_count": 49,
   "metadata": {},
   "outputs": [
    {
     "data": {
      "text/plain": [
       "str"
      ]
     },
     "execution_count": 49,
     "metadata": {},
     "output_type": "execute_result"
    }
   ],
   "source": [
    "type(\"3\")"
   ]
  },
  {
   "cell_type": "code",
   "execution_count": 50,
   "metadata": {},
   "outputs": [
    {
     "name": "stdout",
     "output_type": "stream",
     "text": [
      "<function qsort at 0x00000000051392F0>\n"
     ]
    }
   ],
   "source": [
    "print(qsort)"
   ]
  },
  {
   "cell_type": "code",
   "execution_count": 52,
   "metadata": {},
   "outputs": [
    {
     "data": {
      "text/plain": [
       "'<function qsort at 0x00000000051392F0>'"
      ]
     },
     "execution_count": 52,
     "metadata": {},
     "output_type": "execute_result"
    }
   ],
   "source": [
    "qsort.__str__()"
   ]
  },
  {
   "cell_type": "code",
   "execution_count": null,
   "metadata": {},
   "outputs": [],
   "source": []
  }
 ],
 "metadata": {
  "kernelspec": {
   "display_name": "Python 3",
   "language": "python",
   "name": "python3"
  },
  "language_info": {
   "codemirror_mode": {
    "name": "ipython",
    "version": 3
   },
   "file_extension": ".py",
   "mimetype": "text/x-python",
   "name": "python",
   "nbconvert_exporter": "python",
   "pygments_lexer": "ipython3",
   "version": "3.7.1"
  }
 },
 "nbformat": 4,
 "nbformat_minor": 2
}
