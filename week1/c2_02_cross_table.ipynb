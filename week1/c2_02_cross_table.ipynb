{
 "cells": [
  {
   "cell_type": "markdown",
   "metadata": {},
   "source": [
    "#### cross table\n",
    "- A의 빈도를 B와 not B 그룹으로 나누어, cross table을 생성해보자."
   ]
  },
  {
   "cell_type": "code",
   "execution_count": null,
   "metadata": {},
   "outputs": [],
   "source": []
  },
  {
   "cell_type": "markdown",
   "metadata": {},
   "source": [
    "#### 결측값(NA)와 Null값 반드시 구분할 것."
   ]
  },
  {
   "cell_type": "markdown",
   "metadata": {},
   "source": [
    "#### np.where"
   ]
  },
  {
   "cell_type": "markdown",
   "metadata": {},
   "source": [
    "```python\n",
    "operationg_system = np.where(frame['col_name'].str.contains('a'), 'a', 'b') # True : 'a', False : 'b'\n",
    "```"
   ]
  },
  {
   "cell_type": "code",
   "execution_count": 1,
   "metadata": {},
   "outputs": [],
   "source": [
    "# 결과값은 array - > np.where - > array로 반환"
   ]
  },
  {
   "cell_type": "markdown",
   "metadata": {},
   "source": [
    "#### grouping"
   ]
  },
  {
   "cell_type": "markdown",
   "metadata": {},
   "source": [
    "```python\n",
    "by_col1_col2 = frame.groupby(['col1', operationg_system]) # 두 Series의 size가 같기 때문에 성립함.\n",
    "```"
   ]
  },
  {
   "cell_type": "markdown",
   "metadata": {},
   "source": [
    "#### 그룹별 빈도를 계산(size)하고, 행열 열로 바꾸어(unpack) 결측치를 0으로 변경."
   ]
  },
  {
   "cell_type": "markdown",
   "metadata": {},
   "source": [
    "```python\n",
    "counts = by_col1_col2.size().unstack().fillna(0) # unstack : 쌓여져 있는 table을 unpack / unpack시 생기는 Na 값들은 fillna(0)으로\n",
    "```"
   ]
  },
  {
   "cell_type": "markdown",
   "metadata": {},
   "source": [
    "#### col1 or col2를 기준으로 순위를 매겨 Top 10을 구해보자\n",
    "- 이를 위해 axis를 지정하여 합산하여 순위를 생성\n",
    "- 이 순위에 따라 Top 10 indexing"
   ]
  },
  {
   "cell_type": "markdown",
   "metadata": {},
   "source": [
    "```python\n",
    "indexer = counts.sum(1).argsort() # argsort : 정렬해서 놓이게될 위치의 index 값을 반환\n",
    "total_counts = counts.take(indexer) # indexer 순서에 맞게 순서를 재정렬해라\n",
    "```"
   ]
  },
  {
   "cell_type": "markdown",
   "metadata": {},
   "source": [
    "#### 그래프를 그려보자"
   ]
  },
  {
   "cell_type": "markdown",
   "metadata": {},
   "source": [
    "```python\n",
    "total_counts.plot(kind='barh', stacked=True) # stacked True, False에 따라 그래프 모양 당연히 다름~\n",
    "```"
   ]
  },
  {
   "cell_type": "markdown",
   "metadata": {},
   "source": [
    "#### 비율적으로 접근해보자"
   ]
  },
  {
   "cell_type": "markdown",
   "metadata": {},
   "source": [
    "```python\n",
    "normed_subset = total_counts.div(total_counts.sum(1), axis=0) # WTF\n",
    "normed_subset.plot(kind='barh', stacked=True)\n",
    "```"
   ]
  }
 ],
 "metadata": {
  "kernelspec": {
   "display_name": "Python 3",
   "language": "python",
   "name": "python3"
  },
  "language_info": {
   "codemirror_mode": {
    "name": "ipython",
    "version": 3
   },
   "file_extension": ".py",
   "mimetype": "text/x-python",
   "name": "python",
   "nbconvert_exporter": "python",
   "pygments_lexer": "ipython3",
   "version": "3.5.3"
  }
 },
 "nbformat": 4,
 "nbformat_minor": 2
}
