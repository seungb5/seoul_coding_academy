{
 "cells": [
  {
   "cell_type": "markdown",
   "metadata": {},
   "source": [
    "### 연습문제1"
   ]
  },
  {
   "cell_type": "code",
   "execution_count": 4,
   "metadata": {},
   "outputs": [],
   "source": [
    "# 1.1. 5.5를 2로 나누고 몫과 나머지를 구하라."
   ]
  },
  {
   "cell_type": "code",
   "execution_count": 118,
   "metadata": {},
   "outputs": [],
   "source": [
    "def Q1(float):\n",
    "    x = float\n",
    "    a = int(float / 2)\n",
    "    b = (float / 2) - a\n",
    "    print(\"{}를 2로 나눈 몫은 {}이고 나머지는 {}이다.\".format(float, a, b))"
   ]
  },
  {
   "cell_type": "code",
   "execution_count": 119,
   "metadata": {},
   "outputs": [
    {
     "name": "stdout",
     "output_type": "stream",
     "text": [
      "5.5를 2로 나눈 몫은 2이고 나머지는 0.75이다.\n"
     ]
    }
   ],
   "source": [
    "Q1(5.5)"
   ]
  },
  {
   "cell_type": "code",
   "execution_count": 62,
   "metadata": {},
   "outputs": [],
   "source": [
    "result1 = 2, 0.75"
   ]
  },
  {
   "cell_type": "code",
   "execution_count": 27,
   "metadata": {},
   "outputs": [],
   "source": [
    "# 1.2. sin(pi/2)를 구하라."
   ]
  },
  {
   "cell_type": "code",
   "execution_count": 116,
   "metadata": {},
   "outputs": [
    {
     "data": {
      "text/plain": [
       "1.0"
      ]
     },
     "execution_count": 116,
     "metadata": {},
     "output_type": "execute_result"
    }
   ],
   "source": [
    "from math import sin, pi\n",
    "sin(pi/2)"
   ]
  },
  {
   "cell_type": "code",
   "execution_count": 117,
   "metadata": {},
   "outputs": [],
   "source": [
    "result2 = 1.0"
   ]
  },
  {
   "cell_type": "code",
   "execution_count": 40,
   "metadata": {},
   "outputs": [
    {
     "data": {
      "text/plain": [
       "3"
      ]
     },
     "execution_count": 40,
     "metadata": {},
     "output_type": "execute_result"
    }
   ],
   "source": [
    "# 1.3. round(2.9), math floor(2.9), math ceil(2.9)의 차이점?\n",
    "math.ceil(2.9)"
   ]
  },
  {
   "cell_type": "code",
   "execution_count": 51,
   "metadata": {},
   "outputs": [
    {
     "name": "stdout",
     "output_type": "stream",
     "text": [
      "2.9의 반올림:3, 내림:2, 올림:3\n"
     ]
    }
   ],
   "source": [
    "def Q3(float):\n",
    "    a = round(float); b = math.floor(float); c = math.ceil(float)\n",
    "    print(\"{}의 반올림:{}, 내림:{}, 올림:{}\".format(float, a, b, c))\n",
    "\n",
    "Q3(2.9)"
   ]
  },
  {
   "cell_type": "code",
   "execution_count": 63,
   "metadata": {},
   "outputs": [],
   "source": [
    "result3 = 3, 2, 3"
   ]
  },
  {
   "cell_type": "code",
   "execution_count": null,
   "metadata": {},
   "outputs": [],
   "source": [
    "# 1.4. random()을 이용해서 운수를 알아보자. 0~5 : 보통, 6~10 : 좋음"
   ]
  },
  {
   "cell_type": "code",
   "execution_count": 65,
   "metadata": {},
   "outputs": [],
   "source": [
    "import random"
   ]
  },
  {
   "cell_type": "code",
   "execution_count": 109,
   "metadata": {},
   "outputs": [
    {
     "data": {
      "text/plain": [
       "8"
      ]
     },
     "execution_count": 109,
     "metadata": {},
     "output_type": "execute_result"
    }
   ],
   "source": [
    "random.randint(0, 10) # including both end points.\n"
   ]
  },
  {
   "cell_type": "markdown",
   "metadata": {},
   "source": [
    "### for문 연습문제"
   ]
  },
  {
   "cell_type": "code",
   "execution_count": null,
   "metadata": {},
   "outputs": [],
   "source": [
    "chr() # 아스키 코드를 문자로 변환 시켜주는 built-in 함수.\n",
    "ord() # 문자를 아스키 코드로 변환 시켜주는 built-in 함수."
   ]
  },
  {
   "cell_type": "code",
   "execution_count": 3,
   "metadata": {},
   "outputs": [],
   "source": [
    "# for문을 이용해서 alphabet을 만들어 보자.\n",
    "alphabet = [chr(ord('a') + i) for i in range(26)] "
   ]
  },
  {
   "cell_type": "markdown",
   "metadata": {},
   "source": [
    "### 연습문제2"
   ]
  },
  {
   "cell_type": "code",
   "execution_count": 83,
   "metadata": {},
   "outputs": [],
   "source": [
    "# 2.1. 처음50개는 값이0, 나머지 50개는 1\n",
    "\n",
    "l = [[0]*50, [1]*50]"
   ]
  },
  {
   "cell_type": "code",
   "execution_count": 101,
   "metadata": {},
   "outputs": [],
   "source": [
    "l = [] # for문 1\n",
    "for _ in range(50):\n",
    "    l.append(0)\n",
    "for _ in range(50):\n",
    "    l.append(1)"
   ]
  },
  {
   "cell_type": "code",
   "execution_count": 103,
   "metadata": {},
   "outputs": [],
   "source": [
    "l = [] # for문 2\n",
    "for i in range(2):\n",
    "    for _ in range(50):\n",
    "        l.append(i)"
   ]
  },
  {
   "cell_type": "code",
   "execution_count": 84,
   "metadata": {},
   "outputs": [
    {
     "name": "stdout",
     "output_type": "stream",
     "text": [
      "l의 최댓값은 5, 최솟값은 1이다.\n"
     ]
    }
   ],
   "source": [
    "# 2.2. \n",
    "l = [3, 1, 5, 4, 2]\n",
    "l.sort()\n",
    "a = l[0]\n",
    "b = l[4]\n",
    "print(\"l의 최댓값은 {}, 최솟값은 {}이다.\".format(b, a))"
   ]
  },
  {
   "cell_type": "code",
   "execution_count": 107,
   "metadata": {},
   "outputs": [
    {
     "name": "stdout",
     "output_type": "stream",
     "text": [
      "l의 최댓값은 5, 최솟값은 1이다.\n"
     ]
    }
   ],
   "source": [
    "l = [3, 1, 5, 4, 2]\n",
    "def minmax(li):\n",
    "    l.sort()\n",
    "    return li[0], li[-1]\n",
    "minmax(l)\n",
    "print(\"l의 최댓값은 {}, 최솟값은 {}이다.\".format(minmax(l)[-1], minmax(l)[0]))"
   ]
  },
  {
   "cell_type": "code",
   "execution_count": 110,
   "metadata": {},
   "outputs": [
    {
     "data": {
      "text/plain": [
       "[[0, 1, 2, 3, 4, 5, 6, 7, 8, 9],\n",
       " [10, 11, 12, 13, 14, 15, 16, 17, 18, 19],\n",
       " [20, 21, 22, 23, 24, 25, 26, 27, 28, 29],\n",
       " [30, 31, 32, 33, 34, 35, 36, 37, 38, 39],\n",
       " [40, 41, 42, 43, 44, 45, 46, 47, 48, 49],\n",
       " [50, 51, 52, 53, 54, 55, 56, 57, 58, 59],\n",
       " [60, 61, 62, 63, 64, 65, 66, 67, 68, 69],\n",
       " [70, 71, 72, 73, 74, 75, 76, 77, 78, 79],\n",
       " [80, 81, 82, 83, 84, 85, 86, 87, 88, 89],\n",
       " [90, 91, 92, 93, 94, 95, 96, 97, 98, 99]]"
      ]
     },
     "execution_count": 110,
     "metadata": {},
     "output_type": "execute_result"
    }
   ],
   "source": [
    "# 2.3. 0부터 99까지 10*10 행렬 형태의 리스트\n",
    "mylist=[]\n",
    "for i in range(10):\n",
    "    n = i*10\n",
    "    innerlist=[]\n",
    "    for j in range(10):\n",
    "        innerlist.append(n+j)\n",
    "    mylist.append(innerlist)\n",
    "mylist"
   ]
  },
  {
   "cell_type": "code",
   "execution_count": 112,
   "metadata": {},
   "outputs": [
    {
     "data": {
      "text/plain": [
       "[[0, 1, 2, 3, 4, 5, 6, 7, 8, 9],\n",
       " [10, 11, 12, 13, 14, 15, 16, 17, 18, 19],\n",
       " [20, 21, 22, 23, 24, 25, 26, 27, 28, 29],\n",
       " [30, 31, 32, 33, 34, 35, 36, 37, 38, 39],\n",
       " [40, 41, 42, 43, 44, 45, 46, 47, 48, 49],\n",
       " [50, 51, 52, 53, 54, 55, 56, 57, 58, 59],\n",
       " [60, 61, 62, 63, 64, 65, 66, 67, 68, 69],\n",
       " [70, 71, 72, 73, 74, 75, 76, 77, 78, 79],\n",
       " [80, 81, 82, 83, 84, 85, 86, 87, 88, 89],\n",
       " [90, 91, 92, 93, 94, 95, 96, 97, 98, 99]]"
      ]
     },
     "execution_count": 112,
     "metadata": {},
     "output_type": "execute_result"
    }
   ],
   "source": [
    "mylist=[]\n",
    "for i in range(10):\n",
    "    n = i * 10\n",
    "    mylist.append([n+j for j in range(10)])\n",
    "mylist"
   ]
  },
  {
   "cell_type": "code",
   "execution_count": 113,
   "metadata": {},
   "outputs": [
    {
     "data": {
      "text/plain": [
       "[20, 21, 22, 23, 24, 25, 26, 27, 28, 29]"
      ]
     },
     "execution_count": 113,
     "metadata": {},
     "output_type": "execute_result"
    }
   ],
   "source": [
    "[20+j for j in range(10)] # list comprehension"
   ]
  },
  {
   "cell_type": "markdown",
   "metadata": {},
   "source": [
    "### 구구단"
   ]
  },
  {
   "cell_type": "code",
   "execution_count": 182,
   "metadata": {},
   "outputs": [
    {
     "data": {
      "text/plain": [
       "{1: [1, 2, 3, 4, 5, 6, 7, 8, 9],\n",
       " 2: [2, 4, 6, 8, 10, 12, 14, 16, 18],\n",
       " 3: [3, 6, 9, 12, 15, 18, 21, 24, 27],\n",
       " 4: [4, 8, 12, 16, 20, 24, 28, 32, 36],\n",
       " 5: [5, 10, 15, 20, 25, 30, 35, 40, 45],\n",
       " 6: [6, 12, 18, 24, 30, 36, 42, 48, 54],\n",
       " 7: [7, 14, 21, 28, 35, 42, 49, 56, 63],\n",
       " 8: [8, 16, 24, 32, 40, 48, 56, 64, 72],\n",
       " 9: [9, 18, 27, 36, 45, 54, 63, 72, 81]}"
      ]
     },
     "execution_count": 182,
     "metadata": {},
     "output_type": "execute_result"
    }
   ],
   "source": [
    "d99 = {}\n",
    "for i in range(1,10):\n",
    "    innerlist = []\n",
    "    for j in range(1, 10):\n",
    "        innerlist.append(i*j)\n",
    "    d99[i] = innerlist\n",
    "d99"
   ]
  },
  {
   "cell_type": "code",
   "execution_count": 185,
   "metadata": {},
   "outputs": [
    {
     "data": {
      "text/plain": [
       "{2: [2, 4, 6, 8, 10, 12, 14, 16, 18],\n",
       " 4: [4, 8, 12, 16, 20, 24, 28, 32, 36],\n",
       " 6: [6, 12, 18, 24, 30, 36, 42, 48, 54],\n",
       " 8: [8, 16, 24, 32, 40, 48, 56, 64, 72]}"
      ]
     },
     "execution_count": 185,
     "metadata": {},
     "output_type": "execute_result"
    }
   ],
   "source": [
    "d99 = {}\n",
    "for i in range(2, 10,2):\n",
    "    innerlist = []\n",
    "    for j in range(1, 10):\n",
    "        innerlist.append(i*j)\n",
    "    d99[i] = innerlist\n",
    "d99"
   ]
  },
  {
   "cell_type": "markdown",
   "metadata": {},
   "source": [
    "### 연습문제3"
   ]
  },
  {
   "cell_type": "code",
   "execution_count": 17,
   "metadata": {},
   "outputs": [
    {
     "ename": "SyntaxError",
     "evalue": "unexpected EOF while parsing (<ipython-input-17-48ed7a4b0bcf>, line 2)",
     "output_type": "error",
     "traceback": [
      "\u001b[1;36m  File \u001b[1;32m\"<ipython-input-17-48ed7a4b0bcf>\"\u001b[1;36m, line \u001b[1;32m2\u001b[0m\n\u001b[1;33m    for i in range(1, 100, 2):\u001b[0m\n\u001b[1;37m                              ^\u001b[0m\n\u001b[1;31mSyntaxError\u001b[0m\u001b[1;31m:\u001b[0m unexpected EOF while parsing\n"
     ]
    }
   ],
   "source": [
    "# 100보다 작은 홀수 출력\n",
    "for i in range(1, 100, 2):"
   ]
  },
  {
   "cell_type": "code",
   "execution_count": 16,
   "metadata": {},
   "outputs": [
    {
     "ename": "SyntaxError",
     "evalue": "unexpected EOF while parsing (<ipython-input-16-46b82cbb0065>, line 2)",
     "output_type": "error",
     "traceback": [
      "\u001b[1;36m  File \u001b[1;32m\"<ipython-input-16-46b82cbb0065>\"\u001b[1;36m, line \u001b[1;32m2\u001b[0m\n\u001b[1;33m    if i % 2 == 1:\u001b[0m\n\u001b[1;37m                  ^\u001b[0m\n\u001b[1;31mSyntaxError\u001b[0m\u001b[1;31m:\u001b[0m unexpected EOF while parsing\n"
     ]
    }
   ],
   "source": [
    "for i in range(1, 100):\n",
    "    if i % 2 == 1:"
   ]
  },
  {
   "cell_type": "markdown",
   "metadata": {},
   "source": [
    "### 연습문제4"
   ]
  },
  {
   "cell_type": "code",
   "execution_count": null,
   "metadata": {},
   "outputs": [],
   "source": [
    "#3.1. 아래와 같이 txt 파일을 만들어라 (open 함수 이용)"
   ]
  },
  {
   "cell_type": "markdown",
   "metadata": {},
   "source": [
    "1. 서울,99.9,중부\n",
    "2. 부산,83.2,남부\n",
    "3. 대구,77.5,남부\n",
    "4. 인천,67.8,중부"
   ]
  },
  {
   "cell_type": "code",
   "execution_count": 72,
   "metadata": {},
   "outputs": [],
   "source": [
    "with open(\"cities.txt\", \"w\") as f:\n",
    "    f.write(\"\"\"1,서울,99.9,중부\n",
    "2,부산,83.2,남부\n",
    "3,대구,77.5,남부\n",
    "4,인천,67.8,중부\n",
    "\"\"\")"
   ]
  },
  {
   "cell_type": "code",
   "execution_count": 73,
   "metadata": {},
   "outputs": [
    {
     "data": {
      "text/plain": [
       "['1,서울,99.9,중부\\n', '2,부산,83.2,남부\\n', '3,대구,77.5,남부\\n', '4,인천,67.8,중부\\n']"
      ]
     },
     "execution_count": 73,
     "metadata": {},
     "output_type": "execute_result"
    }
   ],
   "source": [
    "f = open(\"cities.txt\")\n",
    "f.readlines()"
   ]
  },
  {
   "cell_type": "code",
   "execution_count": null,
   "metadata": {},
   "outputs": [],
   "source": [
    "#3.2. txt 파일을 읽어와 아래와 같은 txt 파일을 만들어라"
   ]
  },
  {
   "cell_type": "markdown",
   "metadata": {},
   "source": [
    "1. 숫자는 반올림\n",
    "2. 중부 : 0, 남부 : 1"
   ]
  },
  {
   "cell_type": "code",
   "execution_count": 97,
   "metadata": {},
   "outputs": [],
   "source": [
    "with open(\"cities.txt\") as f:\n",
    "    with open(\"cities2.txt\", \"w\") as g:\n",
    "        for line in f.readlines():\n",
    "            l = line.split(\",\")\n",
    "            duml = []\n",
    "            duml.append(l[0])\n",
    "            duml.append(round(float(l[2])))\n",
    "            if l[3] == \"중부\\n\": a = 0\n",
    "            else: a = 1\n",
    "            duml.append(a)\n",
    "            duml = list(map(str, duml))\n",
    "            s = \",\".join(duml)\n",
    "            s = s + '\\n'\n",
    "            g.write(s)"
   ]
  },
  {
   "cell_type": "code",
   "execution_count": 98,
   "metadata": {
    "scrolled": true
   },
   "outputs": [
    {
     "data": {
      "text/plain": [
       "['1,100,0\\n', '2,83,1\\n', '3,78,1\\n', '4,68,0\\n']"
      ]
     },
     "execution_count": 98,
     "metadata": {},
     "output_type": "execute_result"
    }
   ],
   "source": [
    "f = open(\"cities2.txt\")\n",
    "f.readlines()"
   ]
  },
  {
   "cell_type": "code",
   "execution_count": 28,
   "metadata": {},
   "outputs": [
    {
     "data": {
      "text/plain": [
       "str"
      ]
     },
     "execution_count": 28,
     "metadata": {},
     "output_type": "execute_result"
    }
   ],
   "source": [
    "k = [1, 39, 0] # int -> str 변환\n",
    "k = list(map(str, k)) # map object로 변환되므로 list로 다시 설정.\n",
    "type(k[0])"
   ]
  },
  {
   "cell_type": "code",
   "execution_count": 47,
   "metadata": {},
   "outputs": [
    {
     "data": {
      "text/plain": [
       "'1,39,0'"
      ]
     },
     "execution_count": 47,
     "metadata": {},
     "output_type": "execute_result"
    }
   ],
   "source": [
    "\",\".join(k)"
   ]
  },
  {
   "cell_type": "code",
   "execution_count": null,
   "metadata": {},
   "outputs": [],
   "source": [
    "s.strip # 자른 모든 것에 대해 strip"
   ]
  },
  {
   "cell_type": "markdown",
   "metadata": {},
   "source": [
    "#### 연습문제5"
   ]
  },
  {
   "cell_type": "markdown",
   "metadata": {},
   "source": [
    "#### 하노이의 탑"
   ]
  },
  {
   "cell_type": "markdown",
   "metadata": {},
   "source": [
    "![](https://www.google.com/url?sa=i&rct=j&q=&esrc=s&source=images&cd=&ved=2ahUKEwiyyLngrO_gAhURxYsBHYgcAc4QjRx6BAgBEAU&url=https%3A%2F%2Fcarstart.tistory.com%2F20&psig=AOvVaw1C0UDg34RCzc5jX-ShTsXL&ust=1552024715110736)\n",
    "\n",
    "1. n-1개 원반셋을 기둥1에서 기둥2로\n",
    "2. n번째 원반을 기둥1에서 기둥3\n",
    "3. n-1개 원반셋을 기둥2에서 기둥3"
   ]
  },
  {
   "cell_type": "code",
   "execution_count": 51,
   "metadata": {},
   "outputs": [],
   "source": [
    "def hanoi(n, o, t): # o : original, t: target\n",
    "    if n == 1:\n",
    "        print(\"{}번째 원반을 기둥{}에서 기둥{}로 옮겨라\".format(n, o, t))\n",
    "        return\n",
    "    hanoi(n-1, o, 6-o-t)\n",
    "    print(\"{}번째 원반을 기둥{}에서 기둥{}로 옮겨라\".format(n, o, t))\n",
    "    hanoi(n-1, 6-o-t, t)"
   ]
  },
  {
   "cell_type": "code",
   "execution_count": 53,
   "metadata": {
    "scrolled": true
   },
   "outputs": [
    {
     "name": "stdout",
     "output_type": "stream",
     "text": [
      "1번째 원반을 기둥1에서 기둥3로 옮겨라\n",
      "2번째 원반을 기둥1에서 기둥2로 옮겨라\n",
      "1번째 원반을 기둥3에서 기둥2로 옮겨라\n",
      "3번째 원반을 기둥1에서 기둥3로 옮겨라\n",
      "1번째 원반을 기둥2에서 기둥1로 옮겨라\n",
      "2번째 원반을 기둥2에서 기둥3로 옮겨라\n",
      "1번째 원반을 기둥1에서 기둥3로 옮겨라\n"
     ]
    }
   ],
   "source": [
    "hanoi(3, 1, 3)"
   ]
  },
  {
   "cell_type": "code",
   "execution_count": null,
   "metadata": {},
   "outputs": [],
   "source": [
    "# 루프 반복 횟수를 체크해볼 수 있는 수단은? 몇 번정도 돌려야 답이 나오는가"
   ]
  },
  {
   "cell_type": "markdown",
   "metadata": {},
   "source": [
    "1. list의 특정 값을 중심으로 값보다 작은 것은 ll에 보내고, 그렇지 않은 것은 rl로 보내자."
   ]
  },
  {
   "cell_type": "code",
   "execution_count": 58,
   "metadata": {},
   "outputs": [],
   "source": [
    "l = [3, 4, 2, 8, 1, 5]"
   ]
  },
  {
   "cell_type": "code",
   "execution_count": 10,
   "metadata": {},
   "outputs": [],
   "source": [
    "cv = l[0]\n",
    "ll = []; rl = []\n",
    "for v in range(1, len(l)):\n",
    "    if l[v] < cv : ll.append(l[v])\n",
    "    else: rl.append(l[v])"
   ]
  },
  {
   "cell_type": "code",
   "execution_count": 11,
   "metadata": {},
   "outputs": [
    {
     "name": "stdout",
     "output_type": "stream",
     "text": [
      "[2] [4, 5, 9, 8]\n"
     ]
    }
   ],
   "source": [
    "print(ll, rl)"
   ]
  },
  {
   "cell_type": "code",
   "execution_count": 75,
   "metadata": {},
   "outputs": [],
   "source": [
    "def qsort(l):\n",
    "    #???\n",
    "    if len(l) == 0: cl = []\n",
    "    else: cl = [l[0]]\n",
    "    ll = []; rl = []\n",
    "    #종료 조건\n",
    "    if len(l) <= 1:\n",
    "        return ll + cl + rl\n",
    "    for i in range(1, len(l)):\n",
    "        if l[i] < cl[0]: ll.append(l[i])\n",
    "        else: rl.append(l[i])\n",
    "    llist = qsort(ll)\n",
    "    rlist = qsort(rl)\n",
    "    return llist + cl + rlist"
   ]
  },
  {
   "cell_type": "code",
   "execution_count": 76,
   "metadata": {},
   "outputs": [
    {
     "data": {
      "text/plain": [
       "[1, 2, 3, 4, 5, 8]"
      ]
     },
     "execution_count": 76,
     "metadata": {},
     "output_type": "execute_result"
    }
   ],
   "source": [
    "qsort(l)"
   ]
  },
  {
   "cell_type": "markdown",
   "metadata": {},
   "source": [
    "#### 연습문제6"
   ]
  },
  {
   "cell_type": "markdown",
   "metadata": {},
   "source": [
    "#### 순차적 탐색\n",
    "- target값을 찾으면 반환"
   ]
  },
  {
   "cell_type": "code",
   "execution_count": 51,
   "metadata": {},
   "outputs": [
    {
     "name": "stdout",
     "output_type": "stream",
     "text": [
      "-1\n"
     ]
    }
   ],
   "source": [
    "target = 13\n",
    "for i in range(len(l)):\n",
    "    if l[i] == target:\n",
    "        print(i)\n",
    "        break\n",
    "    if i == len(l)-1: print(-1)"
   ]
  },
  {
   "cell_type": "code",
   "execution_count": 52,
   "metadata": {},
   "outputs": [],
   "source": [
    "def seqsearch(l, target):\n",
    "    for i in range(len(l)):\n",
    "        if l[i] == target:\n",
    "            return i "
   ]
  },
  {
   "cell_type": "markdown",
   "metadata": {},
   "source": [
    "#### 순차적 탐색2 \n",
    "- target 값이 여러 개 존재한다면 index 전부 반환하도록 만듦"
   ]
  },
  {
   "cell_type": "code",
   "execution_count": 71,
   "metadata": {},
   "outputs": [],
   "source": [
    "def seqsearchall(l, target):\n",
    "    ret = []\n",
    "    isnot = 0\n",
    "    for i in range(len(l)):\n",
    "        if l[i] == target:\n",
    "            ret.append(i)\n",
    "            isnot = 1\n",
    "        elif l[i] > target:\n",
    "            if isnot == 1: return ret\n",
    "            else: return -1\n",
    "    return -1"
   ]
  }
 ],
 "metadata": {
  "kernelspec": {
   "display_name": "Python 3",
   "language": "python",
   "name": "python3"
  },
  "language_info": {
   "codemirror_mode": {
    "name": "ipython",
    "version": 3
   },
   "file_extension": ".py",
   "mimetype": "text/x-python",
   "name": "python",
   "nbconvert_exporter": "python",
   "pygments_lexer": "ipython3",
   "version": "3.5.3"
  }
 },
 "nbformat": 4,
 "nbformat_minor": 2
}
