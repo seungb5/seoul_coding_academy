{
 "cells": [
  {
   "cell_type": "markdown",
   "metadata": {},
   "source": [
    "#### enumerate\n",
    "- 하나의 반복에서 반복의 횟수도 같이 뽑아 냄."
   ]
  },
  {
   "cell_type": "code",
   "execution_count": 1,
   "metadata": {},
   "outputs": [
    {
     "name": "stdout",
     "output_type": "stream",
     "text": [
      "0는 반복 횟수를 나타낸다.\n",
      "2는 ll의 값을 나타낸다.\n",
      "======다음 반복을 시작한다.=====.\n",
      "1는 반복 횟수를 나타낸다.\n",
      "3는 ll의 값을 나타낸다.\n",
      "======다음 반복을 시작한다.=====.\n"
     ]
    }
   ],
   "source": [
    "ll = [2, 3]\n",
    "for i, j in enumerate(ll):\n",
    "    print(\"{}는 반복 횟수를 나타낸다.\".format(i))\n",
    "    print(\"{}는 ll의 값을 나타낸다.\".format(j))\n",
    "    print(\"======다음 반복을 시작한다.=====.\")"
   ]
  },
  {
   "cell_type": "markdown",
   "metadata": {},
   "source": [
    "#### zip"
   ]
  },
  {
   "cell_type": "code",
   "execution_count": 2,
   "metadata": {},
   "outputs": [
    {
     "data": {
      "text/plain": [
       "<zip at 0x1c609c1dd88>"
      ]
     },
     "execution_count": 2,
     "metadata": {},
     "output_type": "execute_result"
    }
   ],
   "source": [
    "l1 = [1, 2, 3]\n",
    "l2 = ['a', 'b', 'c']\n",
    "\n",
    "zip(l1, l2)"
   ]
  },
  {
   "cell_type": "code",
   "execution_count": 4,
   "metadata": {},
   "outputs": [
    {
     "name": "stdout",
     "output_type": "stream",
     "text": [
      "1는 l1의 성분이다.\n",
      "a는 l2의 성분이다.\n",
      "======다음 반복을 시작한다.=====.\n",
      "2는 l1의 성분이다.\n",
      "b는 l2의 성분이다.\n",
      "======다음 반복을 시작한다.=====.\n",
      "3는 l1의 성분이다.\n",
      "c는 l2의 성분이다.\n",
      "======다음 반복을 시작한다.=====.\n"
     ]
    }
   ],
   "source": [
    "for i, j in zip(l1, l2):\n",
    "    print(\"{}는 l1의 성분이다.\".format(i))\n",
    "    print(\"{}는 l2의 성분이다.\".format(j))\n",
    "    print(\"======다음 반복을 시작한다.=====.\")"
   ]
  },
  {
   "cell_type": "code",
   "execution_count": 5,
   "metadata": {},
   "outputs": [
    {
     "data": {
      "text/plain": [
       "{'a': 1, 'b': 2, 'c': 3}"
      ]
     },
     "execution_count": 5,
     "metadata": {},
     "output_type": "execute_result"
    }
   ],
   "source": [
    "l1 = [1, 2, 3]\n",
    "l2 = ['a', 'b', 'c']\n",
    "d = {}\n",
    "for i, j in zip(l1, l2):\n",
    "    d[j] = i\n",
    "d"
   ]
  },
  {
   "cell_type": "code",
   "execution_count": 6,
   "metadata": {},
   "outputs": [],
   "source": [
    "# zip은 dict를 만드는 좋은 도구이다. \n",
    "# 1. 테이블의 column : key, 그에따른 변수들이 value에 해당할 때 사용.\n",
    "# 2. 주로 함수의 이름이 있는 인자(input)를 설정할 때 사용."
   ]
  }
 ],
 "metadata": {
  "kernelspec": {
   "display_name": "Python 3",
   "language": "python",
   "name": "python3"
  },
  "language_info": {
   "codemirror_mode": {
    "name": "ipython",
    "version": 3
   },
   "file_extension": ".py",
   "mimetype": "text/x-python",
   "name": "python",
   "nbconvert_exporter": "python",
   "pygments_lexer": "ipython3",
   "version": "3.5.3"
  }
 },
 "nbformat": 4,
 "nbformat_minor": 2
}
