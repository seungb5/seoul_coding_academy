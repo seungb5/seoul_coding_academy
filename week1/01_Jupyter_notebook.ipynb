{
 "cells": [
  {
   "cell_type": "markdown",
   "metadata": {},
   "source": [
    "# Jupyter notebook"
   ]
  },
  {
   "cell_type": "markdown",
   "metadata": {},
   "source": [
    "- Cell의 종류 : Markdown, code, Raw NBKconvert 등등.\n",
    "- 고급 문서화를 시킬 때 사용.\n",
    "- HTML을 대신할 수 있을만한 형식.\n",
    "- 누구든지 쉽게 웹페이지 만들기 가능."
   ]
  },
  {
   "cell_type": "markdown",
   "metadata": {},
   "source": [
    "## 1. Markdown\n",
    "## 예시)\n",
    "---\n",
    "# Head1\n",
    "## Head2\n",
    "### Head3\n",
    "---\n",
    "#### 1. Index\n",
    "1. index\n",
    "1. \n",
    "1. \n",
    "---\n",
    "#### 2. 인용\n",
    ">인용\n",
    "___\n",
    "#### 3. 수식\n",
    "$$\\int_{i=0}^n\\sin\\ pi x) dx$$\n",
    "---\n",
    "#### 4. 구문표시\n",
    "- 구문 표시\n",
    "---\n",
    "* 구문 표시2\n",
    "---\n",
    "#### 5. 표\n",
    "표 만드는법  \n",
    "|2114|123|  \n",
    "|111|111  \n",
    "___\n",
    "#### 6. 이미지\n",
    "![]()\n",
<<<<<<< HEAD
    "\n",
    "![]()"
   ]
  },
=======
    "\n",  },
>>>>>>> 8f4d9755a7ec3245373c74596a089bbed0fd0ac6
  {
   "cell_type": "markdown",
   "metadata": {},
   "source": [
    "## 2. Code"
   ]
  }
 ],
 "metadata": {
  "kernelspec": {
   "display_name": "Python 3",
   "language": "python",
   "name": "python3"
  },
  "language_info": {
   "codemirror_mode": {
    "name": "ipython",
    "version": 3
   },
   "file_extension": ".py",
   "mimetype": "text/x-python",
   "name": "python",
   "nbconvert_exporter": "python",
   "pygments_lexer": "ipython3",
   "version": "3.7.0"
  }
 },
 "nbformat": 4,
 "nbformat_minor": 2
}
