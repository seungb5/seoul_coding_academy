{
 "cells": [
  {
   "cell_type": "markdown",
   "metadata": {},
   "source": [
    "## for문의 continue\n",
    "- 반복문에서 continue 문장을 만나는 순간, continue 문장 아래의 내용을 실행하지않고, 다음 반복으로 넘어감."
   ]
  },
  {
   "cell_type": "markdown",
   "metadata": {},
   "source": [
    "#### 분리 결합을 통한 정렬 방법"
   ]
  },
  {
   "cell_type": "markdown",
   "metadata": {},
   "source": [
    "- 최솟값을 찾아내는 정렬 방법은 n개의 원소에 대해 $\\cfrac {n(n+1)}{2}$ 번 계산해야한다. 이 방식은 비효율적.  \n",
    "```python\n",
    "for j in range(n):\n",
    "    m = 0\n",
    "    for i in range(len(l)):\n",
    "        if l[i] < l[m]: m = i\n",
    "        sortedl.append(l.pop(m))\n",
    "        print(l, sortedl)\n",
    "```\n",
    "\n",
    "- 효율적인 방식은 quicksort라고 알려진 분리 결합 정렬 방법을 사용할 것."
   ]
  },
  {
   "cell_type": "markdown",
   "metadata": {},
   "source": [
    "#### 재귀함수(recursive function)\n",
    "- 함수 정의부에서 자기 자신을 호출하는 함수\n",
    "```python\n",
    "def f_name(x):\n",
    "    y = ...\n",
    "    f_name(y)\n",
    "    ....\n",
    "    return result\n",
    "```\n",
    "\n",
    ">[예]  \n",
    ">factorial 함수는 재귀적인 특성을 갖는다.  \n",
    ">f(5) = 5 * 4 * 3 * 2 * 1 = 5! = 5 x f(4)"
   ]
  },
  {
   "cell_type": "code",
   "execution_count": 14,
   "metadata": {},
   "outputs": [],
   "source": [
    "def factorial(x):\n",
    "    if x == 1: return 1\n",
    "    else: return x*factorial(x-1)"
   ]
  },
  {
   "cell_type": "code",
   "execution_count": 15,
   "metadata": {},
   "outputs": [
    {
     "data": {
      "text/plain": [
       "120"
      ]
     },
     "execution_count": 15,
     "metadata": {},
     "output_type": "execute_result"
    }
   ],
   "source": [
    "factorial(5)"
   ]
  },
  {
   "cell_type": "markdown",
   "metadata": {},
   "source": [
    "#### 하노이의 탑"
   ]
  },
  {
   "cell_type": "markdown",
   "metadata": {},
   "source": [
    "![](https://www.google.com/url?sa=i&rct=j&q=&esrc=s&source=images&cd=&ved=2ahUKEwiyyLngrO_gAhURxYsBHYgcAc4QjRx6BAgBEAU&url=https%3A%2F%2Fcarstart.tistory.com%2F20&psig=AOvVaw1C0UDg34RCzc5jX-ShTsXL&ust=1552024715110736)\n",
    "\n",
    "1. n-1개 원반셋을 기둥1에서 기둥2로\n",
    "2. n번째 원반을 기둥1에서 기둥3\n",
    "3. n-1개 원반셋을 기둥2에서 기둥3"
   ]
  },
  {
   "cell_type": "code",
   "execution_count": 51,
   "metadata": {},
   "outputs": [],
   "source": [
    "def hanoi(n, o, t): # o : original, t: target\n",
    "    if n == 1:\n",
    "        print(\"{}번째 원반을 기둥{}에서 기둥{}로 옮겨라\".format(n, o, t))\n",
    "        return\n",
    "    hanoi(n-1, o, 6-o-t)\n",
    "    print(\"{}번째 원반을 기둥{}에서 기둥{}로 옮겨라\".format(n, o, t))\n",
    "    hanoi(n-1, 6-o-t, t)"
   ]
  },
  {
   "cell_type": "code",
   "execution_count": 53,
   "metadata": {
    "scrolled": true
   },
   "outputs": [
    {
     "name": "stdout",
     "output_type": "stream",
     "text": [
      "1번째 원반을 기둥1에서 기둥3로 옮겨라\n",
      "2번째 원반을 기둥1에서 기둥2로 옮겨라\n",
      "1번째 원반을 기둥3에서 기둥2로 옮겨라\n",
      "3번째 원반을 기둥1에서 기둥3로 옮겨라\n",
      "1번째 원반을 기둥2에서 기둥1로 옮겨라\n",
      "2번째 원반을 기둥2에서 기둥3로 옮겨라\n",
      "1번째 원반을 기둥1에서 기둥3로 옮겨라\n"
     ]
    }
   ],
   "source": [
    "hanoi(3, 1, 3)"
   ]
  },
  {
   "cell_type": "code",
   "execution_count": null,
   "metadata": {},
   "outputs": [],
   "source": [
    "# 루프 반복 횟수를 체크해볼 수 있는 수단은? 몇 번정도 돌려야 답이 나오는가"
   ]
  },
  {
   "cell_type": "markdown",
   "metadata": {},
   "source": [
    "1. list의 특정 값을 중심으로 값보다 작은 것은 ll에 보내고, 그렇지 않은 것은 rl로 보내자."
   ]
  },
  {
   "cell_type": "code",
   "execution_count": 58,
   "metadata": {},
   "outputs": [],
   "source": [
    "l = [3, 4, 2, 8, 1, 5]"
   ]
  },
  {
   "cell_type": "code",
   "execution_count": 10,
   "metadata": {},
   "outputs": [],
   "source": [
    "cv = l[0]\n",
    "ll = []; rl = []\n",
    "for v in range(1, len(l)):\n",
    "    if l[v] < cv : ll.append(l[v])\n",
    "    else: rl.append(l[v])"
   ]
  },
  {
   "cell_type": "code",
   "execution_count": 11,
   "metadata": {},
   "outputs": [
    {
     "name": "stdout",
     "output_type": "stream",
     "text": [
      "[2] [4, 5, 9, 8]\n"
     ]
    }
   ],
   "source": [
    "print(ll, rl)"
   ]
  },
  {
   "cell_type": "code",
   "execution_count": 75,
   "metadata": {},
   "outputs": [],
   "source": [
    "def qsort(l):\n",
    "    #???\n",
    "    if len(l) == 0: cl = []\n",
    "    else: cl = [l[0]]\n",
    "    ll = []; rl = []\n",
    "    #종료 조건\n",
    "    if len(l) <= 1:\n",
    "        return ll + cl + rl\n",
    "    for i in range(1, len(l)):\n",
    "        if l[i] < cl[0]: ll.append(l[i])\n",
    "        else: rl.append(l[i])\n",
    "    llist = qsort(ll)\n",
    "    rlist = qsort(rl)\n",
    "    return llist + cl + rlist"
   ]
  },
  {
   "cell_type": "code",
   "execution_count": 76,
   "metadata": {},
   "outputs": [
    {
     "data": {
      "text/plain": [
       "[1, 2, 3, 4, 5, 8]"
      ]
     },
     "execution_count": 76,
     "metadata": {},
     "output_type": "execute_result"
    }
   ],
   "source": [
    "qsort(l)"
   ]
  },
  {
   "cell_type": "code",
   "execution_count": null,
   "metadata": {},
   "outputs": [],
   "source": []
  }
 ],
 "metadata": {
  "kernelspec": {
   "display_name": "Python 3",
   "language": "python",
   "name": "python3"
  },
  "language_info": {
   "codemirror_mode": {
    "name": "ipython",
    "version": 3
   },
   "file_extension": ".py",
   "mimetype": "text/x-python",
   "name": "python",
   "nbconvert_exporter": "python",
   "pygments_lexer": "ipython3",
   "version": "3.6.5"
  }
 },
 "nbformat": 4,
 "nbformat_minor": 2
}
