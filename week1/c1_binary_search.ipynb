{
 "cells": [
  {
   "cell_type": "code",
   "execution_count": null,
   "metadata": {},
   "outputs": [],
   "source": [
    "#### 순차 검색"
   ]
  },
  {
   "cell_type": "markdown",
   "metadata": {},
   "source": [
    "정렬된 list에서 값 v가 있으면\n",
    "1. v의 위치 index 리턴\n",
    "2. 없으면 -1 리턴"
   ]
  },
  {
   "cell_type": "markdown",
   "metadata": {},
   "source": [
    "#### binary search\n",
    "- 이분 탐색방법으로 정렬된 자료에서 특정한 값 v가 존재 여부를 찾고, 찾으면 v의 위치(index)반환, 없으면 -1 반환\n",
    "- 정렬된 자료에서 절반을 나누어, 절반에 위치한 자료값으로 비교하여 좌, 우로 탐색함으로써 탐색시간을 n이 아닌 $log2N$으로 줄임"
   ]
  },
  {
   "cell_type": "code",
   "execution_count": null,
   "metadata": {},
   "outputs": [],
   "source": [
    "# search(l, v)\n",
    "l = [1, 2, 3, 4, 5]\n",
    "# 중앙의 요소 len(l) // 2\n",
    "\n",
    "if l[len(l)//2] = v:\n",
    "    return len(l)//2 \n",
    "elif l[k] < v:\n",
    "    search(l[:k], v)\n",
    "else: search(l[k+1],v)"
   ]
  },
  {
   "cell_type": "code",
   "execution_count": 2,
   "metadata": {},
   "outputs": [],
   "source": [
    "import random\n",
    "l = [random.randint(1,100) for _ in range(90)]\n",
    "l.sort()"
   ]
  },
  {
   "cell_type": "code",
   "execution_count": 3,
   "metadata": {},
   "outputs": [],
   "source": [
    "k = len(l) // 2\n",
    "v = 55\n",
    "if l[k] == v:\n",
    "    print(v)\n",
    "elif l[k] < v:\n",
    "    l = l[:k]\n",
    "else:\n",
    "    l = l[k+1:]"
   ]
  },
  {
   "cell_type": "code",
   "execution_count": null,
   "metadata": {},
   "outputs": [],
   "source": [
    "# 생각해보자 ^ ^\n",
    "def search(l, v):\n",
    "    l.sort()\n",
    "    start = 0 ; end = len(l) - 1\n",
    "    k = len(l) // 2\n",
    "    \n",
    "    if l[0] > v: return -1\n",
    "    elif l[0] == v : return 0\n",
    "    elif l[-1] == v: return len(l)-1\n",
    "    elif l[-1] < v : return -1\n",
    "    else: # 만약 아니라면 : 즉, 윗 조건을 초기화하고 새로운 조건 제시 \n",
    "        for i in range(start, end):\n",
    "        \n",
    "    if if l[k] == v:\n",
    "        return k\n",
    "    elif l[k] > v:\n",
    "        search(l[k+1:], v)\n",
    "    else:\n",
    "        search(l[:k], v)\n",
    "    "
   ]
  },
  {
   "cell_type": "code",
   "execution_count": 23,
   "metadata": {},
   "outputs": [
    {
     "ename": "IndentationError",
     "evalue": "unexpected indent (<ipython-input-23-1b09951712e1>, line 10)",
     "output_type": "error",
     "traceback": [
      "\u001b[1;36m  File \u001b[1;32m\"<ipython-input-23-1b09951712e1>\"\u001b[1;36m, line \u001b[1;32m10\u001b[0m\n\u001b[1;33m    return -1\u001b[0m\n\u001b[1;37m    ^\u001b[0m\n\u001b[1;31mIndentationError\u001b[0m\u001b[1;31m:\u001b[0m unexpected indent\n"
     ]
    }
   ],
   "source": [
    "    for i in range(start, end):\n",
    "        if l[k] == v: return k\n",
    "        elif l[k] > v:\n",
    "            search(l[k+1:], v)\n",
    "        elif l[k] < v:\n",
    "            search(l[:k], v)\n",
    "        else:\n",
    "            v in l == False\n",
    "                return -1"
   ]
  },
  {
   "cell_type": "code",
   "execution_count": null,
   "metadata": {},
   "outputs": [],
   "source": [
    "#### 이분법을 이용한 탐색"
   ]
  },
  {
   "cell_type": "code",
   "execution_count": 34,
   "metadata": {},
   "outputs": [
    {
     "ename": "IndentationError",
     "evalue": "unexpected indent (<ipython-input-34-47bef9b2536c>, line 13)",
     "output_type": "error",
     "traceback": [
      "\u001b[1;36m  File \u001b[1;32m\"<ipython-input-34-47bef9b2536c>\"\u001b[1;36m, line \u001b[1;32m13\u001b[0m\n\u001b[1;33m    start = k+1\u001b[0m\n\u001b[1;37m    ^\u001b[0m\n\u001b[1;31mIndentationError\u001b[0m\u001b[1;31m:\u001b[0m unexpected indent\n"
     ]
    }
   ],
   "source": [
    "[1, 2, 3, 4, 5]            # n/2를 계속 더하는 의미 : 작을 땐 빼야하고 + 클 땐 더해야 한다. / 범위를 반으로 나눈다.  0, 50, 100\n",
    "def binary_search(l, v):\n",
    "    l.sort()\n",
    "    start = 0\n",
    "    end = len(l) - 1 \n",
    "    while start < end:\n",
    "        k = (start + end) // 2\n",
    "        if l[k] == v:\n",
    "            return k\n",
    "        elif l[k] > v:\n",
    "            end = k\n",
    "        else: l[k] < v\n",
    "            start = k+1"
   ]
  },
  {
   "cell_type": "code",
   "execution_count": null,
   "metadata": {},
   "outputs": [],
   "source": [
    "#### 이분법을 이용한 탐색 (재귀함수)"
   ]
  },
  {
   "cell_type": "code",
   "execution_count": 116,
   "metadata": {},
   "outputs": [],
   "source": [
    "l = [0, 3, 5, 7, 10]"
   ]
  },
  {
   "cell_type": "markdown",
   "metadata": {},
   "source": [
    "#### Error"
   ]
  },
  {
   "cell_type": "code",
   "execution_count": null,
   "metadata": {},
   "outputs": [],
   "source": [
    "def b2_search(l, v, start, end):\n",
    "    print(\"start = {}, end = {}\".format(start, end))    \n",
    "    if (start-end) == 0:\n",
    "        return -1\n",
    "    k = (start + end) // 2    \n",
    "    if l[k] == v:\n",
    "        return k\n",
    "    elif l[k] > v:\n",
    "        print(l)\n",
    "        b2_search(l, v, start, k)\n",
    "    else:\n",
    "        print(l)\n",
    "        b2_search(l, v, k+1, end)\n",
    "        \n",
    "# 함수에 return을 줘야 제대로 작동한다~"
   ]
  },
  {
   "cell_type": "code",
   "execution_count": 134,
   "metadata": {
    "scrolled": false
   },
   "outputs": [
    {
     "name": "stdout",
     "output_type": "stream",
     "text": [
      "start = 0, end = 5\n",
      "[0, 3, 5, 7, 10]\n",
      "start = 0, end = 2\n",
      "[0, 3, 5, 7, 10]\n",
      "start = 0, end = 1\n",
      "[0, 3, 5, 7, 10]\n",
      "start = 1, end = 1\n"
     ]
    }
   ],
   "source": [
    "b2_search(l, 1, 0, 5)"
   ]
  },
  {
   "cell_type": "markdown",
   "metadata": {},
   "source": [
    "#### sol)"
   ]
  },
  {
   "cell_type": "code",
   "execution_count": 149,
   "metadata": {},
   "outputs": [],
   "source": [
    "def b2_search(l, v, start, end):\n",
    "    print(\"start = {}, end = {}\".format(start, end))    \n",
    "    if start == end:\n",
    "        return -1\n",
    "    k = (start + end) // 2    \n",
    "    if l[k] == v:\n",
    "        return k\n",
    "    elif l[k] > v:\n",
    "        end = k\n",
    "    else:\n",
    "        start = k+1\n",
    "\n",
    "\n",
    "    return b2_search(l, v, start, end) "
   ]
  },
  {
   "cell_type": "code",
   "execution_count": 150,
   "metadata": {
    "scrolled": false
   },
   "outputs": [
    {
     "name": "stdout",
     "output_type": "stream",
     "text": [
      "start = 0, end = 5\n",
      "start = 0, end = 2\n",
      "start = 0, end = 1\n",
      "start = 1, end = 1\n"
     ]
    },
    {
     "data": {
      "text/plain": [
       "-1"
      ]
     },
     "execution_count": 150,
     "metadata": {},
     "output_type": "execute_result"
    }
   ],
   "source": [
    "b2_search(l, 2, 0, 5)"
   ]
  }
 ],
 "metadata": {
  "kernelspec": {
   "display_name": "Python 3",
   "language": "python",
   "name": "python3"
  },
  "language_info": {
   "codemirror_mode": {
    "name": "ipython",
    "version": 3
   },
   "file_extension": ".py",
   "mimetype": "text/x-python",
   "name": "python",
   "nbconvert_exporter": "python",
   "pygments_lexer": "ipython3",
   "version": "3.5.3"
  }
 },
 "nbformat": 4,
 "nbformat_minor": 2
}
