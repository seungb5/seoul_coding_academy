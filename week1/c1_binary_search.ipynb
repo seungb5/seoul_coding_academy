{
 "cells": [
  {
   "cell_type": "code",
   "execution_count": null,
   "metadata": {},
   "outputs": [],
   "source": [
    "#### 순차 검색"
   ]
  },
  {
   "cell_type": "markdown",
   "metadata": {},
   "source": [
    "정렬된 list에서 값 v가 있으면\n",
    "1. v의 위치 index 리턴\n",
    "2. 없으면 -1 리턴"
   ]
  },
  {
   "cell_type": "markdown",
   "metadata": {},
   "source": [
    "#### binary search\n",
    "- 이분 탐색방법으로 정렬된 자료에서 특정한 값 v가 존재 여부를 찾고, 찾으면 v의 위치(index)반환, 없으면 -1 반환\n",
    "- 정렬된 자료에서 절반을 나누어, 절반에 위치한 자료값으로 비교하여 좌, 우로 탐색함으로써 탐색시간을 n이 아닌 $log2N$으로 줄임"
   ]
  },
  {
   "cell_type": "markdown",
   "metadata": {},
   "source": [
    "#### Error"
   ]
  },
  {
   "cell_type": "code",
   "execution_count": 3,
   "metadata": {},
   "outputs": [],
   "source": [
    "l = [1, 3, 5, 6, 8, 10]"
   ]
  },
  {
   "cell_type": "code",
   "execution_count": 7,
   "metadata": {},
   "outputs": [],
   "source": [
    "def b2_search(l, v, start, end):\n",
    "    print(\"start = {}, end = {}\".format(start, end))    \n",
    "    if (start-end) == 0:\n",
    "        return -1\n",
    "    k = (start + end) // 2    \n",
    "    if l[k] == v:\n",
    "        return k\n",
    "    elif l[k] > v:\n",
    "        print(l)\n",
    "        b2_search(l, v, start, k)\n",
    "    else:\n",
    "        print(l)\n",
    "        b2_search(l, v, k+1, end)\n",
    "        \n",
    "# 함수에 return을 줘야 제대로 작동한다~"
   ]
  },
  {
   "cell_type": "code",
   "execution_count": 8,
   "metadata": {
    "scrolled": false
   },
   "outputs": [
    {
     "name": "stdout",
     "output_type": "stream",
     "text": [
      "start = 0, end = 5\n",
      "[1, 3, 5, 6, 8, 10]\n",
      "start = 0, end = 2\n",
      "[1, 3, 5, 6, 8, 10]\n",
      "start = 0, end = 1\n",
      "[1, 3, 5, 6, 8, 10]\n",
      "start = 1, end = 1\n"
     ]
    }
   ],
   "source": [
    "b2_search(l, 2, 0, 5)"
   ]
  },
  {
   "cell_type": "markdown",
   "metadata": {},
   "source": [
    "#### sol)"
   ]
  },
  {
   "cell_type": "code",
   "execution_count": 14,
   "metadata": {},
   "outputs": [],
   "source": [
    "def b2_search(l, v, start, end):\n",
    "    print(\"start = {}, end = {}\".format(start, end))    \n",
    "    if start == end:\n",
    "        return -1\n",
    "    k = (start + end) // 2    \n",
    "    if l[k] == v:\n",
    "        return k\n",
    "    elif l[k] > v:\n",
    "        end = k\n",
    "    else:\n",
    "        start = k+1\n",
    "\n",
    "\n",
    "    return b2_search(l, v, start, end) "
   ]
  },
  {
   "cell_type": "code",
   "execution_count": 15,
   "metadata": {
    "scrolled": false
   },
   "outputs": [
    {
     "name": "stdout",
     "output_type": "stream",
     "text": [
      "start = 0, end = 5\n",
      "start = 0, end = 2\n"
     ]
    },
    {
     "data": {
      "text/plain": [
       "1"
      ]
     },
     "execution_count": 15,
     "metadata": {},
     "output_type": "execute_result"
    }
   ],
   "source": [
    "b2_search(l, 2, 0, 5)"
   ]
  }
 ],
 "metadata": {
  "kernelspec": {
   "display_name": "Python 3",
   "language": "python",
   "name": "python3"
  },
  "language_info": {
   "codemirror_mode": {
    "name": "ipython",
    "version": 3
   },
   "file_extension": ".py",
   "mimetype": "text/x-python",
   "name": "python",
   "nbconvert_exporter": "python",
   "pygments_lexer": "ipython3",
   "version": "3.5.3"
  }
 },
 "nbformat": 4,
 "nbformat_minor": 2
}
