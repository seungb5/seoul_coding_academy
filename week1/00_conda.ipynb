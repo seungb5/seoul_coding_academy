{
 "cells": [
  {
   "cell_type": "markdown",
   "metadata": {},
   "source": [
    "### conda 및 패키지 설치"
   ]
  },
  {
   "cell_type": "markdown",
   "metadata": {},
   "source": [
    "#### conda 설치\n",
    "- 주피터, pandas(데이터 분석 라이브러리), Numpy, matplotlib 설치 필수, + 가상환경 설정  \n",
    "[Conda download](https://www.anaconda.com/distribution/)\n",
    "- windows / mac에 따라 설치\n",
    "- path 경로 추가할 것.(경로 설정을 해줘야 window 터미널에서 바로 실행)\n",
    "![](https://user-images.githubusercontent.com/46778769/54328047-c7cd6c00-464f-11e9-90d9-268606027e8d.png)\n",
    "- 환경 변수에 위 3개 추가.\n",
    "\n",
    "#### conda 설치 후  \n",
    "   \n",
    "conda --version  \n",
    "conda update conda  \n",
    "conda create -n 가상환경 이름 python=파이썬 버전 (-n은 이름을 지어라)  \n",
    "activate 가상환경 이름 / deactivate 가상환경 이름  \n",
    "![](https://user-images.githubusercontent.com/46778769/54328048-c7cd6c00-464f-11e9-8cd8-6919fc293639.png)\n",
    "cf) conda info --envs\t\t설치된 가상환경 리스트    \n",
    "  \n",
    "1. conda install jupyter  \n",
    "2. conda install pandas  (pandas 안에 numpy 있으니까 따로 안설치해도 된다)  \n",
    "3. conda install matplotlib    \n",
    "4. 설치가 잘되었는지 확인하려면 python 실행해서 import 시켜본다   \n",
    "\n",
    "*해당 주소로 설치하면 python3.7.1로 깔리는데, 이로인해 jupyter notebook 실행 시 메모장이 켜지는 참사가 발생함.*  \n",
    "*해결 방법을 찾게되면 여기다가 추가 합시당. ㅎㅎㅎㅎ*  \n",
    "*가상환경 구축 : python 3.5로 만들고 거기서 주피터 실행해보자* "
   ]
  },
  {
   "cell_type": "code",
   "execution_count": null,
   "metadata": {},
   "outputs": [],
   "source": []
  }
 ],
 "metadata": {
  "kernelspec": {
   "display_name": "Python 3",
   "language": "python",
   "name": "python3"
  },
  "language_info": {
   "codemirror_mode": {
    "name": "ipython",
    "version": 3
   },
   "file_extension": ".py",
   "mimetype": "text/x-python",
   "name": "python",
   "nbconvert_exporter": "python",
   "pygments_lexer": "ipython3",
   "version": "3.5.3"
  }
 },
 "nbformat": 4,
 "nbformat_minor": 2
}
