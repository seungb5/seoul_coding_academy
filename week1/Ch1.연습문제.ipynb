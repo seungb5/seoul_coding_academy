{
 "cells": [
  {
   "cell_type": "markdown",
   "metadata": {},
   "source": [
    "#### Week1 : Python 기본 문법\n",
    "- 목표 : 결과값 구현, 배웠던 것들 이해 & 활용하기. (참고 가능)\n",
    "- 제한 시간 : 없음\n",
    "\n",
    ">결과값을 나타내는 해결 방법이 전부 다를 수 있습니당. 정답은 참고용으로만 쓰세요!!  \n",
    "혹시라도 잘못된 부분이나 더 나은 방법이 있다면 언제든지 공유해요"
   ]
  },
  {
   "cell_type": "markdown",
   "metadata": {},
   "source": [
    "#### Q.1 Jupyter notebook Markdown\n",
    "- Markdown을 사용하여 아래의 결과를 나타낼 것.\n",
    "```python\n",
    "# markdown에 정답을 입력하세요\n",
    "```"
   ]
  },
  {
   "cell_type": "markdown",
   "metadata": {},
   "source": [
    "# head1\n",
    "## head2\n",
    "[]()\n",
    "![]()\n",
    "$\\sin$"
   ]
  },
  {
   "cell_type": "markdown",
   "metadata": {},
   "source": [
    "# Head1  \n",
    "\n",
    "## Head2  \n",
    "\n",
    "[URL]()  \n",
    "\n",
    "![사진첨부]()  \n",
    "\n",
    "$\\sin(x)$ "
   ]
  },
  {
   "cell_type": "markdown",
   "metadata": {},
   "source": [
    "```python\n",
    "def ggegege\n",
    "```"
   ]
  },
  {
   "cell_type": "markdown",
   "metadata": {},
   "source": [
    "```python\n",
    "# markdown에서 python code 인용\n",
    "def ex1():\n",
    "    for i in range(100):\n",
    "        print(i)\n",
    "```"
   ]
  },
  {
   "cell_type": "markdown",
   "metadata": {},
   "source": [
    "#### Q.2 python 기본 연습 문제"
   ]
  },
  {
   "cell_type": "code",
   "execution_count": 7,
   "metadata": {},
   "outputs": [
    {
     "name": "stdout",
     "output_type": "stream",
     "text": [
      "5.5을 2로 나눈 몫은2이고, 나머지는 0.75이다.\n"
     ]
    }
   ],
   "source": [
    "# 2.1. 5.5를 2로 나누고 몫과 나머지를 구하라."
   ]
  },
  {
   "cell_type": "code",
   "execution_count": 29,
   "metadata": {},
   "outputs": [],
   "source": [
    "# 2.2. sin(pi/2)를 구하라."
   ]
  },
  {
   "cell_type": "markdown",
   "metadata": {},
   "source": [
    "```python\n",
    "sin(pi/2) == 1\n",
    "```"
   ]
  },
  {
   "cell_type": "code",
   "execution_count": 40,
   "metadata": {},
   "outputs": [
    {
     "data": {
      "text/plain": [
       "3"
      ]
     },
     "execution_count": 40,
     "metadata": {},
     "output_type": "execute_result"
    }
   ],
   "source": [
    "# 2.3. round(2.9), math floor(2.9), math ceil(2.9)의 차이점?"
   ]
  },
  {
   "cell_type": "code",
   "execution_count": 17,
   "metadata": {},
   "outputs": [],
   "source": [
    "import math"
   ]
  },
  {
   "cell_type": "code",
   "execution_count": 20,
   "metadata": {},
   "outputs": [
    {
     "data": {
      "text/plain": [
       "3"
      ]
     },
     "execution_count": 20,
     "metadata": {},
     "output_type": "execute_result"
    }
   ],
   "source": [
    "round(2.9)"
   ]
  },
  {
   "cell_type": "code",
   "execution_count": 18,
   "metadata": {},
   "outputs": [
    {
     "data": {
      "text/plain": [
       "2"
      ]
     },
     "execution_count": 18,
     "metadata": {},
     "output_type": "execute_result"
    }
   ],
   "source": [
    "math.floor(2.9)"
   ]
  },
  {
   "cell_type": "code",
   "execution_count": 19,
   "metadata": {},
   "outputs": [
    {
     "data": {
      "text/plain": [
       "3"
      ]
     },
     "execution_count": 19,
     "metadata": {},
     "output_type": "execute_result"
    }
   ],
   "source": [
    "math.ceil(2.9)"
   ]
  },
  {
   "cell_type": "markdown",
   "metadata": {},
   "source": [
    "```python\n",
    "2.9의 {}:3, {}:2, {}:3\n",
    "```"
   ]
  },
  {
   "cell_type": "code",
   "execution_count": 20,
   "metadata": {},
   "outputs": [],
   "source": [
    "# 2.4. random()을 이용해서 운수를 알아보자. 0~5 : 보통, 6~10 : 좋음"
   ]
  },
  {
   "cell_type": "code",
   "execution_count": 22,
   "metadata": {},
   "outputs": [
    {
     "data": {
      "text/plain": [
       "10"
      ]
     },
     "execution_count": 22,
     "metadata": {},
     "output_type": "execute_result"
    }
   ],
   "source": [
    "import random\n",
    "random.randint(0, 10)"
   ]
  },
  {
   "cell_type": "code",
   "execution_count": 30,
   "metadata": {},
   "outputs": [
    {
     "name": "stdout",
     "output_type": "stream",
     "text": [
      "좋음\n"
     ]
    }
   ],
   "source": [
    "# cf) list comprehension과 random을 이용한 주간 운수 판별해보기\n",
    "# 7일 동안 매일매일의 랜덤 운수 값을 더한 값이 35보다 크면 좋음, 작으면 나쁨."
   ]
  },
  {
   "cell_type": "markdown",
   "metadata": {},
   "source": [
    "```python\n",
    "def my_luck():\n",
    "my_luck()\n",
    "좋음\n",
    "```"
   ]
  },
  {
   "cell_type": "markdown",
   "metadata": {},
   "source": [
    "#### Q.3. for문\n",
    "- for문 연습하기"
   ]
  },
  {
   "cell_type": "code",
   "execution_count": 24,
   "metadata": {},
   "outputs": [
    {
     "name": "stdout",
     "output_type": "stream",
     "text": [
      "0\n",
      "1\n",
      "2\n",
      "3\n",
      "4\n",
      "5\n",
      "6\n",
      "7\n",
      "8\n",
      "9\n"
     ]
    }
   ],
   "source": [
    "#3.1. range(0,10)에서 i를 하나씩 뽑는 행위를 반복."
   ]
  },
  {
   "cell_type": "markdown",
   "metadata": {},
   "source": [
    "```python\n",
    "0\n",
    "1\n",
    "2\n",
    "3\n",
    "4\n",
    "5\n",
    "6\n",
    "7\n",
    "8\n",
    "9\n",
    "```"
   ]
  },
  {
   "cell_type": "code",
   "execution_count": 160,
   "metadata": {},
   "outputs": [
    {
     "name": "stdout",
     "output_type": "stream",
     "text": [
      "False\n",
      "False\n",
      "False\n",
      "3\n",
      "False\n",
      "False\n",
      "False\n",
      "False\n",
      "False\n",
      "False\n"
     ]
    }
   ],
   "source": [
    "#3.2. range(0,10)에서 만약(if), i == 3이라면 i 출력하고, 아니라면(else) False 출력하기."
   ]
  },
  {
   "cell_type": "markdown",
   "metadata": {},
   "source": [
    "```python\n",
    "False\n",
    "False\n",
    "False\n",
    "3\n",
    "False\n",
    "False\n",
    "False\n",
    "False\n",
    "False\n",
    "False\n",
    "```"
   ]
  },
  {
   "cell_type": "code",
   "execution_count": 32,
   "metadata": {},
   "outputs": [],
   "source": [
    "#3.3. for문을 이용한 알파벳 생성하기."
   ]
  },
  {
   "cell_type": "markdown",
   "metadata": {},
   "source": [
    "```python\n",
    "chr() # 아스키 코드를 문자로 변환 시켜주는 built-in 함수.\n",
    "ord() # 문자를 아스키 코드로 변환 시켜주는 built-in 함수.\n",
    "```"
   ]
  },
  {
   "cell_type": "code",
   "execution_count": 24,
   "metadata": {},
   "outputs": [
    {
     "data": {
      "text/plain": [
       "97"
      ]
     },
     "execution_count": 24,
     "metadata": {},
     "output_type": "execute_result"
    }
   ],
   "source": [
    "ord('a')"
   ]
  },
  {
   "cell_type": "code",
   "execution_count": 29,
   "metadata": {},
   "outputs": [
    {
     "data": {
      "text/plain": [
       "['a',\n",
       " 'b',\n",
       " 'c',\n",
       " 'd',\n",
       " 'e',\n",
       " 'f',\n",
       " 'g',\n",
       " 'h',\n",
       " 'i',\n",
       " 'j',\n",
       " 'k',\n",
       " 'l',\n",
       " 'm',\n",
       " 'n',\n",
       " 'o',\n",
       " 'p',\n",
       " 'q',\n",
       " 'r',\n",
       " 's',\n",
       " 't',\n",
       " 'u',\n",
       " 'v',\n",
       " 'w',\n",
       " 'x',\n",
       " 'y',\n",
       " 'z']"
      ]
     },
     "execution_count": 29,
     "metadata": {},
     "output_type": "execute_result"
    }
   ],
   "source": [
    "abc = []\n",
    "for i in range(26):\n",
    "    b = chr(ord('a') + i)\n",
    "    abc.append(b)\n",
    "abc"
   ]
  },
  {
   "cell_type": "code",
   "execution_count": 27,
   "metadata": {},
   "outputs": [],
   "source": [
    "#3.4.1 100보다 작은 홀수 만들기\n",
    "# range만 사용한 문제"
   ]
  },
  {
   "cell_type": "code",
   "execution_count": 38,
   "metadata": {},
   "outputs": [
    {
     "name": "stdout",
     "output_type": "stream",
     "text": [
      "[1, 3, 5, 7, 9, 11, 13, 15, 17, 19, 21, 23, 25, 27, 29, 31, 33, 35, 37, 39, 41, 43, 45, 47, 49, 51, 53, 55, 57, 59, 61, 63, 65, 67, 69, 71, 73, 75, 77, 79, 81, 83, 85, 87, 89, 91, 93, 95, 97, 99]\n"
     ]
    }
   ],
   "source": [
    "odd_number1(100)"
   ]
  },
  {
   "cell_type": "code",
   "execution_count": 260,
   "metadata": {},
   "outputs": [],
   "source": [
    "#3.4.1 100보다 작은 홀수 만들기\n",
    "# 조건문과 함께 이용."
   ]
  },
  {
   "cell_type": "code",
   "execution_count": 261,
   "metadata": {},
   "outputs": [
    {
     "name": "stdout",
     "output_type": "stream",
     "text": [
      "[1, 3, 5, 7, 9, 11, 13, 15, 17, 19, 21, 23, 25, 27, 29, 31, 33, 35, 37, 39, 41, 43, 45, 47, 49, 51, 53, 55, 57, 59, 61, 63, 65, 67, 69, 71, 73, 75, 77, 79, 81, 83, 85, 87, 89, 91, 93, 95, 97, 99]\n"
     ]
    }
   ],
   "source": [
    "odd_number2(100)"
   ]
  },
  {
   "cell_type": "markdown",
   "metadata": {},
   "source": [
    "- 위의 두 결과물은 같지만 연산 과정은 위가 훨씬 간단함.\n",
    "- 필요한 것만 뽑는 의미와 전체를 두고 비교하면서 출력하는 차이를 이해해야 함."
   ]
  },
  {
   "cell_type": "code",
   "execution_count": 45,
   "metadata": {},
   "outputs": [
    {
     "data": {
      "text/plain": [
       "[1, 2, 3, 4, 5, 6, 7, 8, 9]"
      ]
     },
     "execution_count": 45,
     "metadata": {},
     "output_type": "execute_result"
    }
   ],
   "source": [
    "# 3.5. for문 list에 담기"
   ]
  },
  {
   "cell_type": "markdown",
   "metadata": {},
   "source": [
    "```python\n",
    "[1, 2, 3, 4, 5, 6, 7, 8, 9]\n",
    "```"
   ]
  },
  {
   "cell_type": "code",
   "execution_count": 46,
   "metadata": {},
   "outputs": [
    {
     "data": {
      "text/plain": [
       "[[0, 1, 2, 3, 4, 5, 6, 7, 8, 9],\n",
       " [10, 11, 12, 13, 14, 15, 16, 17, 18, 19],\n",
       " [20, 21, 22, 23, 24, 25, 26, 27, 28, 29],\n",
       " [30, 31, 32, 33, 34, 35, 36, 37, 38, 39],\n",
       " [40, 41, 42, 43, 44, 45, 46, 47, 48, 49],\n",
       " [50, 51, 52, 53, 54, 55, 56, 57, 58, 59],\n",
       " [60, 61, 62, 63, 64, 65, 66, 67, 68, 69],\n",
       " [70, 71, 72, 73, 74, 75, 76, 77, 78, 79],\n",
       " [80, 81, 82, 83, 84, 85, 86, 87, 88, 89],\n",
       " [90, 91, 92, 93, 94, 95, 96, 97, 98, 99]]"
      ]
     },
     "execution_count": 46,
     "metadata": {},
     "output_type": "execute_result"
    }
   ],
   "source": [
    "# 3.6. 0부터 99까지 10*10 행렬 형태의 list 만들기"
   ]
  },
  {
   "cell_type": "markdown",
   "metadata": {},
   "source": [
    "```python\n",
    "[[0, 1, 2, 3, 4, 5, 6, 7, 8, 9],\n",
    " [10, 11, 12, 13, 14, 15, 16, 17, 18, 19],\n",
    " [20, 21, 22, 23, 24, 25, 26, 27, 28, 29],\n",
    " [30, 31, 32, 33, 34, 35, 36, 37, 38, 39],\n",
    " [40, 41, 42, 43, 44, 45, 46, 47, 48, 49],\n",
    " [50, 51, 52, 53, 54, 55, 56, 57, 58, 59],\n",
    " [60, 61, 62, 63, 64, 65, 66, 67, 68, 69],\n",
    " [70, 71, 72, 73, 74, 75, 76, 77, 78, 79],\n",
    " [80, 81, 82, 83, 84, 85, 86, 87, 88, 89],\n",
    " [90, 91, 92, 93, 94, 95, 96, 97, 98, 99]]\n",
    "```"
   ]
  },
  {
   "cell_type": "code",
   "execution_count": 42,
   "metadata": {},
   "outputs": [
    {
     "data": {
      "text/plain": [
       "[1,\n",
       " 2,\n",
       " 3,\n",
       " 4,\n",
       " 5,\n",
       " 6,\n",
       " 7,\n",
       " 8,\n",
       " 9,\n",
       " 2,\n",
       " 4,\n",
       " 6,\n",
       " 8,\n",
       " 10,\n",
       " 12,\n",
       " 14,\n",
       " 16,\n",
       " 18,\n",
       " 3,\n",
       " 6,\n",
       " 9,\n",
       " 12,\n",
       " 15,\n",
       " 18,\n",
       " 21,\n",
       " 24,\n",
       " 27,\n",
       " 4,\n",
       " 8,\n",
       " 12,\n",
       " 16,\n",
       " 20,\n",
       " 24,\n",
       " 28,\n",
       " 32,\n",
       " 36,\n",
       " 5,\n",
       " 10,\n",
       " 15,\n",
       " 20,\n",
       " 25,\n",
       " 30,\n",
       " 35,\n",
       " 40,\n",
       " 45,\n",
       " 6,\n",
       " 12,\n",
       " 18,\n",
       " 24,\n",
       " 30,\n",
       " 36,\n",
       " 42,\n",
       " 48,\n",
       " 54,\n",
       " 7,\n",
       " 14,\n",
       " 21,\n",
       " 28,\n",
       " 35,\n",
       " 42,\n",
       " 49,\n",
       " 56,\n",
       " 63,\n",
       " 8,\n",
       " 16,\n",
       " 24,\n",
       " 32,\n",
       " 40,\n",
       " 48,\n",
       " 56,\n",
       " 64,\n",
       " 72,\n",
       " 9,\n",
       " 18,\n",
       " 27,\n",
       " 36,\n",
       " 45,\n",
       " 54,\n",
       " 63,\n",
       " 72,\n",
       " 81]"
      ]
     },
     "execution_count": 42,
     "metadata": {},
     "output_type": "execute_result"
    }
   ],
   "source": [
    "# 3.7. 구구단 만들기"
   ]
  },
  {
   "cell_type": "code",
   "execution_count": 41,
   "metadata": {},
   "outputs": [
    {
     "data": {
      "text/plain": [
       "[[1, 2, 3, 4, 5, 6, 7, 8, 9],\n",
       " [2, 4, 6, 8, 10, 12, 14, 16, 18],\n",
       " [3, 6, 9, 12, 15, 18, 21, 24, 27],\n",
       " [4, 8, 12, 16, 20, 24, 28, 32, 36],\n",
       " [5, 10, 15, 20, 25, 30, 35, 40, 45],\n",
       " [6, 12, 18, 24, 30, 36, 42, 48, 54],\n",
       " [7, 14, 21, 28, 35, 42, 49, 56, 63],\n",
       " [8, 16, 24, 32, 40, 48, 56, 64, 72],\n",
       " [9, 18, 27, 36, 45, 54, 63, 72, 81]]"
      ]
     },
     "execution_count": 41,
     "metadata": {},
     "output_type": "execute_result"
    }
   ],
   "source": [
    "# 3.7. 10 * 10 행렬로 구구단 만들기"
   ]
  },
  {
   "cell_type": "markdown",
   "metadata": {},
   "source": [
    "```python\n",
    "[[1, 2, 3, 4, 5, 6, 7, 8, 9],\n",
    " [2, 4, 6, 8, 10, 12, 14, 16, 18],\n",
    " [3, 6, 9, 12, 15, 18, 21, 24, 27],\n",
    " [4, 8, 12, 16, 20, 24, 28, 32, 36],\n",
    " [5, 10, 15, 20, 25, 30, 35, 40, 45],\n",
    " [6, 12, 18, 24, 30, 36, 42, 48, 54],\n",
    " [7, 14, 21, 28, 35, 42, 49, 56, 63],\n",
    " [8, 16, 24, 32, 40, 48, 56, 64, 72],\n",
    " [9, 18, 27, 36, 45, 54, 63, 72, 81]]\n",
    "```"
   ]
  },
  {
   "cell_type": "code",
   "execution_count": 39,
   "metadata": {},
   "outputs": [
    {
     "data": {
      "text/plain": [
       "{1: [1, 2, 3, 4, 5, 6, 7, 8, 9],\n",
       " 2: [2, 4, 6, 8, 10, 12, 14, 16, 18],\n",
       " 3: [3, 6, 9, 12, 15, 18, 21, 24, 27],\n",
       " 4: [4, 8, 12, 16, 20, 24, 28, 32, 36],\n",
       " 5: [5, 10, 15, 20, 25, 30, 35, 40, 45],\n",
       " 6: [6, 12, 18, 24, 30, 36, 42, 48, 54],\n",
       " 7: [7, 14, 21, 28, 35, 42, 49, 56, 63],\n",
       " 8: [8, 16, 24, 32, 40, 48, 56, 64, 72],\n",
       " 9: [9, 18, 27, 36, 45, 54, 63, 72, 81]}"
      ]
     },
     "execution_count": 39,
     "metadata": {},
     "output_type": "execute_result"
    }
   ],
   "source": [
    "# 3.7. dict로 구구단 단 별로 나누기."
   ]
  },
  {
   "cell_type": "markdown",
   "metadata": {},
   "source": [
    "```python\n",
    "{1: [1, 2, 3, 4, 5, 6, 7, 8, 9],\n",
    " 2: [2, 4, 6, 8, 10, 12, 14, 16, 18],\n",
    " 3: [3, 6, 9, 12, 15, 18, 21, 24, 27],\n",
    " 4: [4, 8, 12, 16, 20, 24, 28, 32, 36],\n",
    " 5: [5, 10, 15, 20, 25, 30, 35, 40, 45],\n",
    " 6: [6, 12, 18, 24, 30, 36, 42, 48, 54],\n",
    " 7: [7, 14, 21, 28, 35, 42, 49, 56, 63],\n",
    " 8: [8, 16, 24, 32, 40, 48, 56, 64, 72],\n",
    " 9: [9, 18, 27, 36, 45, 54, 63, 72, 81]}\n",
    "```"
   ]
  },
  {
   "cell_type": "markdown",
   "metadata": {},
   "source": [
    "#### Q4. Sorting(정렬)"
   ]
  },
  {
   "cell_type": "code",
   "execution_count": 55,
   "metadata": {},
   "outputs": [],
   "source": [
    "# 4.1.기본 Sorting"
   ]
  },
  {
   "cell_type": "markdown",
   "metadata": {},
   "source": [
    "```python\n",
    "[1, 2, 3, 5, 6, 7, 8, 9] # copy() :\n",
    "l = [1, 2, 3, 5, 6, 7, 8, 9] # reference :\n",
    "```"
   ]
  },
  {
   "cell_type": "code",
   "execution_count": 60,
   "metadata": {},
   "outputs": [
    {
     "name": "stdout",
     "output_type": "stream",
     "text": [
      "l의 최댓값은 5, 최솟값은 1이다.\n"
     ]
    }
   ],
   "source": [
    "# 4.2. Sorting을 이용한 최대 최솟값 구하기"
   ]
  },
  {
   "cell_type": "code",
   "execution_count": 30,
   "metadata": {},
   "outputs": [
    {
     "data": {
      "text/plain": [
       "3"
      ]
     },
     "execution_count": 30,
     "metadata": {},
     "output_type": "execute_result"
    }
   ],
   "source": [
    "l = [3, 4, 1, 2, 9]\n",
    "l[0]"
   ]
  },
  {
   "cell_type": "code",
   "execution_count": 340,
   "metadata": {
    "scrolled": true
   },
   "outputs": [
    {
     "name": "stdout",
     "output_type": "stream",
     "text": [
      "[3, 6, 7, 9, 2, 8, 5] [1]\n",
      "[3, 6, 7, 9, 8, 5] [1, 2]\n",
      "[6, 7, 9, 8, 5] [1, 2, 3]\n",
      "[6, 7, 9, 8] [1, 2, 3, 5]\n",
      "[7, 9, 8] [1, 2, 3, 5, 6]\n",
      "[9, 8] [1, 2, 3, 5, 6, 7]\n",
      "[9] [1, 2, 3, 5, 6, 7, 8]\n",
      "[] [1, 2, 3, 5, 6, 7, 8, 9]\n"
     ]
    }
   ],
   "source": []
  },
  {
   "cell_type": "code",
   "execution_count": 296,
   "metadata": {
    "scrolled": true
   },
   "outputs": [
    {
     "name": "stdout",
     "output_type": "stream",
     "text": [
      "[3, 6, 7, 9, 2, 8, 5] [1]\n",
      "[3, 6, 7, 9, 8, 5] [1, 2]\n",
      "[6, 7, 9, 8, 5] [1, 2, 3]\n",
      "[6, 7, 9, 8] [1, 2, 3, 5]\n",
      "[7, 9, 8] [1, 2, 3, 5, 6]\n",
      "[9, 8] [1, 2, 3, 5, 6, 7]\n",
      "[9] [1, 2, 3, 5, 6, 7, 8]\n",
      "[] [1, 2, 3, 5, 6, 7, 8, 9]\n"
     ]
    }
   ],
   "source": []
  },
  {
   "cell_type": "code",
   "execution_count": 300,
   "metadata": {},
   "outputs": [
    {
     "data": {
      "text/plain": [
       "{'a': 1, 'b': 2, 'c': 3}"
      ]
     },
     "execution_count": 300,
     "metadata": {},
     "output_type": "execute_result"
    }
   ],
   "source": [
    "# zip 응용 : dict 만들기\n",
    "\n",
    "l1 = [1, 2, 3]\n",
    "l2 = ['a', 'b', 'c']\n",
    "d = {}\n",
    "for i, j in zip(l1, l2):\n",
    "    d[j] = i\n",
    "d"
   ]
  },
  {
   "cell_type": "markdown",
   "metadata": {},
   "source": [
    "```python\n",
    "{'a': 1, 'b': 2, 'c': 3}\n",
    "```"
   ]
  }
 ],
 "metadata": {
  "kernelspec": {
   "display_name": "Python 3",
   "language": "python",
   "name": "python3"
  },
  "language_info": {
   "codemirror_mode": {
    "name": "ipython",
    "version": 3
   },
   "file_extension": ".py",
   "mimetype": "text/x-python",
   "name": "python",
   "nbconvert_exporter": "python",
   "pygments_lexer": "ipython3",
   "version": "3.5.3"
  }
 },
 "nbformat": 4,
 "nbformat_minor": 2
}
