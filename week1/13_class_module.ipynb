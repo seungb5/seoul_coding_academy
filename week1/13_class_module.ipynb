{
 "cells": [
  {
   "cell_type": "markdown",
   "metadata": {},
   "source": [
    "## class와 객체"
   ]
  },
  {
   "cell_type": "markdown",
   "metadata": {},
   "source": [
    "- python으로 '생성한' 모든 것은 객체이다.\n",
    "```python\n",
    "3 # 3을 실행하면 3이 생성이 되고 객체(integer)가 된다.\n",
    "'3' # '3'을 실행하면 '3'이 생성되고 객체(string)이 된다.\n",
    "```\n",
    "- class : 틀, 거푸집 : 즉, 객체를 담고 있는 틀, 거푸집이 class.\n",
    "- python 내부 class의 원본을 뜯을 일이 없다면 class 건들 일 일이 없음."
   ]
  },
  {
   "cell_type": "markdown",
   "metadata": {},
   "source": [
    "\n",
    "```python\n",
    "# myclass.py\n",
    "\n",
    "class MyClass:\n",
    "    def _init_(self,) # __붙으면 .tap 으로 호출 불가능. 숨겨진 함수\n",
    "```"
   ]
  },
  {
   "cell_type": "code",
   "execution_count": 2,
   "metadata": {},
   "outputs": [],
   "source": [
    "# 머신러닝할 때 사용할 일이 있을 듯.`"
   ]
  },
  {
   "cell_type": "markdown",
   "metadata": {},
   "source": [
    "## module"
   ]
  },
  {
   "cell_type": "markdown",
   "metadata": {},
   "source": [
    "- python 기본 모듈 불러오기\n",
    "\n",
    "```python\n",
    "\n",
    "import sys\n",
    "import os as window\n",
    "from math import sqrt, pi # sqrt, pi만 모듈명 없이 사용. 즉, 필요한 함수만 골라서 사용 why? 다 부르면 메모리 낭비\n",
    "from random import * # 모든 변수, 함수 모듈명 없이 사용\n",
    "```"
   ]
  },
  {
   "cell_type": "markdown",
   "metadata": {},
   "source": [
    "- prototype만들 때는 import 다 불러서 만듦. 상용적으로 다시 만들어낼 때는 사용했던 것만 따로 불러서 사용할 것. (메모리 절약)"
   ]
  },
  {
   "cell_type": "markdown",
   "metadata": {},
   "source": [
    "- 협업 시 각 포지션별 예외적 처리, 서로 간의 협의된 내용에 대해 지속적으로 수정하게되는 경우\n",
    "\n",
    "```python\n",
    "\n",
    "import myclass as mc\n",
    "\n",
    "import imp\n",
    "imp.reload(mc) # 실행환경에 따라 소스의 변경이 반영되지 않을 수 있음. 명시적으로 다시 부르는 방법.\n",
    "\n",
    "```"
   ]
  },
  {
   "cell_type": "markdown",
   "metadata": {},
   "source": [
    "- [python 제공 모듈](https://docs.python.org/3/library/index.html)"
   ]
  }
 ],
 "metadata": {
  "kernelspec": {
   "display_name": "Python 3",
   "language": "python",
   "name": "python3"
  },
  "language_info": {
   "codemirror_mode": {
    "name": "ipython",
    "version": 3
   },
   "file_extension": ".py",
   "mimetype": "text/x-python",
   "name": "python",
   "nbconvert_exporter": "python",
   "pygments_lexer": "ipython3",
   "version": "3.6.5"
  }
 },
 "nbformat": 4,
 "nbformat_minor": 2
}
