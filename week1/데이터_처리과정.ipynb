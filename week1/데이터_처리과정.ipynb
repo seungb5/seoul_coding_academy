{
 "cells": [
  {
   "cell_type": "markdown",
   "metadata": {},
   "source": [
    "# 데이터 처리 과정"
   ]
  },
  {
   "cell_type": "markdown",
   "metadata": {},
   "source": [
    "## 컴퓨터 하드웨어 구성과 데이터 처리"
   ]
  },
  {
   "cell_type": "markdown",
   "metadata": {},
   "source": [
    "- CPU, RAM, HDD, GPU\n",
    "1. CPU : 연산 처리 장치 \n",
    "2. RAM : 메모리 저장 장치\n",
    "3. HDD : 파일 저장 장치"
   ]
  },
  {
   "cell_type": "markdown",
   "metadata": {},
   "source": [
    "- HW : raw data(HDD) - 메모리 수집(RAM) - 연산처리(CPU) / HDD or display\n",
    "- cf) SW(Python) : Script - Interpreter(Kernel) - 기계어 - CPU 연산 - Console"
   ]
  },
  {
   "cell_type": "markdown",
   "metadata": {},
   "source": [
    "___"
   ]
  },
  {
   "cell_type": "markdown",
   "metadata": {},
   "source": [
    "## 머신러닝  \n",
    "- 처리 과정 : python 기본 이해 - raw data 처리(전처리) - cleaned data 모델링(복잡한 함수, 알고리즘) - 결과 산출\n",
    "- 머신러닝 모델링 : 간단 | 딥러닝 모델링 : 매우 복잡(처리 과정을 알 수 없기에 블랙박스라고 불림)"
   ]
  },
  {
   "cell_type": "markdown",
   "metadata": {},
   "source": [
    "___"
   ]
  },
  {
   "cell_type": "markdown",
   "metadata": {},
   "source": [
    "# Github\n",
    "- 소스코드 버전관리 프로그램, Brach 이용 분기별 관리 가능"
   ]
  }
 ],
 "metadata": {
  "kernelspec": {
   "display_name": "Python 3",
   "language": "python",
   "name": "python3"
  },
  "language_info": {
   "codemirror_mode": {
    "name": "ipython",
    "version": 3
   },
   "file_extension": ".py",
   "mimetype": "text/x-python",
   "name": "python",
   "nbconvert_exporter": "python",
   "pygments_lexer": "ipython3",
   "version": "3.7.0"
  }
 },
 "nbformat": 4,
 "nbformat_minor": 2
}
