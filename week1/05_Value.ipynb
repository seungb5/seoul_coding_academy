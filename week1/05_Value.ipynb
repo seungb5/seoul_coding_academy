{
 "cells": [
  {
   "cell_type": "markdown",
   "metadata": {},
   "source": [
    "# 05_Value(reference)\n",
    "- 변수는 '실체'를 가리키는 화살표이다."
   ]
  },
  {
   "cell_type": "code",
   "execution_count": 5,
   "metadata": {},
   "outputs": [],
   "source": [
    "a = 1 # 1이라는 실체, 그리고 실체를 가리키는 변수인 a"
   ]
  },
  {
   "cell_type": "code",
   "execution_count": 6,
   "metadata": {},
   "outputs": [],
   "source": [
    "a = 2 # 변수가 가리키는 1이라는 실체가 사라지고 2란 실체가 만들어짐."
   ]
  },
  {
   "cell_type": "markdown",
   "metadata": {},
   "source": [
    "## 변수의 생성 조건 \n",
    "- alphabet으로 시작하거나, \\_로 시작 가능.\n",
    "- 영문자와 \\_숫자 조합으로만 명명할 수 있다.\n",
    "- 영문자의 대소문자는 구분된다.\n",
    "- 예약어를 사용할 수 없다. ex) True, False, sum"
   ]
  },
  {
   "cell_type": "code",
   "execution_count": null,
   "metadata": {},
   "outputs": [],
   "source": []
  }
 ],
 "metadata": {
  "kernelspec": {
   "display_name": "Python 3",
   "language": "python",
   "name": "python3"
  },
  "language_info": {
   "codemirror_mode": {
    "name": "ipython",
    "version": 3
   },
   "file_extension": ".py",
   "mimetype": "text/x-python",
   "name": "python",
   "nbconvert_exporter": "python",
   "pygments_lexer": "ipython3",
   "version": "3.6.5"
  }
 },
 "nbformat": 4,
 "nbformat_minor": 2
}
