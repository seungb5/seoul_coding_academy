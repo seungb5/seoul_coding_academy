{
 "cells": [
  {
   "cell_type": "markdown",
   "metadata": {},
   "source": [
    "## 파일 loading\n",
    "- csv : csv 파일을 읽을 수 있음. ','로 구분되어 진다.\n",
    "- table : tap, \\t\n",
    "- json : json\n",
    "- fwf : fixed width format, 형식이 정해져 있는 데이터의 형태를 말함. ex) name : 10자리, age : 3자리 형태\n",
    "- clipboard : clipboard data : 실수할 수 있으니 지양"
   ]
  },
  {
   "cell_type": "markdown",
   "metadata": {},
   "source": [
    "- names : col_name을 지정하는 역할, 따로 설정안할 시 header = 0에 의해 첫 레코드가 지정됨.\n",
    "- index_col :\n",
    "- header = 0, 첫 레코드가 column_name일 때"
   ]
  },
  {
   "cell_type": "code",
   "execution_count": null,
   "metadata": {},
   "outputs": [],
   "source": []
  }
 ],
 "metadata": {
  "kernelspec": {
   "display_name": "Python 3",
   "language": "python",
   "name": "python3"
  },
  "language_info": {
   "codemirror_mode": {
    "name": "ipython",
    "version": 3
   },
   "file_extension": ".py",
   "mimetype": "text/x-python",
   "name": "python",
   "nbconvert_exporter": "python",
   "pygments_lexer": "ipython3",
   "version": "3.5.3"
  }
 },
 "nbformat": 4,
 "nbformat_minor": 2
}
