{
 "cells": [
  {
   "cell_type": "markdown",
   "metadata": {},
   "source": [
    "# Preview\n",
    "## Data의 원천(온라인)\n",
    "#### 1. web\n",
    "#### 2. 파일\n",
    "#### 3. 앱 / 서버\n",
    "#### 4. DB\n",
    "___\n",
    "#### 1. Web\n",
    "- Web data : html(findall), Data(JSON,XML(identify), \n",
    "- html, xml : getroot(), element 등으로 뿌리와 나무를 뽑아내서 사용하였음.\n",
    "\n",
    "#### 2. 파일\n",
    "- , :: | 등의 구분자로 구분된 data의 통칭\n",
    "- 압축된 파일을 그대로 읽어올 수 있다.\n",
    "- read_csv(comma seperate value), read_table(tab), \n",
    "- Excel \n",
    "- JSON\n",
    "- Binary file : 기계어, only python에서만 사용. ex) pickle : from pickle, to pickle / HDF5 : 계층화된 data\n",
    "\n",
    "#### 3. APP / server\n",
    "- twitter  \n",
    "\n",
    "#### 4. DB\n",
    "- sqlite3\n",
    "- pandas.io.sql"
   ]
  },
  {
   "cell_type": "code",
   "execution_count": 6,
   "metadata": {},
   "outputs": [],
   "source": [
    "import pandas as pd\n",
    "import numpy as np"
   ]
  },
  {
   "cell_type": "markdown",
   "metadata": {},
   "source": [
    "##  loading\n",
    "- csv : csv 파일을 읽을 수 있음. ','로 구분되어 진다.\n",
    "- table : tap, \\t\n",
    "- json : json\n",
    "- fwf : fixed width format, 형식이 정해져 있는 데이터의 형태를 말함. ex) name : 10자리, age : 3자리 형태\n",
    "- clipboard : clipboard data : 실수할 수 있으니 지양"
   ]
  },
  {
   "cell_type": "markdown",
   "metadata": {},
   "source": [
    "- names : col_name을 지정하는 역할, 따로 설정안할 시 header = 0에 의해 첫 레코드가 지정됨.\n",
    "- index_col :\n",
    "- header = 0, 첫 레코드가 column_name일 때"
   ]
  },
  {
   "cell_type": "markdown",
   "metadata": {},
   "source": [
    "#### CSV 파일 불러오기\n",
    "- pd.read_csv()\n",
    "- csv 파일 load\n",
    "- read할 때 설정할 수 있는 구체적인 옵션들을 고려해서 파일을 부를 것."
   ]
  },
  {
   "cell_type": "code",
   "execution_count": 3,
   "metadata": {},
   "outputs": [],
   "source": [
    "# pd.read_csv()"
   ]
  },
  {
   "cell_type": "markdown",
   "metadata": {},
   "source": [
    "#### CSV 파일로 기록하기\n",
    "- data.to_csv()\n",
    "- 파이썬에서 작업하던 자료를 csv로 변환해서 기록하는 것.\n",
    "- index, header 등 구체적인 옵션들을 통해 기록할 때 적용시킬 수 있음."
   ]
  },
  {
   "cell_type": "code",
   "execution_count": 7,
   "metadata": {},
   "outputs": [
    {
     "data": {
      "text/html": [
       "<div>\n",
       "<style scoped>\n",
       "    .dataframe tbody tr th:only-of-type {\n",
       "        vertical-align: middle;\n",
       "    }\n",
       "\n",
       "    .dataframe tbody tr th {\n",
       "        vertical-align: top;\n",
       "    }\n",
       "\n",
       "    .dataframe thead th {\n",
       "        text-align: right;\n",
       "    }\n",
       "</style>\n",
       "<table border=\"1\" class=\"dataframe\">\n",
       "  <thead>\n",
       "    <tr style=\"text-align: right;\">\n",
       "      <th></th>\n",
       "      <th>0</th>\n",
       "      <th>1</th>\n",
       "    </tr>\n",
       "  </thead>\n",
       "  <tbody>\n",
       "    <tr>\n",
       "      <th>0</th>\n",
       "      <td>0</td>\n",
       "      <td>1</td>\n",
       "    </tr>\n",
       "    <tr>\n",
       "      <th>1</th>\n",
       "      <td>2</td>\n",
       "      <td>3</td>\n",
       "    </tr>\n",
       "    <tr>\n",
       "      <th>2</th>\n",
       "      <td>4</td>\n",
       "      <td>5</td>\n",
       "    </tr>\n",
       "    <tr>\n",
       "      <th>3</th>\n",
       "      <td>6</td>\n",
       "      <td>7</td>\n",
       "    </tr>\n",
       "    <tr>\n",
       "      <th>4</th>\n",
       "      <td>8</td>\n",
       "      <td>9</td>\n",
       "    </tr>\n",
       "  </tbody>\n",
       "</table>\n",
       "</div>"
      ],
      "text/plain": [
       "   0  1\n",
       "0  0  1\n",
       "1  2  3\n",
       "2  4  5\n",
       "3  6  7\n",
       "4  8  9"
      ]
     },
     "execution_count": 7,
     "metadata": {},
     "output_type": "execute_result"
    }
   ],
   "source": [
    "data = pd.DataFrame(np.arange(10).reshape(5,2))\n",
    "data"
   ]
  },
  {
   "cell_type": "code",
   "execution_count": 9,
   "metadata": {},
   "outputs": [],
   "source": [
    "# data.to_csv()"
   ]
  },
  {
   "cell_type": "markdown",
   "metadata": {},
   "source": [
    "#### zip 함수의 특성을 이용한 불러오기\n",
    "- dict로 구성되어 있다는 것을 이용하면 zip 함수를 이용해서 불러오는 것이 가능하다.\n",
    "- zip(*values) : zip으로 구성된 것들을 풀어내는 것.\n",
    "- zip( values, zip(*values)) : 위 방법 응용\n",
    "- 불필요한 추가적인 내용이 들어갈 시 zip을 이용해서 전처리할 수 있다."
   ]
  },
  {
   "cell_type": "markdown",
   "metadata": {},
   "source": [
    "#### JSON data\n",
    "- JSON은 기본적으로 python dict로 로드 가능함.\n",
    "- value size의 차이가 있게되면 pd.read_json(file)이 불가능하다."
   ]
  },
  {
   "cell_type": "code",
   "execution_count": 11,
   "metadata": {},
   "outputs": [
    {
     "name": "stdout",
     "output_type": "stream",
     "text": [
      "Collecting urllib\n"
     ]
    },
    {
     "name": "stderr",
     "output_type": "stream",
     "text": [
      "  Could not find a version that satisfies the requirement urllib (from versions: )\n",
      "No matching distribution found for urllib\n",
      "You are using pip version 18.1, however version 19.0.3 is available.\n",
      "You should consider upgrading via the 'python -m pip install --upgrade pip' command.\n"
     ]
    }
   ],
   "source": [
    "!pip install urllib"
   ]
  },
  {
   "cell_type": "code",
   "execution_count": null,
   "metadata": {},
   "outputs": [],
   "source": [
    "from lxml.html import parse\n",
    "from urllib.request import urlopen\n",
    "\n",
    "parsed = parse(urlopen('https://finance.yahoo.com/quote/AAPL/options?ltr=1'))\n",
    "\n",
    "doc = parsed.getroot()"
   ]
  },
  {
   "cell_type": "code",
   "execution_count": 12,
   "metadata": {},
   "outputs": [],
   "source": [
    "#### Web 스크래핑"
   ]
  },
  {
   "cell_type": "code",
   "execution_count": 13,
   "metadata": {},
   "outputs": [],
   "source": [
    "#### table을 pandas로 변환하기"
   ]
  },
  {
   "cell_type": "markdown",
   "metadata": {},
   "source": [
    "### Binary data formats\n",
    "- pickle 형태로 저장하고 불러옴\n",
    "- 빅데이터에서 파일의 size를 줄이기 위해 변환해서 사용\n",
    "- 따라서 빅데이터를 다루려면 Binary data를 다룰 줄 알아야함."
   ]
  },
  {
   "cell_type": "markdown",
   "metadata": {},
   "source": [
    "### SQL light로 서버에서 데이터 뽑는거 실습"
   ]
  },
  {
   "cell_type": "markdown",
   "metadata": {},
   "source": [
    "### 인터넷에서 데이터 추출 \n",
    "1. 누구나 볼 수 없고 api 키를 이용해서 받을 수 있음.\n",
    "2. 누구나 볼 수 있는 data 뽑아내기. 주로 html, Web 형태로 저장되어 있음.\n",
    "3. JSON, xml이 보관되어 있는 주소에 저장되어 있음."
   ]
  },
  {
   "cell_type": "code",
   "execution_count": null,
   "metadata": {},
   "outputs": [],
   "source": [
    "# 파일에서 데이터 불러오기 : 실습 00 read_csv"
   ]
  },
  {
   "cell_type": "code",
   "execution_count": null,
   "metadata": {},
   "outputs": [],
   "source": [
    "# Web에서 데이터 추출하기 : 실습 01"
   ]
  },
  {
   "cell_type": "code",
   "execution_count": null,
   "metadata": {},
   "outputs": [],
   "source": [
    "# 트위터에서 데이터 가져오기 : 실습 02"
   ]
  },
  {
   "cell_type": "code",
   "execution_count": 30,
   "metadata": {},
   "outputs": [],
   "source": [
    "# xml 크롤링 : 실습03"
   ]
  },
  {
   "cell_type": "markdown",
   "metadata": {},
   "source": [
    "#### html\n",
    "- <>, </> : 대부분 이런식으로 짝으로 존재함\n",
    "- 그 안에 head, title, body 등등 존재. 이러한 요소들은 tag라고 함.\n",
    "- web browser와 소통하기위해 사용하는 tag는 한정되어 있음.\n",
    "- python의 함수와 멤버함수처럼 나무 구조로 구성되어 있음. ex) html 아래 head, body / head 아래 title"
   ]
  },
  {
   "cell_type": "markdown",
   "metadata": {},
   "source": [
    "#### XML\n",
    "- web browser와 소통 x\n",
    "- 서로 사용하려는 집단 간에 일종의 약속이므로 형식의 제한이 없다.\n",
    "- html과 유사하지만 조금 다름\n",
    "- tag 사용법 찾으면 나오니까 참고\n",
    "- 하위 element의 수에 따라 행의 수, 열의 수를 파악할 수 있다.\n",
    "- <a> 링크를 연결하는 tag\n",
    "- table 지정하는 tag : tr이 2개라면 2개의 행, th : table header, td : table data \n"
   ]
  },
  {
   "cell_type": "markdown",
   "metadata": {},
   "source": [
    "## Web에서 데이터 추출하기 : 실습 01"
   ]
  },
  {
   "cell_type": "code",
   "execution_count": 13,
   "metadata": {},
   "outputs": [],
   "source": [
    "# !pip install urllib.Request\n",
    "# !pip install lxml"
   ]
  },
  {
   "cell_type": "markdown",
   "metadata": {},
   "source": [
    "- parse : 전체를 개별로 분해해서 표현하는 역할 ex) browser"
   ]
  },
  {
   "cell_type": "code",
   "execution_count": 166,
   "metadata": {},
   "outputs": [],
   "source": [
    "from lxml.html import parse\n",
    "from urllib.request import urlopen\n",
    "\n",
    "parsed = parse(urlopen('http://finance.yahoo.com/q/op?s=AAPL+Options?ltr=1'))\n",
    "\n",
    "doc = parsed.getroot()"
   ]
  },
  {
   "cell_type": "code",
   "execution_count": null,
   "metadata": {},
   "outputs": [],
   "source": [
    "links = doc.findall('.//a') # .: 임의의 문자  / :특수문자가 의미를 갖도록 정의함.\n",
    "links[15:20] # 각 Element : tag 즉, tag들이 모여서 만들어 내는 것임을 알 수 있다."
   ]
  },
  {
   "cell_type": "code",
   "execution_count": null,
   "metadata": {},
   "outputs": [],
   "source": [
    "lnk = links[28]\n",
    "lnk"
   ]
  },
  {
   "cell_type": "markdown",
   "metadata": {},
   "source": [
    "- element 객체이므로 attribute가 존재함. 실제 링크와 이름은 아래와 같이 가져올 수 있다.\n",
    "- lnk.get(\"href\")\n",
    "- lnk.text_content()"
   ]
  },
  {
   "cell_type": "code",
   "execution_count": 24,
   "metadata": {},
   "outputs": [
    {
     "data": {
      "text/plain": [
       "'/quote/AAPL/options?strike=147&straddle=false'"
      ]
     },
     "execution_count": 24,
     "metadata": {},
     "output_type": "execute_result"
    }
   ],
   "source": [
    "lnk.get('href')"
   ]
  },
  {
   "cell_type": "code",
   "execution_count": 25,
   "metadata": {},
   "outputs": [
    {
     "data": {
      "text/plain": [
       "'147.00'"
      ]
     },
     "execution_count": 25,
     "metadata": {},
     "output_type": "execute_result"
    }
   ],
   "source": [
    "lnk.text_content()"
   ]
  },
  {
   "cell_type": "code",
   "execution_count": 26,
   "metadata": {},
   "outputs": [
    {
     "data": {
      "text/plain": [
       "['/',\n",
       " '/watchlists',\n",
       " '/portfolios',\n",
       " '/screener',\n",
       " '/calendar',\n",
       " '/industries',\n",
       " '/videos',\n",
       " '/news',\n",
       " '/personal-finance',\n",
       " '/tech']"
      ]
     },
     "execution_count": 26,
     "metadata": {},
     "output_type": "execute_result"
    }
   ],
   "source": [
    "# url\n",
    "urls = [lnk.get('href') for lnk in doc.findall('.//a')]\n",
    "urls[-10:] "
   ]
  },
  {
   "cell_type": "code",
   "execution_count": 27,
   "metadata": {},
   "outputs": [
    {
     "data": {
      "text/plain": [
       "['<Element table at 0x1a2a80a66d8>', '<Element table at 0x1a2a80c9408>']"
      ]
     },
     "execution_count": 27,
     "metadata": {},
     "output_type": "execute_result"
    }
   ],
   "source": [
    "# table\n",
    "tables = doc.findall('.//table')\n",
    "tb = [str(ele) for ele in tables]\n",
    "tb"
   ]
  },
  {
   "cell_type": "code",
   "execution_count": 29,
   "metadata": {},
   "outputs": [
    {
     "name": "stdout",
     "output_type": "stream",
     "text": [
      "table\n",
      "{'data-reactid': '23', 'class': 'calls table-bordered W(100%) Pos(r) Bd(0) Pt(0) list-options'}\n",
      "table\n",
      "{'data-reactid': '697', 'class': 'puts table-bordered W(100%) Pos(r) list-options'}\n"
     ]
    }
   ],
   "source": [
    "# tables의 tag, attrib 반환\n",
    "for elem in tables:\n",
    "    print(elem.tag)\n",
    "    print(elem.attrib)"
   ]
  },
  {
   "cell_type": "code",
   "execution_count": 31,
   "metadata": {},
   "outputs": [],
   "source": [
    "calls = tables[0]\n",
    "puts = tables[1]"
   ]
  },
  {
   "cell_type": "code",
   "execution_count": 32,
   "metadata": {},
   "outputs": [
    {
     "data": {
      "text/plain": [
       "'Contract NameLast Trade DateStrikeLast PriceBidAskChange% ChangeVolumeOpen InterestImplied VolatilityAAPL190322C001200002019-03-19 3:31PM EDT120.0066.400.000.000.00-200.00%AAPL190322C001250002019-03-19 3:31PM EDT125.0061.420.000.000.00-200.00%AAPL190322C001300002019-03-19 3:31PM EDT130.0056.750.000.000.00-200.00%AAPL190322C001350002019-03-19 3:31PM EDT135.0051.490.000.000.00-100.00%AAPL190322C001400002019-03-08 1:10PM EDT140.0031.800.000.000.00-600.00%AAPL190322C001450002019-03-05 6:53PM EDT145.0030.9540.8041.700.00-1010138.28%AAPL190322C001460002019-03-07 11:11AM EDT146.0027.200.000.000.00-1000.00%AAPL190322C001470002019-03-11 10:50AM EDT147.0031.120.000.000.00-100.00%AAPL190322C001480002019-03-15 1:43PM EDT148.0039.500.000.000.00-1000.00%AAPL190322C001490002019-02-07 1:44PM EDT149.0022.3336.6537.700.00-041125.20%AAPL190322C001500002019-03-18 3:30PM EDT150.0037.850.000.000.00-800.00%AAPL190322C001525002019-03-07 1:32PM EDT152.5021.350.000.000.00-200.00%AAPL190322C001550002019-03-15 3:58PM EDT155.0032.180.000.000.00-100.00%AAPL190322C001575002019-03-18 12:20PM EDT157.5029.780.000.000.00-2700.00%AAPL190322C001600002019-03-19 3:59PM EDT160.0026.250.000.000.00-200.00%AAPL190322C001625002019-03-19 2:41PM EDT162.5023.700.000.000.00-8600.00%AAPL190322C001650002019-03-19 12:35PM EDT165.0021.300.000.000.00-7500.00%AAPL190322C001675002019-03-19 3:23PM EDT167.5019.330.000.000.00-30500.00%AAPL190322C001700002019-03-19 3:28PM EDT170.0016.740.000.000.00-13500.00%AAPL190322C001725002019-03-19 3:13PM EDT172.5014.610.000.000.00-4400.00%AAPL190322C001750002019-03-19 3:59PM EDT175.0011.300.000.000.00-2,04700.00%AAPL190322C001775002019-03-19 3:43PM EDT177.508.750.000.000.00-30700.00%AAPL190322C001800002019-03-19 3:57PM EDT180.006.250.000.000.00-3,12700.00%AAPL190322C001825002019-03-19 3:59PM EDT182.504.500.000.000.00-2,43500.00%AAPL190322C001850002019-03-19 3:59PM EDT185.002.550.000.000.00-14,45400.00%AAPL190322C001875002019-03-19 3:59PM EDT187.501.190.000.000.00-32,55001.56%AAPL190322C001900002019-03-19 3:59PM EDT190.000.500.000.000.00-45,37406.25%AAPL190322C001925002019-03-19 3:59PM EDT192.500.180.000.000.00-28,41406.25%AAPL190322C001950002019-03-19 3:59PM EDT195.000.070.000.000.00-9,226012.50%AAPL190322C001975002019-03-19 3:56PM EDT197.500.030.000.000.00-3,003012.50%AAPL190322C002000002019-03-19 3:57PM EDT200.000.020.000.000.00-3,509012.50%AAPL190322C002025002019-03-19 1:45PM EDT202.500.020.000.000.00-273025.00%AAPL190322C002050002019-03-19 3:59PM EDT205.000.010.000.000.00-672025.00%AAPL190322C002075002019-03-19 9:40AM EDT207.500.010.000.000.00-162025.00%AAPL190322C002100002019-03-18 3:21PM EDT210.000.010.000.000.00-1,118025.00%AAPL190322C002125002019-03-18 9:30AM EDT212.500.010.000.000.00-109025.00%AAPL190322C002150002019-03-18 9:30AM EDT215.000.010.000.000.00-1025.00%AAPL190322C002175002019-03-18 12:07AM EDT217.500.010.000.000.00-16050.00%AAPL190322C002200002019-03-14 12:43PM EDT220.000.010.000.000.00-10050.00%'"
      ]
     },
     "execution_count": 32,
     "metadata": {},
     "output_type": "execute_result"
    }
   ],
   "source": [
    "calls.text_content() # <table><\\table> 안에 있는 모든 내용 표현."
   ]
  },
  {
   "cell_type": "code",
   "execution_count": 43,
   "metadata": {},
   "outputs": [],
   "source": [
    "rows = calls.findall('.//tr')"
   ]
  },
  {
   "cell_type": "code",
   "execution_count": 48,
   "metadata": {},
   "outputs": [],
   "source": [
    "def _unpack(row, tag='td'):\n",
    "    tds = row.findall('.//%s' % tag)\n",
    "    return [td.text_content() for td in tds] # []로 마지막에 감싸줌."
   ]
  },
  {
   "cell_type": "code",
   "execution_count": 49,
   "metadata": {},
   "outputs": [],
   "source": [
    "# cf) 객체를 명명할 때 1. 영문자, 2. 숫자, 3. _ 이렇게 3개인데 첫 글자에 올 수 있는건 영문자, _ 임.\n",
    "# cf) list는 데이터를 임시로 담는 그릇으로 사용함."
   ]
  },
  {
   "cell_type": "code",
   "execution_count": 50,
   "metadata": {},
   "outputs": [
    {
     "data": {
      "text/plain": [
       "['Contract Name',\n",
       " 'Last Trade Date',\n",
       " 'Strike',\n",
       " 'Last Price',\n",
       " 'Bid',\n",
       " 'Ask',\n",
       " 'Change',\n",
       " '% Change',\n",
       " 'Volume',\n",
       " 'Open Interest',\n",
       " 'Implied Volatility']"
      ]
     },
     "execution_count": 50,
     "metadata": {},
     "output_type": "execute_result"
    }
   ],
   "source": [
    "_unpack(rows[0], tag='th') # 11개의 column을 가지고 있음."
   ]
  },
  {
   "cell_type": "code",
   "execution_count": 51,
   "metadata": {},
   "outputs": [
    {
     "data": {
      "text/plain": [
       "['AAPL190322C00120000',\n",
       " '2019-03-19 3:31PM EDT',\n",
       " '120.00',\n",
       " '66.40',\n",
       " '0.00',\n",
       " '0.00',\n",
       " '0.00',\n",
       " '-',\n",
       " '2',\n",
       " '0',\n",
       " '0.00%']"
      ]
     },
     "execution_count": 51,
     "metadata": {},
     "output_type": "execute_result"
    }
   ],
   "source": [
    "_unpack(rows[1], tag='td') # 첫 row에 의한 결과값 나타냄"
   ]
  },
  {
   "cell_type": "code",
   "execution_count": 52,
   "metadata": {},
   "outputs": [],
   "source": [
    "# TextParser.get_chunk() : 들어오는 데이터들을 type에 따라 개별적으로 분해해줌.\n",
    "from pandas.io.parsers import TextParser\n",
    "\n",
    "def parse_options_data(table):\n",
    "    rows = table.findall('.//tr') \n",
    "    header = _unpack(rows[0], tag='th') # row[0] : col_name들을 모아놓은 행\n",
    "    data = [_unpack(row) for row in rows[1:]] # row[1:] : 모든 record, 그리고 data에는 [] 한 번 더 감싸준다.\n",
    "    return TextParser(data, names=header).get_chunk() # get_chunk() : get_DataFrame이라고 생각하면 됨."
   ]
  },
  {
   "cell_type": "code",
   "execution_count": 53,
   "metadata": {
    "scrolled": true
   },
   "outputs": [
    {
     "data": {
      "text/html": [
       "<div>\n",
       "<style scoped>\n",
       "    .dataframe tbody tr th:only-of-type {\n",
       "        vertical-align: middle;\n",
       "    }\n",
       "\n",
       "    .dataframe tbody tr th {\n",
       "        vertical-align: top;\n",
       "    }\n",
       "\n",
       "    .dataframe thead th {\n",
       "        text-align: right;\n",
       "    }\n",
       "</style>\n",
       "<table border=\"1\" class=\"dataframe\">\n",
       "  <thead>\n",
       "    <tr style=\"text-align: right;\">\n",
       "      <th></th>\n",
       "      <th>Contract Name</th>\n",
       "      <th>Last Trade Date</th>\n",
       "      <th>Strike</th>\n",
       "      <th>Last Price</th>\n",
       "      <th>Bid</th>\n",
       "      <th>Ask</th>\n",
       "      <th>Change</th>\n",
       "      <th>% Change</th>\n",
       "      <th>Volume</th>\n",
       "      <th>Open Interest</th>\n",
       "      <th>Implied Volatility</th>\n",
       "    </tr>\n",
       "  </thead>\n",
       "  <tbody>\n",
       "    <tr>\n",
       "      <th>0</th>\n",
       "      <td>AAPL190322C00120000</td>\n",
       "      <td>2019-03-19 3:31PM EDT</td>\n",
       "      <td>120.0</td>\n",
       "      <td>66.40</td>\n",
       "      <td>0.00</td>\n",
       "      <td>0.0</td>\n",
       "      <td>0.0</td>\n",
       "      <td>-</td>\n",
       "      <td>2</td>\n",
       "      <td>0</td>\n",
       "      <td>0.00%</td>\n",
       "    </tr>\n",
       "    <tr>\n",
       "      <th>1</th>\n",
       "      <td>AAPL190322C00125000</td>\n",
       "      <td>2019-03-19 3:31PM EDT</td>\n",
       "      <td>125.0</td>\n",
       "      <td>61.42</td>\n",
       "      <td>0.00</td>\n",
       "      <td>0.0</td>\n",
       "      <td>0.0</td>\n",
       "      <td>-</td>\n",
       "      <td>2</td>\n",
       "      <td>0</td>\n",
       "      <td>0.00%</td>\n",
       "    </tr>\n",
       "    <tr>\n",
       "      <th>2</th>\n",
       "      <td>AAPL190322C00130000</td>\n",
       "      <td>2019-03-19 3:31PM EDT</td>\n",
       "      <td>130.0</td>\n",
       "      <td>56.75</td>\n",
       "      <td>0.00</td>\n",
       "      <td>0.0</td>\n",
       "      <td>0.0</td>\n",
       "      <td>-</td>\n",
       "      <td>2</td>\n",
       "      <td>0</td>\n",
       "      <td>0.00%</td>\n",
       "    </tr>\n",
       "    <tr>\n",
       "      <th>3</th>\n",
       "      <td>AAPL190322C00135000</td>\n",
       "      <td>2019-03-19 3:31PM EDT</td>\n",
       "      <td>135.0</td>\n",
       "      <td>51.49</td>\n",
       "      <td>0.00</td>\n",
       "      <td>0.0</td>\n",
       "      <td>0.0</td>\n",
       "      <td>-</td>\n",
       "      <td>1</td>\n",
       "      <td>0</td>\n",
       "      <td>0.00%</td>\n",
       "    </tr>\n",
       "    <tr>\n",
       "      <th>4</th>\n",
       "      <td>AAPL190322C00140000</td>\n",
       "      <td>2019-03-08 1:10PM EDT</td>\n",
       "      <td>140.0</td>\n",
       "      <td>31.80</td>\n",
       "      <td>0.00</td>\n",
       "      <td>0.0</td>\n",
       "      <td>0.0</td>\n",
       "      <td>-</td>\n",
       "      <td>6</td>\n",
       "      <td>0</td>\n",
       "      <td>0.00%</td>\n",
       "    </tr>\n",
       "    <tr>\n",
       "      <th>5</th>\n",
       "      <td>AAPL190322C00145000</td>\n",
       "      <td>2019-03-05 6:53PM EDT</td>\n",
       "      <td>145.0</td>\n",
       "      <td>30.95</td>\n",
       "      <td>40.80</td>\n",
       "      <td>41.7</td>\n",
       "      <td>0.0</td>\n",
       "      <td>-</td>\n",
       "      <td>10</td>\n",
       "      <td>10</td>\n",
       "      <td>138.28%</td>\n",
       "    </tr>\n",
       "    <tr>\n",
       "      <th>6</th>\n",
       "      <td>AAPL190322C00146000</td>\n",
       "      <td>2019-03-07 11:11AM EDT</td>\n",
       "      <td>146.0</td>\n",
       "      <td>27.20</td>\n",
       "      <td>0.00</td>\n",
       "      <td>0.0</td>\n",
       "      <td>0.0</td>\n",
       "      <td>-</td>\n",
       "      <td>10</td>\n",
       "      <td>0</td>\n",
       "      <td>0.00%</td>\n",
       "    </tr>\n",
       "    <tr>\n",
       "      <th>7</th>\n",
       "      <td>AAPL190322C00147000</td>\n",
       "      <td>2019-03-11 10:50AM EDT</td>\n",
       "      <td>147.0</td>\n",
       "      <td>31.12</td>\n",
       "      <td>0.00</td>\n",
       "      <td>0.0</td>\n",
       "      <td>0.0</td>\n",
       "      <td>-</td>\n",
       "      <td>1</td>\n",
       "      <td>0</td>\n",
       "      <td>0.00%</td>\n",
       "    </tr>\n",
       "    <tr>\n",
       "      <th>8</th>\n",
       "      <td>AAPL190322C00148000</td>\n",
       "      <td>2019-03-15 1:43PM EDT</td>\n",
       "      <td>148.0</td>\n",
       "      <td>39.50</td>\n",
       "      <td>0.00</td>\n",
       "      <td>0.0</td>\n",
       "      <td>0.0</td>\n",
       "      <td>-</td>\n",
       "      <td>10</td>\n",
       "      <td>0</td>\n",
       "      <td>0.00%</td>\n",
       "    </tr>\n",
       "    <tr>\n",
       "      <th>9</th>\n",
       "      <td>AAPL190322C00149000</td>\n",
       "      <td>2019-02-07 1:44PM EDT</td>\n",
       "      <td>149.0</td>\n",
       "      <td>22.33</td>\n",
       "      <td>36.65</td>\n",
       "      <td>37.7</td>\n",
       "      <td>0.0</td>\n",
       "      <td>-</td>\n",
       "      <td>0</td>\n",
       "      <td>41</td>\n",
       "      <td>125.20%</td>\n",
       "    </tr>\n",
       "  </tbody>\n",
       "</table>\n",
       "</div>"
      ],
      "text/plain": [
       "         Contract Name         Last Trade Date  Strike  Last Price    Bid  \\\n",
       "0  AAPL190322C00120000   2019-03-19 3:31PM EDT   120.0       66.40   0.00   \n",
       "1  AAPL190322C00125000   2019-03-19 3:31PM EDT   125.0       61.42   0.00   \n",
       "2  AAPL190322C00130000   2019-03-19 3:31PM EDT   130.0       56.75   0.00   \n",
       "3  AAPL190322C00135000   2019-03-19 3:31PM EDT   135.0       51.49   0.00   \n",
       "4  AAPL190322C00140000   2019-03-08 1:10PM EDT   140.0       31.80   0.00   \n",
       "5  AAPL190322C00145000   2019-03-05 6:53PM EDT   145.0       30.95  40.80   \n",
       "6  AAPL190322C00146000  2019-03-07 11:11AM EDT   146.0       27.20   0.00   \n",
       "7  AAPL190322C00147000  2019-03-11 10:50AM EDT   147.0       31.12   0.00   \n",
       "8  AAPL190322C00148000   2019-03-15 1:43PM EDT   148.0       39.50   0.00   \n",
       "9  AAPL190322C00149000   2019-02-07 1:44PM EDT   149.0       22.33  36.65   \n",
       "\n",
       "    Ask  Change % Change Volume  Open Interest Implied Volatility  \n",
       "0   0.0     0.0        -      2              0              0.00%  \n",
       "1   0.0     0.0        -      2              0              0.00%  \n",
       "2   0.0     0.0        -      2              0              0.00%  \n",
       "3   0.0     0.0        -      1              0              0.00%  \n",
       "4   0.0     0.0        -      6              0              0.00%  \n",
       "5  41.7     0.0        -     10             10            138.28%  \n",
       "6   0.0     0.0        -     10              0              0.00%  \n",
       "7   0.0     0.0        -      1              0              0.00%  \n",
       "8   0.0     0.0        -     10              0              0.00%  \n",
       "9  37.7     0.0        -      0             41            125.20%  "
      ]
     },
     "execution_count": 53,
     "metadata": {},
     "output_type": "execute_result"
    }
   ],
   "source": [
    "call_data = parse_options_data(calls)\n",
    "put_data = parse_options_data(puts)\n",
    "call_data[:10]"
   ]
  },
  {
   "cell_type": "markdown",
   "metadata": {},
   "source": [
    "- web에서 table 크롤링해보는 실습이었습니당."
   ]
  },
  {
   "cell_type": "markdown",
   "metadata": {},
   "source": [
    "## 트위터 크롤링하기"
   ]
  },
  {
   "cell_type": "markdown",
   "metadata": {},
   "source": [
    "- API key를 이용해서 가져오기.\n",
    "- 자료 첨부해주시는거 참고"
   ]
  },
  {
   "cell_type": "markdown",
   "metadata": {},
   "source": [
    "## 데이터 베이스 이용하기\n",
    "- database url\n",
    "- database 접근 key 필요"
   ]
  },
  {
   "cell_type": "code",
   "execution_count": null,
   "metadata": {},
   "outputs": [],
   "source": [
    "import sqlite3\n",
    "\n",
    "query = \"\"\"\n",
    "CREATE TABLE test\n",
    "(a VCHART(20), b VCHART(20),\n",
    " c REAL, d INTEGER\n",
    ");\"\"\"\n",
    "# 지금 query에 넣은 것은 schema 즉, 열의 이름들을 생성한 것.\n",
    "\n",
    "con = sqlite3.connect(':memory:')\n",
    "con.execute(query) # query 실행\n",
    "con.commit()"
   ]
  },
  {
   "cell_type": "code",
   "execution_count": null,
   "metadata": {},
   "outputs": [],
   "source": [
    "data = [(, , ,),\n",
    "        (, , ,),\n",
    "        (, , ,)]\n",
    "\n",
    "stmt = \"INSERT INTO test VALUES(?, ?, ?, ?)\"\n",
    "\n",
    "con.executemany(stmt, data) # 실행\n",
    "con.commit()"
   ]
  },
  {
   "cell_type": "code",
   "execution_count": null,
   "metadata": {},
   "outputs": [],
   "source": [
    "cursor = con.execute('select * from test')\n",
    "rows = cursor.fetall() # ?\n",
    "rows"
   ]
  },
  {
   "cell_type": "code",
   "execution_count": null,
   "metadata": {},
   "outputs": [],
   "source": [
    "# zip은 iterable함. 따라서 실제 값으로 표현하려면 next(zip())을 하면 됨."
   ]
  },
  {
   "cell_type": "markdown",
   "metadata": {},
   "source": [
    "## 실습 문제 1\n",
    "#### 1) lxml 라이브러리를 이용한 웹 데이터 추출\n",
    "6.1.5 절 1)에서 <a href=url>링크 문자열</a>의 구조를 갖는 Elements를 links로 생성하였다.\n",
    "links로 부터 [(링크 문자열, active url), .... ]와 같은 구조를 갖는 pandas 데이터프레임 객체를 생성하라.\n",
    "\n",
    "단, active url은 단순히 웹서버 내에서만 지정되는 상대 경로가 아닌, 사용자의 브라우저에서 직접 입력되어 브라우징이 가능한 url 이어야 한다.\n",
    "\n",
    ">active url의 예: https://finance.yahoo.com/watchlists"
   ]
  },
  {
   "cell_type": "code",
   "execution_count": 97,
   "metadata": {},
   "outputs": [],
   "source": [
    "from lxml.html import parse\n",
    "from urllib.request import urlopen\n",
    "\n",
    "parsed = parse(urlopen('https://finance.yahoo.com/watchlists'))\n",
    "\n",
    "doc = parsed.getroot()"
   ]
  },
  {
   "cell_type": "code",
   "execution_count": 137,
   "metadata": {},
   "outputs": [
    {
     "data": {
      "text/plain": [
       "<Element a at 0x1a2aa0f9a48>"
      ]
     },
     "execution_count": 137,
     "metadata": {},
     "output_type": "execute_result"
    }
   ],
   "source": [
    "a = doc.findall('.//a') # .: 임의의 문자  / :특수문자가 의미를 갖도록 정의함.\n",
    "a[0] # 각 Element : tag 즉, tag들이 모여서 만들어 내는 것임을 알 수 있다."
   ]
  },
  {
   "cell_type": "code",
   "execution_count": 163,
   "metadata": {},
   "outputs": [
    {
     "data": {
      "text/plain": [
       "'Nasdaq7,723.95+0.12%'"
      ]
     },
     "execution_count": 163,
     "metadata": {},
     "output_type": "execute_result"
    }
   ],
   "source": [
    "a[5].text_content()"
   ]
  }
 ],
 "metadata": {
  "kernelspec": {
   "display_name": "Python 3",
   "language": "python",
   "name": "python3"
  },
  "language_info": {
   "codemirror_mode": {
    "name": "ipython",
    "version": 3
   },
   "file_extension": ".py",
   "mimetype": "text/x-python",
   "name": "python",
   "nbconvert_exporter": "python",
   "pygments_lexer": "ipython3",
   "version": "3.5.3"
  }
 },
 "nbformat": 4,
 "nbformat_minor": 2
}
